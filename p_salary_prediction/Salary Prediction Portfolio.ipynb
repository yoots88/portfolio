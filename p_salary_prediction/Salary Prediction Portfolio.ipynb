{
 "cells": [
  {
   "cell_type": "markdown",
   "metadata": {},
   "source": [
    "# Salary Predictions Based on Job Descriptions"
   ]
  },
  {
   "cell_type": "markdown",
   "metadata": {},
   "source": [
    "# Part 1 - DEFINE"
   ]
  },
  {
   "cell_type": "markdown",
   "metadata": {},
   "source": [
    "### ---- 1 Define the problem ----"
   ]
  },
  {
   "cell_type": "markdown",
   "metadata": {},
   "source": [
    "Write the problem in your own words here"
   ]
  },
  {
   "cell_type": "code",
   "execution_count": 1,
   "metadata": {},
   "outputs": [
    {
     "name": "stderr",
     "output_type": "stream",
     "text": [
      "C:\\Users\\yoots\\Anaconda3\\lib\\site-packages\\statsmodels\\compat\\pandas.py:56: FutureWarning: The pandas.core.datetools module is deprecated and will be removed in a future version. Please use the pandas.tseries module instead.\n",
      "  from pandas.core import datetools\n"
     ]
    }
   ],
   "source": [
    "#import your libraries\n",
    "# Import all libraries\n",
    "import numpy as np\n",
    "import pandas as pd\n",
    "import matplotlib.pyplot as plt\n",
    "import seaborn as sns\n",
    "import statsmodels.api as sm\n",
    "import scipy.stats as sp\n",
    "import sklearn.metrics as skm\n",
    "from sklearn.utils import shuffle\n",
    "from sklearn.preprocessing import Imputer, StandardScaler, PolynomialFeatures \n",
    "from sklearn.model_selection import KFold, train_test_split\n",
    "from sklearn.model_selection import cross_val_score, RandomizedSearchCV\n",
    "from sklearn.pipeline import make_pipeline\n",
    "from sklearn.decomposition import PCA\n",
    "from sklearn.linear_model import Lasso, Ridge, LinearRegression\n",
    "from sklearn.tree import DecisionTreeRegressor\n",
    "from sklearn.ensemble import RandomForestRegressor, GradientBoostingRegressor\n",
    "from xgboost import XGBRegressor\n",
    "\n",
    "# Authorship\n",
    "__author__ = \"Taesun Yoo\"\n",
    "__email__ = \"yoots@gmail.com\""
   ]
  },
  {
   "cell_type": "markdown",
   "metadata": {},
   "source": [
    "## Part 2 - DISCOVER"
   ]
  },
  {
   "cell_type": "markdown",
   "metadata": {},
   "source": [
    "### ---- 2 Write a group of functions ----"
   ]
  },
  {
   "cell_type": "code",
   "execution_count": 2,
   "metadata": {},
   "outputs": [],
   "source": [
    "# Write a group of functions:\n",
    "def load_data(file):\n",
    "    '''Load input file CSVs to dataframe'''\n",
    "    return pd.read_csv(file)\n",
    "\n",
    "def combine_data(df1, df2, key=None, left_index=False, right_index=False):\n",
    "    '''Performs inner join on two dataframes and return records'''\n",
    "    return pd.merge(left=df1, right=df2, how='inner', on=key,\n",
    "                       left_index=left_index, right_index=right_index)\n",
    "\n",
    "def clean_data(raw_df):\n",
    "    '''Remove rows with duplicate jobId and invalid records'''\n",
    "    cleaned_df = raw_df.drop_duplicates(subset='jobId')\n",
    "    cleaned_df = cleaned_df[cleaned_df.salary>0]\n",
    "    return cleaned_df\n",
    "\n",
    "def check_missing_data(cleaned_df):\n",
    "    missing_df = cleaned_df.isnull().sum()\n",
    "    missing_df = pd.DataFrame(missing_df, columns=['count'])\n",
    "    missing_df['pct'] = missing_df['count']/len(cleaned_df)\n",
    "    missing_df = missing_df.sort_values(by='pct', ascending=False)\n",
    "    return missing_df\n",
    "\n",
    "def avg_groupby_data(cleaned_df, num_var, cat_var, avg_var_name):\n",
    "    '''groupby categorical var to calculate an average numerical feature'''\n",
    "    avg_groupby_cat_val = cleaned_df.groupby(cat_var)[num_var].mean().sort_values(ascending=False)\n",
    "    avg_groupby_cat_df = pd.DataFrame({cat_var:list(cleaned_df[cat_var].unique()),\n",
    "                                      avg_var_name:avg_groupby_cat_val})\n",
    "    avg_groupby_cat_df.reset_index(drop=True, inplace=True)\n",
    "    return avg_groupby_cat_df\n",
    "\n",
    "def left_join_data(cleaned_df, avg_groupby_cat_df, key=None, left_index=False, right_index=False):\n",
    "    '''Performs left join from cleaned dataframe to average groupby dataframe'''\n",
    "    return pd.merge(left=cleaned_df, right=avg_groupby_cat_df, how='left',\n",
    "                   left_index=left_index, right_index=right_index)\n",
    "\n",
    "def drop_cat_feature_df(df, list_vars=None):\n",
    "    '''Drop no-value added categorical features'''\n",
    "    final_df = df.drop(list_vars, axis=1)\n",
    "    return final_df\n",
    "\n",
    "def one_hot_encode_feature_df(df, cat_vars=None, num_vars=None):\n",
    "    '''performs one-hot encoding on all categorical variables and combine\n",
    "       results with numerical variables'''\n",
    "    cat_df = pd.get_dummies(df[cat_vars], drop_first=True)\n",
    "    num_df = df[num_vars].apply(pd.to_numeric)\n",
    "    return pd.concat([cat_df, num_df], axis=1)\n",
    "\n",
    "def get_label_df(df, label):\n",
    "    '''Returns label from dataframe'''\n",
    "    return df[label]\n",
    "\n",
    "def feat_selection_df(df, model, feat_name, Est_Coef, file_name):\n",
    "    '''Creates L1 feature selected dataframe'''\n",
    "    df_L1_select = pd.DataFrame({feat_name:df.columns, Est_Coef:model.coef_})[[feat_name, Est_Coef]]\n",
    "    df_L1_select = df_L1_select.sort_values(by=Est_Coef, ascending=False)\n",
    "    df_L1_select.to_excel(file_name)\n",
    "\n",
    "def model_tuning_param(model, feature_df, label_df, param_dist, n_iter):\n",
    "    '''Performs RandomizedSearchCV to tune model parameters'''\n",
    "    random_search = RandomizedSearchCV(model, param_dist, n_iter, cv=2)\n",
    "    random_search.fit(feature_df, label_df)\n",
    "    return random_search\n",
    "\n",
    "def print_best_params(random_search, param_1=None, param_2=None, param_3=None):\n",
    "    '''Print the best model parameter'''\n",
    "    print(\"Best \" + param_1 + \":\", random_search.best_estimator_.get_params()[param_1])\n",
    "    print(\"Best \" + param_1 + \":\", random_search.best_estimator_.get_params()[param_2])\n",
    "    print(\"Best \" + param_1 + \":\", random_search.best_estimator_.get_params()[param_3])\n",
    "\n",
    "def model_train(model, feature_df, label_df, n_proc, mean_mse, cv_std):\n",
    "    '''Train a model and output mean MSE and CV Std.Dev MSE'''\n",
    "    neg_mse = cross_val_score(model, feature_df, label_df, n_jobs=n_proc, cv=2,\n",
    "                              scoring='neg_mean_squared_error')\n",
    "    mean_mse[model] = -1.0*np.mean(neg_mse)\n",
    "    cv_std[model] = np.std(neg_mse)\n",
    "    \n",
    "def model_summary(model, mean_mse, cv_std):\n",
    "    '''Print out the model perforamnces'''\n",
    "    print('\\nModel:\\n', model)\n",
    "    print('Average MSE:\\n', mean_mse[model])\n",
    "    print('Std. Dev during CV:\\n', cv_std[model])\n",
    "    \n",
    "def model_results(model, mean_mse, predictions, feature_importances):\n",
    "    '''Saves the model name, mean_mse, predicted salaries, and feature importances'''\n",
    "    with open('model.txt', 'w') as file:\n",
    "        file.write(str(model))\n",
    "        feature_importances.to_csv('feat_importances.csv')\n",
    "        np.savetxt('final_pred.csv', predictions, delimiter=',')"
   ]
  },
  {
   "cell_type": "markdown",
   "metadata": {},
   "source": [
    "### ---- 3 Load the data ----"
   ]
  },
  {
   "cell_type": "code",
   "execution_count": 3,
   "metadata": {},
   "outputs": [
    {
     "name": "stdout",
     "output_type": "stream",
     "text": [
      "data loading\n"
     ]
    }
   ],
   "source": [
    "if __name__ == '__main__':\n",
    "    #define input CSVs\n",
    "    train_feature_file='C:/Users/yoots/Desktop/P_Salary_Prediction/train_features.csv'\n",
    "    train_label_file='C:/Users/yoots/Desktop/P_Salary_Prediction/train_salaries.csv'\n",
    "    test_feature_file='C:/Users/yoots/Desktop/P_Salary_Prediction/test_features.csv'\n",
    "    \n",
    "    #define variable lists\n",
    "#    categorical_vars = ['jobId', 'companyId',  'jobType', 'degree', 'major', 'industry']\n",
    "    categorical_vars = ['companyId',  'jobType', 'degree', 'major']\n",
    "    numerical_vars = ['yearsExperience', 'milesFromMetropolis', 'avg_salary_industry', 'avg_yearsExp_industry', \n",
    "                      'avg_yearsExp_jobType','avg_dist_by_industry','avg_dist_by_jobType']\n",
    "    label_var = 'salary'\n",
    "    \n",
    "    #define variables to drop\n",
    "    list_vars = ['jobId', 'industry']\n",
    "    \n",
    "    #load data\n",
    "    print(\"data loading\")\n",
    "    train_df = load_data(train_feature_file)\n",
    "    label_df = load_data(train_label_file)\n",
    "    test_df = load_data(test_feature_file)\n",
    "    \n",
    "    del(train_feature_file, train_label_file, test_feature_file)\n",
    "    \n",
    "    # combine train set\n",
    "    train_raw_df = combine_data(train_df, label_df, key='jobId')"
   ]
  },
  {
   "cell_type": "markdown",
   "metadata": {},
   "source": [
    "### ---- 4 Clean & feature engineer the data ----"
   ]
  },
  {
   "cell_type": "code",
   "execution_count": 4,
   "metadata": {},
   "outputs": [],
   "source": [
    "#clean, shuffle, and reindex train data -- shuffling improves c-v accuracy\n",
    "cleaned_df = shuffle(clean_data(train_raw_df)).reset_index(drop=True)\n",
    "    \n",
    "#---- 5 Engineer features ----#\n",
    "# ensure data is ready for modeling\n",
    "# create any new features needed to potentially enhance model\n",
    "\n",
    "avg_salary_by_industry_df = avg_groupby_data(cleaned_df, 'salary', 'industry', 'avg_salary_industry')\n",
    "avg_yearsExp_by_industry_df = avg_groupby_data(cleaned_df, 'yearsExperience', 'industry', 'avg_yearsExp_industry')\n",
    "avg_yearsExp_by_jobType_df = avg_groupby_data(cleaned_df, 'yearsExperience', 'jobType', 'avg_yearsExp_jobType')\n",
    "avg_dist_by_industry_df = avg_groupby_data(cleaned_df, 'milesFromMetropolis', 'industry', 'avg_dist_by_industry')   \n",
    "avg_dist_by_jobType_df = avg_groupby_data(cleaned_df, 'milesFromMetropolis', 'jobType', 'avg_dist_by_jobType')\n",
    "        \n",
    "#perform left joins on avg_salary and train/test set:\n",
    "joined_train_df = left_join_data(cleaned_df, avg_salary_by_industry_df, key='industry')    \n",
    "joined_train_df = left_join_data(joined_train_df, avg_yearsExp_by_industry_df, key='industry')    \n",
    "joined_train_df = left_join_data(joined_train_df, avg_yearsExp_by_jobType_df, key='jobType')    \n",
    "joined_train_df = left_join_data(joined_train_df, avg_dist_by_industry_df, key='industry')    \n",
    "joined_train_df = left_join_data(joined_train_df, avg_dist_by_jobType_df, key='jobType')    \n",
    "   \n",
    "joined_test_df = left_join_data(test_df, avg_salary_by_industry_df, key='industry')    \n",
    "joined_test_df = left_join_data(joined_test_df, avg_yearsExp_by_industry_df, key='industry')    \n",
    "joined_test_df = left_join_data(joined_test_df, avg_yearsExp_by_jobType_df, key='jobType')    \n",
    "joined_test_df = left_join_data(joined_test_df, avg_dist_by_industry_df, key='industry')    \n",
    "joined_test_df = left_join_data(joined_test_df, avg_dist_by_jobType_df, key='jobType')    \n",
    "    \n",
    "del(avg_salary_by_industry_df, avg_yearsExp_by_industry_df, avg_yearsExp_by_jobType_df,\n",
    "    avg_dist_by_industry_df, avg_dist_by_jobType_df)    "
   ]
  },
  {
   "cell_type": "markdown",
   "metadata": {},
   "source": [
    "### ---- 5 Explore the data (EDA) ----"
   ]
  },
  {
   "cell_type": "code",
   "execution_count": 5,
   "metadata": {},
   "outputs": [],
   "source": [
    "#summarize each feature variable\n",
    "#summarize the target variable\n",
    "#look for correlation between each feature and the target\n",
    "#look for correlation between features"
   ]
  },
  {
   "cell_type": "markdown",
   "metadata": {},
   "source": [
    "### ---- 6 One-Hot-Encode Features ----"
   ]
  },
  {
   "cell_type": "code",
   "execution_count": 6,
   "metadata": {},
   "outputs": [
    {
     "name": "stdout",
     "output_type": "stream",
     "text": [
      "drop useless cat features\n",
      "encoding data\n"
     ]
    }
   ],
   "source": [
    "    # drop useless categorical features on train and test sets\n",
    "    print(\"drop useless cat features\")\n",
    "    train_df = drop_cat_feature_df(joined_train_df, list_vars=list_vars)\n",
    "    test_df = drop_cat_feature_df(joined_test_df, list_vars=list_vars)\n",
    "    \n",
    "    # one-hot encode categorical data on train and test sets\n",
    "    print(\"encoding data\")\n",
    "    train_df = one_hot_encode_feature_df(train_df, cat_vars=categorical_vars, \n",
    "                                         num_vars=numerical_vars)\n",
    "    test_df = one_hot_encode_feature_df(test_df, cat_vars=categorical_vars, \n",
    "                                         num_vars=numerical_vars)\n",
    "\n",
    "    del(joined_train_df, joined_test_df)\n",
    "    \n",
    "    # get label df\n",
    "    label_df = get_label_df(cleaned_df, label_var)\n",
    "\n",
    "    del(cleaned_df)"
   ]
  },
  {
   "cell_type": "markdown",
   "metadata": {},
   "source": [
    "### ---- 6 Feature Selection/Importances ----"
   ]
  },
  {
   "cell_type": "code",
   "execution_count": 7,
   "metadata": {},
   "outputs": [],
   "source": [
    "    # ----- Feature Selection: L1 Regularization ----- #\n",
    "    # fit L1 to filter out non-zero coefficients\n",
    "#    lr_L1 = Lasso(alpha=0.01)\n",
    "#    lr_L1.fit(train_df, label_df)\n",
    "\n",
    "    # Print estimated intercept coefficients:\n",
    "#    print('Est. coefficient: {}'.format(lr_L1.intercept_))\n",
    "\n",
    "    #Save L1 feature selection results:\n",
    "#    feat_selection_df(train_df, lr_L1, 'features', 'EstCoef', 'L1_feat_selection_df.xlsx')    \n",
    "    \n",
    "#Create L1 feature selection index:\n",
    "idx_L1 = np.r_[62:84,86]\n",
    "\n",
    "#Filtered train_df and test_df\n",
    "train_L1_df = train_df[train_df.columns[idx_L1]]\n",
    "test_L1_df = test_df[test_df.columns[idx_L1]]"
   ]
  },
  {
   "cell_type": "markdown",
   "metadata": {},
   "source": [
    "### ---- 7 Establish a baseline ----"
   ]
  },
  {
   "cell_type": "code",
   "execution_count": 8,
   "metadata": {},
   "outputs": [
    {
     "name": "stderr",
     "output_type": "stream",
     "text": [
      "C:\\Users\\yoots\\Anaconda3\\lib\\site-packages\\sklearn\\preprocessing\\data.py:617: DataConversionWarning: Data with input dtype uint8, int64, float64 were all converted to float64 by StandardScaler.\n",
      "  return self.partial_fit(X, y)\n",
      "C:\\Users\\yoots\\Anaconda3\\lib\\site-packages\\sklearn\\base.py:465: DataConversionWarning: Data with input dtype uint8, int64, float64 were all converted to float64 by StandardScaler.\n",
      "  return self.fit(X, y, **fit_params).transform(X)\n",
      "C:\\Users\\yoots\\Anaconda3\\lib\\site-packages\\sklearn\\pipeline.py:331: DataConversionWarning: Data with input dtype uint8, int64, float64 were all converted to float64 by StandardScaler.\n",
      "  Xt = transform.transform(Xt)\n",
      "C:\\Users\\yoots\\Anaconda3\\lib\\site-packages\\sklearn\\preprocessing\\data.py:617: DataConversionWarning: Data with input dtype uint8, int64, float64 were all converted to float64 by StandardScaler.\n",
      "  return self.partial_fit(X, y)\n",
      "C:\\Users\\yoots\\Anaconda3\\lib\\site-packages\\sklearn\\base.py:465: DataConversionWarning: Data with input dtype uint8, int64, float64 were all converted to float64 by StandardScaler.\n",
      "  return self.fit(X, y, **fit_params).transform(X)\n",
      "C:\\Users\\yoots\\Anaconda3\\lib\\site-packages\\sklearn\\pipeline.py:331: DataConversionWarning: Data with input dtype uint8, int64, float64 were all converted to float64 by StandardScaler.\n",
      "  Xt = transform.transform(Xt)\n",
      "C:\\Users\\yoots\\Anaconda3\\lib\\site-packages\\sklearn\\preprocessing\\data.py:617: DataConversionWarning: Data with input dtype uint8, int64, float64 were all converted to float64 by StandardScaler.\n",
      "  return self.partial_fit(X, y)\n",
      "C:\\Users\\yoots\\Anaconda3\\lib\\site-packages\\sklearn\\base.py:465: DataConversionWarning: Data with input dtype uint8, int64, float64 were all converted to float64 by StandardScaler.\n",
      "  return self.fit(X, y, **fit_params).transform(X)\n",
      "C:\\Users\\yoots\\Anaconda3\\lib\\site-packages\\sklearn\\pipeline.py:331: DataConversionWarning: Data with input dtype uint8, int64, float64 were all converted to float64 by StandardScaler.\n",
      "  Xt = transform.transform(Xt)\n",
      "C:\\Users\\yoots\\Anaconda3\\lib\\site-packages\\sklearn\\preprocessing\\data.py:617: DataConversionWarning: Data with input dtype uint8, int64, float64 were all converted to float64 by StandardScaler.\n",
      "  return self.partial_fit(X, y)\n",
      "C:\\Users\\yoots\\Anaconda3\\lib\\site-packages\\sklearn\\base.py:465: DataConversionWarning: Data with input dtype uint8, int64, float64 were all converted to float64 by StandardScaler.\n",
      "  return self.fit(X, y, **fit_params).transform(X)\n",
      "C:\\Users\\yoots\\Anaconda3\\lib\\site-packages\\sklearn\\pipeline.py:331: DataConversionWarning: Data with input dtype uint8, int64, float64 were all converted to float64 by StandardScaler.\n",
      "  Xt = transform.transform(Xt)\n",
      "C:\\Users\\yoots\\Anaconda3\\lib\\site-packages\\sklearn\\preprocessing\\data.py:617: DataConversionWarning: Data with input dtype uint8, int64, float64 were all converted to float64 by StandardScaler.\n",
      "  return self.partial_fit(X, y)\n",
      "C:\\Users\\yoots\\Anaconda3\\lib\\site-packages\\sklearn\\base.py:465: DataConversionWarning: Data with input dtype uint8, int64, float64 were all converted to float64 by StandardScaler.\n",
      "  return self.fit(X, y, **fit_params).transform(X)\n",
      "C:\\Users\\yoots\\Anaconda3\\lib\\site-packages\\sklearn\\pipeline.py:331: DataConversionWarning: Data with input dtype uint8, int64, float64 were all converted to float64 by StandardScaler.\n",
      "  Xt = transform.transform(Xt)\n"
     ]
    },
    {
     "name": "stdout",
     "output_type": "stream",
     "text": [
      "PolynomialReg. MSE: 408.8764798065122\n"
     ]
    }
   ],
   "source": [
    "#select a reasonable metric (MSE in this case)\n",
    "#create an extremely simple model and measure its efficacy\n",
    "#e.g. use \"average salary\" for each industry as your model and then measure MSE\n",
    "#during 5-fold cross-validation\n",
    "\n",
    "## Test B: PolynomialRegression\n",
    "pr_std = make_pipeline(StandardScaler(), PolynomialFeatures(degree=2), LinearRegression())\n",
    "pr_std_cv = cross_val_score(pr_std, train_L1_df, label_df, \n",
    "                                  cv=5, scoring='neg_mean_squared_error')\n",
    "pr_std_mse = -1.0*np.mean(pr_std_cv)\n",
    "print('PolynomialReg. MSE: ' + str(pr_std_mse))\n",
    "\n",
    "# Test A: Simple LinearRegression\n",
    "#lr = LinearRegression()\n",
    "#baseline_cv = cross_val_score(lr, train_L1_df, label_df, \n",
    "#                                  cv=5, scoring='neg_mean_squared_error')\n",
    "#baseline_mse = -1.0*np.mean(baseline_cv)\n",
    "#print('Baseline MSE: ' + str(baseline_mse))    \n",
    "    \n",
    "# Test C: GradientBoosting\n",
    "#gbr = GradientBoostingRegressor(n_estimators=40, max_depth=5, loss='ls', verbose=5)\n",
    "#gbr_cv = cross_val_score(gbr, train_L1_df, label_df, \n",
    "#                                  cv=5, scoring='neg_mean_squared_error')\n",
    "#gbr_mse = -1.0*np.mean(gbr_cv)\n",
    "#print('GradientBoostingReg. MSE: ' + str(gbr_mse))"
   ]
  },
  {
   "cell_type": "markdown",
   "metadata": {},
   "source": [
    "### ---- 6 Hypothesize solution ----"
   ]
  },
  {
   "cell_type": "code",
   "execution_count": 9,
   "metadata": {},
   "outputs": [],
   "source": [
    "#brainstorm 3 models that you think may improve results over the baseline model based\n",
    "\n",
    "# initialize model list and dictionaries\n",
    "models = []\n",
    "mean_mse = {}\n",
    "cv_std = {}\n",
    "res = {}\n",
    "    \n",
    "# define num of cores to run in parallel\n",
    "n_proc = 1\n",
    "# shared model parameters\n",
    "verbose_lv = 5"
   ]
  },
  {
   "cell_type": "markdown",
   "metadata": {},
   "source": [
    "Brainstorm 3 models that you think may improve results over the baseline model based on your EDA and explain why they're reasonable solutions here.\n",
    "\n",
    "Also write down any new features that you think you should try adding to the model based on your EDA, e.g. interaction variables, summary statistics for each group, etc"
   ]
  },
  {
   "cell_type": "markdown",
   "metadata": {},
   "source": [
    "## Part 3 - DEVELOP"
   ]
  },
  {
   "cell_type": "markdown",
   "metadata": {},
   "source": [
    "You will cycle through creating features, tuning models, and training/validing models (steps 7-9) until you've reached your efficacy goal\n",
    "\n",
    "#### Your metric will be MSE and your goal is:\n",
    " - <360 for entry-level data science roles\n",
    " - <320 for senior data science roles"
   ]
  },
  {
   "cell_type": "markdown",
   "metadata": {},
   "source": [
    "### ---- 8 Create models ----"
   ]
  },
  {
   "cell_type": "code",
   "execution_count": 10,
   "metadata": {},
   "outputs": [
    {
     "name": "stdout",
     "output_type": "stream",
     "text": [
      "Best n_estimators: 34\n",
      "Best n_estimators: 11\n",
      "Best n_estimators: 0.6276979405982013\n"
     ]
    }
   ],
   "source": [
    "#create and tune the models that you brainstormed during part 2\n",
    "###############################################################################        \n",
    "##model tuning with RandomizedSearchCV: RandomForest\n",
    "#rf = RandomForestRegressor()   \n",
    "#n_iter = 1\n",
    "#param_dist_rf = {'n_estimators':sp.randint(10,50), \n",
    "#                  'max_depth':sp.randint(1,10),\n",
    "#                  'min_samples_split':sp.randint(10,60),\n",
    "#                  'max_features':sp.randint(0,23)}\n",
    "#random_search_rf = model_param_tuning(rf, train_L1_df, label_df, param_dist_rf, n_iter)    \n",
    "#    \n",
    "## print the best model parameters: RandomForest    \n",
    "#param_1 = 'n_estimators' \n",
    "#param_2 = 'max_depth'\n",
    "#param_3 = 'min_samples_split'\n",
    "#param_4 = 'max_features'\n",
    "#    \n",
    "#print_best_params(random_search_rf, param_1, param_2, param_3, param_4)\n",
    "###############################################################################    \n",
    "##model tuning with RandomizedSearchCV: GradientBoosting\n",
    "#gbr = GradientBoostingRegressor()\n",
    "#n_iter = 1\n",
    "#param_dist_gbr = {'n_estimators':sp.randint(10,40), \n",
    "#                  'max_depth':sp.randint(1,20),\n",
    "#                  'loss':['ls']}\n",
    "#random_search_gbr = model_param_tuning(gbr, train_L1_df, label_df, param_dist_gbr, n_iter)    \n",
    "#    \n",
    "## print the best model parameters: GradientBoosting    \n",
    "#param_1 = 'n_estimators' \n",
    "#param_2 = 'max_depth'\n",
    "#param_3 = 'loss'\n",
    "#    \n",
    "#print_best_params(random_search_gbr, param_1, param_2, param_3)        \n",
    "###############################################################################    \n",
    "#model tuning with RandomizedSearchCV: XGBRegressor\n",
    "xgb = XGBRegressor()   \n",
    "n_iter = 1\n",
    "param_dist_xgb = {'n_estimators':sp.randint(10,40), \n",
    "                  'max_depth':sp.randint(1,20),\n",
    "                  'learning_rate':np.random.uniform(0,1,10)}\n",
    "random_search_xgb = model_tuning_param(xgb, train_L1_df, label_df, param_dist_xgb, n_iter)    \n",
    "    \n",
    "# print the best model parameters: XGBRegressor    \n",
    "param_1 = 'n_estimators' \n",
    "param_2 = 'max_depth'\n",
    "param_3 = 'learning_rate'\n",
    "    \n",
    "print_best_params(random_search_xgb, param_1, param_2, param_3)    "
   ]
  },
  {
   "cell_type": "markdown",
   "metadata": {},
   "source": [
    "### ---- 9 Test models ----"
   ]
  },
  {
   "cell_type": "code",
   "execution_count": 11,
   "metadata": {},
   "outputs": [
    {
     "name": "stdout",
     "output_type": "stream",
     "text": [
      "begin cross-validation\n",
      "\n",
      "Model:\n",
      " Lasso(alpha=0.01, copy_X=True, fit_intercept=True, max_iter=1000,\n",
      "   normalize=False, positive=False, precompute=False, random_state=None,\n",
      "   selection='cyclic', tol=0.0001, warm_start=False)\n",
      "Average MSE:\n",
      " 500.61555132092644\n",
      "Std. Dev during CV:\n",
      " 0.3492972277776971\n",
      "\n",
      "Model:\n",
      " Ridge(alpha=0.01, copy_X=True, fit_intercept=True, max_iter=None,\n",
      "   normalize=False, random_state=None, solver='auto', tol=0.001)\n",
      "Average MSE:\n",
      " 493.7410364883359\n",
      "Std. Dev during CV:\n",
      " 0.24799119441442485\n"
     ]
    },
    {
     "name": "stderr",
     "output_type": "stream",
     "text": [
      "[Parallel(n_jobs=1)]: Using backend SequentialBackend with 1 concurrent workers.\n"
     ]
    },
    {
     "name": "stdout",
     "output_type": "stream",
     "text": [
      "building tree 1 of 43\n"
     ]
    },
    {
     "name": "stderr",
     "output_type": "stream",
     "text": [
      "[Parallel(n_jobs=1)]: Done   1 out of   1 | elapsed:    0.3s remaining:    0.0s\n"
     ]
    },
    {
     "name": "stdout",
     "output_type": "stream",
     "text": [
      "building tree 2 of 43\n"
     ]
    },
    {
     "name": "stderr",
     "output_type": "stream",
     "text": [
      "[Parallel(n_jobs=1)]: Done   2 out of   2 | elapsed:    0.7s remaining:    0.0s\n"
     ]
    },
    {
     "name": "stdout",
     "output_type": "stream",
     "text": [
      "building tree 3 of 43\n"
     ]
    },
    {
     "name": "stderr",
     "output_type": "stream",
     "text": [
      "[Parallel(n_jobs=1)]: Done   3 out of   3 | elapsed:    1.2s remaining:    0.0s\n"
     ]
    },
    {
     "name": "stdout",
     "output_type": "stream",
     "text": [
      "building tree 4 of 43\n"
     ]
    },
    {
     "name": "stderr",
     "output_type": "stream",
     "text": [
      "[Parallel(n_jobs=1)]: Done   4 out of   4 | elapsed:    1.6s remaining:    0.0s\n"
     ]
    },
    {
     "name": "stdout",
     "output_type": "stream",
     "text": [
      "building tree 5 of 43\n",
      "building tree 6 of 43\n",
      "building tree 7 of 43\n",
      "building tree 8 of 43\n",
      "building tree 9 of 43\n",
      "building tree 10 of 43\n",
      "building tree 11 of 43\n",
      "building tree 12 of 43\n",
      "building tree 13 of 43\n",
      "building tree 14 of 43\n",
      "building tree 15 of 43\n",
      "building tree 16 of 43\n",
      "building tree 17 of 43\n",
      "building tree 18 of 43\n",
      "building tree 19 of 43\n",
      "building tree 20 of 43\n",
      "building tree 21 of 43\n",
      "building tree 22 of 43\n",
      "building tree 23 of 43\n",
      "building tree 24 of 43\n",
      "building tree 25 of 43\n",
      "building tree 26 of 43\n",
      "building tree 27 of 43\n",
      "building tree 28 of 43\n",
      "building tree 29 of 43\n",
      "building tree 30 of 43\n",
      "building tree 31 of 43\n",
      "building tree 32 of 43\n",
      "building tree 33 of 43\n",
      "building tree 34 of 43\n",
      "building tree 35 of 43\n",
      "building tree 36 of 43\n",
      "building tree 37 of 43\n",
      "building tree 38 of 43\n",
      "building tree 39 of 43\n",
      "building tree 40 of 43\n",
      "building tree 41 of 43\n",
      "building tree 42 of 43\n",
      "building tree 43 of 43\n"
     ]
    },
    {
     "name": "stderr",
     "output_type": "stream",
     "text": [
      "[Parallel(n_jobs=1)]: Done  43 out of  43 | elapsed:   17.2s finished\n",
      "[Parallel(n_jobs=1)]: Using backend SequentialBackend with 1 concurrent workers.\n",
      "[Parallel(n_jobs=1)]: Done   1 out of   1 | elapsed:    0.0s remaining:    0.0s\n",
      "[Parallel(n_jobs=1)]: Done   2 out of   2 | elapsed:    0.0s remaining:    0.0s\n",
      "[Parallel(n_jobs=1)]: Done   3 out of   3 | elapsed:    0.0s remaining:    0.0s\n",
      "[Parallel(n_jobs=1)]: Done   4 out of   4 | elapsed:    0.0s remaining:    0.0s\n",
      "[Parallel(n_jobs=1)]: Done  43 out of  43 | elapsed:    1.1s finished\n",
      "[Parallel(n_jobs=1)]: Using backend SequentialBackend with 1 concurrent workers.\n"
     ]
    },
    {
     "name": "stdout",
     "output_type": "stream",
     "text": [
      "building tree 1 of 43\n"
     ]
    },
    {
     "name": "stderr",
     "output_type": "stream",
     "text": [
      "[Parallel(n_jobs=1)]: Done   1 out of   1 | elapsed:    0.3s remaining:    0.0s\n"
     ]
    },
    {
     "name": "stdout",
     "output_type": "stream",
     "text": [
      "building tree 2 of 43\n"
     ]
    },
    {
     "name": "stderr",
     "output_type": "stream",
     "text": [
      "[Parallel(n_jobs=1)]: Done   2 out of   2 | elapsed:    0.7s remaining:    0.0s\n"
     ]
    },
    {
     "name": "stdout",
     "output_type": "stream",
     "text": [
      "building tree 3 of 43\n"
     ]
    },
    {
     "name": "stderr",
     "output_type": "stream",
     "text": [
      "[Parallel(n_jobs=1)]: Done   3 out of   3 | elapsed:    1.1s remaining:    0.0s\n"
     ]
    },
    {
     "name": "stdout",
     "output_type": "stream",
     "text": [
      "building tree 4 of 43\n"
     ]
    },
    {
     "name": "stderr",
     "output_type": "stream",
     "text": [
      "[Parallel(n_jobs=1)]: Done   4 out of   4 | elapsed:    1.5s remaining:    0.0s\n"
     ]
    },
    {
     "name": "stdout",
     "output_type": "stream",
     "text": [
      "building tree 5 of 43\n",
      "building tree 6 of 43\n",
      "building tree 7 of 43\n",
      "building tree 8 of 43\n",
      "building tree 9 of 43\n",
      "building tree 10 of 43\n",
      "building tree 11 of 43\n",
      "building tree 12 of 43\n",
      "building tree 13 of 43\n",
      "building tree 14 of 43\n",
      "building tree 15 of 43\n",
      "building tree 16 of 43\n",
      "building tree 17 of 43\n",
      "building tree 18 of 43\n",
      "building tree 19 of 43\n",
      "building tree 20 of 43\n",
      "building tree 21 of 43\n",
      "building tree 22 of 43\n",
      "building tree 23 of 43\n",
      "building tree 24 of 43\n",
      "building tree 25 of 43\n",
      "building tree 26 of 43\n",
      "building tree 27 of 43\n",
      "building tree 28 of 43\n",
      "building tree 29 of 43\n",
      "building tree 30 of 43\n",
      "building tree 31 of 43\n",
      "building tree 32 of 43\n",
      "building tree 33 of 43\n",
      "building tree 34 of 43\n",
      "building tree 35 of 43\n",
      "building tree 36 of 43\n",
      "building tree 37 of 43\n",
      "building tree 38 of 43\n",
      "building tree 39 of 43\n",
      "building tree 40 of 43\n",
      "building tree 41 of 43\n",
      "building tree 42 of 43\n",
      "building tree 43 of 43\n"
     ]
    },
    {
     "name": "stderr",
     "output_type": "stream",
     "text": [
      "[Parallel(n_jobs=1)]: Done  43 out of  43 | elapsed:   17.0s finished\n",
      "[Parallel(n_jobs=1)]: Using backend SequentialBackend with 1 concurrent workers.\n",
      "[Parallel(n_jobs=1)]: Done   1 out of   1 | elapsed:    0.0s remaining:    0.0s\n",
      "[Parallel(n_jobs=1)]: Done   2 out of   2 | elapsed:    0.0s remaining:    0.0s\n",
      "[Parallel(n_jobs=1)]: Done   3 out of   3 | elapsed:    0.0s remaining:    0.0s\n",
      "[Parallel(n_jobs=1)]: Done   4 out of   4 | elapsed:    0.0s remaining:    0.0s\n",
      "[Parallel(n_jobs=1)]: Done  43 out of  43 | elapsed:    1.1s finished\n"
     ]
    },
    {
     "name": "stdout",
     "output_type": "stream",
     "text": [
      "\n",
      "Model:\n",
      " RandomForestRegressor(bootstrap=True, criterion='mse', max_depth=5,\n",
      "           max_features=16, max_leaf_nodes=None, min_impurity_decrease=0.0,\n",
      "           min_impurity_split=None, min_samples_leaf=1,\n",
      "           min_samples_split=16, min_weight_fraction_leaf=0.0,\n",
      "           n_estimators=43, n_jobs=1, oob_score=False, random_state=None,\n",
      "           verbose=5, warm_start=False)\n",
      "Average MSE:\n",
      " 681.2451325987829\n",
      "Std. Dev during CV:\n",
      " 4.150110267818945\n",
      "\n",
      "Model:\n",
      " XGBRegressor(base_score=0.5, booster='gbtree', colsample_bylevel=1,\n",
      "       colsample_bytree=1, gamma=0, learning_rate=0.831381818143282,\n",
      "       max_delta_step=0, max_depth=5, min_child_weight=1, missing=None,\n",
      "       n_estimators=33, n_jobs=1, nthread=None, objective='reg:linear',\n",
      "       random_state=0, reg_alpha=0, reg_lambda=1, scale_pos_weight=1,\n",
      "       seed=None, silent=True, subsample=1)\n",
      "Average MSE:\n",
      " 364.8334187912126\n",
      "Std. Dev during CV:\n",
      " 0.5388599572771682\n"
     ]
    }
   ],
   "source": [
    "#do 5-fold cross validation on models and measure MSE\n",
    "# Model List to Train: Order of Model Complexity\n",
    "#    lr_std_pca = make_pipeline(StandardScaler(), PCA(), LinearRegression())\n",
    "#    pr_std = make_pipeline(StandardScaler(), PolynomialFeatures(degree=2), LinearRegression())  \n",
    "#    gbr = GradientBoostingRegressor(n_estimators=40, max_depth=5, loss='ls', verbose=verbose_lv)\n",
    "lr_L1 = Lasso(alpha=0.01)\n",
    "lr_L2 = Ridge(alpha=0.01)\n",
    "rf = RandomForestRegressor(n_estimators=43, n_jobs=n_proc, max_depth=5,\n",
    "                               min_samples_split=16, max_features=16, verbose=verbose_lv)   \n",
    "xgb = XGBRegressor(n_estimators=33, max_depth=5, learning_rate=0.831381818143282) \n",
    " \n",
    "models.extend([lr_L1, lr_L2, rf, xgb])    \n",
    "\n",
    "#cross-validate models, using MSE to evaluate and print the summaries\n",
    "print(\"begin cross-validation\")\n",
    "for model in models:\n",
    "    model_train(model, train_df, label_df, n_proc, mean_mse, cv_std)\n",
    "    model_summary(model, mean_mse, cv_std)"
   ]
  },
  {
   "cell_type": "markdown",
   "metadata": {},
   "source": [
    "### ---- 10 Select best model  ----"
   ]
  },
  {
   "cell_type": "code",
   "execution_count": 12,
   "metadata": {},
   "outputs": [
    {
     "name": "stdout",
     "output_type": "stream",
     "text": [
      "\n",
      "Best model with the lowest MSE:\n",
      "XGBRegressor(base_score=0.5, booster='gbtree', colsample_bylevel=1,\n",
      "       colsample_bytree=1, gamma=0, learning_rate=0.831381818143282,\n",
      "       max_delta_step=0, max_depth=5, min_child_weight=1, missing=None,\n",
      "       n_estimators=33, n_jobs=1, nthread=None, objective='reg:linear',\n",
      "       random_state=0, reg_alpha=0, reg_lambda=1, scale_pos_weight=1,\n",
      "       seed=None, silent=True, subsample=1)\n"
     ]
    }
   ],
   "source": [
    "#---- 8 Select best model ----#\n",
    "#select the model with the lowest error as your \"prodcuction\" model\n",
    "\n",
    "#choose model with the Lowest MSE\n",
    "model = min(mean_mse, key=mean_mse.get)\n",
    "print('\\nBest model with the lowest MSE:')\n",
    "print(model)"
   ]
  },
  {
   "cell_type": "markdown",
   "metadata": {},
   "source": [
    "## Part 4 - DEPLOY"
   ]
  },
  {
   "cell_type": "markdown",
   "metadata": {},
   "source": [
    "### ---- 11 Automate pipeline ----"
   ]
  },
  {
   "cell_type": "code",
   "execution_count": 13,
   "metadata": {},
   "outputs": [],
   "source": [
    "#write script that trains model on entire training set, saves model to disk,\n",
    "#and scores the \"test\" dataset\n",
    "\n",
    "#train model on entire dataset\n",
    "model.fit(train_L1_df, label_df)\n",
    "    \n",
    "#make predictions based on test set\n",
    "pred = model.predict(test_L1_df)"
   ]
  },
  {
   "cell_type": "markdown",
   "metadata": {},
   "source": [
    "### ---- 12 Deploy solution ----"
   ]
  },
  {
   "cell_type": "code",
   "execution_count": 14,
   "metadata": {},
   "outputs": [
    {
     "data": {
      "image/png": "[encoded data removed]",
      "text/plain": [
       "<Figure size 432x288 with 1 Axes>"
      ]
     },
     "metadata": {},
     "output_type": "display_data"
    }
   ],
   "source": [
    "#save your prediction to a csv file or optionally save them as a table in a SQL database\n",
    "#additionally, you want to save a visualization and summary of your prediction and feature importances\n",
    "#these visualizations and summaries will be extremely useful to business stakeholders\n",
    "\n",
    "#store feature importances\n",
    "if hasattr(model, 'feature_importances_'):\n",
    "    importances = model.feature_importances_\n",
    "else:\n",
    "#linear models don't have feature_importances\n",
    "    importances = [0]*len(train_L1_df.columns)\n",
    "    \n",
    "feature_importances = pd.DataFrame({'feature':train_L1_df.columns, \n",
    "                                        'importance':importances})\n",
    "feature_importances.sort_values(by='importance', ascending=False,\n",
    "                                    inplace=True)\n",
    "    \n",
    "#set index to 'feature'\n",
    "feature_importances.set_index('feature', inplace=True, drop=True)\n",
    "    \n",
    "#create a plot\n",
    "feature_importances[0:20].plot.bar(align='center')\n",
    "plt.xticks(rotation=45, fontsize=7)\n",
    "plt.show()\n",
    "    \n",
    "#Save model results as .txt file:\n",
    "model_results(model, mean_mse[model], pred, feature_importances)"
   ]
  },
  {
   "cell_type": "markdown",
   "metadata": {},
   "source": [
    "### ---- 13 Measure efficacy ----"
   ]
  },
  {
   "cell_type": "markdown",
   "metadata": {},
   "source": [
    "We'll skip this step since we don't have the outcomes for the test data"
   ]
  },
  {
   "cell_type": "code",
   "execution_count": null,
   "metadata": {},
   "outputs": [],
   "source": []
  }
 ],
 "metadata": {
  "kernelspec": {
   "display_name": "Python 3",
   "language": "python",
   "name": "python3"
  },
  "language_info": {
   "codemirror_mode": {
    "name": "ipython",
    "version": 3
   },
   "file_extension": ".py",
   "mimetype": "text/x-python",
   "name": "python",
   "nbconvert_exporter": "python",
   "pygments_lexer": "ipython3",
   "version": "3.5.4"
  }
 },
 "nbformat": 4,
 "nbformat_minor": 2
}
