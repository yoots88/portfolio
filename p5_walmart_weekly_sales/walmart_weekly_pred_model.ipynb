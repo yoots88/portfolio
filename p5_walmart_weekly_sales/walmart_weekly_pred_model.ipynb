{
 "cells": [
  {
   "cell_type": "markdown",
   "metadata": {},
   "source": [
    "## Portfolio: Walmart Weekly Sales Forecast ##\n",
    "This is a portfolio based on the historical sales data for 45 Walmart stores located in different regions of the United States. Each store contains many departments, and participants must project the sales for each department in each store. To add to the challenge, selected holiday markdown events are included in the dataset. These markdowns are known to affect sales, but it is challenging to predict which departments are affected and the extent of the impact. The dataset can be found here https://www.kaggle.com/c/walmart-recruiting-store-sales-forecasting/data.\n",
    "\n",
    "**Goal:**\n",
    "To predict the weekly sales forecasts across 45 different regional stores evaluated by mean-absolute-errors (MAEs).\n",
    "\n",
    "**Results:** \n",
    "By comparing the different regressor model performances, XGBoost was the best with MAE: 1249 on a test set.\n",
    "\n",
    "**Risks:** With visual inspection from residual and quantile plots, there were some errors for making accurate predictions. Especially, from low to middle range of weekly sales were deviated a lot from forecasted weekly sales.\n",
    "\n",
    "**Mitigation:** \n",
    "Review these identified errors and outliers with Walmart store manager(s) and operation/marketing directors before making any promotional markdown events to generate more revenue across the different stores.\n",
    "\n",
    "**Future Work:**\n",
    "1. Model improvements: feasibility of testing other ensemble models, stacking and neural network.\n",
    "2. Data collection/refinement: integrate with other financial and job market-related data sources \n",
    "    * Household income by Walmart store regions \n",
    "    * KPIs on accessibility to Walmart stores (i.e., # of store visits, # of parking tickets issued, etc.)\n",
    "\n",
    "**Recommendation for clients:** \n",
    "1. Recommendation 1\n",
    "2. Recommendation 2"
   ]
  },
  {
   "cell_type": "markdown",
   "metadata": {},
   "source": [
    "## Part 1 - DEFINE ##\n",
    "\n",
    "**Problem Statement:** \n",
    "You are provided with historical sales data for 45 Walmart stores located in different regions. Each store contains several departments, and you are tasked with predicting the department-wide sales for each store. In addition, Walmart runs several promotional markdown events throughout the year. These markdowns precede prominent holidays, the four largest of which are the Super Bowl, Labor Day, Thanksgiving, and Christmas. The weeks including these holidays are weighted five times higher in the evaluation than non-holiday weeks. Part of the challenge presented by this competition is modeling the effects of markdowns on these holiday weeks in the absence of complete/ideal historical data.\n",
    "\n",
    "**Stakeholders:** \n",
    "Marketing/Operational Director(s), Store Manager(s), Data Science Team\n",
    "\n",
    "**Goal:**\n",
    "To predict the weekly sales forecast model for time-series problem(s)."
   ]
  },
  {
   "cell_type": "code",
   "execution_count": 1,
   "metadata": {},
   "outputs": [],
   "source": [
    "# Import all libraries #\n",
    "import sys\n",
    "import numpy as np\n",
    "import pandas as pd\n",
    "from datetime import datetime, timedelta\n",
    "import matplotlib.pyplot as plt\n",
    "import seaborn as sns\n",
    "plt.style.use('ggplot')\n",
    "import statsmodels.api as sm\n",
    "import scipy.stats as sp\n",
    "import sklearn.metrics as skm\n",
    "from statsmodels.formula.api import ols\n",
    "from statsmodels.stats.outliers_influence import variance_inflation_factor\n",
    "from sklearn.utils import shuffle\n",
    "from sklearn.preprocessing import Imputer, StandardScaler, PolynomialFeatures \n",
    "from sklearn.model_selection import KFold, train_test_split\n",
    "from sklearn.model_selection import cross_val_score, RandomizedSearchCV\n",
    "from sklearn.pipeline import make_pipeline\n",
    "from sklearn.decomposition import PCA\n",
    "from sklearn.linear_model import Lasso, Ridge, LinearRegression\n",
    "from sklearn.tree import DecisionTreeRegressor\n",
    "from sklearn.ensemble import RandomForestRegressor, GradientBoostingRegressor\n",
    "from xgboost import XGBRegressor\n",
    "\n",
    "# Authorship:\n",
    "__author__ = 'Taesun Yoo'\n",
    "__email__ = 'yoots1988@gmail.com'"
   ]
  },
  {
   "cell_type": "markdown",
   "metadata": {},
   "source": [
    "## Part 2 - DISCOVERY ##"
   ]
  },
  {
   "cell_type": "code",
   "execution_count": 2,
   "metadata": {},
   "outputs": [],
   "source": [
    "# --- 1. Write Out List of Functions --- #\n",
    "def load_file(file):\n",
    "    '''load input CSVs as a dataframe'''\n",
    "    return pd.read_csv(file, encoding='latin1')\n",
    "\n",
    "\n",
    "def create_list_vars(df, dt_type):\n",
    "    '''create a list of variables '''\n",
    "    list_vars = list(df.select_dtypes(include=dt_type))\n",
    "    return list_vars\n",
    "\n",
    "\n",
    "def convert_dt_as_custom(df, var_name, dt_type):\n",
    "    '''convert datatype on selected variables'''\n",
    "    df[var_name] = df[var_name].astype(dt_type)\n",
    "    return df[var_name]\n",
    "\n",
    "\n",
    "def convert_dt_as_category(df):\n",
    "    '''convert datatype from object to category'''\n",
    "    for col in df.columns:\n",
    "        if df[col].dtype.name == 'object':\n",
    "            df[col] = df[col].astype('category')            \n",
    "\n",
    "        \n",
    "def drop_column(df, var_name):\n",
    "    ''' drop a column on dataframe '''\n",
    "    df = df.drop(var_name, axis=1)\n",
    "    return df\n",
    "\n",
    "\n",
    "def bind_data(df_train, df_test):\n",
    "    ''' bind train and test dataframes as one '''\n",
    "    df_concat = pd.concat([df_train, df_test], axis=0)\n",
    "    return df_concat\n",
    "\n",
    "\n",
    "def clean_data(raw_df):\n",
    "    '''remove rows that contain invalid data or duplicate IDs'''\n",
    "    clean_df = raw_df.drop_duplicates(subset='row_id')\n",
    "#    clean_df = clean_df[clean_df['health__homicides_per_100k'] > 0]\n",
    "    return clean_df    \n",
    "\n",
    "\n",
    "def join_data(df1, df2, join_type, key=None,\n",
    "              left_index=None, right_index=None):\n",
    "    '''merge the dataframes by a key'''\n",
    "    df_join = pd.merge(df1, df2, how=join_type, on=key,\n",
    "                       left_index=False, right_index=False)\n",
    "    return df_join\n",
    "\n",
    "\n",
    "def avg_groupby_data(cleaned_df, num_var, cat_var, avg_var_name):\n",
    "    '''groupby categorical var to calculate an average numerical feature'''\n",
    "    avg_groupby_cat_val = cleaned_df.groupby(cat_var)[num_var].mean().sort_values(ascending=False)\n",
    "    avg_groupby_cat_df = pd.DataFrame({cat_var:list(cleaned_df[cat_var].unique()),\n",
    "                                      avg_var_name:avg_groupby_cat_val})\n",
    "    avg_groupby_cat_df.reset_index(drop=True, inplace=True)\n",
    "    return avg_groupby_cat_df\n",
    "\n",
    "\n",
    "def encode_categorical_feature(df, var_name, map_name):\n",
    "    '''encode categorical features into mapping values'''\n",
    "    df[var_name] = df[var_name].map(map_name)\n",
    "    return df[var_name]\n",
    "\n",
    "\n",
    "def EDA_missing_data(df):\n",
    "    ''' compute missing value % on a df'''\n",
    "    df_missing = pd.DataFrame(df.isnull().sum())\n",
    "    df_missing.columns = ['count']\n",
    "    df_missing = df_missing.sort_values(by='count', ascending=False)\n",
    "    df_missing['pct'] = (df_missing['count']/len(df)) * 100\n",
    "    return df_missing\n",
    "\n",
    "\n",
    "def EDA_summary_stat_num(df):\n",
    "    ''' compute numerical summary statistics '''\n",
    "    df_stat_num = df.describe().T\n",
    "    df_stat_num = df_stat_num[['count', 'min', 'mean', 'max', '25%', '50%', '75%', 'std']]\n",
    "    df_stat_num = df_stat_num.sort_values(by='count', ascending=True)\n",
    "    df_stat_num = pd.DataFrame(df_stat_num)\n",
    "    return df_stat_num\n",
    "\n",
    "\n",
    "def EDA_summary_stat_cat(df):\n",
    "    ''' compute numerical summary statistics '''\n",
    "    df_stat_cat = pd.DataFrame(df.describe(include='category').T)\n",
    "    return df_stat_cat\n",
    "\n",
    "\n",
    "def EDA_inspect_data_quality(df, col_name):\n",
    "    '''compute indexes for rows with negative values on a selected feature'''\n",
    "    idx_list = list(df.loc[df[col_name]<0].index)\n",
    "    return idx_list\n",
    "\n",
    "\n",
    "def EDA_feature_importance_plot(model, X, y):\n",
    "    '''plots the feature importance plot on trained model'''\n",
    "    model = model\n",
    "    model.fit(X, y)\n",
    "    feat_labels = X.columns\n",
    "    importances = model.feature_importances_\n",
    "    indices = np.argsort(importances)[::-1]\n",
    "    \n",
    "    plt.bar(range(X.shape[1]), importances[indices], align='center')\n",
    "    plt.xticks(range(X.shape[1]), feat_labels[indices], rotation=90, fontsize=7)\n",
    "    plt.xlim(-1, X.shape[1])\n",
    "\n",
    "\n",
    "def apply_binning(df, new_var, old_var, bins, labels):\n",
    "    '''apply binning on a selected variable'''\n",
    "    df[new_var] = pd.cut(df[old_var], bins=bins,\n",
    "                          labels=labels, include_lowest=True)\n",
    "    return df[new_var]\n",
    "\n",
    "            \n",
    "def feature_replacement(df):\n",
    "    '''impute missing values based on specific data type and a column'''\n",
    "    for column in df.columns:\n",
    "        if df[column].dtype.name == 'object':\n",
    "            mode = df[column].mode().iloc[0]\n",
    "            df[column] = df[column].fillna(mode)\n",
    "        elif df[column].dtype.name == 'float64':\n",
    "            mean = df[column].mean()\n",
    "            df[column] = df[column].fillna(mean)\n",
    "        elif df[column].dtype.name == 'datetime64[ns]':\n",
    "            pseudo_date = pd.Timestamp.max\n",
    "            df[column] = df[column].fillna(pseudo_date)\n",
    "        else:\n",
    "            md_cols = df.columns[df.columns.str.contains(pat = 'MarkDown')]\n",
    "            df[md_cols] = df[md_cols].fillna(0)\n",
    "\n",
    "\n",
    "def feature_scaling(X):\n",
    "    '''Feature scaled data based on standardization'''\n",
    "    sc_X = StandardScaler()\n",
    "    X_std = sc_X.fit_transform(X)\n",
    "    return X_std\n",
    "\n",
    "\n",
    "def feature_selection(df, model, feat_name, Est_Coef, file_name):\n",
    "    '''Creates L1 feature selected dataframe'''\n",
    "    df_L1_select = pd.DataFrame({feat_name:df.columns, Est_Coef:model.coef_})[[feat_name, Est_Coef]]\n",
    "    df_L1_select = df_L1_select.sort_values(by=Est_Coef, ascending=False)\n",
    "    df_L1_select.to_excel(file_name)\n",
    "    return df_L1_select\n",
    "\n",
    "\n",
    "def format_dummy_vars(df, var_name):\n",
    "    '''format dummy variables in recognized names'''\n",
    "    df[var_name] = var_name + '_' + df[var_name].map(str)\n",
    "\n",
    "\n",
    "def get_dummies(df, var_name):\n",
    "    '''Create a list of dummy vars'''\n",
    "    dummies = pd.get_dummies(df[var_name], drop_first=True)\n",
    "    return dummies    \n",
    "\n",
    "\n",
    "def split_dataframe(df):\n",
    "    '''Split data into train and test sets'''\n",
    "    df_final_train, df_final_test = df.loc[df['File_Type']=='Train'], df.loc[df['File_Type']=='Test']\n",
    "    return df_final_train, df_final_test\n",
    "\n",
    "\n",
    "def model_tuning_param(model, feature_df, label_df, param_dist, n_iter):\n",
    "    '''Performs RandomizedSearchCV to tune model parameters'''\n",
    "    random_search = RandomizedSearchCV(model, param_dist, n_iter, cv=5)\n",
    "    random_search.fit(feature_df, label_df)\n",
    "    return random_search\n",
    "\n",
    "\n",
    "def print_best_params(random_search, param_1=None, param_2=None, param_3=None):\n",
    "    '''Print the best model parameter'''\n",
    "    print(\"Best \" + param_1 + \":\", random_search.best_estimator_.get_params()[param_1])\n",
    "    print(\"Best \" + param_2 + \":\", random_search.best_estimator_.get_params()[param_2])\n",
    "    print(\"Best \" + param_3 + \":\", random_search.best_estimator_.get_params()[param_3])\n",
    "\n",
    "\n",
    "def model_train(model, X_train, y_train, n_proc, mean_mae, cv_std):\n",
    "    '''Train a model and output mean MAE and CV Std. MAE'''\n",
    "    #scoring = 'neg_mean_absolute_error', 'neg_mean_squared_error'\n",
    "    # dont forget np.sqrt() for RMSE metric!\n",
    "    neg_mae = cross_val_score(model, X_train, y_train, n_jobs=n_proc, cv=5,\n",
    "                              scoring='neg_mean_absolute_error')\n",
    "    mae = -1*neg_mae\n",
    "    mean_mae[model] = np.mean(mae)\n",
    "    cv_std[model] = np.std(mae)\n",
    "\n",
    "\n",
    "def model_summary(model, mean_mae, cv_std):\n",
    "    '''Print out the model performance summary'''\n",
    "    print('\\nModel:\\n', model)\n",
    "    print('Average MAE:\\n', mean_mae[model])\n",
    "    print('Std. Dev during CV:\\n', cv_std[model])\n",
    "\n",
    "    \n",
    "def model_results(model, mean_mae, predictions, feature_importances):\n",
    "    '''Saves the model name, mean_mae, predicted sales, and feature importances'''\n",
    "    with open('model.txt', 'w') as file:\n",
    "        file.write(str(model))\n",
    "        feature_importances.to_csv('feat_importances.csv',index=False)\n",
    "        predictions.to_csv('pred_results_best.csv',index=False,index_label=None)\n",
    "\n",
    "\n",
    "def gen_predictions_file(df, var_1, var_2, var_3):\n",
    "    '''Generate test predictions file: concatenate with 3 keys to make the id column'''\n",
    "    df['id'] = df[var_1].map(str)+'_'+df[var_2].map(str)+'_'+df[var_3].map(str)\n",
    "    return df[['id', 'Weekly_Sales_Pred']]\n",
    "\n",
    "\n",
    "def plot_reg_compare(y_train_pred, y_train_act):\n",
    "    '''Plot a scatter plot to compare predicted vs actual label'''\n",
    "    plt.scatter(y_train_pred, y_train_act, c='blue', \n",
    "                edgecolor='w', marker='o', label='train set')\n",
    "    plt.xlabel('Predicted weekly sales')\n",
    "    plt.ylabel('Actual weekly sales')\n",
    "    plt.legend(loc='upper left')\n",
    "\n",
    "\n",
    "def plot_reg_residual(y_train_pred, y_train_act):\n",
    "    '''Plot a scatter plot to visualize residual from predicted vs. actual label'''\n",
    "    plt.scatter(y_train_pred, (y_train_pred - y_train_act), c='blue',\n",
    "                edgecolor='w', marker='o', label='train set')\n",
    "    plt.hlines(y=0, xmin=0, xmax=max(y_train_act), colors='k', lw=3)\n",
    "    plt.xlim([0, max(y_train_act)])\n",
    "    plt.xlabel('Predicted weekly sales')\n",
    "    plt.ylabel('Residual weekly sales')\n",
    "    plt.legend(loc='upper left')    "
   ]
  },
  {
   "cell_type": "code",
   "execution_count": 3,
   "metadata": {},
   "outputs": [
    {
     "name": "stderr",
     "output_type": "stream",
     "text": [
      "C:\\Users\\yoots\\Anaconda3\\lib\\site-packages\\ipykernel_launcher.py:34: FutureWarning: Sorting because non-concatenation axis is not aligned. A future version\n",
      "of pandas will change to not sort by default.\n",
      "\n",
      "To accept the future behavior, pass 'sort=False'.\n",
      "\n",
      "To retain the current behavior and silence the warning, pass 'sort=True'.\n",
      "\n"
     ]
    }
   ],
   "source": [
    "# --- 2. Load the data --- #\n",
    "# define input CSVs:\n",
    "if __name__ == '__main__':\n",
    "    test_data = 'sales_test.csv'\n",
    "    train_data = 'sales_train.csv'\n",
    "    store_data = 'sales_stores.csv'\n",
    "    feature_data = 'sales_features.csv'\n",
    "\n",
    "# Load data\n",
    "df_test = load_file(test_data)\n",
    "df_train = load_file(train_data)\n",
    "df_store = load_file(store_data)\n",
    "df_feature = load_file(feature_data)\n",
    "\n",
    "# Create a column file_type:\n",
    "# distinguish the train vs. test files\n",
    "df_train['File_Type'] = 'Train'\n",
    "df_test['File_Type'] = 'Test'\n",
    "\n",
    "# re-order columns on df_train:\n",
    "list_order = ['Store','Dept','Date','IsHoliday','File_Type','Weekly_Sales']\n",
    "df_train = df_train[list_order]\n",
    "\n",
    "# concatenate df_train and df_test:\n",
    "df_walmart_sales = bind_data(df_train, df_test)\n",
    "# delete dataframes:\n",
    "del(df_train, df_test)"
   ]
  },
  {
   "cell_type": "code",
   "execution_count": 4,
   "metadata": {},
   "outputs": [],
   "source": [
    "# --- 3. ETL - metadata format --- #\n",
    "# left joins on feature and store data:\n",
    "list_key_1 = 'Store'\n",
    "df_dimension = join_data(df_feature, df_store, 'left', list_key_1)\n",
    "\n",
    "# left joins on df_dimension and df_walmart_sales:\n",
    "list_key_2 = ['Store', 'Date', 'IsHoliday']\n",
    "df_staging = join_data(df_walmart_sales, df_dimension, 'left', list_key_2)\n",
    "# delete keys and dataframes:\n",
    "del(df_walmart_sales, df_dimension, df_feature, df_store)\n",
    "del(list_key_1, list_key_2)"
   ]
  },
  {
   "cell_type": "code",
   "execution_count": 5,
   "metadata": {},
   "outputs": [
    {
     "name": "stdout",
     "output_type": "stream",
     "text": [
      "<class 'pandas.core.frame.DataFrame'>\n",
      "Int64Index: 536634 entries, 0 to 536633\n",
      "Data columns (total 17 columns):\n",
      "Date            536634 non-null object\n",
      "Dept            536634 non-null int64\n",
      "File_Type       536634 non-null object\n",
      "IsHoliday       536634 non-null bool\n",
      "Store           536634 non-null int64\n",
      "Weekly_Sales    421570 non-null float64\n",
      "Temperature     536634 non-null float64\n",
      "Fuel_Price      536634 non-null float64\n",
      "MarkDown1       265596 non-null float64\n",
      "MarkDown2       197685 non-null float64\n",
      "MarkDown3       242326 non-null float64\n",
      "MarkDown4       237143 non-null float64\n",
      "MarkDown5       266496 non-null float64\n",
      "CPI             498472 non-null float64\n",
      "Unemployment    498472 non-null float64\n",
      "Type            536634 non-null object\n",
      "Size            536634 non-null int64\n",
      "dtypes: bool(1), float64(10), int64(3), object(3)\n",
      "memory usage: 70.1+ MB\n"
     ]
    }
   ],
   "source": [
    "# --- 4. ETL - merging/subsetting data --- #\n",
    "# define variables:\n",
    "var_label = 'Weekly_Sales'\n",
    "var_id_1 = 'Store'\n",
    "var_id_2 = 'Dept'\n",
    "var_id_3 = 'Date'\n",
    "list_id_vars = [var_id_1, var_id_2, var_id_3]\n",
    "\n",
    "vars_cat = create_list_vars(df_staging, 'O')\n",
    "vars_num_disc = create_list_vars(df_staging, 'int64') \n",
    "vars_num_cont = create_list_vars(df_staging, 'float64')\n",
    "\n",
    "# concatenate the two lists:\n",
    "vars_num = vars_num_disc + vars_num_cont\n",
    "\n",
    "list_unwanted = {'Store','Dept'}\n",
    "\n",
    "vars_num = [item for item in vars_num if item not in list_unwanted]\n",
    "\n",
    "del(vars_num_disc, vars_num_cont)\n",
    "\n",
    "# check data types on dataframes:\n",
    "df_staging.info()\n",
    "\n",
    "# create a dataframe with label:\n",
    "df_label = df_staging[['Store','Dept','Date','Weekly_Sales']]\n",
    "\n",
    "# drop a specified column:\n",
    "df_staging = drop_column(df_staging, var_label)\n",
    "\n",
    "# merge on a walmart sales and label:\n",
    "df_staging_raw = join_data(df_staging, df_label, 'inner', list_id_vars)\n",
    "del(df_staging)"
   ]
  },
  {
   "cell_type": "code",
   "execution_count": 6,
   "metadata": {},
   "outputs": [],
   "source": [
    "# --- 6. Feature Encoding --- #\n",
    "# convert temperature \"Fahrenheit\" to \"Celsious\":\n",
    "df_staging_raw['Temperature'] = (df_staging_raw['Temperature'] - 32) * 5/9\n",
    "\n",
    "# format date as follow:\n",
    "date_format = '%Y-%m-%d'\n",
    "df_staging_raw['Date'] = pd.to_datetime(df_staging_raw['Date'])"
   ]
  },
  {
   "cell_type": "code",
   "execution_count": 7,
   "metadata": {},
   "outputs": [
    {
     "data": {
      "text/html": [
       "<div>\n",
       "<style scoped>\n",
       "    .dataframe tbody tr th:only-of-type {\n",
       "        vertical-align: middle;\n",
       "    }\n",
       "\n",
       "    .dataframe tbody tr th {\n",
       "        vertical-align: top;\n",
       "    }\n",
       "\n",
       "    .dataframe thead th {\n",
       "        text-align: right;\n",
       "    }\n",
       "</style>\n",
       "<table border=\"1\" class=\"dataframe\">\n",
       "  <thead>\n",
       "    <tr style=\"text-align: right;\">\n",
       "      <th></th>\n",
       "      <th>count</th>\n",
       "      <th>pct</th>\n",
       "    </tr>\n",
       "  </thead>\n",
       "  <tbody>\n",
       "    <tr>\n",
       "      <td>MarkDown2</td>\n",
       "      <td>338949</td>\n",
       "      <td>63.162043</td>\n",
       "    </tr>\n",
       "    <tr>\n",
       "      <td>MarkDown4</td>\n",
       "      <td>299491</td>\n",
       "      <td>55.809173</td>\n",
       "    </tr>\n",
       "    <tr>\n",
       "      <td>MarkDown3</td>\n",
       "      <td>294308</td>\n",
       "      <td>54.843338</td>\n",
       "    </tr>\n",
       "    <tr>\n",
       "      <td>MarkDown1</td>\n",
       "      <td>271038</td>\n",
       "      <td>50.507049</td>\n",
       "    </tr>\n",
       "    <tr>\n",
       "      <td>MarkDown5</td>\n",
       "      <td>270138</td>\n",
       "      <td>50.339337</td>\n",
       "    </tr>\n",
       "    <tr>\n",
       "      <td>Weekly_Sales</td>\n",
       "      <td>115064</td>\n",
       "      <td>21.441802</td>\n",
       "    </tr>\n",
       "    <tr>\n",
       "      <td>CPI</td>\n",
       "      <td>38162</td>\n",
       "      <td>7.111365</td>\n",
       "    </tr>\n",
       "    <tr>\n",
       "      <td>Unemployment</td>\n",
       "      <td>38162</td>\n",
       "      <td>7.111365</td>\n",
       "    </tr>\n",
       "    <tr>\n",
       "      <td>Fuel_Price</td>\n",
       "      <td>0</td>\n",
       "      <td>0.000000</td>\n",
       "    </tr>\n",
       "    <tr>\n",
       "      <td>Temperature</td>\n",
       "      <td>0</td>\n",
       "      <td>0.000000</td>\n",
       "    </tr>\n",
       "    <tr>\n",
       "      <td>Dept</td>\n",
       "      <td>0</td>\n",
       "      <td>0.000000</td>\n",
       "    </tr>\n",
       "    <tr>\n",
       "      <td>Store</td>\n",
       "      <td>0</td>\n",
       "      <td>0.000000</td>\n",
       "    </tr>\n",
       "    <tr>\n",
       "      <td>IsHoliday</td>\n",
       "      <td>0</td>\n",
       "      <td>0.000000</td>\n",
       "    </tr>\n",
       "    <tr>\n",
       "      <td>File_Type</td>\n",
       "      <td>0</td>\n",
       "      <td>0.000000</td>\n",
       "    </tr>\n",
       "    <tr>\n",
       "      <td>Type</td>\n",
       "      <td>0</td>\n",
       "      <td>0.000000</td>\n",
       "    </tr>\n",
       "    <tr>\n",
       "      <td>Size</td>\n",
       "      <td>0</td>\n",
       "      <td>0.000000</td>\n",
       "    </tr>\n",
       "    <tr>\n",
       "      <td>Date</td>\n",
       "      <td>0</td>\n",
       "      <td>0.000000</td>\n",
       "    </tr>\n",
       "  </tbody>\n",
       "</table>\n",
       "</div>"
      ],
      "text/plain": [
       "               count        pct\n",
       "MarkDown2     338949  63.162043\n",
       "MarkDown4     299491  55.809173\n",
       "MarkDown3     294308  54.843338\n",
       "MarkDown1     271038  50.507049\n",
       "MarkDown5     270138  50.339337\n",
       "Weekly_Sales  115064  21.441802\n",
       "CPI            38162   7.111365\n",
       "Unemployment   38162   7.111365\n",
       "Fuel_Price         0   0.000000\n",
       "Temperature        0   0.000000\n",
       "Dept               0   0.000000\n",
       "Store              0   0.000000\n",
       "IsHoliday          0   0.000000\n",
       "File_Type          0   0.000000\n",
       "Type               0   0.000000\n",
       "Size               0   0.000000\n",
       "Date               0   0.000000"
      ]
     },
     "execution_count": 7,
     "metadata": {},
     "output_type": "execute_result"
    }
   ],
   "source": [
    "# --- 7. Feature Imputation --- #\n",
    "# Compute missing value %: before replacement\n",
    "df_missing_pre = EDA_missing_data(df_staging_raw)\n",
    "df_missing_pre"
   ]
  },
  {
   "cell_type": "markdown",
   "metadata": {},
   "source": [
    "####  Feature Imputation ####\n",
    "Let's compute feature imputation to replace missing values by following:\n",
    "* Mode: categorical features\n",
    "* Mean: numerical features\n",
    "* Max: pseudo time stamp on missing date(s)\n",
    "* Custom: customized values to fill na (i.e., fillna with zero(s))"
   ]
  },
  {
   "cell_type": "code",
   "execution_count": 8,
   "metadata": {},
   "outputs": [],
   "source": [
    "# feature imputation:\n",
    "feature_replacement(df_staging_raw)\n",
    "\n",
    "# Compute missing value %: after replacement\n",
    "df_missing_post = EDA_missing_data(df_staging_raw)\n",
    "df_missing_post\n",
    "\n",
    "del(df_missing_pre, df_missing_post)"
   ]
  },
  {
   "cell_type": "markdown",
   "metadata": {},
   "source": [
    "#### Feature Engineering 1 ####\n",
    "Feature engineering is a process where feature are generated by data transformation of existing feature(s). \n",
    "\n",
    "**Nominal feature encoding:** markdown promotional sales availability/presence md1_presence to md5_presence is a nominal feature where it can be described by binary digits (0 or 1)"
   ]
  },
  {
   "cell_type": "code",
   "execution_count": 9,
   "metadata": {},
   "outputs": [],
   "source": [
    "# --- 8. Feature Engineering --- #\n",
    "# assign a feature: binary flag\n",
    "#df_staging_raw = df_staging_raw.assign(md1_presence = df_staging_raw.MarkDown1.notnull())\n",
    "#df_staging_raw = df_staging_raw.assign(md2_presence = df_staging_raw.MarkDown2.notnull())\n",
    "#df_staging_raw = df_staging_raw.assign(md3_presence = df_staging_raw.MarkDown3.notnull())\n",
    "#df_staging_raw = df_staging_raw.assign(md4_presence = df_staging_raw.MarkDown4.notnull())\n",
    "#df_staging_raw = df_staging_raw.assign(md5_presence = df_staging_raw.MarkDown5.notnull())"
   ]
  },
  {
   "cell_type": "code",
   "execution_count": 10,
   "metadata": {},
   "outputs": [
    {
     "data": {
      "text/html": [
       "<div>\n",
       "<style scoped>\n",
       "    .dataframe tbody tr th:only-of-type {\n",
       "        vertical-align: middle;\n",
       "    }\n",
       "\n",
       "    .dataframe tbody tr th {\n",
       "        vertical-align: top;\n",
       "    }\n",
       "\n",
       "    .dataframe thead th {\n",
       "        text-align: right;\n",
       "    }\n",
       "</style>\n",
       "<table border=\"1\" class=\"dataframe\">\n",
       "  <thead>\n",
       "    <tr style=\"text-align: right;\">\n",
       "      <th></th>\n",
       "      <th>count</th>\n",
       "      <th>min</th>\n",
       "      <th>mean</th>\n",
       "      <th>max</th>\n",
       "      <th>25%</th>\n",
       "      <th>50%</th>\n",
       "      <th>75%</th>\n",
       "      <th>std</th>\n",
       "    </tr>\n",
       "  </thead>\n",
       "  <tbody>\n",
       "    <tr>\n",
       "      <td>Size</td>\n",
       "      <td>536634.0</td>\n",
       "      <td>34875.000000</td>\n",
       "      <td>136678.550960</td>\n",
       "      <td>219622.000000</td>\n",
       "      <td>93638.000000</td>\n",
       "      <td>140167.000000</td>\n",
       "      <td>202505.000000</td>\n",
       "      <td>61007.711799</td>\n",
       "    </tr>\n",
       "    <tr>\n",
       "      <td>Weekly_Sales</td>\n",
       "      <td>536634.0</td>\n",
       "      <td>-4988.940000</td>\n",
       "      <td>15981.258123</td>\n",
       "      <td>693099.360000</td>\n",
       "      <td>3240.535000</td>\n",
       "      <td>12982.345000</td>\n",
       "      <td>15981.258123</td>\n",
       "      <td>20129.612399</td>\n",
       "    </tr>\n",
       "    <tr>\n",
       "      <td>Temperature</td>\n",
       "      <td>536634.0</td>\n",
       "      <td>-21.827778</td>\n",
       "      <td>14.873201</td>\n",
       "      <td>38.861111</td>\n",
       "      <td>7.361111</td>\n",
       "      <td>15.588889</td>\n",
       "      <td>22.905556</td>\n",
       "      <td>10.377064</td>\n",
       "    </tr>\n",
       "    <tr>\n",
       "      <td>Fuel_Price</td>\n",
       "      <td>536634.0</td>\n",
       "      <td>2.472000</td>\n",
       "      <td>3.408310</td>\n",
       "      <td>4.468000</td>\n",
       "      <td>3.041000</td>\n",
       "      <td>3.523000</td>\n",
       "      <td>3.744000</td>\n",
       "      <td>0.430861</td>\n",
       "    </tr>\n",
       "    <tr>\n",
       "      <td>MarkDown1</td>\n",
       "      <td>536634.0</td>\n",
       "      <td>-2781.450000</td>\n",
       "      <td>3681.287709</td>\n",
       "      <td>103184.980000</td>\n",
       "      <td>0.000000</td>\n",
       "      <td>0.000000</td>\n",
       "      <td>5046.740000</td>\n",
       "      <td>7593.883000</td>\n",
       "    </tr>\n",
       "    <tr>\n",
       "      <td>MarkDown2</td>\n",
       "      <td>536634.0</td>\n",
       "      <td>-265.760000</td>\n",
       "      <td>1292.745138</td>\n",
       "      <td>104519.540000</td>\n",
       "      <td>0.000000</td>\n",
       "      <td>0.000000</td>\n",
       "      <td>118.730000</td>\n",
       "      <td>5714.136207</td>\n",
       "    </tr>\n",
       "    <tr>\n",
       "      <td>MarkDown3</td>\n",
       "      <td>536634.0</td>\n",
       "      <td>-179.260000</td>\n",
       "      <td>838.971725</td>\n",
       "      <td>149483.310000</td>\n",
       "      <td>0.000000</td>\n",
       "      <td>0.000000</td>\n",
       "      <td>29.140000</td>\n",
       "      <td>7860.456173</td>\n",
       "    </tr>\n",
       "    <tr>\n",
       "      <td>MarkDown4</td>\n",
       "      <td>536634.0</td>\n",
       "      <td>0.000000</td>\n",
       "      <td>1489.918846</td>\n",
       "      <td>67474.850000</td>\n",
       "      <td>0.000000</td>\n",
       "      <td>0.000000</td>\n",
       "      <td>906.450000</td>\n",
       "      <td>4865.593575</td>\n",
       "    </tr>\n",
       "    <tr>\n",
       "      <td>MarkDown5</td>\n",
       "      <td>536634.0</td>\n",
       "      <td>-185.170000</td>\n",
       "      <td>2147.337557</td>\n",
       "      <td>771448.100000</td>\n",
       "      <td>0.000000</td>\n",
       "      <td>0.000000</td>\n",
       "      <td>2852.190000</td>\n",
       "      <td>9789.902903</td>\n",
       "    </tr>\n",
       "    <tr>\n",
       "      <td>CPI</td>\n",
       "      <td>536634.0</td>\n",
       "      <td>126.064000</td>\n",
       "      <td>172.090481</td>\n",
       "      <td>228.976456</td>\n",
       "      <td>132.716097</td>\n",
       "      <td>172.090481</td>\n",
       "      <td>212.303441</td>\n",
       "      <td>38.110227</td>\n",
       "    </tr>\n",
       "    <tr>\n",
       "      <td>Unemployment</td>\n",
       "      <td>536634.0</td>\n",
       "      <td>3.684000</td>\n",
       "      <td>7.791888</td>\n",
       "      <td>14.313000</td>\n",
       "      <td>6.791000</td>\n",
       "      <td>7.791888</td>\n",
       "      <td>8.512000</td>\n",
       "      <td>1.797537</td>\n",
       "    </tr>\n",
       "  </tbody>\n",
       "</table>\n",
       "</div>"
      ],
      "text/plain": [
       "                 count           min           mean            max  \\\n",
       "Size          536634.0  34875.000000  136678.550960  219622.000000   \n",
       "Weekly_Sales  536634.0  -4988.940000   15981.258123  693099.360000   \n",
       "Temperature   536634.0    -21.827778      14.873201      38.861111   \n",
       "Fuel_Price    536634.0      2.472000       3.408310       4.468000   \n",
       "MarkDown1     536634.0  -2781.450000    3681.287709  103184.980000   \n",
       "MarkDown2     536634.0   -265.760000    1292.745138  104519.540000   \n",
       "MarkDown3     536634.0   -179.260000     838.971725  149483.310000   \n",
       "MarkDown4     536634.0      0.000000    1489.918846   67474.850000   \n",
       "MarkDown5     536634.0   -185.170000    2147.337557  771448.100000   \n",
       "CPI           536634.0    126.064000     172.090481     228.976456   \n",
       "Unemployment  536634.0      3.684000       7.791888      14.313000   \n",
       "\n",
       "                       25%            50%            75%           std  \n",
       "Size          93638.000000  140167.000000  202505.000000  61007.711799  \n",
       "Weekly_Sales   3240.535000   12982.345000   15981.258123  20129.612399  \n",
       "Temperature       7.361111      15.588889      22.905556     10.377064  \n",
       "Fuel_Price        3.041000       3.523000       3.744000      0.430861  \n",
       "MarkDown1         0.000000       0.000000    5046.740000   7593.883000  \n",
       "MarkDown2         0.000000       0.000000     118.730000   5714.136207  \n",
       "MarkDown3         0.000000       0.000000      29.140000   7860.456173  \n",
       "MarkDown4         0.000000       0.000000     906.450000   4865.593575  \n",
       "MarkDown5         0.000000       0.000000    2852.190000   9789.902903  \n",
       "CPI             132.716097     172.090481     212.303441     38.110227  \n",
       "Unemployment      6.791000       7.791888       8.512000      1.797537  "
      ]
     },
     "execution_count": 10,
     "metadata": {},
     "output_type": "execute_result"
    }
   ],
   "source": [
    "# --- 9. Exploratory Data Analysis --- #\n",
    "# perform numerical stat:\n",
    "df_stat_num = EDA_summary_stat_num(df_staging_raw[vars_num])\n",
    "df_stat_num"
   ]
  },
  {
   "cell_type": "code",
   "execution_count": 11,
   "metadata": {},
   "outputs": [
    {
     "data": {
      "text/html": [
       "<div>\n",
       "<style scoped>\n",
       "    .dataframe tbody tr th:only-of-type {\n",
       "        vertical-align: middle;\n",
       "    }\n",
       "\n",
       "    .dataframe tbody tr th {\n",
       "        vertical-align: top;\n",
       "    }\n",
       "\n",
       "    .dataframe thead th {\n",
       "        text-align: right;\n",
       "    }\n",
       "</style>\n",
       "<table border=\"1\" class=\"dataframe\">\n",
       "  <thead>\n",
       "    <tr style=\"text-align: right;\">\n",
       "      <th></th>\n",
       "      <th>count</th>\n",
       "      <th>unique</th>\n",
       "      <th>top</th>\n",
       "      <th>freq</th>\n",
       "    </tr>\n",
       "  </thead>\n",
       "  <tbody>\n",
       "    <tr>\n",
       "      <td>File_Type</td>\n",
       "      <td>536634</td>\n",
       "      <td>2</td>\n",
       "      <td>Train</td>\n",
       "      <td>421570</td>\n",
       "    </tr>\n",
       "    <tr>\n",
       "      <td>Type</td>\n",
       "      <td>536634</td>\n",
       "      <td>3</td>\n",
       "      <td>A</td>\n",
       "      <td>274191</td>\n",
       "    </tr>\n",
       "  </tbody>\n",
       "</table>\n",
       "</div>"
      ],
      "text/plain": [
       "            count unique    top    freq\n",
       "File_Type  536634      2  Train  421570\n",
       "Type       536634      3      A  274191"
      ]
     },
     "execution_count": 11,
     "metadata": {},
     "output_type": "execute_result"
    }
   ],
   "source": [
    "# convert data type as category:\n",
    "convert_dt_as_category(df_staging_raw)\n",
    "\n",
    "# perform summary statistics: categorical\n",
    "df_stat_cat = EDA_summary_stat_cat(df_staging_raw[vars_cat])\n",
    "df_stat_cat"
   ]
  },
  {
   "cell_type": "markdown",
   "metadata": {},
   "source": [
    "#### One-Hot-Encoding: dummy variable  ####\n",
    "One-Hot-Encoding on nominal feature allows to create a separate column on each feature and its value are only encoded \"0\" or \"1\". This dummy indicator gets interpreted by the ML models.\n",
    "\n",
    "Also to reduce any potential biases of having multi-colinearity, each feature's first encoded dummy variable must be dropped to avoid dummy variable trap (i.e., where independent variables are highly inter-correlated with each other as one predictor can be predicted from other of similar variables: Christmas_Eves_yes vs. Christmas_Eves_no)."
   ]
  },
  {
   "cell_type": "code",
   "execution_count": 12,
   "metadata": {},
   "outputs": [],
   "source": [
    "# --- 10. Prepare Training Data --- #\n",
    "# Create a dummy variable: date\n",
    "df_staging_raw['Date_String'] = [datetime.strptime(date, '%Y-%m-%d').date() \n",
    "                            for date in df_staging_raw['Date'].astype(str).values.tolist()]\n",
    "df_staging_raw['Month'] = [date.month for date in df_staging_raw['Date_String']]\n",
    "\n",
    "# Create a list of dummy variables: Special Dates - Black Friday & Christmas Eve\n",
    "df_staging_raw['Black_Friday'] = np.where((df_staging_raw['Date_String']==datetime(2010, 11, 26).date()) | \n",
    "        (df_staging_raw['Date_String']==datetime(2011, 11, 25).date()), 'yes', 'no')\n",
    "df_staging_raw['Christmas_Eves'] = np.where((df_staging_raw['Date_String']==datetime(2010, 12, 23).date()) | \n",
    "        (df_staging_raw['Date_String']==datetime(2010, 12, 24).date()) | \n",
    "        (df_staging_raw['Date_String']==datetime(2011, 12, 23).date()) | \n",
    "        (df_staging_raw['Date_String']==datetime(2011, 12, 24).date()), 'yes', 'no')\n",
    "\n",
    "# Re-format dummy variables: Month, IsHoliday, etc.\n",
    "format_dummy_vars(df_staging_raw, 'Month')\n",
    "format_dummy_vars(df_staging_raw, 'IsHoliday')\n",
    "format_dummy_vars(df_staging_raw, 'Black_Friday')\n",
    "format_dummy_vars(df_staging_raw, 'Christmas_Eves')\n",
    "\n",
    "# Create a list of dummy variables:\n",
    "#dummy_months = get_dummies(df_staging_raw, 'Month')\n",
    "dummy_holidays = get_dummies(df_staging_raw, 'IsHoliday')\n",
    "dummy_black_friday = get_dummies(df_staging_raw, 'Black_Friday')\n",
    "dummy_christmas_eve = get_dummies(df_staging_raw, 'Christmas_Eves')\n",
    "\n",
    "# Concatenate dataframe:\n",
    "df_clean = pd.concat([df_staging_raw, dummy_christmas_eve, \n",
    "                      dummy_black_friday, dummy_holidays], axis=1)\n",
    "\n",
    "del(df_staging_raw)\n",
    "del(dummy_holidays, dummy_black_friday, dummy_christmas_eve)"
   ]
  },
  {
   "cell_type": "markdown",
   "metadata": {},
   "source": [
    "#### Feature Engineering 2 ####\n",
    "\n",
    "**Arithmetic Operation/Time Intelligence**. \n",
    "Feature engineering techniques are applied to generate following feature(s):\n",
    "\n",
    "1. 'Median_Sales' = computation of median weekly sales value on training dataset only!\n",
    "2. 'Lagged_1wk_Sales' = computation of 1week lagging weekly sales\n",
    "3. 'Lagged_1wk_Available' = computation of a categorical feature whether or not 1week lagging weekly sales are available!"
   ]
  },
  {
   "cell_type": "code",
   "execution_count": 13,
   "metadata": {},
   "outputs": [
    {
     "data": {
      "text/html": [
       "<div>\n",
       "<style scoped>\n",
       "    .dataframe tbody tr th:only-of-type {\n",
       "        vertical-align: middle;\n",
       "    }\n",
       "\n",
       "    .dataframe tbody tr th {\n",
       "        vertical-align: top;\n",
       "    }\n",
       "\n",
       "    .dataframe thead th {\n",
       "        text-align: right;\n",
       "    }\n",
       "</style>\n",
       "<table border=\"1\" class=\"dataframe\">\n",
       "  <thead>\n",
       "    <tr style=\"text-align: right;\">\n",
       "      <th></th>\n",
       "      <th>Type</th>\n",
       "      <th>Dept</th>\n",
       "      <th>Store</th>\n",
       "      <th>Month</th>\n",
       "      <th>IsHoliday</th>\n",
       "      <th>Median_Sales</th>\n",
       "    </tr>\n",
       "  </thead>\n",
       "  <tbody>\n",
       "    <tr>\n",
       "      <td>0</td>\n",
       "      <td>A</td>\n",
       "      <td>1</td>\n",
       "      <td>1</td>\n",
       "      <td>Month_1</td>\n",
       "      <td>IsHoliday_False</td>\n",
       "      <td>17350.585</td>\n",
       "    </tr>\n",
       "    <tr>\n",
       "      <td>1</td>\n",
       "      <td>A</td>\n",
       "      <td>1</td>\n",
       "      <td>1</td>\n",
       "      <td>Month_1</td>\n",
       "      <td>IsHoliday_True</td>\n",
       "      <td>NaN</td>\n",
       "    </tr>\n",
       "    <tr>\n",
       "      <td>2</td>\n",
       "      <td>A</td>\n",
       "      <td>1</td>\n",
       "      <td>1</td>\n",
       "      <td>Month_10</td>\n",
       "      <td>IsHoliday_False</td>\n",
       "      <td>23388.030</td>\n",
       "    </tr>\n",
       "    <tr>\n",
       "      <td>3</td>\n",
       "      <td>A</td>\n",
       "      <td>1</td>\n",
       "      <td>1</td>\n",
       "      <td>Month_10</td>\n",
       "      <td>IsHoliday_True</td>\n",
       "      <td>NaN</td>\n",
       "    </tr>\n",
       "    <tr>\n",
       "      <td>4</td>\n",
       "      <td>A</td>\n",
       "      <td>1</td>\n",
       "      <td>1</td>\n",
       "      <td>Month_11</td>\n",
       "      <td>IsHoliday_False</td>\n",
       "      <td>19551.115</td>\n",
       "    </tr>\n",
       "  </tbody>\n",
       "</table>\n",
       "</div>"
      ],
      "text/plain": [
       "  Type  Dept  Store     Month        IsHoliday  Median_Sales\n",
       "0    A     1      1   Month_1  IsHoliday_False     17350.585\n",
       "1    A     1      1   Month_1   IsHoliday_True           NaN\n",
       "2    A     1      1  Month_10  IsHoliday_False     23388.030\n",
       "3    A     1      1  Month_10   IsHoliday_True           NaN\n",
       "4    A     1      1  Month_11  IsHoliday_False     19551.115"
      ]
     },
     "execution_count": 13,
     "metadata": {},
     "output_type": "execute_result"
    }
   ],
   "source": [
    "# --- 11. Feature Engineering --- #\n",
    "# create median sales by store and department on a train set:\n",
    "df_median_sales = pd.DataFrame({'Median_Sales':df_clean.loc[df_clean['File_Type']=='Train'].groupby(\n",
    "                  by=['Type','Dept','Store','Month','IsHoliday'])['Weekly_Sales'].median()}).reset_index()\n",
    "\n",
    "# check dataframe:\n",
    "df_median_sales.head()"
   ]
  },
  {
   "cell_type": "code",
   "execution_count": 14,
   "metadata": {},
   "outputs": [
    {
     "data": {
      "text/html": [
       "<div>\n",
       "<style scoped>\n",
       "    .dataframe tbody tr th:only-of-type {\n",
       "        vertical-align: middle;\n",
       "    }\n",
       "\n",
       "    .dataframe tbody tr th {\n",
       "        vertical-align: top;\n",
       "    }\n",
       "\n",
       "    .dataframe thead th {\n",
       "        text-align: right;\n",
       "    }\n",
       "</style>\n",
       "<table border=\"1\" class=\"dataframe\">\n",
       "  <thead>\n",
       "    <tr style=\"text-align: right;\">\n",
       "      <th></th>\n",
       "      <th>Date</th>\n",
       "      <th>Dept</th>\n",
       "      <th>File_Type</th>\n",
       "      <th>IsHoliday</th>\n",
       "      <th>Store</th>\n",
       "      <th>Temperature</th>\n",
       "      <th>Fuel_Price</th>\n",
       "      <th>MarkDown1</th>\n",
       "      <th>MarkDown2</th>\n",
       "      <th>MarkDown3</th>\n",
       "      <th>...</th>\n",
       "      <th>Weekly_Sales</th>\n",
       "      <th>Date_String</th>\n",
       "      <th>Month</th>\n",
       "      <th>Black_Friday</th>\n",
       "      <th>Christmas_Eves</th>\n",
       "      <th>Christmas_Eves_yes</th>\n",
       "      <th>Black_Friday_yes</th>\n",
       "      <th>IsHoliday_True</th>\n",
       "      <th>Median_Sales</th>\n",
       "      <th>Date_1wk_Lagged</th>\n",
       "    </tr>\n",
       "  </thead>\n",
       "  <tbody>\n",
       "    <tr>\n",
       "      <td>0</td>\n",
       "      <td>2010-02-05</td>\n",
       "      <td>1</td>\n",
       "      <td>Train</td>\n",
       "      <td>IsHoliday_False</td>\n",
       "      <td>1</td>\n",
       "      <td>5.727778</td>\n",
       "      <td>2.572</td>\n",
       "      <td>0.0</td>\n",
       "      <td>0.0</td>\n",
       "      <td>0.0</td>\n",
       "      <td>...</td>\n",
       "      <td>24924.50</td>\n",
       "      <td>2010-02-05</td>\n",
       "      <td>Month_2</td>\n",
       "      <td>Black_Friday_no</td>\n",
       "      <td>Christmas_Eves_no</td>\n",
       "      <td>0</td>\n",
       "      <td>0</td>\n",
       "      <td>0</td>\n",
       "      <td>23510.49</td>\n",
       "      <td>2010-01-29</td>\n",
       "    </tr>\n",
       "    <tr>\n",
       "      <td>1</td>\n",
       "      <td>2010-02-12</td>\n",
       "      <td>1</td>\n",
       "      <td>Train</td>\n",
       "      <td>IsHoliday_True</td>\n",
       "      <td>1</td>\n",
       "      <td>3.616667</td>\n",
       "      <td>2.548</td>\n",
       "      <td>0.0</td>\n",
       "      <td>0.0</td>\n",
       "      <td>0.0</td>\n",
       "      <td>...</td>\n",
       "      <td>46039.49</td>\n",
       "      <td>2010-02-12</td>\n",
       "      <td>Month_2</td>\n",
       "      <td>Black_Friday_no</td>\n",
       "      <td>Christmas_Eves_no</td>\n",
       "      <td>0</td>\n",
       "      <td>0</td>\n",
       "      <td>1</td>\n",
       "      <td>37887.17</td>\n",
       "      <td>2010-02-05</td>\n",
       "    </tr>\n",
       "    <tr>\n",
       "      <td>2</td>\n",
       "      <td>2010-02-19</td>\n",
       "      <td>1</td>\n",
       "      <td>Train</td>\n",
       "      <td>IsHoliday_False</td>\n",
       "      <td>1</td>\n",
       "      <td>4.405556</td>\n",
       "      <td>2.514</td>\n",
       "      <td>0.0</td>\n",
       "      <td>0.0</td>\n",
       "      <td>0.0</td>\n",
       "      <td>...</td>\n",
       "      <td>41595.55</td>\n",
       "      <td>2010-02-19</td>\n",
       "      <td>Month_2</td>\n",
       "      <td>Black_Friday_no</td>\n",
       "      <td>Christmas_Eves_no</td>\n",
       "      <td>0</td>\n",
       "      <td>0</td>\n",
       "      <td>0</td>\n",
       "      <td>23510.49</td>\n",
       "      <td>2010-02-12</td>\n",
       "    </tr>\n",
       "    <tr>\n",
       "      <td>3</td>\n",
       "      <td>2010-02-26</td>\n",
       "      <td>1</td>\n",
       "      <td>Train</td>\n",
       "      <td>IsHoliday_False</td>\n",
       "      <td>1</td>\n",
       "      <td>8.127778</td>\n",
       "      <td>2.561</td>\n",
       "      <td>0.0</td>\n",
       "      <td>0.0</td>\n",
       "      <td>0.0</td>\n",
       "      <td>...</td>\n",
       "      <td>19403.54</td>\n",
       "      <td>2010-02-26</td>\n",
       "      <td>Month_2</td>\n",
       "      <td>Black_Friday_no</td>\n",
       "      <td>Christmas_Eves_no</td>\n",
       "      <td>0</td>\n",
       "      <td>0</td>\n",
       "      <td>0</td>\n",
       "      <td>23510.49</td>\n",
       "      <td>2010-02-19</td>\n",
       "    </tr>\n",
       "    <tr>\n",
       "      <td>4</td>\n",
       "      <td>2010-03-05</td>\n",
       "      <td>1</td>\n",
       "      <td>Train</td>\n",
       "      <td>IsHoliday_False</td>\n",
       "      <td>1</td>\n",
       "      <td>8.055556</td>\n",
       "      <td>2.625</td>\n",
       "      <td>0.0</td>\n",
       "      <td>0.0</td>\n",
       "      <td>0.0</td>\n",
       "      <td>...</td>\n",
       "      <td>21827.90</td>\n",
       "      <td>2010-03-05</td>\n",
       "      <td>Month_3</td>\n",
       "      <td>Black_Friday_no</td>\n",
       "      <td>Christmas_Eves_no</td>\n",
       "      <td>0</td>\n",
       "      <td>0</td>\n",
       "      <td>0</td>\n",
       "      <td>21280.40</td>\n",
       "      <td>2010-02-26</td>\n",
       "    </tr>\n",
       "  </tbody>\n",
       "</table>\n",
       "<p>5 rows × 26 columns</p>\n",
       "</div>"
      ],
      "text/plain": [
       "        Date  Dept File_Type        IsHoliday  Store  Temperature  Fuel_Price  \\\n",
       "0 2010-02-05     1     Train  IsHoliday_False      1     5.727778       2.572   \n",
       "1 2010-02-12     1     Train   IsHoliday_True      1     3.616667       2.548   \n",
       "2 2010-02-19     1     Train  IsHoliday_False      1     4.405556       2.514   \n",
       "3 2010-02-26     1     Train  IsHoliday_False      1     8.127778       2.561   \n",
       "4 2010-03-05     1     Train  IsHoliday_False      1     8.055556       2.625   \n",
       "\n",
       "   MarkDown1  MarkDown2  MarkDown3  ...  Weekly_Sales  Date_String    Month  \\\n",
       "0        0.0        0.0        0.0  ...      24924.50   2010-02-05  Month_2   \n",
       "1        0.0        0.0        0.0  ...      46039.49   2010-02-12  Month_2   \n",
       "2        0.0        0.0        0.0  ...      41595.55   2010-02-19  Month_2   \n",
       "3        0.0        0.0        0.0  ...      19403.54   2010-02-26  Month_2   \n",
       "4        0.0        0.0        0.0  ...      21827.90   2010-03-05  Month_3   \n",
       "\n",
       "      Black_Friday     Christmas_Eves  Christmas_Eves_yes  Black_Friday_yes  \\\n",
       "0  Black_Friday_no  Christmas_Eves_no                   0                 0   \n",
       "1  Black_Friday_no  Christmas_Eves_no                   0                 0   \n",
       "2  Black_Friday_no  Christmas_Eves_no                   0                 0   \n",
       "3  Black_Friday_no  Christmas_Eves_no                   0                 0   \n",
       "4  Black_Friday_no  Christmas_Eves_no                   0                 0   \n",
       "\n",
       "  IsHoliday_True Median_Sales Date_1wk_Lagged  \n",
       "0              0     23510.49      2010-01-29  \n",
       "1              1     37887.17      2010-02-05  \n",
       "2              0     23510.49      2010-02-12  \n",
       "3              0     23510.49      2010-02-19  \n",
       "4              0     21280.40      2010-02-26  \n",
       "\n",
       "[5 rows x 26 columns]"
      ]
     },
     "execution_count": 14,
     "metadata": {},
     "output_type": "execute_result"
    }
   ],
   "source": [
    "# perform left joins on df_clean and df_median_sales:\n",
    "list_key_3 = ['Type','Dept','Store','Month','IsHoliday']\n",
    "df_clean = join_data(df_clean, df_median_sales, 'left', list_key_3)\n",
    "del(df_median_sales)\n",
    "\n",
    "# imputed Median Sales:\n",
    "feature_replacement(df_clean)\n",
    "\n",
    "# create a feature: Date_Lagged_1wk\n",
    "df_clean['Date_1wk_Lagged'] = df_clean['Date_String'] - timedelta(days=7)\n",
    "df_clean.head()"
   ]
  },
  {
   "cell_type": "code",
   "execution_count": 15,
   "metadata": {},
   "outputs": [
    {
     "name": "stderr",
     "output_type": "stream",
     "text": [
      "C:\\Users\\yoots\\Anaconda3\\lib\\site-packages\\ipykernel_launcher.py:21: FutureWarning: set_value is deprecated and will be removed in a future release. Please use .at[] or .iat[] accessors instead\n",
      "C:\\Users\\yoots\\Anaconda3\\lib\\site-packages\\ipykernel_launcher.py:22: FutureWarning: set_value is deprecated and will be removed in a future release. Please use .at[] or .iat[] accessors instead\n",
      "C:\\Users\\yoots\\Anaconda3\\lib\\site-packages\\ipykernel_launcher.py:18: FutureWarning: set_value is deprecated and will be removed in a future release. Please use .at[] or .iat[] accessors instead\n",
      "C:\\Users\\yoots\\Anaconda3\\lib\\site-packages\\ipykernel_launcher.py:19: FutureWarning: set_value is deprecated and will be removed in a future release. Please use .at[] or .iat[] accessors instead\n"
     ]
    },
    {
     "name": "stdout",
     "output_type": "stream",
     "text": [
      "0% computed\n",
      "9% computed\n",
      "19% computed\n",
      "29% computed\n",
      "39% computed\n",
      "49% computed\n",
      "59% computed\n",
      "69% computed\n",
      "79% computed\n",
      "89% computed\n",
      "99% computed\n"
     ]
    }
   ],
   "source": [
    "# Create a sorted dataframe: 1wk lagged weekly sales computation\n",
    "df_clean = df_clean.sort_values(['Store', 'Dept', 'Date_String'], ascending=[True,True,True])\n",
    "df_clean = df_clean.reset_index(drop=True)\n",
    "\n",
    "# Create Lagged_1wk_Sales, Lagged_1wk_Available\n",
    "df_clean['Lagged_1wk_Sales'] = np.nan\n",
    "df_clean['Lagged_1wk_Available'] = np.nan\n",
    "\n",
    "# specify row's: last and length\n",
    "row_last = df_clean.loc[0]\n",
    "row_len = df_clean.shape[0]\n",
    "\n",
    "# for looping on each row:\n",
    "for index, row in df_clean.iterrows():\n",
    "    lag_date = row['Date_1wk_Lagged']\n",
    "    # Check if it matches the last week sales to the compared date\n",
    "    if((row_last['Date_String'] == lag_date) & (row_last['Weekly_Sales']>0)):\n",
    "        df_clean.set_value(index, 'Lagged_1wk_Sales', row_last['Weekly_Sales'])\n",
    "        df_clean.set_value(index, 'Lagged_1wk_Available', 1)\n",
    "    else: #last week sales doesn't exist then replace with median sales\n",
    "        df_clean.set_value(index, 'Lagged_1wk_Sales', row['Median_Sales'])\n",
    "        df_clean.set_value(index, 'Lagged_1wk_Available', 0)\n",
    "    row_last = row # compute last row for computational speed\n",
    "    if(index%int(row_len/10)==0): # shows progress by printing every 10% interval\n",
    "        print(str(int(index*100/row_len))+'% computed')\n",
    "\n",
    "# checked dataframe:\n",
    "df_clean[['Dept','Store','Date_String','Lagged_1wk_Sales','Weekly_Sales','Median_Sales']].head()        \n",
    "\n",
    "# compute Sales Variance: Median_Sales - Lagged_1wk_Sales\n",
    "df_clean['Sales_Var_Median_Lagged'] = df_clean['Median_Sales'] - df_clean['Lagged_1wk_Sales']\n",
    "\n",
    "# compute Sales Variance: Median_Sales - Weekly_Sales\n",
    "df_clean['Sales_Var_Median_Weekly'] = df_clean['Median_Sales'] - df_clean['Weekly_Sales']"
   ]
  },
  {
   "cell_type": "code",
   "execution_count": 16,
   "metadata": {},
   "outputs": [],
   "source": [
    "# --- 12. Feature Scaling --- # \n",
    "# Normalized features based on standardization\n",
    "#df_clean['Temperature'] = feature_scaler(df_clean, 'Temperature')"
   ]
  },
  {
   "cell_type": "code",
   "execution_count": 17,
   "metadata": {},
   "outputs": [
    {
     "name": "stdout",
     "output_type": "stream",
     "text": [
      "<class 'pandas.core.frame.DataFrame'>\n",
      "Int64Index: 421570 entries, 0 to 536594\n",
      "Data columns (total 30 columns):\n",
      "Date                       421570 non-null datetime64[ns]\n",
      "Dept                       421570 non-null int64\n",
      "File_Type                  421570 non-null category\n",
      "IsHoliday                  421570 non-null object\n",
      "Store                      421570 non-null int64\n",
      "Temperature                421570 non-null float64\n",
      "Fuel_Price                 421570 non-null float64\n",
      "MarkDown1                  421570 non-null float64\n",
      "MarkDown2                  421570 non-null float64\n",
      "MarkDown3                  421570 non-null float64\n",
      "MarkDown4                  421570 non-null float64\n",
      "MarkDown5                  421570 non-null float64\n",
      "CPI                        421570 non-null float64\n",
      "Unemployment               421570 non-null float64\n",
      "Type                       421570 non-null category\n",
      "Size                       421570 non-null int64\n",
      "Weekly_Sales               421570 non-null float64\n",
      "Date_String                421570 non-null object\n",
      "Month                      421570 non-null object\n",
      "Black_Friday               421570 non-null object\n",
      "Christmas_Eves             421570 non-null object\n",
      "Christmas_Eves_yes         421570 non-null uint8\n",
      "Black_Friday_yes           421570 non-null uint8\n",
      "IsHoliday_True             421570 non-null uint8\n",
      "Median_Sales               421570 non-null float64\n",
      "Date_1wk_Lagged            421570 non-null object\n",
      "Lagged_1wk_Sales           421570 non-null float64\n",
      "Lagged_1wk_Available       421570 non-null float64\n",
      "Sales_Var_Median_Lagged    421570 non-null float64\n",
      "Sales_Var_Median_Weekly    421570 non-null float64\n",
      "dtypes: category(2), datetime64[ns](1), float64(15), int64(3), object(6), uint8(3)\n",
      "memory usage: 85.6+ MB\n"
     ]
    },
    {
     "data": {
      "text/plain": [
       "105393"
      ]
     },
     "execution_count": 17,
     "metadata": {},
     "output_type": "execute_result"
    }
   ],
   "source": [
    "# --- 13. split data into train and test set ---\n",
    "# split the data for train and test sets:\n",
    "df_final_train, df_final_test = split_dataframe(df_clean)\n",
    "del(df_clean)\n",
    "\n",
    "# create a label:\n",
    "label_df = df_final_train['Sales_Var_Median_Weekly']\n",
    "\n",
    "# feature selection:\n",
    "df_final_train.info()\n",
    "\n",
    "# selected list of features:\n",
    "list_feat = list(df_final_train.columns)\n",
    "\n",
    "# create a list: object, category and datetime\n",
    "list_obj = create_list_vars(df_final_train, 'O')\n",
    "list_cat = create_list_vars(df_final_train, 'category')\n",
    "list_dt_time = create_list_vars(df_final_train, 'datetime')\n",
    "list_target = ['Weekly_Sales', 'Median_Sales', 'Sales_Var_Median_Weekly']\n",
    "\n",
    "# concatenate a list of features to be removed:    \n",
    "list_remove = list_obj + list_cat + list_dt_time + list_target\n",
    "\n",
    "list_feat = [item for item in list_feat if item not in list_remove]\n",
    "del(list_obj, list_cat, list_dt_time, list_target, list_remove)\n",
    "\n",
    "# split data into train and validation sets:\n",
    "X_train, X_val, y_train, y_val = train_test_split(df_final_train[list_feat], label_df, \n",
    "                                                  test_size=1/4, random_state=0)\n",
    "\n",
    "# check the split:\n",
    "y_train.count()\n",
    "y_val.count()"
   ]
  },
  {
   "cell_type": "code",
   "execution_count": 18,
   "metadata": {},
   "outputs": [
    {
     "name": "stdout",
     "output_type": "stream",
     "text": [
      "Baseline MAE: 1566.476906279234\n"
     ]
    }
   ],
   "source": [
    "# --- 14. Baseline model --- # \n",
    "# Baseline Model LR: MAE = 1566.47, CV_STD_MAE = 9.40    \n",
    "# create a baseline model:\n",
    "baseline = LinearRegression()\n",
    "baseline_cv = cross_val_score(baseline, X_train, y_train, \n",
    "                                  cv=5, scoring='neg_mean_absolute_error')\n",
    "baseline_mae = -1 * baseline_cv\n",
    "baseline_mean_mae = np.mean(baseline_mae)\n",
    "print('Baseline MAE: ' + str(baseline_mean_mae))"
   ]
  },
  {
   "cell_type": "markdown",
   "metadata": {},
   "source": [
    "#### Summary: Baseline Model ####\n",
    "Baseline model was computed to compare the performance across different set of hyper-parameters tuned models.\n",
    "The Baseline MAE was 1565.19."
   ]
  },
  {
   "cell_type": "markdown",
   "metadata": {},
   "source": [
    "## Part 3 - DEVELOP ##"
   ]
  },
  {
   "cell_type": "code",
   "execution_count": 19,
   "metadata": {},
   "outputs": [
    {
     "name": "stdout",
     "output_type": "stream",
     "text": [
      "Best n_estimators: 16\n",
      "Best max_depth: 9\n",
      "Best min_samples_split: 17\n"
     ]
    },
    {
     "name": "stderr",
     "output_type": "stream",
     "text": [
      "C:\\Users\\yoots\\Anaconda3\\lib\\site-packages\\xgboost\\core.py:587: FutureWarning: Series.base is deprecated and will be removed in a future version\n",
      "  if getattr(data, 'base', None) is not None and \\\n"
     ]
    },
    {
     "name": "stdout",
     "output_type": "stream",
     "text": [
      "[11:52:15] WARNING: src/objective/regression_obj.cu:152: reg:linear is now deprecated in favor of reg:squarederror.\n"
     ]
    },
    {
     "name": "stderr",
     "output_type": "stream",
     "text": [
      "C:\\Users\\yoots\\Anaconda3\\lib\\site-packages\\xgboost\\core.py:587: FutureWarning: Series.base is deprecated and will be removed in a future version\n",
      "  if getattr(data, 'base', None) is not None and \\\n"
     ]
    },
    {
     "name": "stdout",
     "output_type": "stream",
     "text": [
      "[11:52:25] WARNING: src/objective/regression_obj.cu:152: reg:linear is now deprecated in favor of reg:squarederror.\n"
     ]
    },
    {
     "name": "stderr",
     "output_type": "stream",
     "text": [
      "C:\\Users\\yoots\\Anaconda3\\lib\\site-packages\\xgboost\\core.py:587: FutureWarning: Series.base is deprecated and will be removed in a future version\n",
      "  if getattr(data, 'base', None) is not None and \\\n"
     ]
    },
    {
     "name": "stdout",
     "output_type": "stream",
     "text": [
      "[11:52:34] WARNING: src/objective/regression_obj.cu:152: reg:linear is now deprecated in favor of reg:squarederror.\n"
     ]
    },
    {
     "name": "stderr",
     "output_type": "stream",
     "text": [
      "C:\\Users\\yoots\\Anaconda3\\lib\\site-packages\\xgboost\\core.py:587: FutureWarning: Series.base is deprecated and will be removed in a future version\n",
      "  if getattr(data, 'base', None) is not None and \\\n"
     ]
    },
    {
     "name": "stdout",
     "output_type": "stream",
     "text": [
      "[11:52:44] WARNING: src/objective/regression_obj.cu:152: reg:linear is now deprecated in favor of reg:squarederror.\n"
     ]
    },
    {
     "name": "stderr",
     "output_type": "stream",
     "text": [
      "C:\\Users\\yoots\\Anaconda3\\lib\\site-packages\\xgboost\\core.py:587: FutureWarning: Series.base is deprecated and will be removed in a future version\n",
      "  if getattr(data, 'base', None) is not None and \\\n"
     ]
    },
    {
     "name": "stdout",
     "output_type": "stream",
     "text": [
      "[11:52:53] WARNING: src/objective/regression_obj.cu:152: reg:linear is now deprecated in favor of reg:squarederror.\n"
     ]
    },
    {
     "name": "stderr",
     "output_type": "stream",
     "text": [
      "C:\\Users\\yoots\\Anaconda3\\lib\\site-packages\\xgboost\\core.py:587: FutureWarning: Series.base is deprecated and will be removed in a future version\n",
      "  if getattr(data, 'base', None) is not None and \\\n"
     ]
    },
    {
     "name": "stdout",
     "output_type": "stream",
     "text": [
      "[11:53:02] WARNING: src/objective/regression_obj.cu:152: reg:linear is now deprecated in favor of reg:squarederror.\n"
     ]
    },
    {
     "name": "stderr",
     "output_type": "stream",
     "text": [
      "C:\\Users\\yoots\\Anaconda3\\lib\\site-packages\\xgboost\\core.py:587: FutureWarning: Series.base is deprecated and will be removed in a future version\n",
      "  if getattr(data, 'base', None) is not None and \\\n"
     ]
    },
    {
     "name": "stdout",
     "output_type": "stream",
     "text": [
      "[11:53:08] WARNING: src/objective/regression_obj.cu:152: reg:linear is now deprecated in favor of reg:squarederror.\n"
     ]
    },
    {
     "name": "stderr",
     "output_type": "stream",
     "text": [
      "C:\\Users\\yoots\\Anaconda3\\lib\\site-packages\\xgboost\\core.py:587: FutureWarning: Series.base is deprecated and will be removed in a future version\n",
      "  if getattr(data, 'base', None) is not None and \\\n"
     ]
    },
    {
     "name": "stdout",
     "output_type": "stream",
     "text": [
      "[11:53:13] WARNING: src/objective/regression_obj.cu:152: reg:linear is now deprecated in favor of reg:squarederror.\n"
     ]
    },
    {
     "name": "stderr",
     "output_type": "stream",
     "text": [
      "C:\\Users\\yoots\\Anaconda3\\lib\\site-packages\\xgboost\\core.py:587: FutureWarning: Series.base is deprecated and will be removed in a future version\n",
      "  if getattr(data, 'base', None) is not None and \\\n"
     ]
    },
    {
     "name": "stdout",
     "output_type": "stream",
     "text": [
      "[11:53:19] WARNING: src/objective/regression_obj.cu:152: reg:linear is now deprecated in favor of reg:squarederror.\n"
     ]
    },
    {
     "name": "stderr",
     "output_type": "stream",
     "text": [
      "C:\\Users\\yoots\\Anaconda3\\lib\\site-packages\\xgboost\\core.py:587: FutureWarning: Series.base is deprecated and will be removed in a future version\n",
      "  if getattr(data, 'base', None) is not None and \\\n"
     ]
    },
    {
     "name": "stdout",
     "output_type": "stream",
     "text": [
      "[11:53:25] WARNING: src/objective/regression_obj.cu:152: reg:linear is now deprecated in favor of reg:squarederror.\n"
     ]
    },
    {
     "name": "stderr",
     "output_type": "stream",
     "text": [
      "C:\\Users\\yoots\\Anaconda3\\lib\\site-packages\\xgboost\\core.py:587: FutureWarning: Series.base is deprecated and will be removed in a future version\n",
      "  if getattr(data, 'base', None) is not None and \\\n"
     ]
    },
    {
     "name": "stdout",
     "output_type": "stream",
     "text": [
      "[11:53:31] WARNING: src/objective/regression_obj.cu:152: reg:linear is now deprecated in favor of reg:squarederror.\n"
     ]
    },
    {
     "name": "stderr",
     "output_type": "stream",
     "text": [
      "C:\\Users\\yoots\\Anaconda3\\lib\\site-packages\\xgboost\\core.py:587: FutureWarning: Series.base is deprecated and will be removed in a future version\n",
      "  if getattr(data, 'base', None) is not None and \\\n"
     ]
    },
    {
     "name": "stdout",
     "output_type": "stream",
     "text": [
      "[11:53:35] WARNING: src/objective/regression_obj.cu:152: reg:linear is now deprecated in favor of reg:squarederror.\n"
     ]
    },
    {
     "name": "stderr",
     "output_type": "stream",
     "text": [
      "C:\\Users\\yoots\\Anaconda3\\lib\\site-packages\\xgboost\\core.py:587: FutureWarning: Series.base is deprecated and will be removed in a future version\n",
      "  if getattr(data, 'base', None) is not None and \\\n"
     ]
    },
    {
     "name": "stdout",
     "output_type": "stream",
     "text": [
      "[11:53:38] WARNING: src/objective/regression_obj.cu:152: reg:linear is now deprecated in favor of reg:squarederror.\n"
     ]
    },
    {
     "name": "stderr",
     "output_type": "stream",
     "text": [
      "C:\\Users\\yoots\\Anaconda3\\lib\\site-packages\\xgboost\\core.py:587: FutureWarning: Series.base is deprecated and will be removed in a future version\n",
      "  if getattr(data, 'base', None) is not None and \\\n"
     ]
    },
    {
     "name": "stdout",
     "output_type": "stream",
     "text": [
      "[11:53:42] WARNING: src/objective/regression_obj.cu:152: reg:linear is now deprecated in favor of reg:squarederror.\n"
     ]
    },
    {
     "name": "stderr",
     "output_type": "stream",
     "text": [
      "C:\\Users\\yoots\\Anaconda3\\lib\\site-packages\\xgboost\\core.py:587: FutureWarning: Series.base is deprecated and will be removed in a future version\n",
      "  if getattr(data, 'base', None) is not None and \\\n"
     ]
    },
    {
     "name": "stdout",
     "output_type": "stream",
     "text": [
      "[11:53:46] WARNING: src/objective/regression_obj.cu:152: reg:linear is now deprecated in favor of reg:squarederror.\n"
     ]
    },
    {
     "name": "stderr",
     "output_type": "stream",
     "text": [
      "C:\\Users\\yoots\\Anaconda3\\lib\\site-packages\\xgboost\\core.py:587: FutureWarning: Series.base is deprecated and will be removed in a future version\n",
      "  if getattr(data, 'base', None) is not None and \\\n"
     ]
    },
    {
     "name": "stdout",
     "output_type": "stream",
     "text": [
      "[11:53:50] WARNING: src/objective/regression_obj.cu:152: reg:linear is now deprecated in favor of reg:squarederror.\n"
     ]
    },
    {
     "name": "stderr",
     "output_type": "stream",
     "text": [
      "C:\\Users\\yoots\\Anaconda3\\lib\\site-packages\\xgboost\\core.py:587: FutureWarning: Series.base is deprecated and will be removed in a future version\n",
      "  if getattr(data, 'base', None) is not None and \\\n"
     ]
    },
    {
     "name": "stdout",
     "output_type": "stream",
     "text": [
      "[11:53:51] WARNING: src/objective/regression_obj.cu:152: reg:linear is now deprecated in favor of reg:squarederror.\n"
     ]
    },
    {
     "name": "stderr",
     "output_type": "stream",
     "text": [
      "C:\\Users\\yoots\\Anaconda3\\lib\\site-packages\\xgboost\\core.py:587: FutureWarning: Series.base is deprecated and will be removed in a future version\n",
      "  if getattr(data, 'base', None) is not None and \\\n"
     ]
    },
    {
     "name": "stdout",
     "output_type": "stream",
     "text": [
      "[11:53:53] WARNING: src/objective/regression_obj.cu:152: reg:linear is now deprecated in favor of reg:squarederror.\n"
     ]
    },
    {
     "name": "stderr",
     "output_type": "stream",
     "text": [
      "C:\\Users\\yoots\\Anaconda3\\lib\\site-packages\\xgboost\\core.py:587: FutureWarning: Series.base is deprecated and will be removed in a future version\n",
      "  if getattr(data, 'base', None) is not None and \\\n"
     ]
    },
    {
     "name": "stdout",
     "output_type": "stream",
     "text": [
      "[11:53:54] WARNING: src/objective/regression_obj.cu:152: reg:linear is now deprecated in favor of reg:squarederror.\n"
     ]
    },
    {
     "name": "stderr",
     "output_type": "stream",
     "text": [
      "C:\\Users\\yoots\\Anaconda3\\lib\\site-packages\\xgboost\\core.py:587: FutureWarning: Series.base is deprecated and will be removed in a future version\n",
      "  if getattr(data, 'base', None) is not None and \\\n"
     ]
    },
    {
     "name": "stdout",
     "output_type": "stream",
     "text": [
      "[11:53:56] WARNING: src/objective/regression_obj.cu:152: reg:linear is now deprecated in favor of reg:squarederror.\n"
     ]
    },
    {
     "name": "stderr",
     "output_type": "stream",
     "text": [
      "C:\\Users\\yoots\\Anaconda3\\lib\\site-packages\\xgboost\\core.py:587: FutureWarning: Series.base is deprecated and will be removed in a future version\n",
      "  if getattr(data, 'base', None) is not None and \\\n"
     ]
    },
    {
     "name": "stdout",
     "output_type": "stream",
     "text": [
      "[11:53:57] WARNING: src/objective/regression_obj.cu:152: reg:linear is now deprecated in favor of reg:squarederror.\n"
     ]
    },
    {
     "name": "stderr",
     "output_type": "stream",
     "text": [
      "C:\\Users\\yoots\\Anaconda3\\lib\\site-packages\\xgboost\\core.py:587: FutureWarning: Series.base is deprecated and will be removed in a future version\n",
      "  if getattr(data, 'base', None) is not None and \\\n"
     ]
    },
    {
     "name": "stdout",
     "output_type": "stream",
     "text": [
      "[11:53:59] WARNING: src/objective/regression_obj.cu:152: reg:linear is now deprecated in favor of reg:squarederror.\n"
     ]
    },
    {
     "name": "stderr",
     "output_type": "stream",
     "text": [
      "C:\\Users\\yoots\\Anaconda3\\lib\\site-packages\\xgboost\\core.py:587: FutureWarning: Series.base is deprecated and will be removed in a future version\n",
      "  if getattr(data, 'base', None) is not None and \\\n"
     ]
    },
    {
     "name": "stdout",
     "output_type": "stream",
     "text": [
      "[11:54:00] WARNING: src/objective/regression_obj.cu:152: reg:linear is now deprecated in favor of reg:squarederror.\n"
     ]
    },
    {
     "name": "stderr",
     "output_type": "stream",
     "text": [
      "C:\\Users\\yoots\\Anaconda3\\lib\\site-packages\\xgboost\\core.py:587: FutureWarning: Series.base is deprecated and will be removed in a future version\n",
      "  if getattr(data, 'base', None) is not None and \\\n"
     ]
    },
    {
     "name": "stdout",
     "output_type": "stream",
     "text": [
      "[11:54:02] WARNING: src/objective/regression_obj.cu:152: reg:linear is now deprecated in favor of reg:squarederror.\n"
     ]
    },
    {
     "name": "stderr",
     "output_type": "stream",
     "text": [
      "C:\\Users\\yoots\\Anaconda3\\lib\\site-packages\\xgboost\\core.py:587: FutureWarning: Series.base is deprecated and will be removed in a future version\n",
      "  if getattr(data, 'base', None) is not None and \\\n"
     ]
    },
    {
     "name": "stdout",
     "output_type": "stream",
     "text": [
      "[11:54:03] WARNING: src/objective/regression_obj.cu:152: reg:linear is now deprecated in favor of reg:squarederror.\n"
     ]
    },
    {
     "name": "stderr",
     "output_type": "stream",
     "text": [
      "C:\\Users\\yoots\\Anaconda3\\lib\\site-packages\\xgboost\\core.py:587: FutureWarning: Series.base is deprecated and will be removed in a future version\n",
      "  if getattr(data, 'base', None) is not None and \\\n"
     ]
    },
    {
     "name": "stdout",
     "output_type": "stream",
     "text": [
      "[11:54:05] WARNING: src/objective/regression_obj.cu:152: reg:linear is now deprecated in favor of reg:squarederror.\n"
     ]
    },
    {
     "name": "stderr",
     "output_type": "stream",
     "text": [
      "C:\\Users\\yoots\\Anaconda3\\lib\\site-packages\\xgboost\\core.py:587: FutureWarning: Series.base is deprecated and will be removed in a future version\n",
      "  if getattr(data, 'base', None) is not None and \\\n"
     ]
    },
    {
     "name": "stdout",
     "output_type": "stream",
     "text": [
      "[11:54:28] WARNING: src/objective/regression_obj.cu:152: reg:linear is now deprecated in favor of reg:squarederror.\n"
     ]
    },
    {
     "name": "stderr",
     "output_type": "stream",
     "text": [
      "C:\\Users\\yoots\\Anaconda3\\lib\\site-packages\\xgboost\\core.py:587: FutureWarning: Series.base is deprecated and will be removed in a future version\n",
      "  if getattr(data, 'base', None) is not None and \\\n"
     ]
    },
    {
     "name": "stdout",
     "output_type": "stream",
     "text": [
      "[11:54:50] WARNING: src/objective/regression_obj.cu:152: reg:linear is now deprecated in favor of reg:squarederror.\n"
     ]
    },
    {
     "name": "stderr",
     "output_type": "stream",
     "text": [
      "C:\\Users\\yoots\\Anaconda3\\lib\\site-packages\\xgboost\\core.py:587: FutureWarning: Series.base is deprecated and will be removed in a future version\n",
      "  if getattr(data, 'base', None) is not None and \\\n"
     ]
    },
    {
     "name": "stdout",
     "output_type": "stream",
     "text": [
      "[11:55:12] WARNING: src/objective/regression_obj.cu:152: reg:linear is now deprecated in favor of reg:squarederror.\n"
     ]
    },
    {
     "name": "stderr",
     "output_type": "stream",
     "text": [
      "C:\\Users\\yoots\\Anaconda3\\lib\\site-packages\\xgboost\\core.py:587: FutureWarning: Series.base is deprecated and will be removed in a future version\n",
      "  if getattr(data, 'base', None) is not None and \\\n"
     ]
    },
    {
     "name": "stdout",
     "output_type": "stream",
     "text": [
      "[11:55:33] WARNING: src/objective/regression_obj.cu:152: reg:linear is now deprecated in favor of reg:squarederror.\n"
     ]
    },
    {
     "name": "stderr",
     "output_type": "stream",
     "text": [
      "C:\\Users\\yoots\\Anaconda3\\lib\\site-packages\\xgboost\\core.py:587: FutureWarning: Series.base is deprecated and will be removed in a future version\n",
      "  if getattr(data, 'base', None) is not None and \\\n"
     ]
    },
    {
     "name": "stdout",
     "output_type": "stream",
     "text": [
      "[11:55:56] WARNING: src/objective/regression_obj.cu:152: reg:linear is now deprecated in favor of reg:squarederror.\n"
     ]
    },
    {
     "name": "stderr",
     "output_type": "stream",
     "text": [
      "C:\\Users\\yoots\\Anaconda3\\lib\\site-packages\\xgboost\\core.py:587: FutureWarning: Series.base is deprecated and will be removed in a future version\n",
      "  if getattr(data, 'base', None) is not None and \\\n"
     ]
    },
    {
     "name": "stdout",
     "output_type": "stream",
     "text": [
      "[11:56:32] WARNING: src/objective/regression_obj.cu:152: reg:linear is now deprecated in favor of reg:squarederror.\n"
     ]
    },
    {
     "name": "stderr",
     "output_type": "stream",
     "text": [
      "C:\\Users\\yoots\\Anaconda3\\lib\\site-packages\\xgboost\\core.py:587: FutureWarning: Series.base is deprecated and will be removed in a future version\n",
      "  if getattr(data, 'base', None) is not None and \\\n"
     ]
    },
    {
     "name": "stdout",
     "output_type": "stream",
     "text": [
      "[11:57:07] WARNING: src/objective/regression_obj.cu:152: reg:linear is now deprecated in favor of reg:squarederror.\n"
     ]
    },
    {
     "name": "stderr",
     "output_type": "stream",
     "text": [
      "C:\\Users\\yoots\\Anaconda3\\lib\\site-packages\\xgboost\\core.py:587: FutureWarning: Series.base is deprecated and will be removed in a future version\n",
      "  if getattr(data, 'base', None) is not None and \\\n"
     ]
    },
    {
     "name": "stdout",
     "output_type": "stream",
     "text": [
      "[11:57:43] WARNING: src/objective/regression_obj.cu:152: reg:linear is now deprecated in favor of reg:squarederror.\n"
     ]
    },
    {
     "name": "stderr",
     "output_type": "stream",
     "text": [
      "C:\\Users\\yoots\\Anaconda3\\lib\\site-packages\\xgboost\\core.py:587: FutureWarning: Series.base is deprecated and will be removed in a future version\n",
      "  if getattr(data, 'base', None) is not None and \\\n"
     ]
    },
    {
     "name": "stdout",
     "output_type": "stream",
     "text": [
      "[11:58:18] WARNING: src/objective/regression_obj.cu:152: reg:linear is now deprecated in favor of reg:squarederror.\n"
     ]
    },
    {
     "name": "stderr",
     "output_type": "stream",
     "text": [
      "C:\\Users\\yoots\\Anaconda3\\lib\\site-packages\\xgboost\\core.py:587: FutureWarning: Series.base is deprecated and will be removed in a future version\n",
      "  if getattr(data, 'base', None) is not None and \\\n"
     ]
    },
    {
     "name": "stdout",
     "output_type": "stream",
     "text": [
      "[11:58:54] WARNING: src/objective/regression_obj.cu:152: reg:linear is now deprecated in favor of reg:squarederror.\n"
     ]
    },
    {
     "name": "stderr",
     "output_type": "stream",
     "text": [
      "C:\\Users\\yoots\\Anaconda3\\lib\\site-packages\\xgboost\\core.py:587: FutureWarning: Series.base is deprecated and will be removed in a future version\n",
      "  if getattr(data, 'base', None) is not None and \\\n"
     ]
    },
    {
     "name": "stdout",
     "output_type": "stream",
     "text": [
      "[11:58:59] WARNING: src/objective/regression_obj.cu:152: reg:linear is now deprecated in favor of reg:squarederror.\n"
     ]
    },
    {
     "name": "stderr",
     "output_type": "stream",
     "text": [
      "C:\\Users\\yoots\\Anaconda3\\lib\\site-packages\\xgboost\\core.py:587: FutureWarning: Series.base is deprecated and will be removed in a future version\n",
      "  if getattr(data, 'base', None) is not None and \\\n"
     ]
    },
    {
     "name": "stdout",
     "output_type": "stream",
     "text": [
      "[11:59:04] WARNING: src/objective/regression_obj.cu:152: reg:linear is now deprecated in favor of reg:squarederror.\n"
     ]
    },
    {
     "name": "stderr",
     "output_type": "stream",
     "text": [
      "C:\\Users\\yoots\\Anaconda3\\lib\\site-packages\\xgboost\\core.py:587: FutureWarning: Series.base is deprecated and will be removed in a future version\n",
      "  if getattr(data, 'base', None) is not None and \\\n"
     ]
    },
    {
     "name": "stdout",
     "output_type": "stream",
     "text": [
      "[11:59:09] WARNING: src/objective/regression_obj.cu:152: reg:linear is now deprecated in favor of reg:squarederror.\n"
     ]
    },
    {
     "name": "stderr",
     "output_type": "stream",
     "text": [
      "C:\\Users\\yoots\\Anaconda3\\lib\\site-packages\\xgboost\\core.py:587: FutureWarning: Series.base is deprecated and will be removed in a future version\n",
      "  if getattr(data, 'base', None) is not None and \\\n"
     ]
    },
    {
     "name": "stdout",
     "output_type": "stream",
     "text": [
      "[11:59:14] WARNING: src/objective/regression_obj.cu:152: reg:linear is now deprecated in favor of reg:squarederror.\n"
     ]
    },
    {
     "name": "stderr",
     "output_type": "stream",
     "text": [
      "C:\\Users\\yoots\\Anaconda3\\lib\\site-packages\\xgboost\\core.py:587: FutureWarning: Series.base is deprecated and will be removed in a future version\n",
      "  if getattr(data, 'base', None) is not None and \\\n"
     ]
    },
    {
     "name": "stdout",
     "output_type": "stream",
     "text": [
      "[11:59:19] WARNING: src/objective/regression_obj.cu:152: reg:linear is now deprecated in favor of reg:squarederror.\n"
     ]
    },
    {
     "name": "stderr",
     "output_type": "stream",
     "text": [
      "C:\\Users\\yoots\\Anaconda3\\lib\\site-packages\\xgboost\\core.py:587: FutureWarning: Series.base is deprecated and will be removed in a future version\n",
      "  if getattr(data, 'base', None) is not None and \\\n"
     ]
    },
    {
     "name": "stdout",
     "output_type": "stream",
     "text": [
      "[11:59:23] WARNING: src/objective/regression_obj.cu:152: reg:linear is now deprecated in favor of reg:squarederror.\n"
     ]
    },
    {
     "name": "stderr",
     "output_type": "stream",
     "text": [
      "C:\\Users\\yoots\\Anaconda3\\lib\\site-packages\\xgboost\\core.py:587: FutureWarning: Series.base is deprecated and will be removed in a future version\n",
      "  if getattr(data, 'base', None) is not None and \\\n"
     ]
    },
    {
     "name": "stdout",
     "output_type": "stream",
     "text": [
      "[11:59:28] WARNING: src/objective/regression_obj.cu:152: reg:linear is now deprecated in favor of reg:squarederror.\n"
     ]
    },
    {
     "name": "stderr",
     "output_type": "stream",
     "text": [
      "C:\\Users\\yoots\\Anaconda3\\lib\\site-packages\\xgboost\\core.py:587: FutureWarning: Series.base is deprecated and will be removed in a future version\n",
      "  if getattr(data, 'base', None) is not None and \\\n"
     ]
    },
    {
     "name": "stdout",
     "output_type": "stream",
     "text": [
      "[11:59:32] WARNING: src/objective/regression_obj.cu:152: reg:linear is now deprecated in favor of reg:squarederror.\n"
     ]
    },
    {
     "name": "stderr",
     "output_type": "stream",
     "text": [
      "C:\\Users\\yoots\\Anaconda3\\lib\\site-packages\\xgboost\\core.py:587: FutureWarning: Series.base is deprecated and will be removed in a future version\n",
      "  if getattr(data, 'base', None) is not None and \\\n"
     ]
    },
    {
     "name": "stdout",
     "output_type": "stream",
     "text": [
      "[11:59:37] WARNING: src/objective/regression_obj.cu:152: reg:linear is now deprecated in favor of reg:squarederror.\n"
     ]
    },
    {
     "name": "stderr",
     "output_type": "stream",
     "text": [
      "C:\\Users\\yoots\\Anaconda3\\lib\\site-packages\\xgboost\\core.py:587: FutureWarning: Series.base is deprecated and will be removed in a future version\n",
      "  if getattr(data, 'base', None) is not None and \\\n"
     ]
    },
    {
     "name": "stdout",
     "output_type": "stream",
     "text": [
      "[11:59:41] WARNING: src/objective/regression_obj.cu:152: reg:linear is now deprecated in favor of reg:squarederror.\n"
     ]
    },
    {
     "name": "stderr",
     "output_type": "stream",
     "text": [
      "C:\\Users\\yoots\\Anaconda3\\lib\\site-packages\\xgboost\\core.py:587: FutureWarning: Series.base is deprecated and will be removed in a future version\n",
      "  if getattr(data, 'base', None) is not None and \\\n"
     ]
    },
    {
     "name": "stdout",
     "output_type": "stream",
     "text": [
      "[11:59:50] WARNING: src/objective/regression_obj.cu:152: reg:linear is now deprecated in favor of reg:squarederror.\n"
     ]
    },
    {
     "name": "stderr",
     "output_type": "stream",
     "text": [
      "C:\\Users\\yoots\\Anaconda3\\lib\\site-packages\\xgboost\\core.py:587: FutureWarning: Series.base is deprecated and will be removed in a future version\n",
      "  if getattr(data, 'base', None) is not None and \\\n"
     ]
    },
    {
     "name": "stdout",
     "output_type": "stream",
     "text": [
      "[11:59:59] WARNING: src/objective/regression_obj.cu:152: reg:linear is now deprecated in favor of reg:squarederror.\n"
     ]
    },
    {
     "name": "stderr",
     "output_type": "stream",
     "text": [
      "C:\\Users\\yoots\\Anaconda3\\lib\\site-packages\\xgboost\\core.py:587: FutureWarning: Series.base is deprecated and will be removed in a future version\n",
      "  if getattr(data, 'base', None) is not None and \\\n"
     ]
    },
    {
     "name": "stdout",
     "output_type": "stream",
     "text": [
      "[12:00:08] WARNING: src/objective/regression_obj.cu:152: reg:linear is now deprecated in favor of reg:squarederror.\n"
     ]
    },
    {
     "name": "stderr",
     "output_type": "stream",
     "text": [
      "C:\\Users\\yoots\\Anaconda3\\lib\\site-packages\\xgboost\\core.py:587: FutureWarning: Series.base is deprecated and will be removed in a future version\n",
      "  if getattr(data, 'base', None) is not None and \\\n"
     ]
    },
    {
     "name": "stdout",
     "output_type": "stream",
     "text": [
      "[12:00:17] WARNING: src/objective/regression_obj.cu:152: reg:linear is now deprecated in favor of reg:squarederror.\n"
     ]
    },
    {
     "name": "stderr",
     "output_type": "stream",
     "text": [
      "C:\\Users\\yoots\\Anaconda3\\lib\\site-packages\\xgboost\\core.py:587: FutureWarning: Series.base is deprecated and will be removed in a future version\n",
      "  if getattr(data, 'base', None) is not None and \\\n"
     ]
    },
    {
     "name": "stdout",
     "output_type": "stream",
     "text": [
      "[12:00:26] WARNING: src/objective/regression_obj.cu:152: reg:linear is now deprecated in favor of reg:squarederror.\n",
      "Best n_estimators: 26\n",
      "Best max_depth: 8\n",
      "Best learning_rate: 0.2036331695038941\n"
     ]
    }
   ],
   "source": [
    "# --- 15. Create models --- # \n",
    "# initialize model list and dicts\n",
    "models = []\n",
    "mean_mae = {}\n",
    "cv_std = {}\n",
    "res = {}\n",
    "\n",
    "# define common model parameters: num processors and shared model parameters\n",
    "n_proc = 1\n",
    "verbose_lv = 5\n",
    "\n",
    "# create and tune the models that you brainstormed during part 2\n",
    "###############################################################################        \n",
    "# Hyper-parameters tuning: RandomForest\n",
    "rf = RandomForestRegressor()   \n",
    "n_iter = 10\n",
    "param_dist_rf = {'n_estimators':sp.randint(10,50), \n",
    "                  'max_depth':sp.randint(1,10),\n",
    "                  'min_samples_split':sp.randint(10,60)}\n",
    "\n",
    "random_search_rf = model_tuning_param(rf, X_train, y_train, param_dist_rf, n_iter)    \n",
    "    \n",
    "# print the best model parameters: RandomForest    \n",
    "param_1 = 'n_estimators' \n",
    "param_2 = 'max_depth'\n",
    "param_3 = 'min_samples_split'\n",
    "    \n",
    "print_best_params(random_search_rf, param_1, param_2, param_3)\n",
    "###############################################################################    \n",
    "\n",
    "## Hyper-parameters tuning: GradientBoosting\n",
    "#gbr = GradientBoostingRegressor()\n",
    "#n_iter = 10\n",
    "#param_dist_gbr = {'n_estimators':sp.randint(10,40), \n",
    "#                  'max_depth':sp.randint(1,20),\n",
    "#                  'loss':['ls']}\n",
    "#\n",
    "#random_search_gbr = model_tuning_param(gbr, X_train, y_train, param_dist_gbr, n_iter)    \n",
    "#    \n",
    "## print the best model parameters: GradientBoosting    \n",
    "#param_1 = 'n_estimators' \n",
    "#param_2 = 'max_depth'\n",
    "#param_3 = 'loss'\n",
    "#    \n",
    "#print_best_params(random_search_gbr, param_1, param_2, param_3)        \n",
    "###############################################################################    \n",
    "\n",
    "# Hyper-parameters tuning: XGBoost\n",
    "xgb = XGBRegressor()   \n",
    "n_iter = 10\n",
    "param_dist_xgb = {'n_estimators':sp.randint(10,40), \n",
    "                  'max_depth':sp.randint(1,20),\n",
    "                  'learning_rate':np.random.uniform(0,1,10)}\n",
    "\n",
    "random_search_xgb = model_tuning_param(xgb, X_train, y_train, param_dist_xgb, n_iter)    \n",
    "    \n",
    "# print the best model parameters: XGBRegressor    \n",
    "param_1 = 'n_estimators' \n",
    "param_2 = 'max_depth'\n",
    "param_3 = 'learning_rate'\n",
    "    \n",
    "print_best_params(random_search_xgb, param_1, param_2, param_3)"
   ]
  },
  {
   "cell_type": "code",
   "execution_count": 20,
   "metadata": {
    "scrolled": false
   },
   "outputs": [
    {
     "name": "stdout",
     "output_type": "stream",
     "text": [
      "begin cross-validation\n",
      "\n",
      "Model:\n",
      " Lasso(alpha=0.01, copy_X=True, fit_intercept=True, max_iter=1000,\n",
      "      normalize=False, positive=False, precompute=False, random_state=None,\n",
      "      selection='cyclic', tol=0.0001, warm_start=False)\n",
      "Average MAE:\n",
      " 1566.4490160097819\n",
      "Std. Dev during CV:\n",
      " 12.994292819980178\n",
      "\n",
      "Model:\n",
      " Ridge(alpha=0.01, copy_X=True, fit_intercept=True, max_iter=None,\n",
      "      normalize=False, random_state=None, solver='auto', tol=0.001)\n",
      "Average MAE:\n",
      " 1566.4766941124387\n",
      "Std. Dev during CV:\n",
      " 12.99479551851815\n",
      "building tree 1 of 12\n"
     ]
    },
    {
     "name": "stderr",
     "output_type": "stream",
     "text": [
      "[Parallel(n_jobs=1)]: Using backend SequentialBackend with 1 concurrent workers.\n",
      "[Parallel(n_jobs=1)]: Done   1 out of   1 | elapsed:    1.0s remaining:    0.0s\n"
     ]
    },
    {
     "name": "stdout",
     "output_type": "stream",
     "text": [
      "building tree 2 of 12\n"
     ]
    },
    {
     "name": "stderr",
     "output_type": "stream",
     "text": [
      "[Parallel(n_jobs=1)]: Done   2 out of   2 | elapsed:    2.0s remaining:    0.0s\n"
     ]
    },
    {
     "name": "stdout",
     "output_type": "stream",
     "text": [
      "building tree 3 of 12\n"
     ]
    },
    {
     "name": "stderr",
     "output_type": "stream",
     "text": [
      "[Parallel(n_jobs=1)]: Done   3 out of   3 | elapsed:    3.1s remaining:    0.0s\n"
     ]
    },
    {
     "name": "stdout",
     "output_type": "stream",
     "text": [
      "building tree 4 of 12\n"
     ]
    },
    {
     "name": "stderr",
     "output_type": "stream",
     "text": [
      "[Parallel(n_jobs=1)]: Done   4 out of   4 | elapsed:    4.1s remaining:    0.0s\n"
     ]
    },
    {
     "name": "stdout",
     "output_type": "stream",
     "text": [
      "building tree 5 of 12\n",
      "building tree 6 of 12\n",
      "building tree 7 of 12\n",
      "building tree 8 of 12\n",
      "building tree 9 of 12\n",
      "building tree 10 of 12\n",
      "building tree 11 of 12\n",
      "building tree 12 of 12\n"
     ]
    },
    {
     "name": "stderr",
     "output_type": "stream",
     "text": [
      "[Parallel(n_jobs=1)]: Done  12 out of  12 | elapsed:   12.2s finished\n",
      "[Parallel(n_jobs=1)]: Using backend SequentialBackend with 1 concurrent workers.\n",
      "[Parallel(n_jobs=1)]: Done   1 out of   1 | elapsed:    0.0s remaining:    0.0s\n",
      "[Parallel(n_jobs=1)]: Done   2 out of   2 | elapsed:    0.0s remaining:    0.0s\n",
      "[Parallel(n_jobs=1)]: Done   3 out of   3 | elapsed:    0.0s remaining:    0.0s\n",
      "[Parallel(n_jobs=1)]: Done   4 out of   4 | elapsed:    0.0s remaining:    0.0s\n",
      "[Parallel(n_jobs=1)]: Done  12 out of  12 | elapsed:    0.0s finished\n",
      "[Parallel(n_jobs=1)]: Using backend SequentialBackend with 1 concurrent workers.\n"
     ]
    },
    {
     "name": "stdout",
     "output_type": "stream",
     "text": [
      "building tree 1 of 12\n"
     ]
    },
    {
     "name": "stderr",
     "output_type": "stream",
     "text": [
      "[Parallel(n_jobs=1)]: Done   1 out of   1 | elapsed:    0.9s remaining:    0.0s\n"
     ]
    },
    {
     "name": "stdout",
     "output_type": "stream",
     "text": [
      "building tree 2 of 12\n"
     ]
    },
    {
     "name": "stderr",
     "output_type": "stream",
     "text": [
      "[Parallel(n_jobs=1)]: Done   2 out of   2 | elapsed:    1.9s remaining:    0.0s\n"
     ]
    },
    {
     "name": "stdout",
     "output_type": "stream",
     "text": [
      "building tree 3 of 12\n"
     ]
    },
    {
     "name": "stderr",
     "output_type": "stream",
     "text": [
      "[Parallel(n_jobs=1)]: Done   3 out of   3 | elapsed:    3.0s remaining:    0.0s\n"
     ]
    },
    {
     "name": "stdout",
     "output_type": "stream",
     "text": [
      "building tree 4 of 12\n"
     ]
    },
    {
     "name": "stderr",
     "output_type": "stream",
     "text": [
      "[Parallel(n_jobs=1)]: Done   4 out of   4 | elapsed:    4.0s remaining:    0.0s\n"
     ]
    },
    {
     "name": "stdout",
     "output_type": "stream",
     "text": [
      "building tree 5 of 12\n",
      "building tree 6 of 12\n",
      "building tree 7 of 12\n",
      "building tree 8 of 12\n",
      "building tree 9 of 12\n",
      "building tree 10 of 12\n",
      "building tree 11 of 12\n",
      "building tree 12 of 12\n"
     ]
    },
    {
     "name": "stderr",
     "output_type": "stream",
     "text": [
      "[Parallel(n_jobs=1)]: Done  12 out of  12 | elapsed:   12.3s finished\n",
      "[Parallel(n_jobs=1)]: Using backend SequentialBackend with 1 concurrent workers.\n",
      "[Parallel(n_jobs=1)]: Done   1 out of   1 | elapsed:    0.0s remaining:    0.0s\n",
      "[Parallel(n_jobs=1)]: Done   2 out of   2 | elapsed:    0.0s remaining:    0.0s\n",
      "[Parallel(n_jobs=1)]: Done   3 out of   3 | elapsed:    0.0s remaining:    0.0s\n",
      "[Parallel(n_jobs=1)]: Done   4 out of   4 | elapsed:    0.0s remaining:    0.0s\n",
      "[Parallel(n_jobs=1)]: Done  12 out of  12 | elapsed:    0.0s finished\n",
      "[Parallel(n_jobs=1)]: Using backend SequentialBackend with 1 concurrent workers.\n"
     ]
    },
    {
     "name": "stdout",
     "output_type": "stream",
     "text": [
      "building tree 1 of 12\n"
     ]
    },
    {
     "name": "stderr",
     "output_type": "stream",
     "text": [
      "[Parallel(n_jobs=1)]: Done   1 out of   1 | elapsed:    1.0s remaining:    0.0s\n"
     ]
    },
    {
     "name": "stdout",
     "output_type": "stream",
     "text": [
      "building tree 2 of 12\n"
     ]
    },
    {
     "name": "stderr",
     "output_type": "stream",
     "text": [
      "[Parallel(n_jobs=1)]: Done   2 out of   2 | elapsed:    2.1s remaining:    0.0s\n"
     ]
    },
    {
     "name": "stdout",
     "output_type": "stream",
     "text": [
      "building tree 3 of 12\n"
     ]
    },
    {
     "name": "stderr",
     "output_type": "stream",
     "text": [
      "[Parallel(n_jobs=1)]: Done   3 out of   3 | elapsed:    3.2s remaining:    0.0s\n"
     ]
    },
    {
     "name": "stdout",
     "output_type": "stream",
     "text": [
      "building tree 4 of 12\n"
     ]
    },
    {
     "name": "stderr",
     "output_type": "stream",
     "text": [
      "[Parallel(n_jobs=1)]: Done   4 out of   4 | elapsed:    4.2s remaining:    0.0s\n"
     ]
    },
    {
     "name": "stdout",
     "output_type": "stream",
     "text": [
      "building tree 5 of 12\n",
      "building tree 6 of 12\n",
      "building tree 7 of 12\n",
      "building tree 8 of 12\n",
      "building tree 9 of 12\n",
      "building tree 10 of 12\n",
      "building tree 11 of 12\n",
      "building tree 12 of 12\n"
     ]
    },
    {
     "name": "stderr",
     "output_type": "stream",
     "text": [
      "[Parallel(n_jobs=1)]: Done  12 out of  12 | elapsed:   12.3s finished\n",
      "[Parallel(n_jobs=1)]: Using backend SequentialBackend with 1 concurrent workers.\n",
      "[Parallel(n_jobs=1)]: Done   1 out of   1 | elapsed:    0.0s remaining:    0.0s\n",
      "[Parallel(n_jobs=1)]: Done   2 out of   2 | elapsed:    0.0s remaining:    0.0s\n",
      "[Parallel(n_jobs=1)]: Done   3 out of   3 | elapsed:    0.0s remaining:    0.0s\n",
      "[Parallel(n_jobs=1)]: Done   4 out of   4 | elapsed:    0.0s remaining:    0.0s\n",
      "[Parallel(n_jobs=1)]: Done  12 out of  12 | elapsed:    0.0s finished\n",
      "[Parallel(n_jobs=1)]: Using backend SequentialBackend with 1 concurrent workers.\n"
     ]
    },
    {
     "name": "stdout",
     "output_type": "stream",
     "text": [
      "building tree 1 of 12\n"
     ]
    },
    {
     "name": "stderr",
     "output_type": "stream",
     "text": [
      "[Parallel(n_jobs=1)]: Done   1 out of   1 | elapsed:    0.9s remaining:    0.0s\n"
     ]
    },
    {
     "name": "stdout",
     "output_type": "stream",
     "text": [
      "building tree 2 of 12\n"
     ]
    },
    {
     "name": "stderr",
     "output_type": "stream",
     "text": [
      "[Parallel(n_jobs=1)]: Done   2 out of   2 | elapsed:    2.0s remaining:    0.0s\n"
     ]
    },
    {
     "name": "stdout",
     "output_type": "stream",
     "text": [
      "building tree 3 of 12\n"
     ]
    },
    {
     "name": "stderr",
     "output_type": "stream",
     "text": [
      "[Parallel(n_jobs=1)]: Done   3 out of   3 | elapsed:    3.0s remaining:    0.0s\n"
     ]
    },
    {
     "name": "stdout",
     "output_type": "stream",
     "text": [
      "building tree 4 of 12\n"
     ]
    },
    {
     "name": "stderr",
     "output_type": "stream",
     "text": [
      "[Parallel(n_jobs=1)]: Done   4 out of   4 | elapsed:    4.1s remaining:    0.0s\n"
     ]
    },
    {
     "name": "stdout",
     "output_type": "stream",
     "text": [
      "building tree 5 of 12\n",
      "building tree 6 of 12\n",
      "building tree 7 of 12\n",
      "building tree 8 of 12\n",
      "building tree 9 of 12\n",
      "building tree 10 of 12\n",
      "building tree 11 of 12\n",
      "building tree 12 of 12\n"
     ]
    },
    {
     "name": "stderr",
     "output_type": "stream",
     "text": [
      "[Parallel(n_jobs=1)]: Done  12 out of  12 | elapsed:   12.5s finished\n",
      "[Parallel(n_jobs=1)]: Using backend SequentialBackend with 1 concurrent workers.\n",
      "[Parallel(n_jobs=1)]: Done   1 out of   1 | elapsed:    0.0s remaining:    0.0s\n",
      "[Parallel(n_jobs=1)]: Done   2 out of   2 | elapsed:    0.0s remaining:    0.0s\n",
      "[Parallel(n_jobs=1)]: Done   3 out of   3 | elapsed:    0.0s remaining:    0.0s\n",
      "[Parallel(n_jobs=1)]: Done   4 out of   4 | elapsed:    0.0s remaining:    0.0s\n",
      "[Parallel(n_jobs=1)]: Done  12 out of  12 | elapsed:    0.0s finished\n",
      "[Parallel(n_jobs=1)]: Using backend SequentialBackend with 1 concurrent workers.\n"
     ]
    },
    {
     "name": "stdout",
     "output_type": "stream",
     "text": [
      "building tree 1 of 12\n"
     ]
    },
    {
     "name": "stderr",
     "output_type": "stream",
     "text": [
      "[Parallel(n_jobs=1)]: Done   1 out of   1 | elapsed:    0.9s remaining:    0.0s\n"
     ]
    },
    {
     "name": "stdout",
     "output_type": "stream",
     "text": [
      "building tree 2 of 12\n"
     ]
    },
    {
     "name": "stderr",
     "output_type": "stream",
     "text": [
      "[Parallel(n_jobs=1)]: Done   2 out of   2 | elapsed:    1.9s remaining:    0.0s\n"
     ]
    },
    {
     "name": "stdout",
     "output_type": "stream",
     "text": [
      "building tree 3 of 12\n"
     ]
    },
    {
     "name": "stderr",
     "output_type": "stream",
     "text": [
      "[Parallel(n_jobs=1)]: Done   3 out of   3 | elapsed:    2.9s remaining:    0.0s\n"
     ]
    },
    {
     "name": "stdout",
     "output_type": "stream",
     "text": [
      "building tree 4 of 12\n"
     ]
    },
    {
     "name": "stderr",
     "output_type": "stream",
     "text": [
      "[Parallel(n_jobs=1)]: Done   4 out of   4 | elapsed:    3.9s remaining:    0.0s\n"
     ]
    },
    {
     "name": "stdout",
     "output_type": "stream",
     "text": [
      "building tree 5 of 12\n",
      "building tree 6 of 12\n",
      "building tree 7 of 12\n",
      "building tree 8 of 12\n",
      "building tree 9 of 12\n",
      "building tree 10 of 12\n",
      "building tree 11 of 12\n",
      "building tree 12 of 12\n"
     ]
    },
    {
     "name": "stderr",
     "output_type": "stream",
     "text": [
      "[Parallel(n_jobs=1)]: Done  12 out of  12 | elapsed:   12.2s finished\n",
      "[Parallel(n_jobs=1)]: Using backend SequentialBackend with 1 concurrent workers.\n",
      "[Parallel(n_jobs=1)]: Done   1 out of   1 | elapsed:    0.0s remaining:    0.0s\n",
      "[Parallel(n_jobs=1)]: Done   2 out of   2 | elapsed:    0.0s remaining:    0.0s\n",
      "[Parallel(n_jobs=1)]: Done   3 out of   3 | elapsed:    0.0s remaining:    0.0s\n",
      "[Parallel(n_jobs=1)]: Done   4 out of   4 | elapsed:    0.0s remaining:    0.0s\n",
      "[Parallel(n_jobs=1)]: Done  12 out of  12 | elapsed:    0.0s finished\n"
     ]
    },
    {
     "name": "stdout",
     "output_type": "stream",
     "text": [
      "\n",
      "Model:\n",
      " RandomForestRegressor(bootstrap=True, criterion='mse', max_depth=9,\n",
      "                      max_features='auto', max_leaf_nodes=None,\n",
      "                      min_impurity_decrease=0.0, min_impurity_split=None,\n",
      "                      min_samples_leaf=1, min_samples_split=39,\n",
      "                      min_weight_fraction_leaf=0.0, n_estimators=12, n_jobs=1,\n",
      "                      oob_score=False, random_state=None, verbose=5,\n",
      "                      warm_start=False)\n",
      "Average MAE:\n",
      " 1380.975771202669\n",
      "Std. Dev during CV:\n",
      " 12.793932913158555\n",
      "      Iter       Train Loss   Remaining Time \n",
      "         1    14135579.8499            2.61m\n",
      "         2    12993208.5738            2.52m\n",
      "         3    12069956.1879            2.41m\n",
      "         4    11286067.5150            2.33m\n",
      "         5    10660795.8740            2.28m\n",
      "         6    10112255.8203            2.19m\n",
      "         7     9643513.9862            2.14m\n",
      "         8     9253976.8260            2.07m\n",
      "         9     8926259.2044            1.99m\n",
      "        10     8637194.6215            1.92m\n",
      "        11     8364993.0953            1.86m\n",
      "        12     8148702.9464            1.78m\n",
      "        13     7929191.1205            1.70m\n",
      "        14     7742480.1686            1.63m\n",
      "        15     7585250.0728            1.56m\n",
      "        16     7415429.8661            1.49m\n",
      "        17     7267215.5479            1.42m\n",
      "        18     7123386.3222            1.36m\n",
      "        19     7004957.2140            1.29m\n",
      "        20     6871133.6050            1.22m\n",
      "        21     6775649.1038            1.15m\n",
      "        22     6679004.0183            1.08m\n",
      "        23     6597610.6771            1.00m\n",
      "        24     6522324.4224           56.15s\n",
      "        25     6420042.0514           52.07s\n",
      "        26     6344492.2339           47.88s\n",
      "        27     6278862.9641           43.66s\n",
      "        28     6235432.9044           39.41s\n",
      "        29     6163135.2364           35.44s\n",
      "        30     6105742.6957           31.24s\n",
      "        31     6058740.0849           27.17s\n",
      "        32     6015403.9856           23.16s\n",
      "        33     5976388.7380           19.12s\n",
      "        34     5920531.0747           15.23s\n",
      "        35     5857473.0250           11.41s\n",
      "        36     5794918.5241            7.58s\n",
      "        37     5764216.8202            3.76s\n",
      "        38     5724500.6708            0.00s\n",
      "      Iter       Train Loss   Remaining Time \n",
      "         1    14343755.5491            2.60m\n",
      "         2    13160709.7958            2.49m\n",
      "         3    12155089.6367            2.45m\n",
      "         4    11329289.3246            2.38m\n",
      "         5    10638448.1161            2.33m\n",
      "         6    10071906.3108            2.25m\n",
      "         7     9579438.5169            2.18m\n",
      "         8     9163461.2610            2.09m\n",
      "         9     8796698.7800            2.02m\n",
      "        10     8477016.6154            1.95m\n",
      "        11     8209555.9645            1.89m\n",
      "        12     7959339.5853            1.82m\n",
      "        13     7745405.5629            1.75m\n",
      "        14     7552723.1318            1.68m\n",
      "        15     7352763.6532            1.62m\n",
      "        16     7188659.2529            1.55m\n",
      "        17     7029290.2376            1.48m\n",
      "        18     6898641.2577            1.41m\n",
      "        19     6763273.2620            1.34m\n",
      "        20     6655030.4816            1.27m\n",
      "        21     6560232.6313            1.20m\n",
      "        22     6469071.3096            1.12m\n",
      "        23     6381851.8397            1.05m\n",
      "        24     6281045.8046           58.65s\n",
      "        25     6213068.0605           54.25s\n",
      "        26     6131693.8604           49.89s\n",
      "        27     6046306.8642           45.53s\n",
      "        28     5974884.2636           41.24s\n",
      "        29     5903534.5318           36.98s\n",
      "        30     5851419.9328           32.73s\n",
      "        31     5802400.0429           28.59s\n",
      "        32     5737229.9703           24.47s\n",
      "        33     5685907.4902           20.25s\n",
      "        34     5658138.7058           16.03s\n",
      "        35     5628869.9649           11.89s\n",
      "        36     5605379.9697            7.84s\n",
      "        37     5548603.6268            3.91s\n",
      "        38     5522843.6653            0.00s\n",
      "      Iter       Train Loss   Remaining Time \n",
      "         1    13832108.8515            2.71m\n",
      "         2    12740696.3976            2.56m\n",
      "         3    11858009.7881            2.45m\n",
      "         4    11093822.6850            2.36m\n",
      "         5    10460474.3605            2.29m\n",
      "         6     9913028.6911            2.21m\n",
      "         7     9472119.3610            2.16m\n",
      "         8     9087715.3621            2.08m\n",
      "         9     8754527.4515            2.01m\n",
      "        10     8471675.8076            1.94m\n",
      "        11     8211284.2611            1.87m\n",
      "        12     7972769.7722            1.80m\n",
      "        13     7741922.5616            1.74m\n",
      "        14     7533197.5367            1.68m\n",
      "        15     7353765.4489            1.61m\n",
      "        16     7196599.9541            1.53m\n",
      "        17     7058690.0909            1.47m\n",
      "        18     6910324.0555            1.39m\n",
      "        19     6789764.4828            1.33m\n",
      "        20     6680415.2676            1.25m\n",
      "        21     6569155.2699            1.18m\n",
      "        22     6477873.5242            1.11m\n",
      "        23     6369363.7159            1.04m\n",
      "        24     6294497.1268           57.87s\n",
      "        25     6207684.6564           53.42s\n",
      "        26     6123170.4555           48.93s\n",
      "        27     6039657.3716           44.73s\n",
      "        28     5991084.4535           40.28s\n",
      "        29     5932615.6752           36.20s\n",
      "        30     5859393.7977           32.18s\n",
      "        31     5796676.7459           27.98s\n",
      "        32     5754822.7433           23.88s\n",
      "        33     5711011.2163           19.69s\n",
      "        34     5659049.7558           15.63s\n",
      "        35     5623522.7524           11.67s\n",
      "        36     5596892.2177            7.68s\n",
      "        37     5552798.4943            3.83s\n",
      "        38     5480409.1033            0.00s\n",
      "      Iter       Train Loss   Remaining Time \n",
      "         1    14280141.7374            2.50m\n",
      "         2    13140006.1613            2.42m\n",
      "         3    12178120.6359            2.35m\n",
      "         4    11402315.7257            2.25m\n",
      "         5    10727417.0967            2.19m\n",
      "         6    10179749.3079            2.14m\n",
      "         7     9703052.9718            2.07m\n",
      "         8     9308172.9264            2.01m\n",
      "         9     8933208.3324            1.95m\n",
      "        10     8638706.8514            1.89m\n",
      "        11     8367230.8954            1.83m\n",
      "        12     8122367.6406            1.77m\n",
      "        13     7897308.2697            1.71m\n",
      "        14     7716202.2832            1.65m\n",
      "        15     7540261.1871            1.58m\n",
      "        16     7384225.7784            1.50m\n",
      "        17     7242783.9878            1.43m\n",
      "        18     7113667.1887            1.36m\n",
      "        19     7003407.1180            1.29m\n",
      "        20     6880284.0447            1.22m\n",
      "        21     6757621.9138            1.15m\n",
      "        22     6648782.9275            1.08m\n",
      "        23     6555486.6769            1.01m\n",
      "        24     6486952.4667           56.40s\n",
      "        25     6392449.4240           52.16s\n",
      "        26     6284533.8324           48.16s\n",
      "        27     6197523.2570           43.95s\n",
      "        28     6137594.6491           39.91s\n",
      "        29     6074375.0958           35.83s\n",
      "        30     6023903.6184           31.70s\n",
      "        31     5968609.1248           27.61s\n",
      "        32     5911627.6750           23.55s\n",
      "        33     5865888.8322           19.49s\n",
      "        34     5832735.8437           15.38s\n",
      "        35     5777411.0322           11.47s\n",
      "        36     5745240.4484            7.54s\n",
      "        37     5705914.7554            3.75s\n",
      "        38     5674882.4163            0.00s\n",
      "      Iter       Train Loss   Remaining Time \n",
      "         1    14398979.8632            2.75m\n",
      "         2    13228031.7715            2.66m\n",
      "         3    12268531.3532            2.58m\n",
      "         4    11448817.6883            2.49m\n",
      "         5    10764647.1621            2.39m\n",
      "         6    10183482.6740            2.32m\n",
      "         7     9713658.8260            2.25m\n",
      "         8     9310084.9412            2.14m\n",
      "         9     8977925.6192            2.06m\n",
      "        10     8663170.4104            1.99m\n",
      "        11     8407771.7096            1.92m\n",
      "        12     8175611.8438            1.85m\n",
      "        13     7968882.8226            1.77m\n"
     ]
    },
    {
     "name": "stdout",
     "output_type": "stream",
     "text": [
      "        14     7755334.8457            1.70m\n",
      "        15     7591290.2057            1.62m\n",
      "        16     7413742.3920            1.55m\n",
      "        17     7267508.2493            1.47m\n",
      "        18     7142604.6939            1.40m\n",
      "        19     7000284.2515            1.33m\n",
      "        20     6897373.5915            1.26m\n",
      "        21     6772958.8014            1.19m\n",
      "        22     6695016.7024            1.11m\n",
      "        23     6582787.0239            1.04m\n",
      "        24     6492045.4701           58.26s\n",
      "        25     6421044.0241           53.93s\n",
      "        26     6313475.2408           49.70s\n",
      "        27     6241769.0717           45.31s\n",
      "        28     6154722.8938           41.21s\n",
      "        29     6071086.1247           37.04s\n",
      "        30     6010659.2457           32.72s\n",
      "        31     5956415.8780           28.45s\n",
      "        32     5909368.4942           24.19s\n",
      "        33     5863279.9336           20.03s\n",
      "        34     5823503.5361           15.97s\n",
      "        35     5786555.8878           11.89s\n",
      "        36     5738954.9486            7.88s\n",
      "        37     5696738.3428            3.90s\n",
      "        38     5658227.3992            0.00s\n",
      "\n",
      "Model:\n",
      " GradientBoostingRegressor(alpha=0.9, criterion='friedman_mse', init=None,\n",
      "                          learning_rate=0.1, loss='ls', max_depth=10,\n",
      "                          max_features=None, max_leaf_nodes=None,\n",
      "                          min_impurity_decrease=0.0, min_impurity_split=None,\n",
      "                          min_samples_leaf=1, min_samples_split=2,\n",
      "                          min_weight_fraction_leaf=0.0, n_estimators=38,\n",
      "                          n_iter_no_change=None, presort='auto',\n",
      "                          random_state=None, subsample=1.0, tol=0.0001,\n",
      "                          validation_fraction=0.1, verbose=5, warm_start=False)\n",
      "Average MAE:\n",
      " 1292.7034541533671\n",
      "Std. Dev during CV:\n",
      " 9.552946759535237\n"
     ]
    },
    {
     "name": "stderr",
     "output_type": "stream",
     "text": [
      "C:\\Users\\yoots\\Anaconda3\\lib\\site-packages\\xgboost\\core.py:587: FutureWarning: Series.base is deprecated and will be removed in a future version\n",
      "  if getattr(data, 'base', None) is not None and \\\n"
     ]
    },
    {
     "name": "stdout",
     "output_type": "stream",
     "text": [
      "[12:13:49] WARNING: src/objective/regression_obj.cu:152: reg:linear is now deprecated in favor of reg:squarederror.\n"
     ]
    },
    {
     "name": "stderr",
     "output_type": "stream",
     "text": [
      "C:\\Users\\yoots\\Anaconda3\\lib\\site-packages\\xgboost\\core.py:587: FutureWarning: Series.base is deprecated and will be removed in a future version\n",
      "  if getattr(data, 'base', None) is not None and \\\n"
     ]
    },
    {
     "name": "stdout",
     "output_type": "stream",
     "text": [
      "[12:14:09] WARNING: src/objective/regression_obj.cu:152: reg:linear is now deprecated in favor of reg:squarederror.\n"
     ]
    },
    {
     "name": "stderr",
     "output_type": "stream",
     "text": [
      "C:\\Users\\yoots\\Anaconda3\\lib\\site-packages\\xgboost\\core.py:587: FutureWarning: Series.base is deprecated and will be removed in a future version\n",
      "  if getattr(data, 'base', None) is not None and \\\n"
     ]
    },
    {
     "name": "stdout",
     "output_type": "stream",
     "text": [
      "[12:14:29] WARNING: src/objective/regression_obj.cu:152: reg:linear is now deprecated in favor of reg:squarederror.\n"
     ]
    },
    {
     "name": "stderr",
     "output_type": "stream",
     "text": [
      "C:\\Users\\yoots\\Anaconda3\\lib\\site-packages\\xgboost\\core.py:587: FutureWarning: Series.base is deprecated and will be removed in a future version\n",
      "  if getattr(data, 'base', None) is not None and \\\n"
     ]
    },
    {
     "name": "stdout",
     "output_type": "stream",
     "text": [
      "[12:14:49] WARNING: src/objective/regression_obj.cu:152: reg:linear is now deprecated in favor of reg:squarederror.\n"
     ]
    },
    {
     "name": "stderr",
     "output_type": "stream",
     "text": [
      "C:\\Users\\yoots\\Anaconda3\\lib\\site-packages\\xgboost\\core.py:587: FutureWarning: Series.base is deprecated and will be removed in a future version\n",
      "  if getattr(data, 'base', None) is not None and \\\n"
     ]
    },
    {
     "name": "stdout",
     "output_type": "stream",
     "text": [
      "[12:15:09] WARNING: src/objective/regression_obj.cu:152: reg:linear is now deprecated in favor of reg:squarederror.\n",
      "\n",
      "Model:\n",
      " XGBRegressor(base_score=0.5, booster='gbtree', colsample_bylevel=1,\n",
      "             colsample_bynode=1, colsample_bytree=1, gamma=0,\n",
      "             importance_type='gain', learning_rate=0.28722554556383273,\n",
      "             max_delta_step=0, max_depth=14, min_child_weight=1, missing=None,\n",
      "             n_estimators=29, n_jobs=1, nthread=None, objective='reg:linear',\n",
      "             random_state=0, reg_alpha=0, reg_lambda=1, scale_pos_weight=1,\n",
      "             seed=None, silent=None, subsample=1, verbosity=1)\n",
      "Average MAE:\n",
      " 1249.1926413564706\n",
      "Std. Dev during CV:\n",
      " 5.6856321299715304\n"
     ]
    }
   ],
   "source": [
    " # --- 16. Cross-validate models --- # \n",
    "# do 2-fold cross validation on models and measure MSE\n",
    "# Model List to train: Order of Model Complexity\n",
    "lr_L1 = Lasso(alpha=0.01)\n",
    "lr_L2 = Ridge(alpha=0.01)\n",
    "rf = RandomForestRegressor(n_estimators=12, n_jobs=n_proc, max_depth=9,\n",
    "                               min_samples_split=39, verbose=verbose_lv)   \n",
    "gbr = GradientBoostingRegressor(n_estimators=38, max_depth=10, loss='ls', verbose=verbose_lv)\n",
    "xgb = XGBRegressor(n_estimators=29, max_depth=14, learning_rate=0.28722554556383273) \n",
    "\n",
    "# a list of regressors:\n",
    "models.extend([lr_L1, lr_L2, rf, gbr, xgb])    \n",
    "\n",
    "# cross-validate models, using MSE to evaluate and print the summaries\n",
    "print(\"begin cross-validation\")\n",
    "for model in models:\n",
    "    model_train(model, X_train, y_train, n_proc, mean_mae, cv_std)\n",
    "    model_summary(model, mean_mae, cv_std)"
   ]
  },
  {
   "cell_type": "markdown",
   "metadata": {},
   "source": [
    "### Model Evaluation Summary: Regressor(s) by MAE ###\n",
    "Each regression model was carefully evaluated using MAE. \n",
    "Here is a summarized result of all five tested regression models.\n",
    "\n",
    "#### 1) L1 Lasso Regression: ###\n",
    "* Avg. MAE test: 1566.44 +/- 12.99\n",
    "\n",
    "#### 2) L2 Ridge Regression: ###\n",
    "* Avg. MAE test: 1567.22 +/- 12.99\n",
    "\n",
    "#### 3) RandomForest Regression: ### \n",
    "* Avg. MAE test: 1380.97 +/- 12.88\n",
    "\n",
    "#### 4) GradientBoosting Regression: ###\n",
    "* Avg. MAE test: 1292.7 +/- 9.55\n",
    "\n",
    "#### 5) XGBoost Regression: ###\n",
    "* Avg. MAE test: 1249.19 +/- 5.68\n",
    "\n",
    "Thus, XGBRegressor model was the best model with the least avg. MAE value (1249.19) on a test set. "
   ]
  },
  {
   "cell_type": "code",
   "execution_count": 21,
   "metadata": {},
   "outputs": [
    {
     "name": "stdout",
     "output_type": "stream",
     "text": [
      "\n",
      "Best model with the lowest MAE:\n",
      "XGBRegressor(base_score=0.5, booster='gbtree', colsample_bylevel=1,\n",
      "             colsample_bynode=1, colsample_bytree=1, gamma=0,\n",
      "             importance_type='gain', learning_rate=0.28722554556383273,\n",
      "             max_delta_step=0, max_depth=14, min_child_weight=1, missing=None,\n",
      "             n_estimators=29, n_jobs=1, nthread=None, objective='reg:linear',\n",
      "             random_state=0, reg_alpha=0, reg_lambda=1, scale_pos_weight=1,\n",
      "             seed=None, silent=None, subsample=1, verbosity=1)\n"
     ]
    }
   ],
   "source": [
    "# --- 17. Select the best model with lowest MAE for your prediction model --- #\n",
    "# Best Model XGB: MAE = 1297.21, CV_STD_MAE = 6.743    \n",
    "model = min(mean_mae, key=mean_mae.get)\n",
    "print('\\nBest model with the lowest MAE:')\n",
    "print(model)"
   ]
  },
  {
   "cell_type": "code",
   "execution_count": 22,
   "metadata": {},
   "outputs": [
    {
     "name": "stderr",
     "output_type": "stream",
     "text": [
      "C:\\Users\\yoots\\Anaconda3\\lib\\site-packages\\xgboost\\core.py:587: FutureWarning: Series.base is deprecated and will be removed in a future version\n",
      "  if getattr(data, 'base', None) is not None and \\\n"
     ]
    },
    {
     "name": "stdout",
     "output_type": "stream",
     "text": [
      "[12:15:30] WARNING: src/objective/regression_obj.cu:152: reg:linear is now deprecated in favor of reg:squarederror.\n"
     ]
    }
   ],
   "source": [
    "# --- 18. Model Evaluation: Scatter Plot --- #\n",
    "# Prepare predicted and original weekly sales\n",
    "y_val_act = y_val.copy()\n",
    "\n",
    "# re-train a model with best model:\n",
    "model.fit(X_train, y_train)\n",
    "\n",
    "# make predictions on \"variance sales: median - weekly \n",
    "y_train_pred_var_med_weekly = model.predict(X_val)\n",
    "# make actuals on \"variance sales: median - weekly \n",
    "y_val_act = y_val_act.to_frame()\n",
    "y_val_act['Sales_Var_Med_Weekly_Pred'] = y_train_pred_var_med_weekly\n",
    "\n",
    "# create a final validation dataframe:\n",
    "df_val = pd.merge(df_final_train, y_val_act[['Sales_Var_Med_Weekly_Pred']], how='left',\n",
    "                   left_index=True, right_index=True, suffixes=['_Actual','_Pred'])\n",
    "\n",
    "# remove rows where Sales_Var_Med_Weekly_Pred is NULL:\n",
    "df_val = df_val[~pd.isnull(df_val['Sales_Var_Med_Weekly_Pred'])]\n",
    "df_val.head()\n",
    "\n",
    "# derive the weekly sales prections: median - (median - weekly_Pred)\n",
    "df_val['Weekly_Sales_Pred'] = df_val['Median_Sales'] - df_val['Sales_Var_Med_Weekly_Pred']"
   ]
  },
  {
   "cell_type": "code",
   "execution_count": 23,
   "metadata": {},
   "outputs": [
    {
     "data": {
      "image/png": "[encoded data removed]",
      "text/plain": [
       "<Figure size 1008x504 with 2 Axes>"
      ]
     },
     "metadata": {
      "needs_background": "light"
     },
     "output_type": "display_data"
    }
   ],
   "source": [
    "# Plot a comparison scatter plot: predicted vs. actual\n",
    "plt.figure(figsize=(14,7))\n",
    "plt.subplots_adjust(wspace=0.2)\n",
    "plt.subplot(1,2,1)\n",
    "plot_reg_compare(df_val['Weekly_Sales_Pred'], df_val['Weekly_Sales'])\n",
    "plt.title('Weekly sales of predicted vs. actual: best trained model')\n",
    "\n",
    "# Plot a residual scatter plot: predicted vs. actual\n",
    "plt.subplot(1,2,2)\n",
    "plot_reg_residual(df_val['Weekly_Sales_Pred'], df_val['Weekly_Sales'])\n",
    "plt.title('Weekly sales of predicted vs. residual: best trained model')\n",
    "plt.show()"
   ]
  },
  {
   "cell_type": "markdown",
   "metadata": {},
   "source": [
    "### Model Evaluation: Comparison and Residual Plots ###\n",
    "1st figure showed the straight line which indicated how closely predicted and actual weekly sales were plotted.\n",
    "\n",
    "2nd figure showed the residual weekly sales across the different predicted weekly sales. \n",
    "\n",
    "Thus, higher the predicted weekly sales, greater the residual weekly sales (middle range:). "
   ]
  },
  {
   "cell_type": "markdown",
   "metadata": {},
   "source": [
    "## Part 4 - DEPLOY ##"
   ]
  },
  {
   "cell_type": "code",
   "execution_count": 24,
   "metadata": {},
   "outputs": [
    {
     "data": {
      "text/html": [
       "<div>\n",
       "<style scoped>\n",
       "    .dataframe tbody tr th:only-of-type {\n",
       "        vertical-align: middle;\n",
       "    }\n",
       "\n",
       "    .dataframe tbody tr th {\n",
       "        vertical-align: top;\n",
       "    }\n",
       "\n",
       "    .dataframe thead th {\n",
       "        text-align: right;\n",
       "    }\n",
       "</style>\n",
       "<table border=\"1\" class=\"dataframe\">\n",
       "  <thead>\n",
       "    <tr style=\"text-align: right;\">\n",
       "      <th></th>\n",
       "      <th>id</th>\n",
       "      <th>Weekly_Sales_Pred</th>\n",
       "    </tr>\n",
       "  </thead>\n",
       "  <tbody>\n",
       "    <tr>\n",
       "      <td>0</td>\n",
       "      <td>1_1_2012-11-02</td>\n",
       "      <td>26205.270762</td>\n",
       "    </tr>\n",
       "    <tr>\n",
       "      <td>1</td>\n",
       "      <td>1_1_2012-11-09</td>\n",
       "      <td>19392.325114</td>\n",
       "    </tr>\n",
       "    <tr>\n",
       "      <td>2</td>\n",
       "      <td>1_1_2012-11-16</td>\n",
       "      <td>19460.812731</td>\n",
       "    </tr>\n",
       "    <tr>\n",
       "      <td>3</td>\n",
       "      <td>1_1_2012-11-23</td>\n",
       "      <td>19809.206646</td>\n",
       "    </tr>\n",
       "    <tr>\n",
       "      <td>4</td>\n",
       "      <td>1_1_2012-11-30</td>\n",
       "      <td>19795.602579</td>\n",
       "    </tr>\n",
       "  </tbody>\n",
       "</table>\n",
       "</div>"
      ],
      "text/plain": [
       "               id  Weekly_Sales_Pred\n",
       "0  1_1_2012-11-02       26205.270762\n",
       "1  1_1_2012-11-09       19392.325114\n",
       "2  1_1_2012-11-16       19460.812731\n",
       "3  1_1_2012-11-23       19809.206646\n",
       "4  1_1_2012-11-30       19795.602579"
      ]
     },
     "execution_count": 24,
     "metadata": {},
     "output_type": "execute_result"
    }
   ],
   "source": [
    "# --- 19. Automate the model pipeline --- #\n",
    "# make predictions on a test set\n",
    "df_pred_test = model.predict(df_final_test[list_feat])\n",
    "df_pred_test = pd.DataFrame(df_pred_test)\n",
    "df_pred_test.columns = ['Sales_Var_Med_Weekly_Pred']\n",
    "\n",
    "# make predictions dataframe:\n",
    "results = pd.concat([df_final_test.reset_index(drop=True), df_pred_test], axis=1)\n",
    "results['Weekly_Sales_Pred'] = results['Median_Sales']-results['Sales_Var_Med_Weekly_Pred']\n",
    "results = results[['Store', 'Dept', 'Date_String', 'Weekly_Sales_Pred']]\n",
    "\n",
    "# create a final predicted dataframe:\n",
    "results = gen_predictions_file(results, 'Store', 'Dept', 'Date_String')\n",
    "results.head()"
   ]
  },
  {
   "cell_type": "code",
   "execution_count": 25,
   "metadata": {},
   "outputs": [
    {
     "data": {
      "image/png": "[encoded data removed]",
      "text/plain": [
       "<Figure size 432x288 with 1 Axes>"
      ]
     },
     "metadata": {
      "needs_background": "light"
     },
     "output_type": "display_data"
    }
   ],
   "source": [
    "# --- 20. Deploy the solution --- #\n",
    "#store feature importances\n",
    "if hasattr(model, 'feature_importances_'):\n",
    "    importances = model.feature_importances_\n",
    "else:\n",
    "#linear models don't have feature_importances\n",
    "    importances = [0]*len(df_final_train[list_feat].columns)\n",
    "    \n",
    "feature_importances = pd.DataFrame({'feature':df_final_train[list_feat].columns, \n",
    "                                        'importance':importances})\n",
    "feature_importances.sort_values(by='importance', ascending=False,\n",
    "                                    inplace=True)\n",
    "    \n",
    "#set index to 'feature'\n",
    "feature_importances.set_index('feature', inplace=True, drop=True)\n",
    "    \n",
    "#create a plot\n",
    "feature_importances[0:20].plot.bar(align='center')\n",
    "plt.xticks(rotation=90, fontsize=9)\n",
    "plt.title('feature importance plot: best trained model')\n",
    "plt.show()\n",
    "    \n",
    "#Save model results as .csv file:\n",
    "model_results(model, mean_mae[model], results, feature_importances)"
   ]
  },
  {
   "cell_type": "markdown",
   "metadata": {},
   "source": [
    "### Model Summary: Feature Importance ###\n",
    "A figure showed the feature importance of the best trained model from an order of the highest to lowest ranks.\n",
    "\n",
    "Top 5 important features were Sales Variance Median-to-Lagged followed by Lagged 1week Sales, and Christmas Eves."
   ]
  }
 ],
 "metadata": {
  "kernelspec": {
   "display_name": "Python 3",
   "language": "python",
   "name": "python3"
  },
  "language_info": {
   "codemirror_mode": {
    "name": "ipython",
    "version": 3
   },
   "file_extension": ".py",
   "mimetype": "text/x-python",
   "name": "python",
   "nbconvert_exporter": "python",
   "pygments_lexer": "ipython3",
   "version": "3.7.4"
  }
 },
 "nbformat": 4,
 "nbformat_minor": 2
}
