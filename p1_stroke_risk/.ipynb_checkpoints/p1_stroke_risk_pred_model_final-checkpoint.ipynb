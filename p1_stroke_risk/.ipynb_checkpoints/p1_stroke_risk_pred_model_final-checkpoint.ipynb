{
 "cells": [
  {
   "cell_type": "markdown",
   "metadata": {},
   "source": [
    "# Capstone Project: Stroke Risk Prediction #\n",
    "This is a capstone project for Springboard's data science intensive track. The dataset used in this project is sourced from the data science competition sponsor by McKinsey analytics and held in a platform \"Analytics Vidhya\". \n",
    "The competition link can be found here [contest page] (https://datahack.analyticsvidhya.com/contest/mckinsey-analytics-online-hackathon/).\n",
    "\n",
    "**Dataset:**\n",
    "The data source was contributed by a chain of hospital clients based in US for McKinsey consulting firm. McKinsey hosted this dataset as open data science hack competition on Analytics Vidhya. The dataset consists of 11 features on anonymized patients including mixed variables (i.e., numerical and categorical) such as patient ID, gender, health conditions and other demographic features. The volume of dataset contains about 43,000 patient cases.\n",
    "\n",
    "**Goal:** \n",
    "To develop a classification model predicts patients at high risks of developing a stroke condition\n",
    "\n",
    "**Results:**\n",
    "86% of auc_roc score made on test set of patient population using Logistic Regression classifier.\n",
    "\n",
    "**Risks:**\n",
    "Model incorrectly identified with 14% of error on test set of patient population.\n",
    "\n",
    "**Mitigation:**\n",
    "Review identified cases with a group of clinicians before any clinical decision making\n",
    "\n",
    "**Next Steps for Future Work:**\n",
    "* Collection of meaningful features.\n",
    "* Model improvement: algorithms, resampling strategies and classifier designs (i.e., age-specific)\n",
    "\n",
    "**Recommendations for Clients:**\n",
    "1. Implement additional stroke screening test at a recommended age (before 65-year-old)\n",
    "2. Collect meaningful features for building an accurate model: stress level, physical activity, genetic factors, etc.\n",
    "3. Conduct cohort studies: further study and stratify patient groups into diabetic and obese population based on given average glucose level and body mass index (BMI) defined by clinical study guidelines."
   ]
  },
  {
   "cell_type": "markdown",
   "metadata": {},
   "source": [
    "## Part 1 - DEFINE ##\n",
    "\n",
    "**Problem Statement:** a chain of hospitals in US collected anonymized pool of patients data for stroke classification. Stroke is one of critical disease which affects nearly 1 in 20 Americans and is a disease that affects arteries leading to and within the brain. A stroke occurs when a blood vessel that carries oxygen and nutrients to the brain is either blocked by a clot or ruptures. When that happens part of the brain cannot get the blood (and oxygen) it needs, so the brain cells in the affected region is dead. The clients captured several lifestyle, health monitoring measurements and demographic factors about their anonymized patients. These include features like age, gender, health monitoring measurements (i.e., glucose level, body mass index) and lifestyle factors (i.e., smoking status, occupation type etc.). \n",
    "\n",
    "**Stakeholders:**\n",
    "Hospital cardiac unit managers, a group of clinicians, insurance companies and employers from patient population."
   ]
  },
  {
   "cell_type": "code",
   "execution_count": 1,
   "metadata": {},
   "outputs": [
    {
     "name": "stderr",
     "output_type": "stream",
     "text": [
      "C:\\Users\\yoots\\Anaconda3\\lib\\site-packages\\sklearn\\externals\\six.py:31: DeprecationWarning: The module is deprecated in version 0.21 and will be removed in version 0.23 since we've dropped support for Python 2.7. Please rely on the official version of six (https://pypi.org/project/six/).\n",
      "  \"(https://pypi.org/project/six/).\", DeprecationWarning)\n"
     ]
    }
   ],
   "source": [
    "# Import all libraries #\n",
    "import itertools\n",
    "import sys\n",
    "from datetime import datetime, timedelta\n",
    "import numpy as np\n",
    "import pandas as pd\n",
    "import matplotlib.pyplot as plt\n",
    "from matplotlib.colors import ListedColormap\n",
    "import seaborn as sns\n",
    "plt.style.use('ggplot')\n",
    "import operator\n",
    "from itertools import cycle\n",
    "import scipy.stats as sp\n",
    "from scipy import interp\n",
    "from scipy.stats import randint\n",
    "from sklearn.externals import six\n",
    "from sklearn.pipeline import _name_estimators\n",
    "import sklearn.metrics as skm\n",
    "import sklearn.base as skb\n",
    "from sklearn.utils import shuffle, resample\n",
    "from imblearn.over_sampling import SMOTE\n",
    "from imblearn.combine import SMOTEENN\n",
    "from sklearn.preprocessing import Imputer, StandardScaler, LabelEncoder\n",
    "from sklearn.model_selection import KFold, train_test_split, StratifiedKFold\n",
    "from sklearn.model_selection import cross_val_predict, cross_val_score, RandomizedSearchCV\n",
    "from statsmodels.stats.outliers_influence import variance_inflation_factor\n",
    "from sklearn.linear_model import LogisticRegression\n",
    "from sklearn.tree import DecisionTreeClassifier\n",
    "from sklearn.ensemble import RandomForestClassifier, GradientBoostingClassifier\n",
    "from xgboost import XGBClassifier\n",
    "\n",
    "# Authorship:\n",
    "__author__ = 'Taesun Yoo'\n",
    "__email__ = 'yoots1988@gmail.com'"
   ]
  },
  {
   "cell_type": "markdown",
   "metadata": {},
   "source": [
    "## Part 2 - DISCOVERY ##"
   ]
  },
  {
   "cell_type": "code",
   "execution_count": 2,
   "metadata": {},
   "outputs": [],
   "source": [
    "#############################\n",
    "# Part 2 - DISCOVER PHASE ###\n",
    "#############################\n",
    "# --- 1. Write Out List of Functions --- #\n",
    "def load_file(file):\n",
    "    '''load input CSVs as a dataframe'''\n",
    "    return pd.read_csv(file, encoding='latin1')\n",
    "\n",
    "\n",
    "def convert_dt_as_custom(df, var_name, dt_type):\n",
    "    '''convert datatype on selected variables'''\n",
    "    df[var_name] = df[var_name].astype(dt_type)\n",
    "    return df[var_name]\n",
    "\n",
    "\n",
    "def convert_dt_as_category(df):\n",
    "    '''convert datatype from object to category'''\n",
    "    for col in df.columns:\n",
    "        if df[col].dtype.name == 'object':\n",
    "            df[col] = df[col].astype('category')            \n",
    "\n",
    "        \n",
    "def drop_column(df, var_name):\n",
    "    ''' drop a column on dataframe '''\n",
    "    df = df.drop(var_name, axis=1)\n",
    "    return df\n",
    "\n",
    "\n",
    "def clean_data(raw_df):\n",
    "    '''remove rows that contain outliers'''\n",
    "    clean_df = raw_df.drop_duplicates(subset='id')\n",
    "    return clean_df\n",
    "    \n",
    "\n",
    "def join_data(df1, df2, join_type, key=None,\n",
    "              left_index=None, right_index=None):\n",
    "    '''merge the dataframes by a key'''\n",
    "    df_join = pd.merge(df1, df2, how=join_type, on=key,\n",
    "                       left_index=False, right_index=False)\n",
    "    return df_join\n",
    "\n",
    "\n",
    "def avg_groupby_data(cleaned_df, num_var, cat_var, avg_var_name):\n",
    "    '''groupby categorical var to calculate an average numerical feature'''\n",
    "    avg_groupby_cat_val = cleaned_df.groupby(cat_var)[num_var].mean().sort_values(ascending=False)\n",
    "    avg_groupby_cat_df = pd.DataFrame({cat_var:list(cleaned_df[cat_var].unique()),\n",
    "                                      avg_var_name:avg_groupby_cat_val})\n",
    "    avg_groupby_cat_df.reset_index(drop=True, inplace=True)\n",
    "    return avg_groupby_cat_df\n",
    "\n",
    "\n",
    "def encode_categorical_feature(df, var_name, map_name):\n",
    "    '''encode categorical features into mapping values'''\n",
    "    df[var_name] = df[var_name].map(map_name)\n",
    "    return df[var_name]\n",
    "\n",
    "\n",
    "def EDA_missing_data(df):\n",
    "    ''' compute missing value % on a df'''\n",
    "    df_missing = pd.DataFrame(df.isnull().sum())\n",
    "    df_missing.columns = ['count']\n",
    "    df_missing = df_missing.sort_values(by='count', ascending=False)\n",
    "    df_missing['pct'] = (df_missing['count']/len(df)) * 100\n",
    "    return df_missing\n",
    "\n",
    "\n",
    "def EDA_summary_stat_num(df):\n",
    "    ''' compute numerical summary statistics '''\n",
    "    df_stat_num = df.describe().T\n",
    "    df_stat_num = df_stat_num[['count', 'min', 'mean', 'max', '25%', '50%', '75%', 'std']]\n",
    "    df_stat_num = df_stat_num.sort_values(by='count', ascending=True)\n",
    "    df_stat_num = pd.DataFrame(df_stat_num)\n",
    "    return df_stat_num\n",
    "\n",
    "\n",
    "def EDA_summary_stat_cat(df):\n",
    "    ''' compute numerical summary statistics '''\n",
    "    df_stat_cat = pd.DataFrame(df.describe(include='category').T)\n",
    "    return df_stat_cat\n",
    "\n",
    "\n",
    "def EDA_feature_importance_plot(model, X, y):\n",
    "    '''plots the feature importance plot on trained model'''\n",
    "    model = model\n",
    "    model.fit(X, y)\n",
    "    feat_labels = X.columns\n",
    "    importances = model.feature_importances_\n",
    "    indices = np.argsort(importances)[::-1]\n",
    "    \n",
    "    plt.bar(range(X.shape[1]), importances[indices], align='center')\n",
    "    plt.xticks(range(X.shape[1]), feat_labels[indices], rotation=90, fontsize=7)\n",
    "    plt.xlim(-1, X.shape[1])\n",
    "\n",
    "\n",
    "def feature_replacement(X):\n",
    "    ''' replace missing values based on specific data type of a column '''\n",
    "    for col in X.columns:\n",
    "        if X[col].dtype.name == 'object':\n",
    "            mode = X[col].mode().iloc[0]\n",
    "            X[col] = X[col].fillna(mode)\n",
    "        elif X[col].dtype.name == 'float64':\n",
    "            mean = X[col].mean()\n",
    "            X[col] = X[col].fillna(mean)\n",
    "        else:\n",
    "            X[col].dtype.name == 'int64'\n",
    "            median = X[col].median()\n",
    "            X[col] = X[col].fillna(median)\n",
    "\n",
    "\n",
    "def apply_binning(df, new_var, old_var, bins, labels):\n",
    "    '''apply binning on a selected variable'''\n",
    "    df[new_var] = pd.cut(df[old_var], bins=bins,\n",
    "                          labels=labels, include_lowest=True)\n",
    "    return df[new_var]\n",
    "\n",
    "\n",
    "def one_hot_encode_feature(df, cat_vars=None, num_vars=None):\n",
    "    '''performs one-hot encoding on all categorical variables and\n",
    "       combine results with numerical variables '''\n",
    "    cat_df = pd.get_dummies(df[cat_vars], drop_first=True)\n",
    "    num_df = df[num_vars].apply(pd.to_numeric)\n",
    "    return pd.concat([cat_df, num_df], axis=1)\n",
    "\n",
    "\n",
    "def get_label_data(df, label_var):\n",
    "    '''separate label from a dataframe'''\n",
    "    df_label = df[label_var]\n",
    "    return df_label\n",
    "\n",
    "\n",
    "def feature_scale_data(X):\n",
    "    '''Feature scaled data based on standardization'''\n",
    "    sc_X = StandardScaler()\n",
    "    X_std = sc_X.fit_transform(X)\n",
    "    return X_std\n",
    "    \n",
    "\n",
    "def score_model_roc_auc(model, X_train, y_train, X_val, y_val):\n",
    "    '''computes the roc_auc score for probability of being a stroke case'''\n",
    "    model.fit(X_train, y_train)\n",
    "    probs = model.predict_proba(X_val)\n",
    "    return skm.roc_auc_score(y_val, probs[:,1])\n",
    "\n",
    "\n",
    "def model_tuning_param(model, feature_df, label_df, param_dist, n_iter):\n",
    "    '''performs RandomizedSearchCV to tune model hyper-parameters'''\n",
    "    random_search = RandomizedSearchCV(model, param_dist, n_iter, cv=5)\n",
    "    random_search.fit(feature_df, label_df)\n",
    "    return random_search\n",
    "\n",
    "\n",
    "def print_best_param(random_search, param_1=None, param_2=None, param_3=None, param_4=None):\n",
    "    '''print the best model parameter(s)'''\n",
    "    print(\"Best \" + param_1 + \":\", random_search.best_estimator_.get_params()[param_1])\n",
    "    print(\"Best \" + param_2 + \":\", random_search.best_estimator_.get_params()[param_2])\n",
    "    print(\"Best \" + param_3 + \":\", random_search.best_estimator_.get_params()[param_3])\n",
    "    print(\"Best \" + param_4 + \":\", random_search.best_estimator_.get_params()[param_4])\n",
    "\n",
    "\n",
    "def model_train(model, feature_df, label_df, n_proc, mean_roc_auc, cv_std):\n",
    "    '''train a model and output mean roc_auc and CV std.dev roc_auc'''\n",
    "    roc_auc = cross_val_score(model, feature_df, label_df, n_jobs=n_proc,\n",
    "                               cv=5, scoring='roc_auc')\n",
    "    mean_roc_auc[model] = np.mean(roc_auc)\n",
    "    cv_std[model] = np.std(roc_auc)    \n",
    "\n",
    "\n",
    "def model_summary(model, mean_roc_auc, cv_std):\n",
    "    '''print out the model performances'''\n",
    "    print('\\nModel:\\n', model)\n",
    "    print('Average roc_auc:\\n', mean_roc_auc[model])\n",
    "    print('Std. Dev during CV:\\n', cv_std[model])    \n",
    "\n",
    "\n",
    "def compute_confusion_matrix(y_act, y_pred):\n",
    "    '''compute sklearn confusion matrix'''\n",
    "    cm_model = skm.confusion_matrix(y_act, y_pred)\n",
    "    return cm_model  \n",
    "\n",
    "\n",
    "def plot_confusion_matrix(cm, classes):\n",
    "    '''plot the confusion matrix of trained model'''\n",
    "    fig, ax = plt.subplots(figsize=(7,7))\n",
    "    cm = cm.astype('float')/cm.sum()\n",
    "    \n",
    "    plt.imshow(cm, interpolation='nearest', cmap=plt.cm.Blues)\n",
    "    tick_marks = np.arange(len(classes))\n",
    "    plt.xticks(tick_marks, classes, rotation=45)\n",
    "    plt.yticks(tick_marks, classes)\n",
    "    \n",
    "    fmt='.2f'\n",
    "    thresh = cm.max()/2.\n",
    "    for i in range(cm.shape[0]):\n",
    "        for j in range(cm.shape[1]):\n",
    "            ax.text(j, i, format(cm[i,j], fmt), ha='center', va='center',\n",
    "                    color='white' if cm[i,j] > thresh else 'black')\n",
    "    plt.xlabel('predicted label')\n",
    "    plt.ylabel('true label')\n",
    "\n",
    "\n",
    "def report_class_summary(model_name, y_act, y_pred):\n",
    "    '''Write a classification summary report''' \n",
    "    print ('Accuracy of ' + model_name + ' is %0.2f'% skm.accuracy_score(y_act, y_pred))\n",
    "    print ('Precision of ' + model_name + ' is %0.2f'% skm.precision_score(y_act, y_pred))\n",
    "    print ('Recall of ' + model_name + ' is %0.2f'% skm.recall_score(y_act, y_pred))\n",
    "    print ('ROC score of ' + model_name + ' is %0.2f'% skm.roc_auc_score(y_act, y_pred))\n",
    "    \n",
    "    \n",
    "def model_results(model, mean_roc_auc, predictions, feature_importances):\n",
    "    '''saves the model name, mean_roc_auc, predicted rate, and feature importances'''\n",
    "    with open('model.txt', 'w') as file:\n",
    "        file.write(str(model))\n",
    "        feature_importances.to_csv('feat_importances.csv')\n",
    "        predictions.to_csv('pred_results_best.csv', index=False)"
   ]
  },
  {
   "cell_type": "code",
   "execution_count": 3,
   "metadata": {},
   "outputs": [
    {
     "name": "stdout",
     "output_type": "stream",
     "text": [
      "<class 'pandas.core.frame.DataFrame'>\n",
      "RangeIndex: 43400 entries, 0 to 43399\n",
      "Data columns (total 12 columns):\n",
      "id                   43400 non-null int64\n",
      "gender               43400 non-null object\n",
      "age                  43400 non-null float64\n",
      "hypertension         43400 non-null int64\n",
      "heart_disease        43400 non-null int64\n",
      "ever_married         43400 non-null object\n",
      "work_type            43400 non-null object\n",
      "Residence_type       43400 non-null object\n",
      "avg_glucose_level    43400 non-null float64\n",
      "bmi                  41938 non-null float64\n",
      "smoking_status       30108 non-null object\n",
      "stroke               43400 non-null int64\n",
      "dtypes: float64(3), int64(4), object(5)\n",
      "memory usage: 4.0+ MB\n"
     ]
    }
   ],
   "source": [
    "# --- 2. Load the data --- #\n",
    "# define input CSVs:\n",
    "if __name__ == '__main__':\n",
    "    train_file = 'stroke_train.csv'\n",
    "    test_file = 'stroke_test.csv'\n",
    "\n",
    "# Load data\n",
    "df_train = load_file(train_file)\n",
    "df_test = load_file(test_file)\n",
    "\n",
    "# define variables:\n",
    "cat_vars = ['gender', 'ever_married', 'work_type', 'Residence_type', 'smoking_status']\n",
    "num_vars = ['age', 'avg_glucose_level', 'bmi']\n",
    "label_var = 'stroke'\n",
    "\n",
    "# check data types on dataframes:\n",
    "df_train.info()\n",
    "\n",
    "\n",
    "# --- 3. ETL - metadata format --- #\n",
    "\n",
    "\n",
    "# --- 4. ETL - merging/subsetting data --- #\n",
    "# create a dataframe with label:\n",
    "df_label = df_train[['id', 'stroke']]\n",
    "\n",
    "# drop a specified column:\n",
    "df_train = drop_column(df_train, label_var)\n",
    "\n",
    "# merge on a train set and label:\n",
    "train_raw_df = join_data(df_train, df_label, 'inner', key='id')\n",
    "\n",
    "# --- 5. ETL - cleaning data --- #\n",
    "# clean data:\n",
    "clean_train_df = shuffle(clean_data(train_raw_df)).reset_index(drop=True)\n",
    "clean_test_df = shuffle(clean_data(df_test)).reset_index(drop=True)\n",
    "del (df_train, df_test)\n",
    "\n",
    "# create a dataframe: test set 'id'\n",
    "df_test_id = clean_test_df['id']"
   ]
  },
  {
   "cell_type": "markdown",
   "metadata": {},
   "source": [
    "### Feature Encoding ###\n",
    "Feature encoding is a process where features are encoded into right format. There are two types of feature encoding: ordinal and nominal feature encoding. Ordinal feature encoding is a type of encoding where feature actually contains information about \"order\" like increase or decrease in value (i.e., score level, date, etc). Whereas nominal feature encoding is a type of encoding where feature contains a class of label like gender (i.e., male or female). \n",
    "\n",
    "**Ordinal feature encoding:** smoking_status. \n",
    "Smoking status is a feature where it has an order of smoking level progresses from never smoked to frequent smoker.\n",
    "Thus, smoking status gets mapped into numerical values then gets printed after ordinal feature encoding for checking data consistency.\n",
    "\n",
    "**Nominal feature encoding:** hypertension and heart_disease.\n",
    "These two feature(s) have meaning of different class labels being \"Yes\" or \"No\" but already pre-encoded as numerical value(s) being \"1\" or \"0\". The main reason why these features are re-encoded back into word string is for exploratory data analysis phase. It is best practice to keep data format consistent among same type of variable or feature like \"ever_married\" which is originally contained value as a string \"Yes\" or \"No\"."
   ]
  },
  {
   "cell_type": "code",
   "execution_count": 4,
   "metadata": {},
   "outputs": [],
   "source": [
    "# --- 6. Feature Encoding --- #\n",
    "# mapping nominal features into an integer:\n",
    "#smoking_status_map = {'never smoked':0, 'formerly smoked':1, 'smokes':2}\n",
    "hypertension_map = {0:'No', 1:'Yes'}    \n",
    "heart_disease_map = {0:'No', 1:'Yes'}\n",
    "\n",
    "# encode features on a train set:\n",
    "clean_train_df['hypertension'] = encode_categorical_feature(clean_train_df, 'hypertension', hypertension_map)\n",
    "clean_train_df['heart_disease'] = encode_categorical_feature(clean_train_df, 'heart_disease', heart_disease_map)\n",
    "\n",
    "# encode features on a test set:\n",
    "clean_test_df['hypertension'] = encode_categorical_feature(clean_test_df, 'hypertension', hypertension_map)\n",
    "clean_test_df['heart_disease'] = encode_categorical_feature(clean_test_df, 'heart_disease', heart_disease_map)"
   ]
  },
  {
   "cell_type": "markdown",
   "metadata": {},
   "source": [
    "### Feature Imputation ###\n",
    "\n",
    "Let's compute feature imputation to replace missing values by following:\n",
    "Mode: smoking_status\n",
    "Mean: bmi (idx: 8, 9)\n",
    "Note: how different types of features were treated by different univariate methods for missing value replacement.\n",
    "\n",
    "First, 'smoking_status' was an ordinal (categorical) feature. Thus, it makes sense to replace missing values by most frequently occurred value (mode).\n",
    "Second, 'bmi' was a numerical feature. Also the feature showed normal distributions upon plotting a histogram. Thus, this can be replaced by mean."
   ]
  },
  {
   "cell_type": "code",
   "execution_count": 5,
   "metadata": {},
   "outputs": [],
   "source": [
    "# --- 7. Feature Imputation --- #\n",
    "# check missing: before imputation\n",
    "df_missing_pre = EDA_missing_data(clean_train_df)\n",
    "df_missing_pre\n",
    "\n",
    "# feature imputation:\n",
    "feature_replacement(clean_train_df)\n",
    "feature_replacement(clean_test_df)\n",
    "\n",
    "# check missing: after imputation\n",
    "df_missing_post = EDA_missing_data(clean_train_df)\n",
    "df_missing_post\n",
    "del(df_missing_pre, df_missing_post)"
   ]
  },
  {
   "cell_type": "markdown",
   "metadata": {},
   "source": [
    "### Feature Engineering ###\n",
    "Using a groupby function and computing a mean to create a set of new feature(s) from existing feature(s)."
   ]
  },
  {
   "cell_type": "code",
   "execution_count": 6,
   "metadata": {},
   "outputs": [],
   "source": [
    "# --- 8. Feature Engineering --- #\n",
    "# average age by categorical variables:\n",
    "df_avg_age_by_hypertension = avg_groupby_data(clean_train_df, 'age', 'hypertension', 'avg_age_hypertension')\n",
    "df_avg_age_by_heart_disease = avg_groupby_data(clean_train_df, 'age', 'heart_disease', 'avg_age_heart_disease')\n",
    "df_avg_age_by_gender = avg_groupby_data(clean_train_df, 'age', 'gender', 'avg_age_gender')\n",
    "df_avg_age_by_work_type = avg_groupby_data(clean_train_df, 'age', 'work_type', 'avg_age_work_type')\n",
    "df_avg_age_by_marital_status = avg_groupby_data(clean_train_df, 'age', 'ever_married', 'avg_age_marital_status')\n",
    "\n",
    "# perform left joins on avg grouped dataframes:\n",
    "clean_train_df = join_data(clean_train_df, df_avg_age_by_hypertension, 'left', key='hypertension')\n",
    "clean_train_df = join_data(clean_train_df, df_avg_age_by_heart_disease, 'left', key='heart_disease')\n",
    "clean_train_df = join_data(clean_train_df, df_avg_age_by_gender, 'left', key='gender')\n",
    "clean_train_df = join_data(clean_train_df, df_avg_age_by_work_type, 'left', key='work_type')\n",
    "clean_train_df = join_data(clean_train_df, df_avg_age_by_marital_status, 'left', key='ever_married')\n",
    "\n",
    "clean_test_df = join_data(clean_test_df, df_avg_age_by_hypertension, 'left', key='hypertension')\n",
    "clean_test_df = join_data(clean_test_df, df_avg_age_by_heart_disease, 'left', key='heart_disease')\n",
    "clean_test_df = join_data(clean_test_df, df_avg_age_by_gender, 'left', key='gender')\n",
    "clean_test_df = join_data(clean_test_df, df_avg_age_by_work_type, 'left', key='work_type')\n",
    "clean_test_df = join_data(clean_test_df, df_avg_age_by_marital_status, 'left', key='ever_married')"
   ]
  },
  {
   "cell_type": "code",
   "execution_count": 7,
   "metadata": {},
   "outputs": [
    {
     "data": {
      "text/html": [
       "<div>\n",
       "<style scoped>\n",
       "    .dataframe tbody tr th:only-of-type {\n",
       "        vertical-align: middle;\n",
       "    }\n",
       "\n",
       "    .dataframe tbody tr th {\n",
       "        vertical-align: top;\n",
       "    }\n",
       "\n",
       "    .dataframe thead th {\n",
       "        text-align: right;\n",
       "    }\n",
       "</style>\n",
       "<table border=\"1\" class=\"dataframe\">\n",
       "  <thead>\n",
       "    <tr style=\"text-align: right;\">\n",
       "      <th></th>\n",
       "      <th>count</th>\n",
       "      <th>min</th>\n",
       "      <th>mean</th>\n",
       "      <th>max</th>\n",
       "      <th>25%</th>\n",
       "      <th>50%</th>\n",
       "      <th>75%</th>\n",
       "      <th>std</th>\n",
       "    </tr>\n",
       "  </thead>\n",
       "  <tbody>\n",
       "    <tr>\n",
       "      <td>age</td>\n",
       "      <td>43400.0</td>\n",
       "      <td>0.08</td>\n",
       "      <td>42.217894</td>\n",
       "      <td>82.00</td>\n",
       "      <td>24.00</td>\n",
       "      <td>44.00</td>\n",
       "      <td>60.00</td>\n",
       "      <td>22.519649</td>\n",
       "    </tr>\n",
       "    <tr>\n",
       "      <td>avg_glucose_level</td>\n",
       "      <td>43400.0</td>\n",
       "      <td>55.00</td>\n",
       "      <td>104.482750</td>\n",
       "      <td>291.05</td>\n",
       "      <td>77.54</td>\n",
       "      <td>91.58</td>\n",
       "      <td>112.07</td>\n",
       "      <td>43.111751</td>\n",
       "    </tr>\n",
       "    <tr>\n",
       "      <td>bmi</td>\n",
       "      <td>43400.0</td>\n",
       "      <td>10.10</td>\n",
       "      <td>28.605038</td>\n",
       "      <td>97.60</td>\n",
       "      <td>23.40</td>\n",
       "      <td>28.10</td>\n",
       "      <td>32.60</td>\n",
       "      <td>7.638023</td>\n",
       "    </tr>\n",
       "  </tbody>\n",
       "</table>\n",
       "</div>"
      ],
      "text/plain": [
       "                     count    min        mean     max    25%    50%     75%  \\\n",
       "age                43400.0   0.08   42.217894   82.00  24.00  44.00   60.00   \n",
       "avg_glucose_level  43400.0  55.00  104.482750  291.05  77.54  91.58  112.07   \n",
       "bmi                43400.0  10.10   28.605038   97.60  23.40  28.10   32.60   \n",
       "\n",
       "                         std  \n",
       "age                22.519649  \n",
       "avg_glucose_level  43.111751  \n",
       "bmi                 7.638023  "
      ]
     },
     "execution_count": 7,
     "metadata": {},
     "output_type": "execute_result"
    }
   ],
   "source": [
    "# --- 9. Exploratory Data Analysis --- #\n",
    "# convert data type as category:\n",
    "convert_dt_as_category(clean_train_df)\n",
    "convert_dt_as_category(clean_test_df)\n",
    "\n",
    "# perform summary statistics: numerical\n",
    "df_stat_num = EDA_summary_stat_num(clean_train_df[num_vars])\n",
    "df_stat_num"
   ]
  },
  {
   "cell_type": "code",
   "execution_count": 8,
   "metadata": {},
   "outputs": [
    {
     "data": {
      "text/html": [
       "<div>\n",
       "<style scoped>\n",
       "    .dataframe tbody tr th:only-of-type {\n",
       "        vertical-align: middle;\n",
       "    }\n",
       "\n",
       "    .dataframe tbody tr th {\n",
       "        vertical-align: top;\n",
       "    }\n",
       "\n",
       "    .dataframe thead th {\n",
       "        text-align: right;\n",
       "    }\n",
       "</style>\n",
       "<table border=\"1\" class=\"dataframe\">\n",
       "  <thead>\n",
       "    <tr style=\"text-align: right;\">\n",
       "      <th></th>\n",
       "      <th>count</th>\n",
       "      <th>unique</th>\n",
       "      <th>top</th>\n",
       "      <th>freq</th>\n",
       "    </tr>\n",
       "  </thead>\n",
       "  <tbody>\n",
       "    <tr>\n",
       "      <td>gender</td>\n",
       "      <td>43400</td>\n",
       "      <td>3</td>\n",
       "      <td>Female</td>\n",
       "      <td>25665</td>\n",
       "    </tr>\n",
       "    <tr>\n",
       "      <td>hypertension</td>\n",
       "      <td>43400</td>\n",
       "      <td>2</td>\n",
       "      <td>No</td>\n",
       "      <td>39339</td>\n",
       "    </tr>\n",
       "    <tr>\n",
       "      <td>heart_disease</td>\n",
       "      <td>43400</td>\n",
       "      <td>2</td>\n",
       "      <td>No</td>\n",
       "      <td>41338</td>\n",
       "    </tr>\n",
       "    <tr>\n",
       "      <td>ever_married</td>\n",
       "      <td>43400</td>\n",
       "      <td>2</td>\n",
       "      <td>Yes</td>\n",
       "      <td>27938</td>\n",
       "    </tr>\n",
       "    <tr>\n",
       "      <td>work_type</td>\n",
       "      <td>43400</td>\n",
       "      <td>5</td>\n",
       "      <td>Private</td>\n",
       "      <td>24834</td>\n",
       "    </tr>\n",
       "    <tr>\n",
       "      <td>Residence_type</td>\n",
       "      <td>43400</td>\n",
       "      <td>2</td>\n",
       "      <td>Urban</td>\n",
       "      <td>21756</td>\n",
       "    </tr>\n",
       "    <tr>\n",
       "      <td>smoking_status</td>\n",
       "      <td>43400</td>\n",
       "      <td>3</td>\n",
       "      <td>never smoked</td>\n",
       "      <td>29345</td>\n",
       "    </tr>\n",
       "  </tbody>\n",
       "</table>\n",
       "</div>"
      ],
      "text/plain": [
       "                count unique           top   freq\n",
       "gender          43400      3        Female  25665\n",
       "hypertension    43400      2            No  39339\n",
       "heart_disease   43400      2            No  41338\n",
       "ever_married    43400      2           Yes  27938\n",
       "work_type       43400      5       Private  24834\n",
       "Residence_type  43400      2         Urban  21756\n",
       "smoking_status  43400      3  never smoked  29345"
      ]
     },
     "execution_count": 8,
     "metadata": {},
     "output_type": "execute_result"
    }
   ],
   "source": [
    "# perform summary statistics: categorical\n",
    "df_stat_cat = EDA_summary_stat_cat(clean_train_df)\n",
    "df_stat_cat"
   ]
  },
  {
   "cell_type": "markdown",
   "metadata": {},
   "source": [
    "### One-Hot Encoding: Dummy Variables ###\n",
    "One-Hot-Encoding on nominal feature allows to create a separate column on each feature and its value are only encoded \"0\" or \"1\". This dummy indicator gets interpreted the ML models for making accurate predictions.\n",
    "\n",
    "Also to reduce any potential biases of having multi-colinearity, each feature's first encoded dummy variable must be dropped to avoid dummy variable trap (i.e., where independent variables are highly inter-correlated with each other as one predictor can be predicted from other of similar variables: gender_female vs. gender_male vs. gender_other)."
   ]
  },
  {
   "cell_type": "code",
   "execution_count": 9,
   "metadata": {},
   "outputs": [],
   "source": [
    "# --- 10. Prepare Training Data --- #\n",
    "# list of categorical and numerical features:\n",
    "cat_feat = list(clean_test_df.select_dtypes(include='category').columns)\n",
    "num_feat = list(clean_train_df.select_dtypes(include='float64').columns)\n",
    "\n",
    "# one-hot encoding and concatenate numerical & categorical:\n",
    "feature_df = one_hot_encode_feature(clean_train_df, cat_vars=cat_feat, num_vars=num_feat)\n",
    "test_df = one_hot_encode_feature(clean_test_df, cat_vars=cat_feat, num_vars=num_feat)\n",
    "\n",
    "# retrieve a label: stroke\n",
    "label_df = get_label_data(clean_train_df, label_var)\n",
    "\n",
    "# delete dataframes:\n",
    "del(clean_train_df, clean_test_df)"
   ]
  },
  {
   "cell_type": "markdown",
   "metadata": {},
   "source": [
    "### SMOTE: Re-Sampling ###\n",
    "A given stroke patient dataset is highly imbalanced where majority of cases were non-stroke (98%) and only 2% (stroke). This is the most common problem for the classifier model which will likely to predict as a non-stroke patient in many cases.\n",
    "\n",
    "Thus, resampling technique was applied to resolve this imbalanced classes posed on this dataset. SMOTE is one of the most common algorithm(s) that are used heavily to resolve this problem. The algorithm can perform over-sampling or down-sampling to increase or decrease the sample size on a specified label (i.e., non-stroke:0, stroke:1). \n",
    "\n",
    "In this case, the over-sampling was performed on the minority class label (i.e., stroke cases) to increase the available sample size for model training."
   ]
  },
  {
   "cell_type": "code",
   "execution_count": 10,
   "metadata": {},
   "outputs": [
    {
     "data": {
      "text/plain": [
       "1    29832\n",
       "0    29832\n",
       "dtype: int64"
      ]
     },
     "execution_count": 10,
     "metadata": {},
     "output_type": "execute_result"
    }
   ],
   "source": [
    "# --- 11. split data into train and test set --- # \n",
    "X_train, X_val, y_train, y_val = train_test_split(feature_df, label_df, test_size=.3,\n",
    "                                                    random_state=0, stratify=label_df)\n",
    "\n",
    "# --- SMOTE: oversample on minority class label --- #\n",
    "sm = SMOTE(random_state=0, ratio='minority', n_jobs=-1)\n",
    "X_train_resampled, y_train_resampled = sm.fit_sample(X_train, y_train)\n",
    "\n",
    "# count rows on resampled label:\n",
    "pd.value_counts(y_train_resampled)"
   ]
  },
  {
   "cell_type": "code",
   "execution_count": 11,
   "metadata": {},
   "outputs": [],
   "source": [
    "# --- 12. Feature seleciton: Feature Importance --- # \n",
    "# Establish a baseline model:\n",
    "baseline = RandomForestClassifier(n_estimators=100, n_jobs=-1)\n",
    "baseline.fit(X_train_resampled, y_train_resampled)\n",
    "\n",
    "# Make predicted probabilities:\n",
    "probs = baseline.predict_proba(X_val)\n",
    "#predictions = baseline.predict(X_val)\n",
    "\n",
    "# compute a roc_auc score on stroke cases only:\n",
    "skm.roc_auc_score(y_val, probs[:,1]) \n",
    "\n",
    "# basline predictions: test results\n",
    "test_probs = baseline.predict_proba(test_df)\n",
    "\n",
    "# save a dataframe: test results\n",
    "results = pd.DataFrame({'id':df_test_id,\n",
    "                        'stroke':test_probs[:,1]})\n",
    "    \n",
    "results.to_csv('test_baseline.csv', index=False, index_label=None)"
   ]
  },
  {
   "cell_type": "markdown",
   "metadata": {},
   "source": [
    "## Part 3 - DEVELOP ##"
   ]
  },
  {
   "cell_type": "code",
   "execution_count": 12,
   "metadata": {},
   "outputs": [],
   "source": [
    "############################\n",
    "# Part 3 - DEVELOP PHASE ###\n",
    "############################\n",
    "# --- 13. create models --- # \n",
    "# initialize model list and dicts\n",
    "models = []\n",
    "mean_roc_auc = {}\n",
    "cv_std = {}\n",
    "res = {}\n",
    "\n",
    "# define common model parameters: num processors and shared model parameters\n",
    "n_proc = 1\n",
    "verbose_lv = 5\n",
    "\n",
    "## create and tune the models that you brainstormed during part 2\n",
    "################################################################################        \n",
    "## Hyper-parameters tuning: LogisticRegression\n",
    "#lr = LogisticRegression()\n",
    "#n_iter = 10\n",
    "#param_dist_lr = dict(tol=np.random.uniform(0, 0.0001, 10), C=sp.randint(1,50),\n",
    "#                     penalty=['l1', 'l2'], solver=['liblinear','saga'])\n",
    "#random_search_lr = model_tuning_param(lr, X_train_resampled, y_train_resampled, param_dist_lr, n_iter)\n",
    "\n",
    "## print the best model parameters: LogisticRegression    \n",
    "#param_1 = 'tol'\n",
    "#param_2 = 'C'\n",
    "#param_3 = 'penalty'\n",
    "#param_4 = 'solver'\n",
    "\n",
    "#print_best_param(random_search_lr, param_1, param_2, param_3, param_4)\n",
    "################################################################################        \n",
    "## Hyper-parameters tuning: DecisionTree\n",
    "#tree = DecisionTreeClassifier(criterion='gini', random_state=0)\n",
    "\n",
    "#n_iter = 10\n",
    "#param_dist_tree = {'max_depth': sp.randint(10,100),\n",
    "#                 'min_samples_split': sp.randint(2,10),\n",
    "#                 'min_samples_leaf': sp.randint(2,10),\n",
    "#                 'max_features': sp.randint(2,10)}\n",
    "\n",
    "#random_search_tree = model_tuning_param(tree, X_train_resampled, y_train_resampled, param_dist_tree, n_iter)\n",
    "\n",
    "## print the best model parameters: LogisticRegression    \n",
    "#param_1 = 'max_depth'\n",
    "#param_2 = 'min_samples_split'\n",
    "#param_3 = 'min_samples_leaf'\n",
    "#param_4 = 'max_features'\n",
    "\n",
    "#print_best_param(random_search_tree, param_1, param_2, param_3, param_4)\n",
    "################################################################################        \n",
    "## Hyper-parameters tuning: RandomForest\n",
    "#forest = RandomForestClassifier(criterion='gini', random_state=0)\n",
    "\n",
    "#n_iter = 10\n",
    "#param_dist_forest = {'n_estimators': sp.randint(10,100),\n",
    "#                     'max_depth': sp.randint(10,100),\n",
    "#                     'min_samples_split': sp.randint(2,10),\n",
    "#                     'min_samples_leaf': sp.randint(2,10)}\n",
    "\n",
    "#random_search_forest = model_tuning_param(forest, X_train_resampled, y_train_resampled, param_dist_forest, n_iter)\n",
    "\n",
    "## print the best model parameters: LogisticRegression    \n",
    "#param_1 = 'n_estimators'\n",
    "#param_2 = 'max_depth'\n",
    "#param_3 = 'min_samples_split'\n",
    "#param_4 = 'min_samples_leaf'\n",
    "\n",
    "#print_best_param(random_search_forest, param_1, param_2, param_3, param_4)\n",
    "################################################################################    \n",
    "# Hyper-parameters tuning: XGBoost\n",
    "#xgb = XGBClassifier(random_state=0)\n",
    "#n_iter = 10\n",
    "\n",
    "#param_dist_xgb = {'n_estimators': sp.randint(10,100),\n",
    "#                 'max_depth': sp.randint(10,100),\n",
    "#                 'colsample_bytree': np.random.uniform(0, 1, 10),\n",
    "#                 'learning_rate': np.random.uniform(0, 1, 10)}\n",
    "\n",
    "#random_search_xgb = model_tuning_param(xgb, X_train_resampled, y_train_resampled, param_dist_xgb, n_iter)\n",
    "\n",
    "## print the best model parameters: LogisticRegression    \n",
    "#param_1 = 'n_estimators'\n",
    "#param_2 = 'max_depth'\n",
    "#param_3 = 'colsample_bytree'\n",
    "#param_4 = 'learning_rate'\n",
    "\n",
    "#print_best_param(random_search_xgb, param_1, param_2, param_3, param_4)\n",
    "################################################################################  "
   ]
  },
  {
   "cell_type": "code",
   "execution_count": 13,
   "metadata": {},
   "outputs": [
    {
     "name": "stdout",
     "output_type": "stream",
     "text": [
      "begin cross-validation\n"
     ]
    },
    {
     "name": "stderr",
     "output_type": "stream",
     "text": [
      "C:\\Users\\yoots\\Anaconda3\\lib\\site-packages\\sklearn\\linear_model\\sag.py:337: ConvergenceWarning: The max_iter was reached which means the coef_ did not converge\n",
      "  \"the coef_ did not converge\", ConvergenceWarning)\n",
      "C:\\Users\\yoots\\Anaconda3\\lib\\site-packages\\sklearn\\linear_model\\sag.py:337: ConvergenceWarning: The max_iter was reached which means the coef_ did not converge\n",
      "  \"the coef_ did not converge\", ConvergenceWarning)\n",
      "C:\\Users\\yoots\\Anaconda3\\lib\\site-packages\\sklearn\\linear_model\\sag.py:337: ConvergenceWarning: The max_iter was reached which means the coef_ did not converge\n",
      "  \"the coef_ did not converge\", ConvergenceWarning)\n",
      "C:\\Users\\yoots\\Anaconda3\\lib\\site-packages\\sklearn\\linear_model\\sag.py:337: ConvergenceWarning: The max_iter was reached which means the coef_ did not converge\n",
      "  \"the coef_ did not converge\", ConvergenceWarning)\n",
      "C:\\Users\\yoots\\Anaconda3\\lib\\site-packages\\sklearn\\linear_model\\sag.py:337: ConvergenceWarning: The max_iter was reached which means the coef_ did not converge\n",
      "  \"the coef_ did not converge\", ConvergenceWarning)\n"
     ]
    },
    {
     "name": "stdout",
     "output_type": "stream",
     "text": [
      "\n",
      "Model:\n",
      " LogisticRegression(C=26, class_weight=None, dual=False, fit_intercept=True,\n",
      "                   intercept_scaling=1, l1_ratio=None, max_iter=100,\n",
      "                   multi_class='warn', n_jobs=None, penalty='l2',\n",
      "                   random_state=None, solver='saga', tol=1.8213e-05, verbose=0,\n",
      "                   warm_start=False)\n",
      "Average roc_auc:\n",
      " 0.8553904443685196\n",
      "Std. Dev during CV:\n",
      " 0.0038606094370093567\n",
      "\n",
      "Model:\n",
      " DecisionTreeClassifier(class_weight=None, criterion='gini', max_depth=19,\n",
      "                       max_features=9, max_leaf_nodes=None,\n",
      "                       min_impurity_decrease=0.0, min_impurity_split=None,\n",
      "                       min_samples_leaf=2, min_samples_split=9,\n",
      "                       min_weight_fraction_leaf=0.0, presort=False,\n",
      "                       random_state=0, splitter='best')\n",
      "Average roc_auc:\n",
      " 0.9862792461522227\n",
      "Std. Dev during CV:\n",
      " 0.012198929786172093\n",
      "\n",
      "Model:\n",
      " RandomForestClassifier(bootstrap=True, class_weight=None, criterion='gini',\n",
      "                       max_depth=76, max_features='auto', max_leaf_nodes=None,\n",
      "                       min_impurity_decrease=0.0, min_impurity_split=None,\n",
      "                       min_samples_leaf=2, min_samples_split=5,\n",
      "                       min_weight_fraction_leaf=0.0, n_estimators=86,\n",
      "                       n_jobs=None, oob_score=False, random_state=0, verbose=0,\n",
      "                       warm_start=False)\n",
      "Average roc_auc:\n",
      " 0.9986111011473178\n",
      "Std. Dev during CV:\n",
      " 0.002506146607307761\n",
      "\n",
      "Model:\n",
      " XGBClassifier(base_score=0.5, booster='gbtree', colsample_bylevel=1,\n",
      "              colsample_bynode=1, colsample_bytree=0.3704, gamma=0,\n",
      "              learning_rate=0.0671, max_delta_step=0, max_depth=85,\n",
      "              min_child_weight=1, missing=None, n_estimators=78, n_jobs=1,\n",
      "              nthread=None, objective='binary:logistic', random_state=0,\n",
      "              reg_alpha=0, reg_lambda=1, scale_pos_weight=1, seed=None,\n",
      "              silent=None, subsample=1, verbosity=1)\n",
      "Average roc_auc:\n",
      " 0.9980368905891396\n",
      "Std. Dev during CV:\n",
      " 0.0038982000209780263\n",
      "\n",
      "Best model with the highest mean roc_auc:\n",
      "RandomForestClassifier(bootstrap=True, class_weight=None, criterion='gini',\n",
      "                       max_depth=76, max_features='auto', max_leaf_nodes=None,\n",
      "                       min_impurity_decrease=0.0, min_impurity_split=None,\n",
      "                       min_samples_leaf=2, min_samples_split=5,\n",
      "                       min_weight_fraction_leaf=0.0, n_estimators=86,\n",
      "                       n_jobs=None, oob_score=False, random_state=0, verbose=0,\n",
      "                       warm_start=False)\n"
     ]
    }
   ],
   "source": [
    "# --- 14. cross-validate models --- # \n",
    "# a list of models to train: 5 fold cross-validation\n",
    "lr = LogisticRegression(tol=1.8213e-05, C=26, penalty='l2', solver='saga')\n",
    "tree = DecisionTreeClassifier(max_depth=19, min_samples_split=9, min_samples_leaf=2,\n",
    "                              max_features=9, random_state=0)\n",
    "forest = RandomForestClassifier(n_estimators=86, max_depth=76, min_samples_split=5,\n",
    "                                min_samples_leaf=2, random_state=0) \n",
    "xgb = XGBClassifier(n_estimators=78, max_depth=85, colsample_bytree=0.3704,\n",
    "                    learning_rate=0.0671, random_state=0)\n",
    "\n",
    "# a list of classifiers:\n",
    "models.extend([lr, tree, forest, xgb])\n",
    "\n",
    "# cross-validate models, using roc_auc to evaluate and print the summaries\n",
    "print('begin cross-validation')\n",
    "for model in models:\n",
    "    model_train(model, X_train_resampled, y_train_resampled, n_proc, mean_roc_auc, cv_std)\n",
    "    model_summary(model, mean_roc_auc, cv_std)\n",
    "    \n",
    "# --- 15. select the best model --- #\n",
    "model = max(mean_roc_auc, key=mean_roc_auc.get)\n",
    "print('\\nBest model with the highest mean roc_auc:')\n",
    "print(model)"
   ]
  },
  {
   "cell_type": "markdown",
   "metadata": {},
   "source": [
    "### Model Evaluation: using Feature Selection ###\n",
    "Compute a roc_auc score on \"stroke cases\" for following models:\n",
    "* Logistic Regression\n",
    "* Decision Tree Classifier\n",
    "* Random Forest Classifier\n",
    "* XGBoost Classifier"
   ]
  },
  {
   "cell_type": "code",
   "execution_count": 14,
   "metadata": {},
   "outputs": [
    {
     "name": "stderr",
     "output_type": "stream",
     "text": [
      "C:\\Users\\yoots\\Anaconda3\\lib\\site-packages\\sklearn\\linear_model\\sag.py:337: ConvergenceWarning: The max_iter was reached which means the coef_ did not converge\n",
      "  \"the coef_ did not converge\", ConvergenceWarning)\n"
     ]
    },
    {
     "data": {
      "text/plain": [
       "0.8570189467377828"
      ]
     },
     "execution_count": 14,
     "metadata": {},
     "output_type": "execute_result"
    }
   ],
   "source": [
    "# --- compute a roc_auc score on \"stroke cases\" --- #\n",
    "score_model_roc_auc(lr, X_train_resampled,\n",
    "                    y_train_resampled, X_val, y_val)"
   ]
  },
  {
   "cell_type": "markdown",
   "metadata": {},
   "source": [
    "### Model 1: Logistic Regression ###\n",
    "Logistic regression works by using a logit function to transform input value of features and calculate estimated probabilities of a label in range of [0,1]. For example, if P(1=stroke) ≥ 0.5, an observation is predicted as a stroke. Whereas if P(1=stroke) < 0.5, an observation is predicted as a non-stroke."
   ]
  },
  {
   "cell_type": "markdown",
   "metadata": {},
   "source": [
    "### Model 2: Decision Tree ###\n",
    "Decision tree is an algorithm where it predicts the value of a target variable (label) by learning simple decision rules inferred from selected features. Tree is generated and split data on features. It continues to split in repetitive process at each node until leaves reached purity (i.e., remaining samples at each node belongs to same class either non-stroke or stroke cases only)."
   ]
  },
  {
   "cell_type": "markdown",
   "metadata": {},
   "source": [
    "### Model 3: Random Forest ###\n",
    "Random forest is a typical ensemble learning model. It takes random subsample of data from each tree, so all constructed trees are different from each other. Thus, model makes classification based on predictions made from each tree with averaging (i.e., like picking a vote from majority)."
   ]
  },
  {
   "cell_type": "markdown",
   "metadata": {},
   "source": [
    "### Model 4: XGBoost ###\n",
    "XGBoost is a type of gradient boosting model in which subsequent model learns from the mistakes (i.e., residual errors) of previous model in a step-wise forward manner. In Gradient Boosting, residual errors are identified gradients. These gradients help how XGBoost to improve model performances."
   ]
  },
  {
   "cell_type": "markdown",
   "metadata": {},
   "source": [
    "## Model Evaluation: Confusion Matrix ##\n",
    "A confusion matrix is a table that is often used to describe the performance of a classification model (or \"classifier\") on a set of test data for which the true values are known.\n",
    "1. True Positives (TP): These are cases in which model predicted yes (they have the disease), and they do have the disease.\n",
    "2. True Negatives (TN): Model predicted no, and they don't have the disease.\n",
    "3. False Positives (FP): Model predicted yes, but they don't actually have the disease. (Also known as a \"Type I error.\")\n",
    "4. False Negatives (FN): Model predicted no, but they actually do have the disease. (Also known as a \"Type II error.\")"
   ]
  },
  {
   "cell_type": "code",
   "execution_count": 15,
   "metadata": {},
   "outputs": [
    {
     "name": "stderr",
     "output_type": "stream",
     "text": [
      "C:\\Users\\yoots\\Anaconda3\\lib\\site-packages\\sklearn\\linear_model\\sag.py:337: ConvergenceWarning: The max_iter was reached which means the coef_ did not converge\n",
      "  \"the coef_ did not converge\", ConvergenceWarning)\n"
     ]
    },
    {
     "data": {
      "image/png": "[encoded data removed]",
      "text/plain": [
       "<Figure size 504x504 with 1 Axes>"
      ]
     },
     "metadata": {
      "needs_background": "light"
     },
     "output_type": "display_data"
    },
    {
     "name": "stdout",
     "output_type": "stream",
     "text": [
      "Accuracy of Logistic Regression is 0.75\n",
      "Precision of Logistic Regression is 0.05\n",
      "Recall of Logistic Regression is 0.81\n",
      "ROC score of Logistic Regression is 0.78\n"
     ]
    },
    {
     "data": {
      "image/png": "[encoded data removed]",
      "text/plain": [
       "<Figure size 504x504 with 1 Axes>"
      ]
     },
     "metadata": {
      "needs_background": "light"
     },
     "output_type": "display_data"
    },
    {
     "name": "stdout",
     "output_type": "stream",
     "text": [
      "Accuracy of Decision Tree is 0.96\n",
      "Precision of Decision Tree is 0.06\n",
      "Recall of Decision Tree is 0.08\n",
      "ROC score of Decision Tree is 0.53\n"
     ]
    },
    {
     "data": {
      "image/png": "[encoded data removed]",
      "text/plain": [
       "<Figure size 504x504 with 1 Axes>"
      ]
     },
     "metadata": {
      "needs_background": "light"
     },
     "output_type": "display_data"
    },
    {
     "name": "stdout",
     "output_type": "stream",
     "text": [
      "Accuracy of Random Forest is 0.98\n",
      "Precision of Random Forest is 0.03\n",
      "Recall of Random Forest is 0.01\n",
      "ROC score of Random Forest is 0.50\n"
     ]
    },
    {
     "data": {
      "image/png": "[encoded data removed]",
      "text/plain": [
       "<Figure size 504x504 with 1 Axes>"
      ]
     },
     "metadata": {
      "needs_background": "light"
     },
     "output_type": "display_data"
    },
    {
     "name": "stdout",
     "output_type": "stream",
     "text": [
      "Accuracy of XGBoost is 0.98\n",
      "Precision of XGBoost is 0.25\n",
      "Recall of XGBoost is 0.00\n",
      "ROC score of XGBoost is 0.50\n"
     ]
    }
   ],
   "source": [
    "# --- 16. Model Evaluation ---    \n",
    "# compute predictions by a model:\n",
    "lr.fit(X_train_resampled, y_train_resampled)\n",
    "y_pred_lr = lr.predict(X_val)\n",
    "\n",
    "tree.fit(X_train_resampled, y_train_resampled)\n",
    "y_pred_tree = tree.predict(X_val)\n",
    "\n",
    "forest.fit(X_train_resampled, y_train_resampled)\n",
    "y_pred_forest = forest.predict(X_val)\n",
    "\n",
    "xgb.fit(X_train_resampled, y_train_resampled)\n",
    "y_pred_xgb = xgb.predict(X_val.values)\n",
    "\n",
    "# compute confusion matrices by a model:\n",
    "cm_lr = compute_confusion_matrix(y_val, y_pred_lr)\n",
    "\n",
    "cm_tree = compute_confusion_matrix(y_val, y_pred_tree)\n",
    "\n",
    "cm_forest = compute_confusion_matrix(y_val, y_pred_forest)\n",
    "\n",
    "cm_xgb = compute_confusion_matrix(y_val, y_pred_xgb)\n",
    "\n",
    "# Define class labels for stroke:\n",
    "class_labels = np.array(['non-stroke', 'stroke'], dtype=str)\n",
    "\n",
    "#####################################################\n",
    "# Confusion Matrix & Classification Metrics Summary #\n",
    "#####################################################\n",
    "# --- Model 1 --- #\n",
    "# Plot a confusion matrix: \n",
    "plot_confusion_matrix(cm_lr, class_labels)\n",
    "plt.title('Normalized Confusion Matrix: Logistic Regression')\n",
    "plt.show()\n",
    "\n",
    "# Report classification metrics summary:\n",
    "report_class_summary('Logistic Regression', y_val, y_pred_lr)\n",
    "\n",
    "# --- Model 2 --- #\n",
    "# Plot a confusion matrix: \n",
    "plot_confusion_matrix(cm_tree, class_labels)\n",
    "plt.title('Normalized Confusion Matrix: Decision Tree')\n",
    "plt.show()\n",
    "\n",
    "# Report classification metrics summary:\n",
    "report_class_summary('Decision Tree', y_val, y_pred_tree)\n",
    "\n",
    "# --- Model 3 --- #\n",
    "# Plot a confusion matrix: \n",
    "plot_confusion_matrix(cm_forest, class_labels)\n",
    "plt.title('Normalized Confusion Matrix: Random Forest')\n",
    "plt.show()\n",
    "\n",
    "# Report classification metrics summary:\n",
    "report_class_summary('Random Forest', y_val, y_pred_forest)\n",
    "\n",
    "# --- Model 4 --- #\n",
    "# Plot a confusion matrix: \n",
    "plot_confusion_matrix(cm_xgb, class_labels)\n",
    "plt.title('Normalized Confusion Matrix: XGBoost')\n",
    "plt.show()\n",
    "\n",
    "# Report classification metrics summary:\n",
    "report_class_summary('XGBoost', y_val, y_pred_xgb)"
   ]
  },
  {
   "cell_type": "markdown",
   "metadata": {},
   "source": [
    "## Model Evaluation: ROC Curve ##\n",
    "ROC curve typically displays true positive rate on the Y-axis, and false positive rate on the X-axis. This means that the top left corner of the plot is the “ideal” point - a false positive rate of zero, and a true positive rate of one. This is not very realistic, but it does mean that a larger area under the curve (AUC) is usually better. The “steepness” of ROC curves is also important, since it is ideal to maximize the true positive rate while minimizing the false positive rate."
   ]
  },
  {
   "cell_type": "code",
   "execution_count": 16,
   "metadata": {},
   "outputs": [
    {
     "name": "stderr",
     "output_type": "stream",
     "text": [
      "C:\\Users\\yoots\\Anaconda3\\lib\\site-packages\\sklearn\\linear_model\\sag.py:337: ConvergenceWarning: The max_iter was reached which means the coef_ did not converge\n",
      "  \"the coef_ did not converge\", ConvergenceWarning)\n"
     ]
    },
    {
     "data": {
      "image/png": "[encoded data removed]",
      "text/plain": [
       "<Figure size 576x576 with 1 Axes>"
      ]
     },
     "metadata": {
      "needs_background": "light"
     },
     "output_type": "display_data"
    }
   ],
   "source": [
    "# --- 17. Model Plotting --- \n",
    "# ROC for each classifiers\n",
    "clf_labels = ['Logistic Regression', 'Decision Tree', 'Random Forest', 'XGBoost']\n",
    "all_clf = [lr, tree, forest, xgb]\n",
    "\n",
    "# plot a ROC_AUC curve:\n",
    "plt.figure(figsize=(8,8))\n",
    "colors = ['green', 'blue', 'orange', 'red']\n",
    "linestyles = ['-', ':', ':', ':'] \n",
    "for clf, label, clr, ls \\\n",
    "    in zip(all_clf, clf_labels, colors, linestyles):  \n",
    "        # Assume the label of the positive class is 1\n",
    "        y_pred = clf.fit(X_train_resampled,\n",
    "                         y_train_resampled).predict_proba(X_val.values)[:,1]\n",
    "        fpr, tpr, thresholds = skm.roc_curve(y_true=y_val, y_score=y_pred)\n",
    "        roc_auc = skm.auc(x=fpr, y=tpr)\n",
    "        plt.plot(fpr, tpr, color=clr, linestyle=ls,\n",
    "                 label='%s (AUC = %0.2f)' % (label, roc_auc))\n",
    "plt.plot([0,1], [0,1], linestyle='--', color='gray', linewidth=2)\n",
    "plt.xlim([-0.05, 1.05])\n",
    "plt.ylim([-0.05, 1.05])\n",
    "plt.grid(alpha=0.5)\n",
    "plt.title('ROC Curve: Evaluation of Classifiers [test set]')\n",
    "plt.xlabel('False Positive Rate')\n",
    "plt.ylabel('True Positive Rate')\n",
    "plt.legend(loc='lower right', prop={'size': 15})\n",
    "plt.show()"
   ]
  },
  {
   "cell_type": "markdown",
   "metadata": {},
   "source": [
    "### Summary: ROC Curve ###\n",
    "This plot showed performance of all five models area under the curve. The best model had about AUC = 0.86 for logistic regression model. This indicated that about 86% of time model is good at separation of stroke cases from non-stroke cases."
   ]
  },
  {
   "cell_type": "markdown",
   "metadata": {},
   "source": [
    "## Part 4 - DEPLOY ##"
   ]
  },
  {
   "cell_type": "code",
   "execution_count": 17,
   "metadata": {},
   "outputs": [
    {
     "data": {
      "image/png": "[encoded data removed]",
      "text/plain": [
       "<Figure size 432x288 with 1 Axes>"
      ]
     },
     "metadata": {
      "needs_background": "light"
     },
     "output_type": "display_data"
    }
   ],
   "source": [
    "###########################\n",
    "# Part 4 - DEPLOY PHASE ###\n",
    "###########################\n",
    "# --- 18. automate the model pipeline --- #\n",
    "# make predictions on a test set:\n",
    "df_pred_probs = lr.predict_proba(test_df)\n",
    "\n",
    "# make predictions dataframe:\n",
    "results = pd.DataFrame({'id':df_test_id,\n",
    "                        'stroke':df_pred_probs[:,1]})\n",
    "results.to_csv('prob_results_lr.csv', index=False, index_label=None)\n",
    "\n",
    "# --- 19. deploy the solution --- #\n",
    "#store feature importances\n",
    "if hasattr(model, 'feature_importances_'):\n",
    "    importances = model.feature_importances_\n",
    "else:\n",
    "# linear models don't have feature_importances_\n",
    "    importances = [0]*len(X_train.columns)\n",
    "\n",
    "# sort a dataframe by feature importance score: \n",
    "feature_importances = pd.DataFrame({'feature':X_train.columns,\n",
    "                                        'importance':importances})\n",
    "feature_importances.sort_values(by='importance', inplace=True, ascending=False)\n",
    "\n",
    "# set index to 'feature'\n",
    "feature_importances.set_index('feature', inplace=True, drop=True)\n",
    "\n",
    "# create a bar plot:    \n",
    "feature_importances[0:15].plot.bar(align='center')\n",
    "plt.xticks(rotation=270, fontsize=9)\n",
    "plt.title('feature importance plot: best trained classifier')\n",
    "plt.show()\n",
    "    \n",
    "# save model results as .csv file:\n",
    "model_results(model, mean_roc_auc[model], results, feature_importances)"
   ]
  },
  {
   "cell_type": "markdown",
   "metadata": {},
   "source": [
    "### Model Summary: Feature Importance ###\n",
    "A figure showed the feature importance on the best trained model from order of the highest to lowest feature importance ranks.\n",
    "\n",
    "Top 10 important features were age followed by smoking_status_never_smoked, residence_type_urban, avg. age by gender, etc."
   ]
  }
 ],
 "metadata": {
  "kernelspec": {
   "display_name": "Python 3",
   "language": "python",
   "name": "python3"
  },
  "language_info": {
   "codemirror_mode": {
    "name": "ipython",
    "version": 3
   },
   "file_extension": ".py",
   "mimetype": "text/x-python",
   "name": "python",
   "nbconvert_exporter": "python",
   "pygments_lexer": "ipython3",
   "version": "3.7.4"
  }
 },
 "nbformat": 4,
 "nbformat_minor": 2
}
