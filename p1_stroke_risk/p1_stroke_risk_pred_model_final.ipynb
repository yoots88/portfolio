{
 "cells": [
  {
   "cell_type": "markdown",
   "metadata": {},
   "source": [
    "# Capstone Project: Stroke Risk Prediction #\n",
    "This is a capstone project for Springboard's data science intensive track. The dataset used in this project is sourced from the data science competition sponsor by McKinsey analytics and held in a platform \"Analytics Vidhya\". \n",
    "The competition link can be found here [contest page] (https://datahack.analyticsvidhya.com/contest/mckinsey-analytics-online-hackathon/).\n",
    "\n",
    "**Dataset:**\n",
    "The data source was contributed by a chain of hospital clients based in US for McKinsey consulting firm. McKinsey hosted this dataset as open data science hack competition on Analytics Vidhya. The dataset consists of 11 features on anonymized patients including mixed variables (i.e., numerical and categorical) such as patient ID, gender, health conditions and other demographic features. The volume of dataset contains about 43,000 patient cases.\n",
    "\n",
    "**Goal:** \n",
    "To develop a classification model predicts patients at high risks of developing a stroke condition\n",
    "\n",
    "**Results:**\n",
    "86% of auc_roc score made on test set of patient population using Logistic Regression classifier.\n",
    "\n",
    "**Risks:**\n",
    "Model incorrectly identified with 25% of error (especially error being Type I error).\n",
    "\n",
    "**Mitigation:**\n",
    "Review identified cases with a group of clinicians before any clinical decision making\n",
    "\n",
    "**Next Steps for Future Work:**\n",
    "* Collection of meaningful features.\n",
    "* Model improvement: algorithms, resampling strategies and classifier designs (i.e., age-specific)\n",
    "\n",
    "**Recommendations for Clients:**\n",
    "1. Implement additional stroke screening test at a recommended age (before 65-year-old)\n",
    "2. Collect meaningful features for building an accurate model: stress level, physical activity, genetic factors, etc.\n",
    "3. Conduct cohort studies: further study and stratify patient groups into diabetic and obese population based on given average glucose level and body mass index (BMI) defined by clinical study guidelines."
   ]
  },
  {
   "cell_type": "markdown",
   "metadata": {},
   "source": [
    "## Part 1 - DEFINE ##\n",
    "\n",
    "**Problem Statement:** a chain of hospitals in US collected anonymized pool of patients data for stroke classification. Stroke is one of critical disease which affects nearly 1 in 20 Americans and is a disease that affects arteries leading to and within the brain. A stroke occurs when a blood vessel that carries oxygen and nutrients to the brain is either blocked by a clot or ruptures. When that happens part of the brain cannot get the blood (and oxygen) it needs, so the brain cells in the affected region is dead. The clients captured several lifestyle, health monitoring measurements and demographic factors about their anonymized patients. These include features like age, gender, health monitoring measurements (i.e., glucose level, body mass index) and lifestyle factors (i.e., smoking status, occupation type etc.). \n",
    "\n",
    "**Stakeholders:**\n",
    "Hospital cardiac unit managers, a group of clinicians, insurance companies and employers from patient population."
   ]
  },
  {
   "cell_type": "code",
   "execution_count": 1,
   "metadata": {},
   "outputs": [
    {
     "name": "stderr",
     "output_type": "stream",
     "text": [
      "C:\\Users\\yoots\\AppData\\Local\\Continuum\\anaconda3\\lib\\site-packages\\sklearn\\externals\\six.py:31: DeprecationWarning: The module is deprecated in version 0.21 and will be removed in version 0.23 since we've dropped support for Python 2.7. Please rely on the official version of six (https://pypi.org/project/six/).\n",
      "  \"(https://pypi.org/project/six/).\", DeprecationWarning)\n"
     ]
    }
   ],
   "source": [
    "# Import all libraries #\n",
    "import numpy as np\n",
    "import pandas as pd\n",
    "import matplotlib.pyplot as plt\n",
    "from matplotlib.colors import ListedColormap\n",
    "import seaborn as sns\n",
    "plt.style.use('ggplot')\n",
    "import operator\n",
    "from itertools import cycle\n",
    "import scipy.stats as sp\n",
    "from scipy import interp\n",
    "from sklearn.externals import six\n",
    "from sklearn.pipeline import _name_estimators\n",
    "import sklearn.metrics as skm\n",
    "import sklearn.base as skb\n",
    "from sklearn.utils import shuffle, resample\n",
    "from imblearn.over_sampling import SMOTE\n",
    "from imblearn.combine import SMOTEENN\n",
    "from sklearn.preprocessing import Imputer, StandardScaler, LabelEncoder\n",
    "from sklearn.model_selection import KFold, train_test_split\n",
    "from sklearn.model_selection import cross_val_predict, cross_val_score, RandomizedSearchCV\n",
    "from statsmodels.stats.outliers_influence import variance_inflation_factor\n",
    "from sklearn.linear_model import LogisticRegression\n",
    "from sklearn.tree import DecisionTreeClassifier\n",
    "from sklearn.ensemble import RandomForestClassifier, GradientBoostingClassifier\n",
    "from xgboost import XGBClassifier\n",
    "\n",
    "# Authorship:\n",
    "__author__ = 'Taesun Yoo'\n",
    "__email__ = 'yoots1988@gmail.com'"
   ]
  },
  {
   "cell_type": "markdown",
   "metadata": {},
   "source": [
    "## Part 2 - DISCOVERY ##"
   ]
  },
  {
   "cell_type": "code",
   "execution_count": 2,
   "metadata": {},
   "outputs": [],
   "source": [
    "# --- 2. Write Out List of Functions --- #\n",
    "def load_file(file):\n",
    "    '''load the CSV files as a dataframe'''\n",
    "    df = pd.read_csv(file)\n",
    "    return df\n",
    "\n",
    "def drop_column_by_index(df, var):\n",
    "    '''drop a column by specified variable'''\n",
    "    df = df.drop(var, axis=1)\n",
    "    return df\n",
    "\n",
    "def join_data(df_train, df_label, key, \n",
    "              left_index=None, right_index=None):\n",
    "    '''Merge the feature and label dataframe(s)'''\n",
    "    df_join = pd.merge(df_train, df_label, how='inner', on=key,\n",
    "                         left_index=False, right_index=False)\n",
    "    return df_join\n",
    "\n",
    "def clean_data(df):\n",
    "    '''drop any duplicate based on specific column'''\n",
    "    clean_df = df.drop_duplicates(subset='id')\n",
    "    return clean_df\n",
    "\n",
    "def eda_missing_data(df):\n",
    "    missing_df = pd.DataFrame(df.isnull().sum())\n",
    "    missing_df.columns = ['count']\n",
    "    missing_df['pct'] = (missing_df['count']/len(df))*100\n",
    "    return missing_df\n",
    "\n",
    "def eda_summary_stat_num(df):\n",
    "    '''compute summary statistics for numerical variables'''\n",
    "    df_stat_num = df.describe().T\n",
    "    df_stat_num = df_stat_num[['count', 'min', 'mean', 'max', '25%', '50%', '75%', 'std']]\n",
    "    df_stat_num = df_stat_num.sort_values(by='count', ascending=True)\n",
    "    df_stat_num = pd.DataFrame(df_stat_num)\n",
    "    return df_stat_num\n",
    "\n",
    "def eda_summary_stat_cat(df):\n",
    "    '''compute summary statistics for categorical variables'''\n",
    "    df_stat_cat = pd.DataFrame(df.describe(include='O').T)\n",
    "    return df_stat_cat\n",
    "\n",
    "def compute_outliers(df_stat_num):\n",
    "    df_stat_num['IQR'] = df_stat_num['75%'] - df_stat_num['25%']\n",
    "    df_stat_num['UB'] = df_stat_num['75%'] + 1.5*df_stat_num['IQR']\n",
    "    df_stat_num['LB'] = df_stat_num['25%'] - 1.5*df_stat_num['IQR']\n",
    "    df_outliers = df_stat_num[['LB', 'min', 'UB', 'max']]\n",
    "    return df_outliers\n",
    "\n",
    "def EDA_plot_correlation(df_EDA):\n",
    "    '''compute and plot correlation matrix'''\n",
    "    corr = df_EDA.corr()\n",
    "    # Create a mask to filter matrix: diagonally\n",
    "    mask = np.zeros_like(corr, dtype=np.bool)\n",
    "    mask[np.triu_indices_from(mask)] = True\n",
    "    # Matrix Plot:\n",
    "    fig, ax = plt.subplots(figsize=(7,7))\n",
    "    cmap = sns.diverging_palette(220,10,as_cmap=True)\n",
    "    sns.set(font_scale=1.1)\n",
    "    sns.heatmap(corr, mask=mask, cmap=cmap, vmax=.3, center=0,\n",
    "                annot=True, square=True, linewidths=.5, fmt=\".2f\",\n",
    "                annot_kws={'size':10}, cbar_kws={'shrink':.6})\n",
    "    plt.xticks(rotation=90)\n",
    "    plt.yticks(rotation=0)\n",
    "\n",
    "def encode_categorical_feature(df, var_name, map_name):\n",
    "    '''encode categorical features into mapping values'''\n",
    "    df[var_name] = df[var_name].map(map_name)\n",
    "    return df[var_name]\n",
    "\n",
    "def feature_imputer(X, missing_val_format, method, indices):\n",
    "    '''imputes missing values based on different uni-variate methods'''\n",
    "    imputer = Imputer(missing_values=missing_val_format, strategy=method, axis=0)\n",
    "    imputer = imputer.fit(X.iloc[:, indices])\n",
    "    X.iloc[:, indices] = imputer.transform(X.iloc[:, indices])\n",
    "    return X.iloc[:, indices]\n",
    "\n",
    "def convert_data_type(df, var_name, dt_type):\n",
    "    '''convert data type into specified metadata type'''\n",
    "    df[var_name] = df[var_name].astype(dt_type)\n",
    "    return df[var_name]\n",
    "\n",
    "def split_dataframe(df):\n",
    "    '''Split dataframe into features and label'''\n",
    "    X, y = df.iloc[:, :-1], df.iloc[:, -1]\n",
    "    return X, y\n",
    "\n",
    "def avg_groupby_data(df, num_var, cat_var, avg_var_name):\n",
    "    '''perform average group by categorical variable to compute a mean'''\n",
    "    avg_groupby_val = df.groupby(cat_var)[num_var].mean().sort_values(ascending=False)\n",
    "    avg_groupby_df = pd.DataFrame({cat_var:list(df[cat_var].unique()),\n",
    "                                   avg_var_name:avg_groupby_val})\n",
    "    avg_groupby_df.reset_index(drop=True, inplace=True)\n",
    "    return avg_groupby_df\n",
    "\n",
    "def left_join_data(train_df, avg_groupby_df, key=None, left_index=False, right_index=False):\n",
    "    '''performs left join on train data to average groupby data'''\n",
    "    joined_df = pd.merge(train_df, avg_groupby_df, how='left', on=key,\n",
    "                         left_index=left_index, right_index=right_index)\n",
    "    return joined_df\n",
    "\n",
    "def one_hot_encode_feature(df, cat_vars=None, num_vars=None):\n",
    "    '''performs one-hot encoding on all categorical variables and\n",
    "       combine results with numerical variables '''\n",
    "    cat_df = pd.get_dummies(df[cat_vars], drop_first=True)\n",
    "    num_df = df[num_vars].apply(pd.to_numeric)\n",
    "    return pd.concat([cat_df, num_df], axis=1)\n",
    "\n",
    "def get_label_data(df, label_var):\n",
    "    '''separate label from a dataframe'''\n",
    "    df_label = df[label_var]\n",
    "    return df_label\n",
    "\n",
    "def split_data_by_age_group(df, var_name):\n",
    "    '''split dataframe by age group'''\n",
    "    df_age_group = pd.DataFrame(df.groupby(var_name)[var_name].count().sort_values(ascending=False))\n",
    "    df_age_group.columns = ['count']\n",
    "    df_age_group.index.name = 'age_group'\n",
    "    return df_age_group\n",
    "\n",
    "def strata_by_age_group(df, group_name, idx):\n",
    "    '''stratify dataframe by label group index'''\n",
    "    df_strata = df[df[group_name] == idx]\n",
    "    return df_strata\n",
    "\n",
    "def resample_data_by_group(df, n_samples):\n",
    "    '''resample data by random replacement'''\n",
    "    sample_group = resample(df, n_samples=n_samples, random_state=0, replace=True)\n",
    "    return sample_group\n",
    "\n",
    "def EDA_feature_importance_plot(model, X, y):\n",
    "    '''plots the feature importance plot on trained model'''\n",
    "    model = model\n",
    "    model.fit(X, y)\n",
    "    feat_labels = X.columns\n",
    "    importances = model.feature_importances_\n",
    "    indices = np.argsort(importances)[::-1]\n",
    "    \n",
    "    plt.bar(range(X.shape[1]), importances[indices], align='center')\n",
    "    plt.xticks(range(X.shape[1]), feat_labels[indices], rotation=90, fontsize=7)\n",
    "    plt.xlim(-1, X.shape[1])\n",
    "\n",
    "def feature_scale_data(X):\n",
    "    '''Feature scaled data based on standardization'''\n",
    "    sc_X = StandardScaler()\n",
    "    X_std = sc_X.fit_transform(X)\n",
    "    return X_std\n",
    "    \n",
    "# Plot confusion matrix: accuracy, precision, recall and etc.\n",
    "def plot_confusion_matrix(cm, classes):\n",
    "    '''plot the confusion matrix of trained model'''\n",
    "    fig, ax = plt.subplots(figsize=(7,7))\n",
    "    cm = cm.astype('float')/cm.sum()\n",
    "    \n",
    "    plt.imshow(cm, interpolation='nearest', cmap=plt.cm.Blues)\n",
    "    tick_marks = np.arange(len(classes))\n",
    "    plt.xticks(tick_marks, classes, rotation=45)\n",
    "    plt.yticks(tick_marks, classes)\n",
    "    \n",
    "    fmt='.2f'\n",
    "    thresh = cm.max()/2.\n",
    "    for i in range(cm.shape[0]):\n",
    "        for j in range(cm.shape[1]):\n",
    "            ax.text(j, i, format(cm[i,j], fmt), ha='center', va='center',\n",
    "                    color='white' if cm[i,j] > thresh else 'black')\n",
    "    plt.xlabel('predicted label')\n",
    "    plt.ylabel('true label')\n",
    "\n",
    "# Write report classification metrics summary report\n",
    "def report_class_summary(model_name, y_act, y_pred):\n",
    "    print ('Accuracy of ' + model_name + ' is %0.2f'% skm.accuracy_score(y_act, y_pred))\n",
    "    print ('Precision of ' + model_name + ' is %0.2f'% skm.precision_score(y_act, y_pred))\n",
    "    print ('Recall of ' + model_name + ' is %0.2f'% skm.recall_score(y_act, y_pred))\n",
    "    print ('ROC score of ' + model_name + ' is %0.2f'% skm.roc_auc_score(y_act, y_pred))\n",
    "\n",
    "# Compute confusion matrix:\n",
    "def compute_confusion_matrix(y_act, y_pred):\n",
    "    '''compute sklearn confusion matrix'''\n",
    "    cm_model = skm.confusion_matrix(y_act, y_pred)\n",
    "    return cm_model    \n",
    "\n",
    "def score_model_roc_auc(model, X_train, y_train, X_val, y_val):\n",
    "    '''computes the roc_auc score for probability of being a stroke case'''\n",
    "    model.fit(X_train, y_train)\n",
    "    probs = model.predict_proba(X_val)\n",
    "    return skm.roc_auc_score(y_val, probs[:,1])\n",
    "\n",
    "def model_tuning_param(model, feature_df, label_df, param_dist, n_iter):\n",
    "    '''performs RandomizedSearchCV to tune model hyper-parameters'''\n",
    "    random_search = RandomizedSearchCV(model, param_dist, n_iter, cv=5)\n",
    "    random_search.fit(feature_df, label_df)\n",
    "    return random_search\n",
    "\n",
    "def print_best_param(random_search, param_1=None, param_2=None, param_3=None, param_4=None):\n",
    "    '''print the best model parameter(s)'''\n",
    "    print(\"Best \" + param_1 + \":\", random_search.best_estimator_.get_params()[param_1])\n",
    "    print(\"Best \" + param_2 + \":\", random_search.best_estimator_.get_params()[param_2])\n",
    "    print(\"Best \" + param_3 + \":\", random_search.best_estimator_.get_params()[param_3])\n",
    "    print(\"Best \" + param_4 + \":\", random_search.best_estimator_.get_params()[param_4])\n",
    "\n",
    "def model_train(model, feature_df, label_df, n_proc, mean_roc_auc, cv_std):\n",
    "    '''train a model and output mean roc_auc and CV std.dev roc_auc'''\n",
    "    roc_auc = cross_val_score(model, feature_df, label_df, n_jobs=n_proc,\n",
    "                               cv=5, scoring='roc_auc')\n",
    "    mean_roc_auc[model] = np.mean(roc_auc)\n",
    "    cv_std[model] = np.std(roc_auc)    \n",
    "\n",
    "def model_summary(model, mean_roc_auc, cv_std):\n",
    "    '''print out the model performances'''\n",
    "    print('\\nModel:\\n', model)\n",
    "    print('Average roc_auc:\\n', mean_roc_auc[model])\n",
    "    print('Std. Dev during CV:\\n', cv_std[model])    \n",
    "\n",
    "def model_results(model, mean_roc_auc, predictions, feature_importances):\n",
    "    '''saves the model name, mean_roc_auc, predicted rate, and feature importances'''\n",
    "    with open('model.txt', 'w') as file:\n",
    "        file.write(str(model))\n",
    "        feature_importances.to_csv('feat_importances.csv')\n",
    "        predictions.to_csv('pred_results_best.csv', index=False)"
   ]
  },
  {
   "cell_type": "code",
   "execution_count": 3,
   "metadata": {},
   "outputs": [
    {
     "name": "stdout",
     "output_type": "stream",
     "text": [
      "<class 'pandas.core.frame.DataFrame'>\n",
      "RangeIndex: 43400 entries, 0 to 43399\n",
      "Data columns (total 12 columns):\n",
      "id                   43400 non-null int64\n",
      "gender               43400 non-null object\n",
      "age                  43400 non-null float64\n",
      "hypertension         43400 non-null int64\n",
      "heart_disease        43400 non-null int64\n",
      "ever_married         43400 non-null object\n",
      "work_type            43400 non-null object\n",
      "Residence_type       43400 non-null object\n",
      "avg_glucose_level    43400 non-null float64\n",
      "bmi                  41938 non-null float64\n",
      "smoking_status       30108 non-null object\n",
      "stroke               43400 non-null int64\n",
      "dtypes: float64(3), int64(4), object(5)\n",
      "memory usage: 4.0+ MB\n"
     ]
    }
   ],
   "source": [
    "# --- 3. Load the data --- #\n",
    "if __name__ == '__main__':\n",
    "# Define input CSVs:\n",
    "    train_file = 'stroke_train.csv'\n",
    "    test_file = 'stroke_test.csv'\n",
    "\n",
    "# Define type of variables list:\n",
    "#df_train.select_dtypes(include='object').columns\n",
    "cat_vars = ['gender', 'ever_married', 'work_type', 'Residence_type', 'smoking_status']\n",
    "\n",
    "#df_train.select_dtypes(include='int64').columns\n",
    "#df_train.select_dtypes(include='float64').columns\n",
    "num_vars = ['hypertension', 'heart_disease', 'age', 'avg_glucose_level', 'bmi']\n",
    "label_var = 'stroke'\n",
    "\n",
    "# Define variables to drop\n",
    "list_vars = 'id'\n",
    "\n",
    "# Load data\n",
    "df_train = load_file(train_file)\n",
    "df_test = load_file(test_file)\n",
    "\n",
    "# Check the metadata of dataframe:\n",
    "df_train.info()\n",
    "\n",
    "# Create a label dataframe:\n",
    "df_label = df_train[['id', 'stroke']]\n",
    "\n",
    "# Drop a column by index: poverty_rate\n",
    "df_train = drop_column_by_index(df_train, label_var)\n",
    "\n",
    "# join train set and label:\n",
    "train_raw_df = join_data(df_train, df_label, key='id')"
   ]
  },
  {
   "cell_type": "code",
   "execution_count": 4,
   "metadata": {},
   "outputs": [],
   "source": [
    "# --- 4. Perform data cleaning and quality check --- #\n",
    "# Clean invalid data and duplicates: train and test set\n",
    "clean_train_df = shuffle(clean_data(train_raw_df)).reset_index(drop=True)\n",
    "clean_test_df = shuffle(clean_data(df_test)).reset_index(drop=True)\n",
    "\n",
    "del (train_raw_df, df_test)\n",
    "\n",
    "clean_train_df = drop_column_by_index(clean_train_df, list_vars)\n",
    "\n",
    "# Compute missing value % on a dataframe:\n",
    "missing_df_train = eda_missing_data(clean_train_df)\n",
    "missing_df_test = eda_missing_data(clean_test_df)"
   ]
  },
  {
   "cell_type": "code",
   "execution_count": 5,
   "metadata": {},
   "outputs": [
    {
     "data": {
      "text/html": [
       "<div>\n",
       "<style scoped>\n",
       "    .dataframe tbody tr th:only-of-type {\n",
       "        vertical-align: middle;\n",
       "    }\n",
       "\n",
       "    .dataframe tbody tr th {\n",
       "        vertical-align: top;\n",
       "    }\n",
       "\n",
       "    .dataframe thead th {\n",
       "        text-align: right;\n",
       "    }\n",
       "</style>\n",
       "<table border=\"1\" class=\"dataframe\">\n",
       "  <thead>\n",
       "    <tr style=\"text-align: right;\">\n",
       "      <th></th>\n",
       "      <th>count</th>\n",
       "      <th>pct</th>\n",
       "    </tr>\n",
       "  </thead>\n",
       "  <tbody>\n",
       "    <tr>\n",
       "      <th>gender</th>\n",
       "      <td>0</td>\n",
       "      <td>0.000000</td>\n",
       "    </tr>\n",
       "    <tr>\n",
       "      <th>age</th>\n",
       "      <td>0</td>\n",
       "      <td>0.000000</td>\n",
       "    </tr>\n",
       "    <tr>\n",
       "      <th>hypertension</th>\n",
       "      <td>0</td>\n",
       "      <td>0.000000</td>\n",
       "    </tr>\n",
       "    <tr>\n",
       "      <th>heart_disease</th>\n",
       "      <td>0</td>\n",
       "      <td>0.000000</td>\n",
       "    </tr>\n",
       "    <tr>\n",
       "      <th>ever_married</th>\n",
       "      <td>0</td>\n",
       "      <td>0.000000</td>\n",
       "    </tr>\n",
       "    <tr>\n",
       "      <th>work_type</th>\n",
       "      <td>0</td>\n",
       "      <td>0.000000</td>\n",
       "    </tr>\n",
       "    <tr>\n",
       "      <th>Residence_type</th>\n",
       "      <td>0</td>\n",
       "      <td>0.000000</td>\n",
       "    </tr>\n",
       "    <tr>\n",
       "      <th>avg_glucose_level</th>\n",
       "      <td>0</td>\n",
       "      <td>0.000000</td>\n",
       "    </tr>\n",
       "    <tr>\n",
       "      <th>bmi</th>\n",
       "      <td>1462</td>\n",
       "      <td>3.368664</td>\n",
       "    </tr>\n",
       "    <tr>\n",
       "      <th>smoking_status</th>\n",
       "      <td>13292</td>\n",
       "      <td>30.626728</td>\n",
       "    </tr>\n",
       "    <tr>\n",
       "      <th>stroke</th>\n",
       "      <td>0</td>\n",
       "      <td>0.000000</td>\n",
       "    </tr>\n",
       "  </tbody>\n",
       "</table>\n",
       "</div>"
      ],
      "text/plain": [
       "                   count        pct\n",
       "gender                 0   0.000000\n",
       "age                    0   0.000000\n",
       "hypertension           0   0.000000\n",
       "heart_disease          0   0.000000\n",
       "ever_married           0   0.000000\n",
       "work_type              0   0.000000\n",
       "Residence_type         0   0.000000\n",
       "avg_glucose_level      0   0.000000\n",
       "bmi                 1462   3.368664\n",
       "smoking_status     13292  30.626728\n",
       "stroke                 0   0.000000"
      ]
     },
     "execution_count": 5,
     "metadata": {},
     "output_type": "execute_result"
    }
   ],
   "source": [
    "missing_df_train"
   ]
  },
  {
   "cell_type": "markdown",
   "metadata": {},
   "source": [
    "### Check # of missing value counts and percentage ###"
   ]
  },
  {
   "cell_type": "markdown",
   "metadata": {},
   "source": [
    "* Smoking_status is a categorical feature and about 30.6% of observations are missing.\n",
    "* Followed by BMI is a numerical feature and about 3.37% of observations are missing."
   ]
  },
  {
   "cell_type": "markdown",
   "metadata": {},
   "source": [
    "### Compute Summary Statistics: pre-data cleansing ###\n",
    "Compute summary statistics and report on numerical features only!"
   ]
  },
  {
   "cell_type": "code",
   "execution_count": 6,
   "metadata": {},
   "outputs": [],
   "source": [
    "# --- 5. Explore the data (EDA) --- # \n",
    "# Compute summary statistics\n",
    "df_stat_num = eda_summary_stat_num(clean_train_df[num_vars])\n",
    "df_stat_cat = eda_summary_stat_cat(clean_train_df)\n",
    "\n",
    "# save row_id from test set:\n",
    "df_test_id = clean_test_df['id']\n",
    "clean_test_df = drop_column_by_index(clean_test_df, list_vars)"
   ]
  },
  {
   "cell_type": "code",
   "execution_count": 7,
   "metadata": {},
   "outputs": [
    {
     "data": {
      "text/html": [
       "<div>\n",
       "<style scoped>\n",
       "    .dataframe tbody tr th:only-of-type {\n",
       "        vertical-align: middle;\n",
       "    }\n",
       "\n",
       "    .dataframe tbody tr th {\n",
       "        vertical-align: top;\n",
       "    }\n",
       "\n",
       "    .dataframe thead th {\n",
       "        text-align: right;\n",
       "    }\n",
       "</style>\n",
       "<table border=\"1\" class=\"dataframe\">\n",
       "  <thead>\n",
       "    <tr style=\"text-align: right;\">\n",
       "      <th></th>\n",
       "      <th>count</th>\n",
       "      <th>min</th>\n",
       "      <th>mean</th>\n",
       "      <th>max</th>\n",
       "      <th>25%</th>\n",
       "      <th>50%</th>\n",
       "      <th>75%</th>\n",
       "      <th>std</th>\n",
       "    </tr>\n",
       "  </thead>\n",
       "  <tbody>\n",
       "    <tr>\n",
       "      <th>bmi</th>\n",
       "      <td>41938.0</td>\n",
       "      <td>10.10</td>\n",
       "      <td>28.605038</td>\n",
       "      <td>97.60</td>\n",
       "      <td>23.20</td>\n",
       "      <td>27.70</td>\n",
       "      <td>32.90</td>\n",
       "      <td>7.770020</td>\n",
       "    </tr>\n",
       "    <tr>\n",
       "      <th>hypertension</th>\n",
       "      <td>43400.0</td>\n",
       "      <td>0.00</td>\n",
       "      <td>0.093571</td>\n",
       "      <td>1.00</td>\n",
       "      <td>0.00</td>\n",
       "      <td>0.00</td>\n",
       "      <td>0.00</td>\n",
       "      <td>0.291235</td>\n",
       "    </tr>\n",
       "    <tr>\n",
       "      <th>heart_disease</th>\n",
       "      <td>43400.0</td>\n",
       "      <td>0.00</td>\n",
       "      <td>0.047512</td>\n",
       "      <td>1.00</td>\n",
       "      <td>0.00</td>\n",
       "      <td>0.00</td>\n",
       "      <td>0.00</td>\n",
       "      <td>0.212733</td>\n",
       "    </tr>\n",
       "    <tr>\n",
       "      <th>age</th>\n",
       "      <td>43400.0</td>\n",
       "      <td>0.08</td>\n",
       "      <td>42.217894</td>\n",
       "      <td>82.00</td>\n",
       "      <td>24.00</td>\n",
       "      <td>44.00</td>\n",
       "      <td>60.00</td>\n",
       "      <td>22.519649</td>\n",
       "    </tr>\n",
       "    <tr>\n",
       "      <th>avg_glucose_level</th>\n",
       "      <td>43400.0</td>\n",
       "      <td>55.00</td>\n",
       "      <td>104.482750</td>\n",
       "      <td>291.05</td>\n",
       "      <td>77.54</td>\n",
       "      <td>91.58</td>\n",
       "      <td>112.07</td>\n",
       "      <td>43.111751</td>\n",
       "    </tr>\n",
       "  </tbody>\n",
       "</table>\n",
       "</div>"
      ],
      "text/plain": [
       "                     count    min        mean     max    25%    50%     75%  \\\n",
       "bmi                41938.0  10.10   28.605038   97.60  23.20  27.70   32.90   \n",
       "hypertension       43400.0   0.00    0.093571    1.00   0.00   0.00    0.00   \n",
       "heart_disease      43400.0   0.00    0.047512    1.00   0.00   0.00    0.00   \n",
       "age                43400.0   0.08   42.217894   82.00  24.00  44.00   60.00   \n",
       "avg_glucose_level  43400.0  55.00  104.482750  291.05  77.54  91.58  112.07   \n",
       "\n",
       "                         std  \n",
       "bmi                 7.770020  \n",
       "hypertension        0.291235  \n",
       "heart_disease       0.212733  \n",
       "age                22.519649  \n",
       "avg_glucose_level  43.111751  "
      ]
     },
     "execution_count": 7,
     "metadata": {},
     "output_type": "execute_result"
    }
   ],
   "source": [
    "df_stat_num"
   ]
  },
  {
   "cell_type": "code",
   "execution_count": 8,
   "metadata": {},
   "outputs": [
    {
     "data": {
      "text/html": [
       "<div>\n",
       "<style scoped>\n",
       "    .dataframe tbody tr th:only-of-type {\n",
       "        vertical-align: middle;\n",
       "    }\n",
       "\n",
       "    .dataframe tbody tr th {\n",
       "        vertical-align: top;\n",
       "    }\n",
       "\n",
       "    .dataframe thead th {\n",
       "        text-align: right;\n",
       "    }\n",
       "</style>\n",
       "<table border=\"1\" class=\"dataframe\">\n",
       "  <thead>\n",
       "    <tr style=\"text-align: right;\">\n",
       "      <th></th>\n",
       "      <th>count</th>\n",
       "      <th>unique</th>\n",
       "      <th>top</th>\n",
       "      <th>freq</th>\n",
       "    </tr>\n",
       "  </thead>\n",
       "  <tbody>\n",
       "    <tr>\n",
       "      <th>gender</th>\n",
       "      <td>43400</td>\n",
       "      <td>3</td>\n",
       "      <td>Female</td>\n",
       "      <td>25665</td>\n",
       "    </tr>\n",
       "    <tr>\n",
       "      <th>ever_married</th>\n",
       "      <td>43400</td>\n",
       "      <td>2</td>\n",
       "      <td>Yes</td>\n",
       "      <td>27938</td>\n",
       "    </tr>\n",
       "    <tr>\n",
       "      <th>work_type</th>\n",
       "      <td>43400</td>\n",
       "      <td>5</td>\n",
       "      <td>Private</td>\n",
       "      <td>24834</td>\n",
       "    </tr>\n",
       "    <tr>\n",
       "      <th>Residence_type</th>\n",
       "      <td>43400</td>\n",
       "      <td>2</td>\n",
       "      <td>Urban</td>\n",
       "      <td>21756</td>\n",
       "    </tr>\n",
       "    <tr>\n",
       "      <th>smoking_status</th>\n",
       "      <td>30108</td>\n",
       "      <td>3</td>\n",
       "      <td>never smoked</td>\n",
       "      <td>16053</td>\n",
       "    </tr>\n",
       "  </tbody>\n",
       "</table>\n",
       "</div>"
      ],
      "text/plain": [
       "                count unique           top   freq\n",
       "gender          43400      3        Female  25665\n",
       "ever_married    43400      2           Yes  27938\n",
       "work_type       43400      5       Private  24834\n",
       "Residence_type  43400      2         Urban  21756\n",
       "smoking_status  30108      3  never smoked  16053"
      ]
     },
     "execution_count": 8,
     "metadata": {},
     "output_type": "execute_result"
    }
   ],
   "source": [
    "df_stat_cat"
   ]
  },
  {
   "cell_type": "markdown",
   "metadata": {},
   "source": [
    "### Handling outliers with inter-quartile range (IQR) method ###\n",
    "Outliers were required to be managed properly on numerical features. In a training set, there were three independent features (i.e., continuous). These included “age”, “BMI” and “avg_glucose_level”. Interquartile range (IQR) method applied here. For example, if any value of a feature sits below lower and above upper bounds of IQR, these observations will be removed from dataset. \n",
    "\n",
    "IQR is defined as: IQR = Q3 – Q1 in which Q3 is 75th percentile and Q1 is 25th percentile of a feature. Lower bound (LB) equals to Q1 – (1.5*IQR) and upper bound (UB) equals to Q3 + (1.5*IQR).\n",
    "\n",
    "From above definition, summary table was computed on all three numerical features. We can observed that the max. value on each of feature is greater than the upper bound value for average glucose and BMI. Therefore, presence of outliers were confirmed for BMI and average glucose level on beyond upper bound values."
   ]
  },
  {
   "cell_type": "code",
   "execution_count": 9,
   "metadata": {},
   "outputs": [
    {
     "data": {
      "text/html": [
       "<div>\n",
       "<style scoped>\n",
       "    .dataframe tbody tr th:only-of-type {\n",
       "        vertical-align: middle;\n",
       "    }\n",
       "\n",
       "    .dataframe tbody tr th {\n",
       "        vertical-align: top;\n",
       "    }\n",
       "\n",
       "    .dataframe thead th {\n",
       "        text-align: right;\n",
       "    }\n",
       "</style>\n",
       "<table border=\"1\" class=\"dataframe\">\n",
       "  <thead>\n",
       "    <tr style=\"text-align: right;\">\n",
       "      <th></th>\n",
       "      <th>LB</th>\n",
       "      <th>min</th>\n",
       "      <th>UB</th>\n",
       "      <th>max</th>\n",
       "    </tr>\n",
       "  </thead>\n",
       "  <tbody>\n",
       "    <tr>\n",
       "      <th>bmi</th>\n",
       "      <td>8.650</td>\n",
       "      <td>10.10</td>\n",
       "      <td>47.450</td>\n",
       "      <td>97.60</td>\n",
       "    </tr>\n",
       "    <tr>\n",
       "      <th>hypertension</th>\n",
       "      <td>0.000</td>\n",
       "      <td>0.00</td>\n",
       "      <td>0.000</td>\n",
       "      <td>1.00</td>\n",
       "    </tr>\n",
       "    <tr>\n",
       "      <th>heart_disease</th>\n",
       "      <td>0.000</td>\n",
       "      <td>0.00</td>\n",
       "      <td>0.000</td>\n",
       "      <td>1.00</td>\n",
       "    </tr>\n",
       "    <tr>\n",
       "      <th>age</th>\n",
       "      <td>-30.000</td>\n",
       "      <td>0.08</td>\n",
       "      <td>114.000</td>\n",
       "      <td>82.00</td>\n",
       "    </tr>\n",
       "    <tr>\n",
       "      <th>avg_glucose_level</th>\n",
       "      <td>25.745</td>\n",
       "      <td>55.00</td>\n",
       "      <td>163.865</td>\n",
       "      <td>291.05</td>\n",
       "    </tr>\n",
       "  </tbody>\n",
       "</table>\n",
       "</div>"
      ],
      "text/plain": [
       "                       LB    min       UB     max\n",
       "bmi                 8.650  10.10   47.450   97.60\n",
       "hypertension        0.000   0.00    0.000    1.00\n",
       "heart_disease       0.000   0.00    0.000    1.00\n",
       "age               -30.000   0.08  114.000   82.00\n",
       "avg_glucose_level  25.745  55.00  163.865  291.05"
      ]
     },
     "execution_count": 9,
     "metadata": {},
     "output_type": "execute_result"
    }
   ],
   "source": [
    "# Check 3: handling outliers using IQR #\n",
    "###############################################################################\n",
    "# Compute IQR, LB, UB:        \n",
    "df_outliers = compute_outliers(df_stat_num)\n",
    "df_outliers"
   ]
  },
  {
   "cell_type": "markdown",
   "metadata": {},
   "source": [
    "There were outliers on BMI and avg_glucose_level since max. value of these features are greater than their defined UB values."
   ]
  },
  {
   "cell_type": "code",
   "execution_count": 10,
   "metadata": {},
   "outputs": [
    {
     "data": {
      "image/png": "[encoded data removed]",
      "text/plain": [
       "<Figure size 504x504 with 2 Axes>"
      ]
     },
     "metadata": {
      "needs_background": "light"
     },
     "output_type": "display_data"
    },
    {
     "name": "stdout",
     "output_type": "stream",
     "text": [
      "stroke               1.000000\n",
      "age                  0.156049\n",
      "heart_disease        0.113763\n",
      "avg_glucose_level    0.078917\n",
      "hypertension         0.075332\n",
      "bmi                  0.020285\n",
      "Name: stroke, dtype: float64\n"
     ]
    }
   ],
   "source": [
    "# Correlation matrix plot # \n",
    "###########################\n",
    "df_EDA = clean_train_df.copy()\n",
    "df_EDA = drop_column_by_index(df_EDA, cat_vars)\n",
    "\n",
    "# Plot correlation matrix\n",
    "EDA_plot_correlation(df_EDA)\n",
    "plt.title('Correlation Matrix on Training Set')\n",
    "plt.show()\n",
    "\n",
    "# Compute the correlation of each feature against poverty rate: order of magnitude\n",
    "CM_summary = df_EDA.corr().sort_values(by=['stroke'], ascending=False)['stroke']\n",
    "print(CM_summary)"
   ]
  },
  {
   "cell_type": "markdown",
   "metadata": {},
   "source": [
    "### Feature Encoding ###\n",
    "Feature encoding is a process where features are encoded into right format. There are two types of feature encoding: ordinal and nominal feature encoding. Ordinal feature encoding is a type of encoding where feature actually contains information about \"order\" like increase or decrease in value (i.e., score level, date, etc). Whereas nominal feature encoding is a type of encoding where feature contains a class of label like gender (i.e., male or female). \n",
    "\n",
    "**Ordinal feature encoding:** smoking_status. \n",
    "Smoking status is a feature where it has an order of smoking level progresses from never smoked to frequent smoker.\n",
    "Thus, smoking status gets mapped into numerical values then gets printed after ordinal feature encoding for checking data consistency.\n",
    "\n",
    "**Nominal feature encoding:** hypertension and heart_disease.\n",
    "These two feature(s) have meaning of different class labels being \"Yes\" or \"No\" but already pre-encoded as numerical value(s) being \"1\" or \"0\". The main reason why these features are re-encoded back into word string is for exploratory data analysis phase. It is best practice to keep data format consistent among same type of variable or feature like \"ever_married\" which is originally contained value as a string \"Yes\" or \"No\"."
   ]
  },
  {
   "cell_type": "code",
   "execution_count": 11,
   "metadata": {},
   "outputs": [
    {
     "data": {
      "text/plain": [
       "gender                  0\n",
       "age                     0\n",
       "hypertension            0\n",
       "heart_disease           0\n",
       "ever_married            0\n",
       "work_type               0\n",
       "Residence_type          0\n",
       "avg_glucose_level       0\n",
       "bmi                   591\n",
       "smoking_status       5751\n",
       "dtype: int64"
      ]
     },
     "execution_count": 11,
     "metadata": {},
     "output_type": "execute_result"
    }
   ],
   "source": [
    "# --- 6. Feature encode on categorical variables --- #\n",
    "# Mapping ordinal and nominal features to integer:\n",
    "smoking_status_map = {'never smoked':0, 'formerly smoked':1, 'smokes':2}\n",
    "hypertension_map = {0:'No', 1:'Yes'}    \n",
    "heart_disease_map = {0:'No', 1:'Yes'}\n",
    "\n",
    "# Encode features into to mapping values: train set\n",
    "clean_train_df['smoking_status'] = encode_categorical_feature(clean_train_df, 'smoking_status', smoking_status_map)\n",
    "clean_train_df['hypertension'] = encode_categorical_feature(clean_train_df, 'hypertension', hypertension_map)\n",
    "clean_train_df['heart_disease'] = encode_categorical_feature(clean_train_df, 'heart_disease', heart_disease_map)\n",
    "\n",
    "# Encode features into to mapping values: test set\n",
    "clean_test_df['smoking_status'] = encode_categorical_feature(clean_test_df, 'smoking_status', smoking_status_map)\n",
    "clean_test_df['hypertension'] = encode_categorical_feature(clean_test_df, 'hypertension', hypertension_map)\n",
    "clean_test_df['heart_disease'] = encode_categorical_feature(clean_test_df, 'heart_disease', heart_disease_map)\n",
    "\n",
    "clean_train_df.isnull().sum()\n",
    "clean_test_df.isnull().sum()"
   ]
  },
  {
   "cell_type": "markdown",
   "metadata": {},
   "source": [
    "### Feature Imputation ###\n",
    "\n",
    "Let's compute feature imputation to replace missing values by following:\n",
    "Mode: smoking_status\n",
    "Mean: bmi (idx: 8, 9)\n",
    "Note: how different types of features were treated by different univariate methods for missing value replacement.\n",
    "\n",
    "First, 'smoking_status' was an ordinal (categorical) feature. Thus, it makes sense to replace missing values by most frequently occurred value (mode).\n",
    "Second, 'bmi' was a numerical feature. Also the feature showed normal distributions upon plotting a histogram. Thus, this can be replaced by mean."
   ]
  },
  {
   "cell_type": "code",
   "execution_count": 12,
   "metadata": {},
   "outputs": [
    {
     "name": "stdout",
     "output_type": "stream",
     "text": [
      "   gender   age hypertension heart_disease ever_married work_type  \\\n",
      "0    Male  61.0           No            No          Yes  Govt_job   \n",
      "1  Female   3.0           No            No           No  children   \n",
      "2  Female  43.0           No            No          Yes   Private   \n",
      "3    Male  13.0           No            No           No   Private   \n",
      "4    Male  46.0          Yes            No          Yes   Private   \n",
      "\n",
      "  Residence_type  avg_glucose_level   bmi  smoking_status  \n",
      "0          Rural              57.19  23.8             0.0  \n",
      "1          Urban             144.02  16.0             NaN  \n",
      "2          Rural             200.06  28.6             1.0  \n",
      "3          Rural              99.44  21.0             0.0  \n",
      "4          Rural              65.68  36.7             0.0   0    0\n",
      "1    0\n",
      "2    0\n",
      "3    0\n",
      "4    0\n",
      "Name: stroke, dtype: int64\n"
     ]
    },
    {
     "name": "stderr",
     "output_type": "stream",
     "text": [
      "C:\\Users\\yoots\\AppData\\Local\\Continuum\\anaconda3\\lib\\site-packages\\sklearn\\utils\\deprecation.py:66: DeprecationWarning: Class Imputer is deprecated; Imputer was deprecated in version 0.20 and will be removed in 0.22. Import impute.SimpleImputer from sklearn instead.\n",
      "  warnings.warn(msg, category=DeprecationWarning)\n",
      "C:\\Users\\yoots\\AppData\\Local\\Continuum\\anaconda3\\lib\\site-packages\\sklearn\\utils\\deprecation.py:66: DeprecationWarning: Class Imputer is deprecated; Imputer was deprecated in version 0.20 and will be removed in 0.22. Import impute.SimpleImputer from sklearn instead.\n",
      "  warnings.warn(msg, category=DeprecationWarning)\n",
      "C:\\Users\\yoots\\AppData\\Local\\Continuum\\anaconda3\\lib\\site-packages\\sklearn\\utils\\deprecation.py:66: DeprecationWarning: Class Imputer is deprecated; Imputer was deprecated in version 0.20 and will be removed in 0.22. Import impute.SimpleImputer from sklearn instead.\n",
      "  warnings.warn(msg, category=DeprecationWarning)\n",
      "C:\\Users\\yoots\\AppData\\Local\\Continuum\\anaconda3\\lib\\site-packages\\sklearn\\utils\\deprecation.py:66: DeprecationWarning: Class Imputer is deprecated; Imputer was deprecated in version 0.20 and will be removed in 0.22. Import impute.SimpleImputer from sklearn instead.\n",
      "  warnings.warn(msg, category=DeprecationWarning)\n"
     ]
    }
   ],
   "source": [
    "# --- 7. Feature imputation via univariate techniques --- #    \n",
    "# Split data into input features and target variable #\n",
    "X_train, y_train = split_dataframe(clean_train_df)\n",
    "X_test = clean_test_df.copy()\n",
    "\n",
    "del(clean_train_df, clean_test_df)\n",
    "\n",
    "# check input features and target variable: train and test sets\n",
    "print(X_train.head(), y_train.head())\n",
    "\n",
    "# Imputation by mode, mean and median: train and test sets\n",
    "indices_1 = range(8,9)\n",
    "indices_2 = range(9,10)\n",
    "\n",
    "# impute bmi and smoking_status by univariate methods: train and test sets\n",
    "X_train.iloc[:, indices_1] = feature_imputer(X_train, 'NaN', 'median', indices_1)\n",
    "X_train.iloc[:, indices_2] = feature_imputer(X_train, 'NaN', 'most_frequent', indices_2)\n",
    "\n",
    "X_test.iloc[:, indices_1] = feature_imputer(X_test, 'NaN', 'median', indices_1)\n",
    "X_test.iloc[:, indices_2] = feature_imputer(X_test, 'NaN', 'most_frequent', indices_2)\n",
    "\n",
    "# concatenated imputed inputs and output label:\n",
    "imputed_train_df = pd.concat([X_train, y_train], axis=1)\n",
    "imputed_test_df = X_test.copy()\n",
    "\n",
    "del(X_train, y_train, X_test)\n",
    "\n",
    "# convert smoking_status back to original string:\n",
    "inv_smoking_status_map = {key:value for value, key in smoking_status_map.items()}\n",
    "imputed_train_df['smoking_status'] = encode_categorical_feature(imputed_train_df, 'smoking_status', inv_smoking_status_map)\n",
    "imputed_test_df['smoking_status'] = encode_categorical_feature(imputed_test_df, 'smoking_status', inv_smoking_status_map)\n",
    "\n",
    "# check any missing values on imputed df:\n",
    "imputed_train_df.isnull().sum()\n",
    "imputed_test_df.isnull().sum()\n",
    "\n",
    "# check cleaned dataframe: data types\n",
    "imputed_train_df.dtypes\n",
    "imputed_test_df.dtypes\n",
    "\n",
    "# Save feature_df for EDA portfolio:\n",
    "imputed_train_df.head()\n",
    "df_eda_stroke = imputed_train_df.copy()\n",
    "df_eda_stroke.to_csv('df_eda_stroke.csv', index=False)"
   ]
  },
  {
   "cell_type": "markdown",
   "metadata": {},
   "source": [
    "### Feature Engineering ###\n",
    "Using a groupby function and computing a mean to create a set of new feature(s) from existing feature(s)."
   ]
  },
  {
   "cell_type": "code",
   "execution_count": 13,
   "metadata": {},
   "outputs": [],
   "source": [
    "# --- 8. Feature engineering: groupby categorical var ---\n",
    "# Skipped for now #\n",
    "\n",
    "# convert data types for correct metadata: train and test sets\n",
    "imputed_train_df['gender'] = convert_data_type(imputed_train_df, 'gender', 'category')\n",
    "imputed_train_df['hypertension'] = convert_data_type(imputed_train_df, 'hypertension', 'category')\n",
    "imputed_train_df['heart_disease'] = convert_data_type(imputed_train_df, 'heart_disease', 'category')\n",
    "imputed_train_df['ever_married'] = convert_data_type(imputed_train_df, 'ever_married', 'category')\n",
    "imputed_train_df['work_type'] = convert_data_type(imputed_train_df, 'work_type', 'category')\n",
    "imputed_train_df['Residence_type'] = convert_data_type(imputed_train_df, 'Residence_type', 'category')\n",
    "imputed_train_df['smoking_status'] = convert_data_type(imputed_train_df, 'smoking_status', 'category')"
   ]
  },
  {
   "cell_type": "markdown",
   "metadata": {},
   "source": [
    "### One-Hot Encoding: Dummy Variables ###\n",
    "One-Hot-Encoding on nominal feature allows to create a separate column on each feature and its value are only encoded \"0\" or \"1\". This dummy indicator gets interpreted the ML models for making accurate predictions.\n",
    "\n",
    "Also to reduce any potential biases of having multi-colinearity, each feature's first encoded dummy variable must be dropped to avoid dummy variable trap (i.e., where independent variables are highly inter-correlated with each other as one predictor can be predicted from other of similar variables: gender_female vs. gender_male vs. gender_other)."
   ]
  },
  {
   "cell_type": "code",
   "execution_count": 14,
   "metadata": {},
   "outputs": [],
   "source": [
    "# --- 9. One-hot-encode on features --- # \n",
    "# Drop first dummy variable to avoid dummy variable trap on each converted feature!\n",
    "num_vars2 = list(imputed_train_df.select_dtypes(include='float64').columns)\n",
    "cat_vars2 = list(imputed_train_df.select_dtypes(include='category').columns)\n",
    "\n",
    "feature_df = one_hot_encode_feature(imputed_train_df, cat_vars=cat_vars2, num_vars=num_vars2)\n",
    "test_df = one_hot_encode_feature(imputed_test_df, cat_vars=cat_vars2, num_vars=num_vars2)\n",
    "\n",
    "# List total number of encoded inputs and output:\n",
    "feature_df.isnull().sum()\n",
    "test_df.isnull().sum()\n",
    "\n",
    "# Compute label: stroke\n",
    "label_df = get_label_data(imputed_train_df, label_var)\n",
    "del(imputed_train_df, imputed_test_df)"
   ]
  },
  {
   "cell_type": "markdown",
   "metadata": {},
   "source": [
    "### SMOTE: Re-Sampling ###\n",
    "A given stroke patient dataset is highly imbalanced where majority of cases were non-stroke (98%) and only 2% (stroke). This is the most common problem for the classifier model which will likely to predict as a non-stroke patient in many cases.\n",
    "\n",
    "Thus, resampling technique was applied to resolve this imbalanced classes posed on this dataset. SMOTE is one of the most common algorithm(s) that are used heavily to resolve this problem. The algorithm can perform over-sampling or down-sampling to increase or decrease the sample size on a specified label (i.e., non-stroke:0, stroke:1). \n",
    "\n",
    "In this case, the over-sampling was performed on the minority class label (i.e., stroke cases) to increase the available sample size for model training."
   ]
  },
  {
   "cell_type": "code",
   "execution_count": 15,
   "metadata": {},
   "outputs": [
    {
     "data": {
      "text/plain": [
       "1    38355\n",
       "0    38355\n",
       "dtype: int64"
      ]
     },
     "execution_count": 15,
     "metadata": {},
     "output_type": "execute_result"
    },
    {
     "data": {
      "image/png": "[encoded data removed]",
      "text/plain": [
       "<Figure size 432x288 with 1 Axes>"
      ]
     },
     "metadata": {},
     "output_type": "display_data"
    }
   ],
   "source": [
    "# --- 10. Compute Proportion (%) of Stroke --- # \n",
    "df_feature_train = pd.concat([feature_df, label_df], axis=1)\n",
    "df_stroke_pct = pd.DataFrame(df_feature_train.groupby('stroke')['age'].count())\n",
    "df_stroke_pct.columns=['count']\n",
    "df_stroke_pct['pct'] = (df_stroke_pct['count']/len(df_feature_train))*100\n",
    "\n",
    "df_stroke_pct['pct'].plot(kind='pie', labels=['non-stroke','stroke'],\n",
    "                         colors=['green','red'], autopct='%1.0f%%')\n",
    "\n",
    "# --- 11. Resampling on non-stroke patients by non-stroke patients proportion --- # \n",
    "# --- SMOTE: oversample on minority class label --- #\n",
    "X_train, X_val, y_train, y_val = train_test_split(feature_df, label_df, test_size=.1,\n",
    "                                                    random_state=0, stratify=label_df)\n",
    "\n",
    "sm = SMOTE(random_state=0, ratio='minority', n_jobs=-1)\n",
    "X_train_resampled, y_train_resampled = sm.fit_sample(X_train, y_train)\n",
    "\n",
    "pd.value_counts(y_train_resampled)"
   ]
  },
  {
   "cell_type": "code",
   "execution_count": 16,
   "metadata": {},
   "outputs": [],
   "source": [
    "# --- 12. Feature seleciton: Feature Importance --- # "
   ]
  },
  {
   "cell_type": "code",
   "execution_count": 17,
   "metadata": {},
   "outputs": [],
   "source": [
    "# --- 13. Establish a baseline model --- # \n",
    "baseline = RandomForestClassifier(n_estimators=100, n_jobs=-1)\n",
    "baseline.fit(X_train_resampled, y_train_resampled)\n",
    "\n",
    "probs = baseline.predict_proba(X_val)\n",
    "predictions = baseline.predict(X_val)\n",
    "\n",
    "skm.roc_auc_score(y_val, probs[:,1]) # probabilities on 'stroke' cases only\n",
    "\n",
    "test_probs = baseline.predict_proba(test_df)\n",
    "results = pd.DataFrame({'id':df_test_id,\n",
    "                        'stroke':test_probs[:,1]})\n",
    "results.to_csv('prob_results_baseline.csv', index=False, index_label=None)"
   ]
  },
  {
   "cell_type": "markdown",
   "metadata": {},
   "source": [
    "## Part 3 - DEVELOP ##"
   ]
  },
  {
   "cell_type": "code",
   "execution_count": 18,
   "metadata": {},
   "outputs": [
    {
     "name": "stderr",
     "output_type": "stream",
     "text": [
      "C:\\Users\\yoots\\AppData\\Local\\Continuum\\anaconda3\\lib\\site-packages\\sklearn\\linear_model\\sag.py:337: ConvergenceWarning: The max_iter was reached which means the coef_ did not converge\n",
      "  \"the coef_ did not converge\", ConvergenceWarning)\n",
      "C:\\Users\\yoots\\AppData\\Local\\Continuum\\anaconda3\\lib\\site-packages\\sklearn\\linear_model\\sag.py:337: ConvergenceWarning: The max_iter was reached which means the coef_ did not converge\n",
      "  \"the coef_ did not converge\", ConvergenceWarning)\n",
      "C:\\Users\\yoots\\AppData\\Local\\Continuum\\anaconda3\\lib\\site-packages\\sklearn\\linear_model\\sag.py:337: ConvergenceWarning: The max_iter was reached which means the coef_ did not converge\n",
      "  \"the coef_ did not converge\", ConvergenceWarning)\n",
      "C:\\Users\\yoots\\AppData\\Local\\Continuum\\anaconda3\\lib\\site-packages\\sklearn\\linear_model\\sag.py:337: ConvergenceWarning: The max_iter was reached which means the coef_ did not converge\n",
      "  \"the coef_ did not converge\", ConvergenceWarning)\n",
      "C:\\Users\\yoots\\AppData\\Local\\Continuum\\anaconda3\\lib\\site-packages\\sklearn\\linear_model\\sag.py:337: ConvergenceWarning: The max_iter was reached which means the coef_ did not converge\n",
      "  \"the coef_ did not converge\", ConvergenceWarning)\n",
      "C:\\Users\\yoots\\AppData\\Local\\Continuum\\anaconda3\\lib\\site-packages\\sklearn\\linear_model\\sag.py:337: ConvergenceWarning: The max_iter was reached which means the coef_ did not converge\n",
      "  \"the coef_ did not converge\", ConvergenceWarning)\n",
      "C:\\Users\\yoots\\AppData\\Local\\Continuum\\anaconda3\\lib\\site-packages\\sklearn\\linear_model\\sag.py:337: ConvergenceWarning: The max_iter was reached which means the coef_ did not converge\n",
      "  \"the coef_ did not converge\", ConvergenceWarning)\n",
      "C:\\Users\\yoots\\AppData\\Local\\Continuum\\anaconda3\\lib\\site-packages\\sklearn\\linear_model\\sag.py:337: ConvergenceWarning: The max_iter was reached which means the coef_ did not converge\n",
      "  \"the coef_ did not converge\", ConvergenceWarning)\n",
      "C:\\Users\\yoots\\AppData\\Local\\Continuum\\anaconda3\\lib\\site-packages\\sklearn\\linear_model\\sag.py:337: ConvergenceWarning: The max_iter was reached which means the coef_ did not converge\n",
      "  \"the coef_ did not converge\", ConvergenceWarning)\n",
      "C:\\Users\\yoots\\AppData\\Local\\Continuum\\anaconda3\\lib\\site-packages\\sklearn\\linear_model\\sag.py:337: ConvergenceWarning: The max_iter was reached which means the coef_ did not converge\n",
      "  \"the coef_ did not converge\", ConvergenceWarning)\n",
      "C:\\Users\\yoots\\AppData\\Local\\Continuum\\anaconda3\\lib\\site-packages\\sklearn\\linear_model\\sag.py:337: ConvergenceWarning: The max_iter was reached which means the coef_ did not converge\n",
      "  \"the coef_ did not converge\", ConvergenceWarning)\n",
      "C:\\Users\\yoots\\AppData\\Local\\Continuum\\anaconda3\\lib\\site-packages\\sklearn\\linear_model\\sag.py:337: ConvergenceWarning: The max_iter was reached which means the coef_ did not converge\n",
      "  \"the coef_ did not converge\", ConvergenceWarning)\n",
      "C:\\Users\\yoots\\AppData\\Local\\Continuum\\anaconda3\\lib\\site-packages\\sklearn\\linear_model\\sag.py:337: ConvergenceWarning: The max_iter was reached which means the coef_ did not converge\n",
      "  \"the coef_ did not converge\", ConvergenceWarning)\n",
      "C:\\Users\\yoots\\AppData\\Local\\Continuum\\anaconda3\\lib\\site-packages\\sklearn\\linear_model\\sag.py:337: ConvergenceWarning: The max_iter was reached which means the coef_ did not converge\n",
      "  \"the coef_ did not converge\", ConvergenceWarning)\n",
      "C:\\Users\\yoots\\AppData\\Local\\Continuum\\anaconda3\\lib\\site-packages\\sklearn\\linear_model\\sag.py:337: ConvergenceWarning: The max_iter was reached which means the coef_ did not converge\n",
      "  \"the coef_ did not converge\", ConvergenceWarning)\n",
      "C:\\Users\\yoots\\AppData\\Local\\Continuum\\anaconda3\\lib\\site-packages\\sklearn\\linear_model\\sag.py:337: ConvergenceWarning: The max_iter was reached which means the coef_ did not converge\n",
      "  \"the coef_ did not converge\", ConvergenceWarning)\n",
      "C:\\Users\\yoots\\AppData\\Local\\Continuum\\anaconda3\\lib\\site-packages\\sklearn\\linear_model\\sag.py:337: ConvergenceWarning: The max_iter was reached which means the coef_ did not converge\n",
      "  \"the coef_ did not converge\", ConvergenceWarning)\n",
      "C:\\Users\\yoots\\AppData\\Local\\Continuum\\anaconda3\\lib\\site-packages\\sklearn\\linear_model\\sag.py:337: ConvergenceWarning: The max_iter was reached which means the coef_ did not converge\n",
      "  \"the coef_ did not converge\", ConvergenceWarning)\n",
      "C:\\Users\\yoots\\AppData\\Local\\Continuum\\anaconda3\\lib\\site-packages\\sklearn\\linear_model\\sag.py:337: ConvergenceWarning: The max_iter was reached which means the coef_ did not converge\n",
      "  \"the coef_ did not converge\", ConvergenceWarning)\n",
      "C:\\Users\\yoots\\AppData\\Local\\Continuum\\anaconda3\\lib\\site-packages\\sklearn\\linear_model\\sag.py:337: ConvergenceWarning: The max_iter was reached which means the coef_ did not converge\n",
      "  \"the coef_ did not converge\", ConvergenceWarning)\n"
     ]
    },
    {
     "name": "stdout",
     "output_type": "stream",
     "text": [
      "Best tol: 2.530180963314126e-05\n",
      "Best C: 17\n",
      "Best penalty: l1\n",
      "Best solver: liblinear\n",
      "Best max_depth: 56\n",
      "Best min_samples_split: 2\n",
      "Best min_samples_leaf: 4\n",
      "Best max_features: 9\n",
      "Best n_estimators: 36\n",
      "Best max_depth: 78\n",
      "Best min_samples_split: 8\n",
      "Best min_samples_leaf: 2\n",
      "Best n_estimators: 97\n",
      "Best max_depth: 72\n",
      "Best colsample_bytree: 0.622972129608751\n",
      "Best learning_rate: 0.2622664165389321\n"
     ]
    }
   ],
   "source": [
    "# --- 14. Create models --- # \n",
    "# initialize model list and dicts\n",
    "models = []\n",
    "mean_roc_auc = {}\n",
    "cv_std = {}\n",
    "res = {}\n",
    "\n",
    "# define common model parameters: num processors and shared model parameters\n",
    "n_proc = 1\n",
    "verbose_lv = 5\n",
    "\n",
    "# create and tune the models that you brainstormed during part 2\n",
    "###############################################################################        \n",
    "# Hyper-parameters tuning: LogisticRegression\n",
    "lr = LogisticRegression()\n",
    "n_iter = 10\n",
    "param_dist_lr = dict(tol=np.random.uniform(0, 0.0001, 10), C=sp.randint(1,50),\n",
    "                     penalty=['l1', 'l2'], solver=['liblinear','saga'])\n",
    "random_search_lr = model_tuning_param(lr, X_train_resampled, y_train_resampled, param_dist_lr, n_iter)\n",
    "\n",
    "# print the best model parameters: LogisticRegression    \n",
    "param_1 = 'tol'\n",
    "param_2 = 'C'\n",
    "param_3 = 'penalty'\n",
    "param_4 = 'solver'\n",
    "\n",
    "print_best_param(random_search_lr, param_1, param_2, param_3, param_4)\n",
    "###############################################################################        \n",
    "# Hyper-parameters tuning: DecisionTree\n",
    "tree = DecisionTreeClassifier(criterion='gini', random_state=0)\n",
    "\n",
    "n_iter = 10\n",
    "param_dist_tree = {'max_depth': sp.randint(10,100),\n",
    "                 'min_samples_split': sp.randint(2,10),\n",
    "                 'min_samples_leaf': sp.randint(2,10),\n",
    "                 'max_features': sp.randint(2,10)}\n",
    "\n",
    "random_search_tree = model_tuning_param(tree, X_train_resampled, y_train_resampled, param_dist_tree, n_iter)\n",
    "\n",
    "# print the best model parameters: LogisticRegression    \n",
    "param_1 = 'max_depth'\n",
    "param_2 = 'min_samples_split'\n",
    "param_3 = 'min_samples_leaf'\n",
    "param_4 = 'max_features'\n",
    "\n",
    "print_best_param(random_search_tree, param_1, param_2, param_3, param_4)\n",
    "###############################################################################        \n",
    "# Hyper-parameters tuning: RandomForest\n",
    "forest = RandomForestClassifier(criterion='gini', random_state=0)\n",
    "\n",
    "n_iter = 10\n",
    "param_dist_forest = {'n_estimators': sp.randint(10,100),\n",
    "                     'max_depth': sp.randint(10,100),\n",
    "                     'min_samples_split': sp.randint(2,10),\n",
    "                     'min_samples_leaf': sp.randint(2,10)}\n",
    "\n",
    "random_search_forest = model_tuning_param(forest, X_train_resampled, y_train_resampled, param_dist_forest, n_iter)\n",
    "\n",
    "# print the best model parameters: LogisticRegression    \n",
    "param_1 = 'n_estimators'\n",
    "param_2 = 'max_depth'\n",
    "param_3 = 'min_samples_split'\n",
    "param_4 = 'min_samples_leaf'\n",
    "\n",
    "print_best_param(random_search_forest, param_1, param_2, param_3, param_4)\n",
    "###############################################################################    \n",
    "# Hyper-parameters tuning: XGBoost\n",
    "xgb = XGBClassifier(random_state=0)\n",
    "n_iter = 10\n",
    "\n",
    "param_dist_xgb = {'n_estimators': sp.randint(10,100),\n",
    "                 'max_depth': sp.randint(10,100),\n",
    "                 'colsample_bytree': np.random.uniform(0, 1, 10),\n",
    "                 'learning_rate': np.random.uniform(0, 1, 10)}\n",
    "\n",
    "random_search_xgb = model_tuning_param(xgb, X_train_resampled, y_train_resampled, param_dist_xgb, n_iter)\n",
    "\n",
    "# print the best model parameters: LogisticRegression    \n",
    "param_1 = 'n_estimators'\n",
    "param_2 = 'max_depth'\n",
    "param_3 = 'colsample_bytree'\n",
    "param_4 = 'learning_rate'\n",
    "\n",
    "print_best_param(random_search_xgb, param_1, param_2, param_3, param_4)\n",
    "###############################################################################"
   ]
  },
  {
   "cell_type": "code",
   "execution_count": 19,
   "metadata": {},
   "outputs": [
    {
     "name": "stdout",
     "output_type": "stream",
     "text": [
      "begin cross-validation\n",
      "\n",
      "Model:\n",
      " LogisticRegression(C=23, class_weight=None, dual=False, fit_intercept=True,\n",
      "                   intercept_scaling=1, l1_ratio=None, max_iter=100,\n",
      "                   multi_class='warn', n_jobs=None, penalty='l1',\n",
      "                   random_state=None, solver='liblinear', tol=9.7e-05,\n",
      "                   verbose=0, warm_start=False)\n",
      "Average roc_auc:\n",
      " 0.8599248378443696\n",
      "Std. Dev during CV:\n",
      " 0.0018856274652545046\n",
      "\n",
      "Model:\n",
      " DecisionTreeClassifier(class_weight=None, criterion='gini', max_depth=22,\n",
      "                       max_features=9, max_leaf_nodes=None,\n",
      "                       min_impurity_decrease=0.0, min_impurity_split=None,\n",
      "                       min_samples_leaf=4, min_samples_split=4,\n",
      "                       min_weight_fraction_leaf=0.0, presort=False,\n",
      "                       random_state=0, splitter='best')\n",
      "Average roc_auc:\n",
      " 0.9891155261905749\n",
      "Std. Dev during CV:\n",
      " 0.015868393789200495\n",
      "\n",
      "Model:\n",
      " RandomForestClassifier(bootstrap=True, class_weight=None, criterion='gini',\n",
      "                       max_depth=57, max_features='auto', max_leaf_nodes=None,\n",
      "                       min_impurity_decrease=0.0, min_impurity_split=None,\n",
      "                       min_samples_leaf=2, min_samples_split=2,\n",
      "                       min_weight_fraction_leaf=0.0, n_estimators=57,\n",
      "                       n_jobs=None, oob_score=False, random_state=0, verbose=0,\n",
      "                       warm_start=False)\n",
      "Average roc_auc:\n",
      " 0.9982091926378999\n",
      "Std. Dev during CV:\n",
      " 0.003566678488454054\n",
      "\n",
      "Model:\n",
      " XGBClassifier(base_score=0.5, booster='gbtree', colsample_bylevel=1,\n",
      "              colsample_bynode=1, colsample_bytree=0.6961848271007864, gamma=0,\n",
      "              learning_rate=0.6688016439095642, max_delta_step=0, max_depth=27,\n",
      "              min_child_weight=1, missing=None, n_estimators=10, n_jobs=1,\n",
      "              nthread=None, objective='binary:logistic', random_state=0,\n",
      "              reg_alpha=0, reg_lambda=1, scale_pos_weight=1, seed=None,\n",
      "              silent=None, subsample=1, verbosity=1)\n",
      "Average roc_auc:\n",
      " 0.9973284675385651\n",
      "Std. Dev during CV:\n",
      " 0.005314988433796125\n",
      "\n",
      "Best model with the highest mean roc_auc:\n",
      "RandomForestClassifier(bootstrap=True, class_weight=None, criterion='gini',\n",
      "                       max_depth=57, max_features='auto', max_leaf_nodes=None,\n",
      "                       min_impurity_decrease=0.0, min_impurity_split=None,\n",
      "                       min_samples_leaf=2, min_samples_split=2,\n",
      "                       min_weight_fraction_leaf=0.0, n_estimators=57,\n",
      "                       n_jobs=None, oob_score=False, random_state=0, verbose=0,\n",
      "                       warm_start=False)\n"
     ]
    }
   ],
   "source": [
    "# --- 15. Cross-validate models --- # \n",
    "# 5-fold cross validation on models and measure MSE\n",
    "# Model List to train: Order of Model Complexity\n",
    "lr = LogisticRegression(tol=9.70e-05, C=23, penalty='l1', solver='liblinear')\n",
    "tree = DecisionTreeClassifier(max_depth=22, min_samples_split=4, min_samples_leaf=4,\n",
    "                              max_features=9, random_state=0)\n",
    "forest = RandomForestClassifier(n_estimators=57, max_depth=57, min_samples_split=2,\n",
    "                                min_samples_leaf=2, random_state=0) \n",
    "xgb = XGBClassifier(n_estimators=10, max_depth=27, colsample_bytree=0.6961848271007864,\n",
    "                    learning_rate=0.6688016439095642, random_state=0)\n",
    "# List of classifiers:\n",
    "models.extend([lr, tree, forest, xgb])\n",
    "\n",
    "# cross-validate models, using roc_auc to evaluate and print the summaries\n",
    "print('begin cross-validation')\n",
    "for model in models:\n",
    "    model_train(model, X_train_resampled, y_train_resampled, n_proc, mean_roc_auc, cv_std)\n",
    "    model_summary(model, mean_roc_auc, cv_std)\n",
    "\n",
    "# --- 16. Select the best model with lowest RMSE for your prediction model --- #\n",
    "model = max(mean_roc_auc, key=mean_roc_auc.get)\n",
    "print('\\nBest model with the highest mean roc_auc:')\n",
    "print(model)"
   ]
  },
  {
   "cell_type": "markdown",
   "metadata": {},
   "source": [
    "### Model Evaluation: using Feature Selection ###\n",
    "Compute a roc_auc score on \"stroke cases\" for following models:\n",
    "* Logistic Regression\n",
    "* Decision Tree Classifier\n",
    "* Random Forest Classifier\n",
    "* XGBoost Classifier"
   ]
  },
  {
   "cell_type": "code",
   "execution_count": 20,
   "metadata": {},
   "outputs": [
    {
     "data": {
      "text/plain": [
       "0.8561557713364376"
      ]
     },
     "execution_count": 20,
     "metadata": {},
     "output_type": "execute_result"
    }
   ],
   "source": [
    "# --- 17. Compute roc_auc score on \"stroke cases only!\" --- #\n",
    "###############################################################################\n",
    "score_model_roc_auc(xgb, X_train_resampled,\n",
    "                    y_train_resampled, X_val.values, y_val)\n",
    "\n",
    "score_model_roc_auc(tree, X_train_resampled,\n",
    "                    y_train_resampled, X_val, y_val)\n",
    "\n",
    "score_model_roc_auc(forest, X_train_resampled,\n",
    "                    y_train_resampled, X_val, y_val)\n",
    "\n",
    "score_model_roc_auc(lr, X_train_resampled,\n",
    "                    y_train_resampled, X_val, y_val)"
   ]
  },
  {
   "cell_type": "markdown",
   "metadata": {},
   "source": [
    "### Model 1: Logistic Regression ###\n",
    "Logistic regression works by using a logit function to transform input value of features and calculate estimated probabilities of a label in range of [0,1]. For example, if P(1=stroke) ≥ 0.5, an observation is predicted as a stroke. Whereas if P(1=stroke) < 0.5, an observation is predicted as a non-stroke."
   ]
  },
  {
   "cell_type": "markdown",
   "metadata": {},
   "source": [
    "### Model 2: Decision Tree ###\n",
    "Decision tree is an algorithm where it predicts the value of a target variable (label) by learning simple decision rules inferred from selected features. Tree is generated and split data on features. It continues to split in repetitive process at each node until leaves reached purity (i.e., remaining samples at each node belongs to same class either non-stroke or stroke cases only)."
   ]
  },
  {
   "cell_type": "markdown",
   "metadata": {},
   "source": [
    "### Model 3: Random Forest ###\n",
    "Random forest is a typical ensemble learning model. It takes random subsample of data from each tree, so all constructed trees are different from each other. Thus, model makes classification based on predictions made from each tree with averaging (i.e., like picking a vote from majority)."
   ]
  },
  {
   "cell_type": "markdown",
   "metadata": {},
   "source": [
    "### Model 4: XGBoost ###\n",
    "XGBoost is a type of gradient boosting model in which subsequent model learns from the mistakes (i.e., residual errors) of previous model in a step-wise forward manner. In Gradient Boosting, residual errors are identified gradients. These gradients help how XGBoost to improve model performances."
   ]
  },
  {
   "cell_type": "markdown",
   "metadata": {},
   "source": [
    "## Model Evaluation: Confusion Matrix ##\n",
    "A confusion matrix is a table that is often used to describe the performance of a classification model (or \"classifier\") on a set of test data for which the true values are known.\n",
    "1. True Positives (TP): These are cases in which model predicted yes (they have the disease), and they do have the disease.\n",
    "2. True Negatives (TN): Model predicted no, and they don't have the disease.\n",
    "3. False Positives (FP): Model predicted yes, but they don't actually have the disease. (Also known as a \"Type I error.\")\n",
    "4. False Negatives (FN): Model predicted no, but they actually do have the disease. (Also known as a \"Type II error.\")"
   ]
  },
  {
   "cell_type": "code",
   "execution_count": 21,
   "metadata": {},
   "outputs": [
    {
     "data": {
      "image/png": "[encoded data removed]",
      "text/plain": [
       "<Figure size 504x504 with 1 Axes>"
      ]
     },
     "metadata": {},
     "output_type": "display_data"
    },
    {
     "name": "stdout",
     "output_type": "stream",
     "text": [
      "Accuracy of Logistic Regression is 0.74\n",
      "Precision of Logistic Regression is 0.06\n",
      "Recall of Logistic Regression is 0.82\n",
      "ROC score of Logistic Regression is 0.78\n"
     ]
    },
    {
     "data": {
      "image/png": "[encoded data removed]",
      "text/plain": [
       "<Figure size 504x504 with 1 Axes>"
      ]
     },
     "metadata": {},
     "output_type": "display_data"
    },
    {
     "name": "stdout",
     "output_type": "stream",
     "text": [
      "Accuracy of Decision Tree is 0.97\n",
      "Precision of Decision Tree is 0.08\n",
      "Recall of Decision Tree is 0.04\n",
      "ROC score of Decision Tree is 0.52\n"
     ]
    },
    {
     "data": {
      "image/png": "[encoded data removed]",
      "text/plain": [
       "<Figure size 504x504 with 1 Axes>"
      ]
     },
     "metadata": {},
     "output_type": "display_data"
    },
    {
     "name": "stdout",
     "output_type": "stream",
     "text": [
      "Accuracy of Random Forest is 0.98\n",
      "Precision of Random Forest is 0.00\n",
      "Recall of Random Forest is 0.00\n",
      "ROC score of Random Forest is 0.50\n"
     ]
    },
    {
     "data": {
      "image/png": "[encoded data removed]",
      "text/plain": [
       "<Figure size 504x504 with 1 Axes>"
      ]
     },
     "metadata": {},
     "output_type": "display_data"
    },
    {
     "name": "stdout",
     "output_type": "stream",
     "text": [
      "Accuracy of XGBoost is 0.98\n",
      "Precision of XGBoost is 0.00\n",
      "Recall of XGBoost is 0.00\n",
      "ROC score of XGBoost is 0.50\n"
     ]
    }
   ],
   "source": [
    "# --- 18. Model Evaluation: Confusion Matrix, Classification Metrics ---    \n",
    "# Save cross-validated predictions:\n",
    "lr.fit(X_train_resampled, y_train_resampled)\n",
    "y_pred_lr = lr.predict(X_val)\n",
    "\n",
    "tree.fit(X_train_resampled, y_train_resampled)\n",
    "y_pred_tree = tree.predict(X_val)\n",
    "\n",
    "forest.fit(X_train_resampled, y_train_resampled)\n",
    "y_pred_forest = forest.predict(X_val)\n",
    "\n",
    "xgb.fit(X_train_resampled, y_train_resampled)\n",
    "y_pred_xgb = xgb.predict(X_val.values)\n",
    "\n",
    "# Compute a series of confusion matrix by model:\n",
    "cm_lr = compute_confusion_matrix(y_val, y_pred_lr)\n",
    "\n",
    "cm_tree = compute_confusion_matrix(y_val, y_pred_tree)\n",
    "\n",
    "cm_forest = compute_confusion_matrix(y_val, y_pred_forest)\n",
    "\n",
    "cm_xgb = compute_confusion_matrix(y_val, y_pred_xgb)\n",
    "\n",
    "# Define class labels for stroke:\n",
    "class_labels = np.array(['non-stroke', 'stroke'], dtype=str)\n",
    "\n",
    "#####################################################\n",
    "# Confusion Matrix & Classification Metrics Summary #\n",
    "#####################################################\n",
    "# --- Logistic Regression ---#\n",
    "# Plot a confusion matrix: \n",
    "plot_confusion_matrix(cm_lr, class_labels)\n",
    "plt.title('Normalized Confusion Matrix: Logistic Regression')\n",
    "plt.show()\n",
    "\n",
    "# Report classification metrics summary:\n",
    "report_class_summary('Logistic Regression', y_val, y_pred_lr)\n",
    "\n",
    "# --- Decision Tree ---#\n",
    "# Plot a confusion matrix: \n",
    "plot_confusion_matrix(cm_tree, class_labels)\n",
    "plt.title('Normalized Confusion Matrix: Decision Tree')\n",
    "plt.show()\n",
    "\n",
    "# Report classification metrics summary:\n",
    "report_class_summary('Decision Tree', y_val, y_pred_tree)\n",
    "\n",
    "# --- Random Forest ---#\n",
    "# Plot a confusion matrix: \n",
    "plot_confusion_matrix(cm_forest, class_labels)\n",
    "plt.title('Normalized Confusion Matrix: Random Forest')\n",
    "plt.show()\n",
    "\n",
    "# Report classification metrics summary:\n",
    "report_class_summary('Random Forest', y_val, y_pred_forest)\n",
    "\n",
    "# --- XGBoost Classifier ---#\n",
    "# Plot a confusion matrix: \n",
    "plot_confusion_matrix(cm_xgb, class_labels)\n",
    "plt.title('Normalized Confusion Matrix: XGBoost')\n",
    "plt.show()\n",
    "\n",
    "# Report classification metrics summary:\n",
    "report_class_summary('XGBoost', y_val, y_pred_xgb)"
   ]
  },
  {
   "cell_type": "code",
   "execution_count": 22,
   "metadata": {},
   "outputs": [],
   "source": [
    "# --- 19. Model Evaluation: ROC-AUC Curve, Precision-Recall Curve --- \n",
    "clf_labels = ['Logistic Regression', 'Decision Tree', 'Random Forest', 'XGBoost']\n",
    "all_clf = [lr, tree, forest, xgb]"
   ]
  },
  {
   "cell_type": "markdown",
   "metadata": {},
   "source": [
    "## Model Evaluation: ROC curve ##\n",
    "ROC curve typically displays true positive rate on the Y-axis, and false positive rate on the X-axis. This means that the top left corner of the plot is the “ideal” point - a false positive rate of zero, and a true positive rate of one. This is not very realistic, but it does mean that a larger area under the curve (AUC) is usually better. The “steepness” of ROC curves is also important, since it is ideal to maximize the true positive rate while minimizing the false positive rate."
   ]
  },
  {
   "cell_type": "code",
   "execution_count": 23,
   "metadata": {},
   "outputs": [
    {
     "data": {
      "image/png": "[encoded data removed]",
      "text/plain": [
       "<Figure size 576x576 with 1 Axes>"
      ]
     },
     "metadata": {},
     "output_type": "display_data"
    }
   ],
   "source": [
    "# plot a ROC-AUC curve\n",
    "plt.figure(figsize=(8,8))\n",
    "# ROC for each classifiers\n",
    "colors = ['green', 'blue', 'orange', 'red']\n",
    "linestyles = ['-', ':', ':', ':'] \n",
    "for clf, label, clr, ls \\\n",
    "    in zip(all_clf, clf_labels, colors, linestyles):  \n",
    "        # Assume the label of the positive class is 1\n",
    "        y_pred = clf.fit(X_train_resampled,\n",
    "                         y_train_resampled).predict_proba(X_val.values)[:,1]\n",
    "        fpr, tpr, thresholds = skm.roc_curve(y_true=y_val, y_score=y_pred)\n",
    "        roc_auc = skm.auc(x=fpr, y=tpr)\n",
    "        plt.plot(fpr, tpr, color=clr, linestyle=ls,\n",
    "                 label='%s (AUC = %0.2f)' % (label, roc_auc))\n",
    "plt.plot([0,1], [0,1], linestyle='--', color='gray', linewidth=2)\n",
    "plt.xlim([-0.05, 1.05])\n",
    "plt.ylim([-0.05, 1.05])\n",
    "plt.grid(alpha=0.5)\n",
    "plt.title('ROC Curve: Evaluation of Classifiers [Test Set]')\n",
    "plt.xlabel('False Positive Rate')\n",
    "plt.ylabel('True Positive Rate')\n",
    "plt.legend(loc='lower right', prop={'size': 15})\n",
    "plt.show()"
   ]
  },
  {
   "cell_type": "markdown",
   "metadata": {},
   "source": [
    "### Summary of ROC Curve ###\n",
    "This plot showed performance of all five models area under the curve. The best model had about AUC = 0.86 for logistic regression model. This indicated that about 88% of time model is good at separation of stroke cases from non-stroke cases."
   ]
  },
  {
   "cell_type": "markdown",
   "metadata": {},
   "source": [
    "## Model Evaluation: Precision-Recall Curve ##\n",
    "Precision-Recall is a useful measure of success for predictions when the classes of dataset are highly imbalanced. In information retrieval, precision is a measure of result relevancy, while recall is a measure of how many truly relevant results are returned.\n",
    "\n",
    "The precision-recall curve shows the tradeoff between precision and recall at different thresholds. A high area under the curve represents both high recall and high precision, where high precision relates to a low false positive rate, and high recall relates to a low false negative rate. High scores for both show that the classifier is returning accurate results (high precision), as well as returning a majority of all positive results (high recall).\n",
    "\n",
    "In summary, a system with high recall but low precision returns: many predictions where most of prediction results are incorrect when compared to actual true labels. Conversely, a system with low recall and high precision returns: few predictions but most of its prediction results are correct when compared to actual true labels."
   ]
  },
  {
   "cell_type": "code",
   "execution_count": 24,
   "metadata": {},
   "outputs": [
    {
     "name": "stdout",
     "output_type": "stream",
     "text": [
      "Average P-R score of Logistic Regression: 0.08\n"
     ]
    },
    {
     "data": {
      "image/png": "[encoded data removed]",
      "text/plain": [
       "<Figure size 432x288 with 1 Axes>"
      ]
     },
     "metadata": {},
     "output_type": "display_data"
    }
   ],
   "source": [
    "# plot a Precision-Recall curve\n",
    "# compute avg. precision score:\n",
    "y_score_lr = lr.fit(X_train_resampled, y_train_resampled).predict_proba(X_val.values)[:,1]\n",
    "avg_precision = skm.average_precision_score(y_val, y_score_lr)\n",
    "print('Average P-R score of Logistic Regression: {0:0.2f}'.format(avg_precision))\n",
    "\n",
    "# Plot a P-R curve:\n",
    "precision, recall, _ =skm.precision_recall_curve(y_val, y_score_lr)\n",
    "plt.step(recall, precision, color='navy', where='post', label='Precision-Recall Curve')\n",
    "plt.title('P-R Curve: LogisiticRegression [test set] AP={0:0.2f}'.format(avg_precision))\n",
    "plt.xlabel('Recall (Sensitivity)')\n",
    "plt.ylabel('Precision (PPV)')\n",
    "plt.ylim([0, 1.05])\n",
    "plt.xlim([0, 1.0])\n",
    "plt.legend(loc='lower right')\n",
    "plt.show()"
   ]
  },
  {
   "cell_type": "markdown",
   "metadata": {},
   "source": [
    "### Summary of Precision-Recall Curve ###\n",
    "Overall, the Logistic Regression showed weighted average precision of 0.08. In other words, about 8% of time, the model is good at making stroke predictions from total # of actual stroke cases."
   ]
  },
  {
   "cell_type": "markdown",
   "metadata": {},
   "source": [
    "## Part 4 - DEPLOY ##"
   ]
  },
  {
   "cell_type": "code",
   "execution_count": 25,
   "metadata": {},
   "outputs": [
    {
     "data": {
      "image/png": "[encoded data removed]",
      "text/plain": [
       "<Figure size 432x288 with 1 Axes>"
      ]
     },
     "metadata": {},
     "output_type": "display_data"
    }
   ],
   "source": [
    "# --- 20. Automate the model pipeline --- #\n",
    "# make predictions based on a test set\n",
    "df_test_selected = test_df.copy()\n",
    "df_pred_probs = lr.predict_proba(df_test_selected)\n",
    "\n",
    "# make predictions dataframe:\n",
    "results = pd.DataFrame({'id':df_test_id,\n",
    "                        'stroke':df_pred_probs[:,1]})\n",
    "results.to_csv('prob_results_lr.csv', index=False, index_label=None)\n",
    "\n",
    "# --- 21. Deploy the solution --- #\n",
    "#store feature importances\n",
    "if hasattr(model, 'feature_importances_'):\n",
    "    importances = model.feature_importances_\n",
    "else:\n",
    "# linear models don't have feature_importances_\n",
    "    importances = [0]*len(X_train.columns)\n",
    "\n",
    "# Create a feature importance dataframe and sort by importance:    \n",
    "feature_importances = pd.DataFrame({'feature':X_train.columns,\n",
    "                                        'importance':importances})\n",
    "feature_importances.sort_values(by='importance', inplace=True, ascending=False)\n",
    "\n",
    "# Set index to 'feature'\n",
    "feature_importances.set_index('feature', inplace=True, drop=True)\n",
    "\n",
    "# Create a bar plot:    \n",
    "feature_importances[0:15].plot.bar(align='center')\n",
    "plt.xticks(rotation=270, fontsize=9)\n",
    "plt.title('feature importance plot: best trained classifier')\n",
    "plt.show()\n",
    "    \n",
    "#Save model results as .csv file:\n",
    "model_results(model, mean_roc_auc[model], results, feature_importances)"
   ]
  },
  {
   "cell_type": "markdown",
   "metadata": {},
   "source": [
    "### Model Summary: Feature Importance ###\n",
    "A figure showed the feature importance on the best trained model from order of the highest to lowest feature importance ranks.\n",
    "\n",
    "Top 10 important features were age followed by heart_disease_yes, hypertension_yes, never smoked, etc.."
   ]
  }
 ],
 "metadata": {
  "kernelspec": {
   "display_name": "Python 3",
   "language": "python",
   "name": "python3"
  },
  "language_info": {
   "codemirror_mode": {
    "name": "ipython",
    "version": 3
   },
   "file_extension": ".py",
   "mimetype": "text/x-python",
   "name": "python",
   "nbconvert_exporter": "python",
   "pygments_lexer": "ipython3",
   "version": "3.7.3"
  }
 },
 "nbformat": 4,
 "nbformat_minor": 2
}
