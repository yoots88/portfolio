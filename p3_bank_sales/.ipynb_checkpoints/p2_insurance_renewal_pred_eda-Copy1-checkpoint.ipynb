{
 "cells": [
  {
   "cell_type": "markdown",
   "metadata": {},
   "source": [
    "## Portfolio: Dataset Name - Exploratory Data Analysis ##\n",
    "\n",
    "\n",
    "**Problem Statement:** \n",
    "\n",
    "**Stakeholders:** "
   ]
  },
  {
   "cell_type": "markdown",
   "metadata": {},
   "source": [
    "## Part A. Import Cleaned Dataset ##"
   ]
  },
  {
   "cell_type": "code",
   "execution_count": null,
   "metadata": {},
   "outputs": [],
   "source": [
    "# Import all libraries #\n",
    "\n",
    "# Authorization #\n",
    "__author__ = \"Taesun Yoo\"\n",
    "__email__ = \"yoots1988@gmail.com\""
   ]
  },
  {
   "cell_type": "code",
   "execution_count": null,
   "metadata": {},
   "outputs": [],
   "source": [
    "#################################\n",
    "# Part 2 - Discover the Problem #\n",
    "#################################\n",
    "# Write a group of funtions:\n",
    "def load_file(file):\n",
    "    '''load input CSVs as a dataframe '''\n",
    "    return pd.read_csv(file)\n",
    "\n",
    "def clean_data(raw_df):\n",
    "    '''remove rows that contain invalid data or duplicate IDs'''\n",
    "    clean_df = raw_df.drop_duplicates(subset='row_id')\n",
    "    return clean_df\n",
    "\n",
    "def EDA_missing_data(cleaned_df):\n",
    "    '''Performs missing % on each column '''\n",
    "    missing_df = cleaned_df.isnull().sum()\n",
    "    missing_df = pd.DataFrame(missing_df, columns=['count'])\n",
    "    missing_df['pct'] = missing_df['count']/len(cleaned_df)\n",
    "    missing_df = missing_df.sort_values(by='pct', ascending=False)\n",
    "    return missing_df\n",
    "\n",
    "def EDA_numerical_data(cleaned_df):\n",
    "    '''Computes summary statistics on numerical data'''\n",
    "    summary_df_num = cleaned_df.describe(include='all').T\n",
    "    summary_df_num = pd.DataFrame(summary_df_num)[['count', 'std', 'min', 'mean', 'max', '25%', '50%', '75%']]\n",
    "    return summary_df_num\n",
    "\n",
    "def EDA_categorical_data(cleaned_df):\n",
    "    '''Computes summary statitics on categorical data'''\n",
    "    summary_df_cat = cleaned_df.describe(include=['O'])\n",
    "    summary_df_cat = pd.DataFrame(summary_df_cat)\n",
    "    return summary_df_cat\n",
    "    \n",
    "def EDA_pivot_table(cleaned_df, cat_var, num_var):\n",
    "    '''Creates a pivot table based on categorical var and average numerical var'''\n",
    "    pivot_cat_df = cleaned_df.pivot_table(index=cat_var, values=num_var, aggfunc=np.mean)\n",
    "    pivot_cat_df.reset_index(level=0, inplace=True)\n",
    "    pivot_cat_df.rename(columns={cat_var:cat_var, num_var:\"avg\" + \"_\" + num_var + \"_\" + cat_var}, inplace=True)\n",
    "    return pivot_cat_df\n",
    "    \n",
    "def EDA_plot_hist_label(df, cat_var, bins, lab_list):\n",
    "    '''split dataframe by category and plot a histogram'''\n",
    "    for i in lab_list:\n",
    "        df_by_label = df['poverty_rate'][df[cat_var] == i]\n",
    "        plt.hist(df_by_label, bins=bins, label=i)\n",
    "        plt.title('Histogram of Poverty Rate')\n",
    "        plt.xlabel('Poverty Rate')\n",
    "        plt.ylabel('# of US counties')                   \n",
    "\n",
    "def EDA_plot_hist_2by2(df, \n",
    "                       var1, bin1, lab1, \n",
    "                       var2, bin2, lab2, \n",
    "                       var3, bin3, lab3,\n",
    "                       var4, bin4, lab4, \n",
    "                       factor=None):\n",
    "    '''Print skewness and plot the histogram'''\n",
    "    plt.figure(figsize=(8,8))\n",
    "    plt.subplots_adjust(hspace=1/2, wspace=1/2)\n",
    "    #subplot 1:\n",
    "    print(\"Skewness is:\" + lab1, df[var1].skew())\n",
    "    plt.subplot(2,2,1)\n",
    "    plt.hist(df[var1]*factor, color='green', bins=bin1)\n",
    "    plt.title('Histogram of '+ lab1)\n",
    "    plt.xlabel(lab1)\n",
    "    plt.ylabel('# of US counties')\n",
    "    #subplot 2:\n",
    "    print(\"Skewness is:\" + lab2, df[var2].skew())\n",
    "    plt.subplot(2,2,2)\n",
    "    plt.hist(df[var2]*factor, color='blue', bins=bin2)\n",
    "    plt.title('Histogram of '+ lab2)\n",
    "    plt.xlabel(lab2)\n",
    "    plt.ylabel('# of US counties')\n",
    "    #subplot 3:\n",
    "    print(\"Skewness is:\" + lab3, df[var3].skew())\n",
    "    plt.subplot(2,2,3)\n",
    "    plt.hist(df[var3]*factor, color='cyan', bins=bin3)\n",
    "    plt.title('Histogram of '+ lab3)\n",
    "    plt.xlabel(lab3)\n",
    "    plt.ylabel('# of US counties')\n",
    "    #subplot 4:\n",
    "    print(\"Skewness is:\" + lab4, df[var4].skew())\n",
    "    plt.subplot(2,2,4)\n",
    "    plt.hist(df[var4]*factor, color='purple', bins=bin4)\n",
    "    plt.title('Histogram of '+ lab4)\n",
    "    plt.xlabel(lab4)\n",
    "    plt.ylabel('# of US counties')\n",
    "    \n",
    "def EDA_plot_freq_chart(df, cat_var, var_name):\n",
    "    '''computes frequency count chart'''\n",
    "    cat_var_count = df[cat_var].value_counts()\n",
    "    sns.barplot(cat_var_count.index, cat_var_count.values, alpha=0.9)\n",
    "    plt.title('Frequency Counts of '+ var_name)\n",
    "    plt.ylabel('Counts')\n",
    "    plt.xlabel(var_name, fontsize=10)\n",
    "    plt.xticks(rotation=270)\n",
    "    plt.show()\n",
    "\n",
    "def EDA_plot_bar(cleaned_df, cat_var, num_var, color):\n",
    "    '''Plots the bar chart'''\n",
    "    cleaned_df.plot.bar(color=color)\n",
    "    plt.xlabel(cat_var)\n",
    "    plt.ylabel('Avg. ' + num_var)\n",
    "    plt.xticks(rotation=0)\n",
    "    plt.show()    \n",
    "\n",
    "def EDA_plot_box_whisker(df, num_var, cat_var, hue=None):\n",
    "    '''plot the box-whisker plot'''\n",
    "    df.sort_values(by=[num_var, cat_var], ascending=False, inplace=True)\n",
    "    plt.figure()\n",
    "    sns.set(style='whitegrid')\n",
    "    sns.boxplot(cat_var, num_var, hue, df)\n",
    "    plt.title('Box Plot of '+ num_var + ' by '+ cat_var)\n",
    "    plt.xticks(rotation=270, fontsize=9)\n",
    "\n",
    "def EDA_convert_object_to_cat(df):\n",
    "    '''convert data type object to category'''\n",
    "    for col in df.columns:\n",
    "        if df[col].dtype.name == \"object\":\n",
    "            df[col] = df[col].astype('category')\n",
    "\n",
    "def EDA_encode_cat_var(df, col):\n",
    "    '''encode the categorical variables using avg. salary for each category '''\n",
    "    cat_dict={}\n",
    "    cats = df[col].cat.categories.tolist()\n",
    "    for cat in cats:\n",
    "        cat_dict[cat] = df[df[col] == cat]['poverty_rate'].mean()\n",
    "    df[col] = df[col].map(cat_dict)\n",
    "\n",
    "def EDA_plot_corr_matrix(df, features, label):\n",
    "    '''plot the correlation matrix'''\n",
    "    corr = df[features + label].corr()\n",
    "    # Create a mask:\n",
    "    mask = np.zeros_like(corr)\n",
    "    mask[np.triu_indices_from(mask)] = True\n",
    "    plt.figure(figsize=(12,10))\n",
    "    sns.heatmap(corr,\n",
    "                cmap=sns.diverging_palette(220, 10, as_cmap=True),\n",
    "                annot=True, fmt=\".2f\", mask=mask)\n",
    "    plt.xticks(rotation=90)\n",
    "    plt.show()\n",
    "\n",
    "def EDA_plot_crosstab(df, cat_var1, cat_var2):\n",
    "    '''plot a cross-tabulate on two categorical variables'''\n",
    "    cross_tab = pd.crosstab(df[cat_var1], df[cat_var2])\n",
    "    return cross_tab\n",
    "\n",
    "def EDA_plot_scatter(df, \n",
    "                     var1, lab1, c1,\n",
    "                     var2, lab2, c2, \n",
    "                     factor=None):\n",
    "    '''plot 2 by 1 scatter plots'''\n",
    "    plt.figure(figsize=(8,8))\n",
    "    plt.subplots_adjust(hspace=0.4, wspace=0.9)\n",
    "    plt.subplot(2,1,1)\n",
    "    plt.scatter(df[var1]*factor, df['poverty_rate'], color=c1)\n",
    "    plt.title('Relationship between ' + lab1 + ' and Poverty Rate')\n",
    "    plt.xlabel(lab1)\n",
    "    plt.ylabel('Poverty Rate')\n",
    "\n",
    "    plt.subplot(2,1,2)\n",
    "    plt.scatter(df[var2]*factor, df['poverty_rate'], color=c2)\n",
    "    plt.title('Relationship between '+ lab2 + ' and Poverty Rate')\n",
    "    plt.xlabel(lab2)\n",
    "    plt.ylabel('Poverty Rate')\n",
    "    \n",
    "def convert_data_type_category(df, var_name):\n",
    "    df_eda[var_name] = df_eda[var_name].astype('str')\n",
    "    return df_eda[var_name]\n",
    "    \n",
    "def split_dataframe_by_string(df, cat_var, str_val):\n",
    "    '''split dataframe by a specified string value in categorical variable'''\n",
    "    df_str = df[df[cat_var].str.contains(str_val, case=True, regex=False)]\n",
    "    return df_str\n",
    "\n",
    "def EDA_plot_multi_facet_scatter(df1, df2, \n",
    "                                 var1, lab1, \n",
    "                                 var2, lab2,\n",
    "                                 response, factor):\n",
    "    '''plot multi-faceted scatter plot by county class'''\n",
    "    f, (ax1, ax2)=plt.subplots(1, 2, sharey=True, figsize=(8,4))\n",
    "    plt.subplots_adjust(hspace=0.2, wspace=0.2)\n",
    "    plt.tight_layout(pad=0.4, w_pad=1.5, h_pad=1.0)\n",
    "    ax1.scatter(df1[var1]*factor, df1[response], label='Nonmetro', edgecolor='w')\n",
    "    ax1.scatter(df2[var1]*factor, df2[response], label='Metro', edgecolor='w')\n",
    "    ax1.legend(loc='upper right')\n",
    "    ax1.set_xlabel(lab1, fontsize=10)\n",
    "    ax1.set_ylabel(response, fontsize=10)\n",
    "    ax1.grid(False)\n",
    "    \n",
    "    ax2.scatter(df1[var2]*factor, df1[response], label='Nonmetro', edgecolor='w')\n",
    "    ax2.scatter(df2[var2]*factor, df2[response], label='Metro', edgecolor='w')\n",
    "    ax2.legend(loc='upper right')\n",
    "    ax2.set_xlabel(lab2, fontsize=10)\n",
    "    ax2.set_ylabel(response, fontsize=10)\n",
    "    ax2.grid(False)\n",
    "\n",
    "def EDA_plot_color_sc_scatter(df, var1, lab1,\n",
    "                              var2, lab2,\n",
    "                              var3, lab3, response):\n",
    "    '''plot color scaled scatter plots'''\n",
    "    # figure 1: subplot 1\n",
    "    f, (ax1, ax2) = plt.subplots(1,2, sharey=True, figsize=(10,6))\n",
    "    s1 = ax1.scatter(df[var1], df[var3], c=df[response],\n",
    "                     cmap=plt.cm.coolwarm, edgecolor='w')\n",
    "    ax1.set_xlabel(lab1, fontsize=14)\n",
    "    ax1.set_ylabel(lab3, fontsize=14)\n",
    "    ax1.grid(False)\n",
    "    # figure 2: subplot 2    \n",
    "    ax2.scatter(df[var2], df[var3], c=df[response],\n",
    "                     cmap=plt.cm.coolwarm, edgecolor='w')\n",
    "    ax2.set_xlabel(lab2, fontsize=14)\n",
    "    ax2.set_ylabel(lab3, fontsize=14)\n",
    "    ax2.grid(False)\n",
    "    # lenged: color bar scaled by confounding factor\n",
    "    plt.subplots_adjust(bottom=0.1, right=0.8, top=0.9)\n",
    "    cax=plt.axes([0.85, 0.1, 0.05, 0.8])\n",
    "    cb=f.colorbar(s1, cax=cax)\n",
    "    cb.set_label(response)\n",
    "    \n",
    "#def join_data(df1, df2, key=None, left_index=False, right_index=False):\n",
    "#    '''performs inner join to return records exist in both dataframes'''\n",
    "#    return pd.merge(df1, df2, how='inner', on=key, left_index=left_index, right_index=right_index)\n",
    "\n",
    "#def drop_row_by_index(df, idx_list):\n",
    "#    df_row_drop = df.drop(df.index[idx_list])\n",
    "#    return df_row_drop\n",
    "\n",
    "#def drop_column_by_index(df, col_list):\n",
    "#    df_column_drop = df.drop([col_list], axis=1)\n",
    "#    return df_column_drop"
   ]
  },
  {
   "cell_type": "code",
   "execution_count": null,
   "metadata": {},
   "outputs": [],
   "source": [
    "# --- 3. Load the data --- #\n",
    "# Define input CSVs:\n",
    "\n",
    "\n",
    "# Define type of variables list:\n",
    "\n",
    "# Define variables to drop\n",
    "\n",
    "# Load data\n",
    "\n",
    "# Metadata of dataframe: EDA"
   ]
  },
  {
   "cell_type": "markdown",
   "metadata": {},
   "source": [
    "## Part B. Exploratory Data Analysis ##\n",
    "\n",
    "#### Dataset Name: Training Set ###\n",
    "Data exploration is conducted on a cleaned training set. The main goal of this phase is to explore any interesting relationships among features and identify which features are good predictors on poverty rate predictions.\n",
    "\n",
    "Following set of questions are asked:\n",
    "1. Can I count something interesting?\n",
    "2. Can I find some trends (increase or decrease and any anomalies)?\n",
    "3. Can I plot a bar chart or a histogram?\n",
    "4. Can I make a scatter plot?\n",
    "\n",
    "These set of guiding questions will help us to explore any insights and tell a compelling story about the US poverty dataset."
   ]
  },
  {
   "cell_type": "code",
   "execution_count": null,
   "metadata": {},
   "outputs": [],
   "source": [
    "# compute top 10 rows on a eda_dataframe:\n",
    "    \n",
    "# check duplicates:\n",
    "\n",
    "#---- Compute % of Missing Data ----#"
   ]
  },
  {
   "cell_type": "code",
   "execution_count": null,
   "metadata": {},
   "outputs": [],
   "source": [
    "#---- Compute Summary Statistics: numerical data ----#"
   ]
  },
  {
   "cell_type": "code",
   "execution_count": null,
   "metadata": {},
   "outputs": [],
   "source": [
    "#---- Compute Summary Statistics: categorical data ----#"
   ]
  },
  {
   "cell_type": "code",
   "execution_count": null,
   "metadata": {},
   "outputs": [],
   "source": [
    "#---- Visualize response variable ----#\n"
   ]
  },
  {
   "cell_type": "markdown",
   "metadata": {},
   "source": [
    "### Summary: Poverty Rate ###\n",
    "Visualize the response variable - poverty rate. First, the box plot shows that mean of poverty rate is somewhere around 15. With a lot of outliers outsides of the UB approx. 32. Second, the histogram shows the distribution of poverty rate is quite close to normal distribution. It seems a little bit right skewed (positive direction)."
   ]
  },
  {
   "cell_type": "code",
   "execution_count": null,
   "metadata": {},
   "outputs": [],
   "source": [
    "#--- Use IQR to detect potential outliers ----#\n",
    "\n",
    "# Check LB Outliers:\n",
    "\n",
    "# Check UB Outliers:\n",
    "\n",
    "# check potential outliers by categorical vars:\n",
    "\n",
    "#--- Check the suspicious outliers by an economic typology: mining-dependent"
   ]
  },
  {
   "cell_type": "code",
   "execution_count": null,
   "metadata": {},
   "outputs": [],
   "source": [
    "#---- Plot histograms ----#\n",
    "# Create a list of economic typology:\n",
    "\n",
    "# Plot multiple histograms on poverty rate by economic type:\n"
   ]
  },
  {
   "cell_type": "markdown",
   "metadata": {},
   "source": [
    "### Histogram of Poverty Rate by Different Types of Economic Typology ###\n",
    "Histogram shows that there is quite a lot of overlap between different economic typologies in lower bound area of poverty rate. In comparision, less overlap of poverty rates are prominent between different economic typologies."
   ]
  },
  {
   "cell_type": "code",
   "execution_count": null,
   "metadata": {},
   "outputs": [],
   "source": [
    "# Plot 2by2 histogram as a subplot: demographic"
   ]
  },
  {
   "cell_type": "markdown",
   "metadata": {},
   "source": [
    "### Summary: Economic Indicators ###\n",
    "1. Labor: showed distribution is not quite normal. Majority of US counties have civilian labor more than 50%.\n",
    "2. Unemployment rate: showed distribution skewed to right. Majority of US counties have unemployment rate at 5%.\n",
    "3. Uninsured children: showed distribution skewed to right. Majority of US counties have uninsured children less than 10%.\n",
    "4. Uninsured adults: showed distribution closer to normal. Majority of US counties have uninsured adults more than 20%."
   ]
  },
  {
   "cell_type": "code",
   "execution_count": null,
   "metadata": {},
   "outputs": [],
   "source": [
    "# Plot 2by2 histogram as a subplot: health indicators"
   ]
  },
  {
   "cell_type": "markdown",
   "metadata": {},
   "source": [
    "### Summary: Health Indicators ###\n",
    "1. Obesity: showed distribution closes to normal. Majority of US counties have adult obesity greater than 30%.\n",
    "2. Adult smoking: showed distribution skewed to right. More than half of US counties smoking less than 25%.\n",
    "3. Diabetes: showed distribution closes to normal. Majority of US counties have diabetes less than 10%.\n",
    "4. Excessive drinking: showed distribution skewed to right. Majority of US counties have excessive drinking less than 15%."
   ]
  },
  {
   "cell_type": "code",
   "execution_count": null,
   "metadata": {},
   "outputs": [],
   "source": [
    "# Plot 2by2 histogram as a subplot: education"
   ]
  },
  {
   "cell_type": "markdown",
   "metadata": {},
   "source": [
    "### Summary: Education Indicators ###\n",
    "1. No high school diploma: showed distribution skewed to right. Majority of US counties have adults with no high school diploma less than 15%.\n",
    "2. With high school diploma: showed distribution closes to normal. More than half of US counties have high school diploma greater than 30%.\n",
    "3. With some college: showed distribution closes to normal. Majority of US counties have adults with some college education greater than 30%.\n",
    "4. With university degree: showed distribution skewed to right. Majority of US counties have university degree less than 20%."
   ]
  },
  {
   "cell_type": "code",
   "execution_count": null,
   "metadata": {},
   "outputs": [],
   "source": [
    "#---- Plot bar chart(s) ----#\n",
    "# Plot bar chart: economic typology"
   ]
  },
  {
   "cell_type": "markdown",
   "metadata": {},
   "source": [
    "### Summary: Frequency Chart - Economic Typology ###\n",
    "1. Non-specialized economic counties were top among the US population.\n",
    "2. Mining-dependent counties were the lowest counts among the US population."
   ]
  },
  {
   "cell_type": "code",
   "execution_count": null,
   "metadata": {},
   "outputs": [],
   "source": [
    "#---- Plot box-whisker plot chart(s) ----#"
   ]
  },
  {
   "cell_type": "markdown",
   "metadata": {},
   "source": [
    "### Summary: Box-Whisker Plots by Categorical Variables ### \n",
    "1. Economic typology: federal state-dependent counties showed the highest poverty rate (19.5%). On contrary, farming-dependent counties had the lowest poverty rate (14%).\n",
    "2. Urbanization degree: with increased in population size from small micropolitan to large metropolitan counties, poverty rates were decreased.\n",
    "3. Urban-rural classification: from non-metro to metro counties, the poverty rates were going down (17.5% vs. 12.5%)."
   ]
  },
  {
   "cell_type": "code",
   "execution_count": null,
   "metadata": {},
   "outputs": [],
   "source": [
    "#---- Convert categorical variable data type from object to category ----#\n",
    "\n",
    "\n",
    "#---- Encode categorical variables using avg. salary for each category to replace label ----#\n",
    "    \n",
    "#---- Plot correlation matrix chart ----#\n",
    "# Define list of features and salary\n"
   ]
  },
  {
   "cell_type": "markdown",
   "metadata": {},
   "source": [
    "### Summary: Correlation Matrix ###\n",
    "We can conclude from above that % civilian labor is the most strongly correlated with poverty rate, followed by % unemployment, % low birth weight, % diabetes and % uninsured adults.\n",
    "\n",
    "Among the features, following trends were recongized:\n",
    "1. Urban influential size and urban area concentration have a strong degree of positive correlation (0.88).\n",
    "2. % below 18 year old and Birth rate per 1k have a strong degree of positive correlation (0.73).\n",
    "3. % Uninsured adults and Uninsured children have a strong degree of positive correlation (0.72)."
   ]
  },
  {
   "cell_type": "code",
   "execution_count": null,
   "metadata": {},
   "outputs": [],
   "source": [
    "#---- Plot a cross-tabulate based on two categorical variables ----#    \n"
   ]
  },
  {
   "cell_type": "markdown",
   "metadata": {},
   "source": [
    "### Summary: Cross Tabulation ###\n",
    "1. With respect to non-specialized: the largest number of counties were non-specialized and non-metro with population size of 2,500 to 19,999. Followed by non-specialized and metro counties with population over 1 million.\n",
    "2. With respect to farm-dependent: most of counties were dependent on farming industries in non-metro with less than 2,500 population (rural area).\n",
    "3. In mid-size non-metro with population of 2,500 to 19,999, most of counties were dependent on manufacturing and mining.\n",
    "4. In small size non-metro with population of 2,500 to 19,999 were mostly dependent on federal/state government funding."
   ]
  },
  {
   "cell_type": "code",
   "execution_count": null,
   "metadata": {},
   "outputs": [],
   "source": [
    "#---- Plot a scatter plot: numerical and categorical variables ----#\n",
    "# Demographics\n"
   ]
  },
  {
   "cell_type": "markdown",
   "metadata": {},
   "source": [
    "### Summary: Scatter Plot - economic indicators vs. poverty rate\n",
    "1. % civilian labor: a strong trend of increased in labor power, decreased in poverty rate was observed.\n",
    "2. % uninsured adults: a trend of increased in uninsured adults, decreased in poverty rate was observed."
   ]
  },
  {
   "cell_type": "code",
   "execution_count": null,
   "metadata": {},
   "outputs": [],
   "source": [
    "# Health indicators\n"
   ]
  },
  {
   "cell_type": "markdown",
   "metadata": {},
   "source": [
    "### Summary: Scatter Plot - health indicators vs. poverty rate\n",
    "1. % excessive drinking: higher the excessive drinking %, slight decreased in poverty rates were observed.\n",
    "2. % low birthweight: higher the low birthweight %, increased in poverty rates were observed."
   ]
  },
  {
   "cell_type": "code",
   "execution_count": null,
   "metadata": {},
   "outputs": [],
   "source": [
    "# Education indicators\n"
   ]
  },
  {
   "cell_type": "markdown",
   "metadata": {},
   "source": [
    "### Summary: Scatter Plot - education indicators vs. poverty rate ###\n",
    "1. % university education: increased in university degree %, lower poverty rates were observed.\n",
    "2. % no high school diploma: increased in % of no high school diploma, higher poverty rates were observed."
   ]
  },
  {
   "cell_type": "code",
   "execution_count": null,
   "metadata": {},
   "outputs": [],
   "source": [
    "#---- Plot multi-faceted scatter plots by categorical variable ----#\n"
   ]
  },
  {
   "cell_type": "code",
   "execution_count": null,
   "metadata": {},
   "outputs": [],
   "source": [
    "#---- Plot color scaled scatter plots by numerical variable ----#\n"
   ]
  },
  {
   "cell_type": "markdown",
   "metadata": {},
   "source": [
    "### Summary: Multi-faceted Scatter Plot ###\n",
    "% no high school diploma vs. % university degree: these top two plots showed that higher the education level of population, increased in % of civilian labor. Thus, poverty rates were found to be lower."
   ]
  }
 ],
 "metadata": {
  "kernelspec": {
   "display_name": "Python 3",
   "language": "python",
   "name": "python3"
  },
  "language_info": {
   "codemirror_mode": {
    "name": "ipython",
    "version": 3
   },
   "file_extension": ".py",
   "mimetype": "text/x-python",
   "name": "python",
   "nbconvert_exporter": "python",
   "pygments_lexer": "ipython3",
   "version": "3.7.3"
  }
 },
 "nbformat": 4,
 "nbformat_minor": 2
}
