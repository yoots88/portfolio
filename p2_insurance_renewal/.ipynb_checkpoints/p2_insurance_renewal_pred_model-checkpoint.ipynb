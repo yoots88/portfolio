{
 "cells": [
  {
   "cell_type": "markdown",
   "metadata": {},
   "source": [
    "# Capstone Project: Insurance Renewal Propensity Model #\n",
    "This is a data science portfolio for solving the insurance use case. The dataset used in this project is sourced from the data science competition sponsored by the McKinsey analytics consulting firm.\n",
    "The competition link can be found here [contest page] (https://datahack.analyticsvidhya.com/contest/mckinsey-analytics-online-hackathon-4/).\n",
    "\n",
    "**Goal:** \n",
    "1. To develop a classification model which predicts clients at high probabilities of renewing their policies\n",
    "2. To create an incentive plan to maximize net revenues collected from policy holders\n",
    "\n",
    "**Results:**\n",
    "83% of auc_roc score made on test set of client population using Random Forest classifier.\n",
    "\n",
    "**Risks:**\n",
    "Model incorrectly identified with 17% of auc_roc error on test set.\n",
    "\n",
    "**Mitigation:**\n",
    "Review identified cases with senior management and sales agents before any making incentive plans\n",
    "\n",
    "**Next Steps for Future Work:**\n",
    "* Collection of meaningful features.\n",
    "* Model improvement: algorithms, resampling strategies and etc.\n",
    "\n",
    "**Recommendations for Companies:**\n",
    "* Option 1\n",
    "* Option 2"
   ]
  },
  {
   "cell_type": "markdown",
   "metadata": {},
   "source": [
    "## Part 1 - DEFINE ##\n",
    "\n",
    "**Problem Statement:**  \n",
    "an insurance company needs the data scientist's help in building a model to predict the propensity for paying renewal premium and build an incentive plan for its agents to maximize the total net revenue (i.e., incentives provided to collect renewal premiums) from their policyholders (clients).\n",
    "\n",
    "The insurance propensity dataset comes with information about the policyholders' demographics and aggregated past historical transaction data like # of premiums paid on time, # of premiums paid late, client sourcing channel etc.\n",
    "\n",
    "In addition to the above information, the insurance company provided the following relationships:\n",
    "\n",
    "1. The equation for the effort in hours puts by an agent for incentives provided;\n",
    "2. The equation for the expected improvement in renewal probabilities, given the effort from the agent.\n",
    "\n",
    "**Stakeholders:** \n",
    "* Insurance company senior management\n",
    "* Insurance company sales agents\n",
    "* Insurance policy holders - clients"
   ]
  },
  {
   "cell_type": "code",
   "execution_count": 1,
   "metadata": {},
   "outputs": [
    {
     "name": "stderr",
     "output_type": "stream",
     "text": [
      "C:\\Users\\yoots\\Anaconda3\\lib\\site-packages\\sklearn\\externals\\six.py:31: DeprecationWarning: The module is deprecated in version 0.21 and will be removed in version 0.23 since we've dropped support for Python 2.7. Please rely on the official version of six (https://pypi.org/project/six/).\n",
      "  \"(https://pypi.org/project/six/).\", DeprecationWarning)\n"
     ]
    }
   ],
   "source": [
    "# Import all libraries #\n",
    "import itertools\n",
    "import sys\n",
    "from datetime import datetime, timedelta\n",
    "import numpy as np\n",
    "import pandas as pd\n",
    "import matplotlib.pyplot as plt\n",
    "from matplotlib.colors import ListedColormap\n",
    "import seaborn as sns\n",
    "plt.style.use('ggplot')\n",
    "import operator\n",
    "from itertools import cycle\n",
    "import scipy.stats as sp\n",
    "from scipy import interp\n",
    "from scipy.stats import randint\n",
    "from sklearn.externals import six\n",
    "from sklearn.pipeline import _name_estimators\n",
    "import sklearn.metrics as skm\n",
    "import sklearn.base as skb\n",
    "from sklearn.utils import shuffle, resample\n",
    "from imblearn.over_sampling import SMOTE\n",
    "from imblearn.combine import SMOTEENN\n",
    "from sklearn.preprocessing import Imputer, StandardScaler, LabelEncoder\n",
    "from sklearn.model_selection import KFold, train_test_split, StratifiedKFold\n",
    "from sklearn.model_selection import cross_val_predict, cross_val_score, RandomizedSearchCV\n",
    "from statsmodels.stats.outliers_influence import variance_inflation_factor\n",
    "from sklearn.linear_model import LogisticRegression\n",
    "from sklearn.tree import DecisionTreeClassifier\n",
    "from sklearn.ensemble import RandomForestClassifier, GradientBoostingClassifier\n",
    "from xgboost import XGBClassifier\n",
    "\n",
    "# Authorship:\n",
    "__author__ = 'Taesun Yoo'\n",
    "__email__ = 'yoots1988@gmail.com'"
   ]
  },
  {
   "cell_type": "markdown",
   "metadata": {},
   "source": [
    "## Part 2 - DISCOVERY ##"
   ]
  },
  {
   "cell_type": "code",
   "execution_count": 2,
   "metadata": {},
   "outputs": [],
   "source": [
    "# --- 1. Write Out List of Functions --- #\n",
    "def load_file(file):\n",
    "    '''load input CSVs as a dataframe'''\n",
    "    return pd.read_csv(file, encoding='latin1')\n",
    "\n",
    "\n",
    "def convert_dt_as_custom(df, var_name, dt_type):\n",
    "    '''convert datatype on selected variables'''\n",
    "    df[var_name] = df[var_name].astype(dt_type)\n",
    "    return df[var_name]\n",
    "\n",
    "\n",
    "def convert_dt_as_category(df):\n",
    "    '''convert datatype from object to category'''\n",
    "    for col in df.columns:\n",
    "        if df[col].dtype.name == 'object':\n",
    "            df[col] = df[col].astype('category')            \n",
    "\n",
    "        \n",
    "def drop_column(df, var_name):\n",
    "    ''' drop a column on dataframe '''\n",
    "    df = df.drop(var_name, axis=1)\n",
    "    return df\n",
    "\n",
    "\n",
    "def clean_data(raw_df):\n",
    "    '''remove rows that contain outliers'''\n",
    "    clean_df = raw_df.drop_duplicates(subset='id')\n",
    "    return clean_df\n",
    "    \n",
    "\n",
    "def join_data(df1, df2, join_type, key=None,\n",
    "              left_index=None, right_index=None):\n",
    "    '''merge the dataframes by a key'''\n",
    "    df_join = pd.merge(df1, df2, how=join_type, on=key,\n",
    "                       left_index=False, right_index=False)\n",
    "    return df_join\n",
    "\n",
    "\n",
    "def avg_groupby_data(cleaned_df, num_var, cat_var, avg_var_name):\n",
    "    '''groupby categorical var to calculate an average numerical feature'''\n",
    "    avg_groupby_cat_val = cleaned_df.groupby(cat_var)[num_var].mean().sort_values(ascending=False)\n",
    "    avg_groupby_cat_df = pd.DataFrame({cat_var:list(cleaned_df[cat_var].unique()),\n",
    "                                      avg_var_name:avg_groupby_cat_val})\n",
    "    avg_groupby_cat_df.reset_index(drop=True, inplace=True)\n",
    "    return avg_groupby_cat_df\n",
    "\n",
    "\n",
    "def encode_categorical_feature(df, var_name, map_name):\n",
    "    '''encode categorical features into mapping values'''\n",
    "    df[var_name] = df[var_name].map(map_name)\n",
    "    return df[var_name]\n",
    "\n",
    "\n",
    "def EDA_missing_data(df):\n",
    "    ''' compute missing value % on a df'''\n",
    "    df_missing = pd.DataFrame(df.isnull().sum())\n",
    "    df_missing.columns = ['count']\n",
    "    df_missing = df_missing.sort_values(by='count', ascending=False)\n",
    "    df_missing['pct'] = (df_missing['count']/len(df)) * 100\n",
    "    return df_missing\n",
    "\n",
    "\n",
    "def EDA_summary_stat_num(df):\n",
    "    ''' compute numerical summary statistics '''\n",
    "    df_stat_num = df.describe().T\n",
    "    df_stat_num = df_stat_num[['count', 'min', 'mean', 'max', '25%', '50%', '75%', 'std']]\n",
    "    df_stat_num = df_stat_num.sort_values(by='count', ascending=True)\n",
    "    df_stat_num = pd.DataFrame(df_stat_num)\n",
    "    return df_stat_num\n",
    "\n",
    "\n",
    "def EDA_summary_stat_cat(df):\n",
    "    ''' compute numerical summary statistics '''\n",
    "    df_stat_cat = pd.DataFrame(df.describe(include='category').T)\n",
    "    return df_stat_cat\n",
    "\n",
    "\n",
    "def EDA_feature_importance_plot(model, X, y):\n",
    "    '''plots the feature importance plot on trained model'''\n",
    "    model = model\n",
    "    model.fit(X, y)\n",
    "    feat_labels = X.columns\n",
    "    importances = model.feature_importances_\n",
    "    indices = np.argsort(importances)[::-1]\n",
    "    \n",
    "    plt.bar(range(X.shape[1]), importances[indices], align='center')\n",
    "    plt.xticks(range(X.shape[1]), feat_labels[indices], rotation=90, fontsize=7)\n",
    "    plt.xlim(-1, X.shape[1])\n",
    "\n",
    "\n",
    "def feature_replacement(X):\n",
    "    ''' replace missing values based on specific data type of a column '''\n",
    "    for col in X.columns:\n",
    "        if X[col].dtype.name == 'object':\n",
    "            mode = X[col].mode().iloc[0]\n",
    "            X[col] = X[col].fillna(mode)\n",
    "        elif X[col].dtype.name == 'float64':\n",
    "            mean = X[col].mean()\n",
    "            X[col] = X[col].fillna(mean)\n",
    "        else:\n",
    "            X[col].dtype.name == 'int64'\n",
    "            median = X[col].median()\n",
    "            X[col] = X[col].fillna(median)\n",
    "\n",
    "\n",
    "def apply_binning(df, new_var, old_var, bins, labels):\n",
    "    '''apply binning on a selected variable'''\n",
    "    df[new_var] = pd.cut(df[old_var], bins=bins,\n",
    "                          labels=labels, include_lowest=True)\n",
    "    return df[new_var]\n",
    "\n",
    "\n",
    "def one_hot_encode_feature(df, cat_vars=None, num_vars=None):\n",
    "    '''performs one-hot encoding on all categorical variables and\n",
    "       combine results with numerical variables '''\n",
    "    cat_df = pd.get_dummies(df[cat_vars], drop_first=True)\n",
    "    num_df = df[num_vars].apply(pd.to_numeric)\n",
    "    return pd.concat([cat_df, num_df], axis=1)\n",
    "\n",
    "\n",
    "def get_label_data(df, label_var):\n",
    "    '''separate label from a dataframe'''\n",
    "    df_label = df[label_var]\n",
    "    return df_label\n",
    "\n",
    "\n",
    "def feature_scale_data(X):\n",
    "    '''Feature scaled data based on standardization'''\n",
    "    sc_X = StandardScaler()\n",
    "    X_std = sc_X.fit_transform(X)\n",
    "    return X_std\n",
    "    \n",
    "\n",
    "def score_model_roc_auc(model, X_train, y_train, X_val, y_val):\n",
    "    '''computes the roc_auc score for probability of being a stroke case'''\n",
    "    model.fit(X_train, y_train)\n",
    "    probs = model.predict_proba(X_val)\n",
    "    return skm.roc_auc_score(y_val, probs[:,1])\n",
    "\n",
    "\n",
    "def model_tuning_param(model, feature_df, label_df, param_dist, n_iter):\n",
    "    '''performs RandomizedSearchCV to tune model hyper-parameters'''\n",
    "    random_search = RandomizedSearchCV(model, param_dist, n_iter, cv=5)\n",
    "    random_search.fit(feature_df, label_df)\n",
    "    return random_search\n",
    "\n",
    "\n",
    "def print_best_param(random_search, param_1=None, param_2=None, param_3=None, param_4=None):\n",
    "    '''print the best model parameter(s)'''\n",
    "    print(\"Best \" + param_1 + \":\", random_search.best_estimator_.get_params()[param_1])\n",
    "    print(\"Best \" + param_2 + \":\", random_search.best_estimator_.get_params()[param_2])\n",
    "    print(\"Best \" + param_3 + \":\", random_search.best_estimator_.get_params()[param_3])\n",
    "    print(\"Best \" + param_4 + \":\", random_search.best_estimator_.get_params()[param_4])\n",
    "\n",
    "\n",
    "def model_train(model, feature_df, label_df, n_proc, mean_roc_auc, cv_std):\n",
    "    '''train a model and output mean roc_auc and CV std.dev roc_auc'''\n",
    "    roc_auc = cross_val_score(model, feature_df, label_df, n_jobs=n_proc,\n",
    "                               cv=5, scoring='roc_auc')\n",
    "    mean_roc_auc[model] = np.mean(roc_auc)\n",
    "    cv_std[model] = np.std(roc_auc)    \n",
    "\n",
    "\n",
    "def model_summary(model, mean_roc_auc, cv_std):\n",
    "    '''print out the model performances'''\n",
    "    print('\\nModel:\\n', model)\n",
    "    print('Average roc_auc:\\n', mean_roc_auc[model])\n",
    "    print('Std. Dev during CV:\\n', cv_std[model])    \n",
    "\n",
    "\n",
    "def compute_confusion_matrix(y_act, y_pred):\n",
    "    '''compute sklearn confusion matrix'''\n",
    "    cm_model = skm.confusion_matrix(y_act, y_pred)\n",
    "    return cm_model  \n",
    "\n",
    "\n",
    "def plot_confusion_matrix(cm, classes):\n",
    "    '''plot the confusion matrix of trained model'''\n",
    "    fig, ax = plt.subplots(figsize=(7,7))\n",
    "    cm = cm.astype('float')/cm.sum()\n",
    "    \n",
    "    plt.imshow(cm, interpolation='nearest', cmap=plt.cm.Blues)\n",
    "    tick_marks = np.arange(len(classes))\n",
    "    plt.xticks(tick_marks, classes, rotation=45)\n",
    "    plt.yticks(tick_marks, classes)\n",
    "    \n",
    "    fmt='.2f'\n",
    "    thresh = cm.max()/2.\n",
    "    for i in range(cm.shape[0]):\n",
    "        for j in range(cm.shape[1]):\n",
    "            ax.text(j, i, format(cm[i,j], fmt), ha='center', va='center',\n",
    "                    color='white' if cm[i,j] > thresh else 'black')\n",
    "    plt.xlabel('predicted label')\n",
    "    plt.ylabel('true label')\n",
    "\n",
    "\n",
    "def report_class_summary(model_name, y_act, y_pred):\n",
    "    '''Write a classification summary report''' \n",
    "    print ('Accuracy of ' + model_name + ' is %0.2f'% skm.accuracy_score(y_act, y_pred))\n",
    "    print ('Precision of ' + model_name + ' is %0.2f'% skm.precision_score(y_act, y_pred))\n",
    "    print ('Recall of ' + model_name + ' is %0.2f'% skm.recall_score(y_act, y_pred))\n",
    "    print ('ROC score of ' + model_name + ' is %0.2f'% skm.roc_auc_score(y_act, y_pred))\n",
    "    \n",
    "    \n",
    "def model_results(model, mean_roc_auc, predictions, feature_importances):\n",
    "    '''saves the model name, mean_roc_auc, predicted rate, and feature importances'''\n",
    "    with open('model.txt', 'w') as file:\n",
    "        file.write(str(model))\n",
    "        feature_importances.to_csv('feat_importances.csv')\n",
    "        predictions.to_csv('pred_results_best.csv', index=False)"
   ]
  },
  {
   "cell_type": "code",
   "execution_count": 3,
   "metadata": {},
   "outputs": [
    {
     "name": "stdout",
     "output_type": "stream",
     "text": [
      "<class 'pandas.core.frame.DataFrame'>\n",
      "RangeIndex: 79853 entries, 0 to 79852\n",
      "Data columns (total 13 columns):\n",
      "id                                  79853 non-null int64\n",
      "perc_premium_paid_by_cash_credit    79853 non-null float64\n",
      "age_in_days                         79853 non-null int64\n",
      "income                              79853 non-null int64\n",
      "count_3-6_months_late               79756 non-null float64\n",
      "count_6-12_months_late              79756 non-null float64\n",
      "count_more_than_12_months_late      79756 non-null float64\n",
      "application_underwriting_score      76879 non-null float64\n",
      "no_of_premiums_paid                 79853 non-null int64\n",
      "sourcing_channel                    79853 non-null object\n",
      "residence_area_type                 79853 non-null object\n",
      "premium                             79853 non-null int64\n",
      "renewal                             79853 non-null int64\n",
      "dtypes: float64(5), int64(6), object(2)\n",
      "memory usage: 7.9+ MB\n"
     ]
    }
   ],
   "source": [
    "# --- 2. Load the data --- #\n",
    "# define input CSVs:\n",
    "if __name__ == '__main__':\n",
    "    train_file = 'insurance_train.csv'\n",
    "    test_file = 'insurance_test.csv'\n",
    "\n",
    "# Load data\n",
    "df_train = load_file(train_file) \n",
    "df_test = load_file(test_file)\n",
    "del(train_file, test_file)\n",
    "\n",
    "# --- 3. ETL - metadata format --- #\n",
    "# lower case column names:\n",
    "df_train.columns = map(str.lower, df_train.columns)\n",
    "df_test.columns = map(str.lower, df_test.columns)\n",
    "\n",
    "# define variables:\n",
    "var_label = 'renewal'\n",
    "vars_cat = list(df_train.select_dtypes(include='O'))\n",
    "\n",
    "# check data types on dataframe(s):\n",
    "df_train.info()"
   ]
  },
  {
   "cell_type": "code",
   "execution_count": 4,
   "metadata": {},
   "outputs": [],
   "source": [
    "# --- 4. ETL - merging/subsetting data --- #\n",
    "# create a dataframe with label:\n",
    "df_label = df_train[['id','renewal']]\n",
    "\n",
    "# drop a label:\n",
    "df_train = drop_column(df_train, var_label)\n",
    "\n",
    "# merge on a train set and label:\n",
    "df_train_raw = join_data(df_train, df_label, 'inner', 'id')\n",
    "\n",
    "# --- 5. ETL - cleaning data --- #\n",
    "# clean data: train & test sets\n",
    "df_train_clean = shuffle(clean_data(df_train_raw)).reset_index(drop=True) \n",
    "df_test_clean = shuffle(clean_data(df_test)).reset_index(drop=True)\n",
    "del (df_test, df_train, df_train_raw)\n",
    "\n",
    "# create a test set: 'id'\n",
    "df_test_id = df_test_clean['id']"
   ]
  },
  {
   "cell_type": "markdown",
   "metadata": {},
   "source": [
    "### Feature Imputation ###\n",
    "Let's compute feature imputation to replace missing values by different types of variables/features: \n",
    "1. Mode: nominal variables\n",
    "2. Mean: numerical variables\n",
    "3. Median: ordinal variables"
   ]
  },
  {
   "cell_type": "code",
   "execution_count": 5,
   "metadata": {},
   "outputs": [],
   "source": [
    "# --- 6. Feature Imputation --- #\n",
    "# Compute missing value %: before replacement\n",
    "df_missing_pre = EDA_missing_data(df_train_clean)\n",
    "df_missing_pre\n",
    "\n",
    "# feature imputation:\n",
    "feature_replacement(df_train_clean)\n",
    "feature_replacement(df_test_clean)\n",
    "\n",
    "# Compute missing value %: after replacement\n",
    "df_missing_post = EDA_missing_data(df_train_clean)\n",
    "df_missing_post\n",
    "del(df_missing_pre, df_missing_post)"
   ]
  },
  {
   "cell_type": "markdown",
   "metadata": {},
   "source": [
    "### Feature Engineering ###\n",
    "* Create a new feature using existing feature(s) with known business rules/knowledge.\n",
    "* Also can use different types of transformation such as average and groupby."
   ]
  },
  {
   "cell_type": "code",
   "execution_count": 6,
   "metadata": {},
   "outputs": [
    {
     "name": "stdout",
     "output_type": "stream",
     "text": [
      "<class 'pandas.core.frame.DataFrame'>\n",
      "RangeIndex: 79853 entries, 0 to 79852\n",
      "Data columns (total 13 columns):\n",
      "id                                  79853 non-null int64\n",
      "perc_premium_paid_by_cash_credit    79853 non-null float64\n",
      "income                              79853 non-null int64\n",
      "count_3-6_months_late               79853 non-null float64\n",
      "count_6-12_months_late              79853 non-null float64\n",
      "count_more_than_12_months_late      79853 non-null float64\n",
      "application_underwriting_score      79853 non-null float64\n",
      "no_of_premiums_paid                 79853 non-null int64\n",
      "sourcing_channel                    79853 non-null object\n",
      "residence_area_type                 79853 non-null object\n",
      "premium                             79853 non-null int64\n",
      "renewal                             79853 non-null int64\n",
      "age                                 79853 non-null float64\n",
      "dtypes: float64(6), int64(5), object(2)\n",
      "memory usage: 7.9+ MB\n"
     ]
    }
   ],
   "source": [
    "# --- 7. Feature Engineering --- #\n",
    "# Create a new feature: age converted in years\n",
    "df_train_clean['age'] = round(df_train_clean['age_in_days']/365, 0)\n",
    "df_test_clean['age'] = round(df_test_clean['age_in_days']/365, 0)\n",
    "\n",
    "# Drop age_in_days from dataframe:\n",
    "df_train_clean = drop_column(df_train_clean, 'age_in_days')\n",
    "df_test_clean = drop_column(df_test_clean, 'age_in_days')\n",
    "\n",
    "df_train_clean.info()\n",
    "\n",
    "# average age by categorical variables:\n",
    "#df_avg_income_by_src_channel = avg_groupby_data(df_train_clean, 'income',\n",
    "#                                                'sourcing_channel', 'avg_income_src_channel')\n",
    "## perform left joins on avg grouped dataframes:\n",
    "#df_train_clean = join_data(df_train_clean, df_avg_income_by_src_channel, 'left', key='sourcing_channel')\n",
    "#df_test_clean = join_data(df_test_clean, df_avg_income_by_src_channel, 'left', key='sourcing_channel')\n",
    "\n",
    "# re-cap: numerical features\n",
    "vars_num_disc = list(df_train_clean.select_dtypes(include='int64'))\n",
    "vars_num_cont = list(df_train_clean.select_dtypes(include='float64'))\n",
    "\n",
    "# concatenate a list:\n",
    "vars_num = vars_num_disc + vars_num_cont\n",
    "\n",
    "# delete a list of unwanted variables:\n",
    "unwanted_list = {'id', 'renewal'}\n",
    "vars_num = [var for var in vars_num if var not in unwanted_list]"
   ]
  },
  {
   "cell_type": "code",
   "execution_count": 7,
   "metadata": {},
   "outputs": [
    {
     "data": {
      "text/html": [
       "<div>\n",
       "<style scoped>\n",
       "    .dataframe tbody tr th:only-of-type {\n",
       "        vertical-align: middle;\n",
       "    }\n",
       "\n",
       "    .dataframe tbody tr th {\n",
       "        vertical-align: top;\n",
       "    }\n",
       "\n",
       "    .dataframe thead th {\n",
       "        text-align: right;\n",
       "    }\n",
       "</style>\n",
       "<table border=\"1\" class=\"dataframe\">\n",
       "  <thead>\n",
       "    <tr style=\"text-align: right;\">\n",
       "      <th></th>\n",
       "      <th>count</th>\n",
       "      <th>unique</th>\n",
       "      <th>top</th>\n",
       "      <th>freq</th>\n",
       "    </tr>\n",
       "  </thead>\n",
       "  <tbody>\n",
       "    <tr>\n",
       "      <td>sourcing_channel</td>\n",
       "      <td>79853</td>\n",
       "      <td>5</td>\n",
       "      <td>A</td>\n",
       "      <td>43134</td>\n",
       "    </tr>\n",
       "    <tr>\n",
       "      <td>residence_area_type</td>\n",
       "      <td>79853</td>\n",
       "      <td>2</td>\n",
       "      <td>Urban</td>\n",
       "      <td>48183</td>\n",
       "    </tr>\n",
       "  </tbody>\n",
       "</table>\n",
       "</div>"
      ],
      "text/plain": [
       "                     count unique    top   freq\n",
       "sourcing_channel     79853      5      A  43134\n",
       "residence_area_type  79853      2  Urban  48183"
      ]
     },
     "execution_count": 7,
     "metadata": {},
     "output_type": "execute_result"
    }
   ],
   "source": [
    "# --- 8. Exploratory Data Analysis --- #\n",
    "# perform numerical stat:\n",
    "df_stat_num = EDA_summary_stat_num(df_train_clean[vars_num])\n",
    "df_stat_num\n",
    "\n",
    "# convert date type: object to category\n",
    "convert_dt_as_category(df_train_clean)\n",
    "convert_dt_as_category(df_test_clean)\n",
    "\n",
    "# perform categorical stat:\n",
    "df_stat_cat = EDA_summary_stat_cat(df_train_clean[vars_cat])\n",
    "df_stat_cat"
   ]
  },
  {
   "cell_type": "markdown",
   "metadata": {},
   "source": [
    "### One-Hot Encoding: Dummy Variables ###\n",
    "One-Hot-Encoding on nominal feature allows to create a separate column on each feature and its value are only encoded \"0\" or \"1\". This dummy indicator gets interpreted the ML models for making accurate predictions.\n",
    "\n",
    "Also to reduce any potential biases of having multi-colinearity, each feature's first encoded dummy variable must be dropped to avoid dummy variable trap (i.e., where independent variables are highly inter-correlated with each other as one predictor can be predicted from other of similar variables: gender_female vs. gender_male vs. gender_other)."
   ]
  },
  {
   "cell_type": "code",
   "execution_count": 8,
   "metadata": {},
   "outputs": [
    {
     "name": "stdout",
     "output_type": "stream",
     "text": [
      "class label counts in total: [ 4998 74855]\n",
      "class label counts in train set: [ 3499 52398]\n",
      "class label counts in test set: [ 1499 22457]\n"
     ]
    }
   ],
   "source": [
    "# --- 9. Prepare Training Data --- #\n",
    "# Drop first dummy variable on each nominal feature to avoid dummy variable trap:\n",
    "df_feature_enc = one_hot_encode_feature(df_train_clean, cat_vars=vars_cat, num_vars=vars_num)\n",
    "df_test_enc = one_hot_encode_feature(df_test_clean, cat_vars=vars_cat, num_vars=vars_num)\n",
    "\n",
    "# create a label:\n",
    "label_df = df_train_clean['renewal']\n",
    "\n",
    "# check % renewal: since 93.7% get renewal, no need to apply re-sampling technique here!\n",
    "label_pct = pd.DataFrame(df_label.groupby('renewal')['renewal'].count())\n",
    "label_pct['pct_renewal'] = (label_pct['renewal']/len(df_label)) * 100\n",
    "label_pct['pct_renewal']\n",
    "\n",
    "# delete dataframes:\n",
    "del(df_train_clean, df_test_clean, df_label)\n",
    "\n",
    "# --- 10. split data into train and test set --- # \n",
    "X_train, X_val, y_train, y_val = train_test_split(df_feature_enc, label_df, test_size=.3,\n",
    "                                                    random_state=0, stratify=label_df)\n",
    "# Check label counts on the split set:\n",
    "print('class label counts in total:', np.bincount(label_df))\n",
    "print('class label counts in train set:', np.bincount(y_train))\n",
    "print('class label counts in test set:', np.bincount(y_val))"
   ]
  },
  {
   "cell_type": "code",
   "execution_count": 9,
   "metadata": {},
   "outputs": [],
   "source": [
    "## --- 11. Feature Selection --- #\n",
    "## Baseline Prediction:\n",
    "#baseline = RandomForestClassifier(n_estimators=100, n_jobs=-1)\n",
    "#baseline.fit(X_train_std, y_train)\n",
    "#\n",
    "## Plot feature importances:\n",
    "#EDA_feature_importance_plot(baseline, X_train, y_train)\n",
    "#\n",
    "## Make predicted probabilities:\n",
    "#probs = baseline.predict_proba(X_test_std)\n",
    "#\n",
    "## compute a roc_auc score on positive cases only:\n",
    "#skm.roc_auc_score(y_val, probs[:,1]) \n",
    "#\n",
    "## basline predictions: test results\n",
    "#test_probs = baseline.predict_proba(df_test_enc)\n",
    "#\n",
    "## save a dataframe: test results\n",
    "#results = pd.DataFrame({'id':df_test_id,\n",
    "#                        'renewal':test_probs[:,1]})\n",
    "#    \n",
    "#results.to_csv('pred_baseline.csv', index=False, index_label=None)\n",
    "#del(baseline, probs, test_probs, results)"
   ]
  },
  {
   "cell_type": "markdown",
   "metadata": {},
   "source": [
    "## Part 3 - DEVELOP ##"
   ]
  },
  {
   "cell_type": "code",
   "execution_count": 10,
   "metadata": {},
   "outputs": [],
   "source": [
    "# --- 12. create models --- # \n",
    "# initialize model list and dicts\n",
    "models = []\n",
    "mean_roc_auc = {}\n",
    "cv_std = {}\n",
    "res = {}\n",
    "\n",
    "# define common model parameters: num processors and shared model parameters\n",
    "n_proc = 1\n",
    "verbose_lv = 5\n",
    "\n",
    "## create and tune the models that you brainstormed during part 2\n",
    "################################################################################        \n",
    "## Hyper-parameters tuning: LogisticRegression\n",
    "#lr = LogisticRegression()\n",
    "#n_iter = 10\n",
    "#param_dist_lr = dict(tol=np.random.uniform(0, 0.0001, 10), C=sp.randint(1,50),\n",
    "#                     penalty=['l1', 'l2'], solver=['liblinear','saga'])\n",
    "#random_search_lr = model_tuning_param(lr, X_train, y_train, param_dist_lr, n_iter)\n",
    "#\n",
    "## print the best model parameters: LogisticRegression    \n",
    "#param_1 = 'tol'\n",
    "#param_2 = 'C'\n",
    "#param_3 = 'penalty'\n",
    "#param_4 = 'solver'\n",
    "#\n",
    "#print_best_param(random_search_lr, param_1, param_2, param_3, param_4)\n",
    "################################################################################        \n",
    "## Hyper-parameters tuning: DecisionTree\n",
    "#tree = DecisionTreeClassifier(criterion='gini', random_state=0)\n",
    "#\n",
    "#n_iter = 10\n",
    "#param_dist_tree = {'max_depth': sp.randint(10,100),\n",
    "#                 'min_samples_split': sp.randint(2,10),\n",
    "#                 'min_samples_leaf': sp.randint(2,10),\n",
    "#                 'max_features': sp.randint(2,10)}\n",
    "#\n",
    "#random_search_tree = model_tuning_param(tree, X_train, y_train, param_dist_tree, n_iter)\n",
    "#\n",
    "## print the best model parameters: DecisionTree    \n",
    "#param_1 = 'max_depth'\n",
    "#param_2 = 'min_samples_split'\n",
    "#param_3 = 'min_samples_leaf'\n",
    "#param_4 = 'max_features'\n",
    "#\n",
    "#print_best_param(random_search_tree, param_1, param_2, param_3, param_4)\n",
    "################################################################################        \n",
    "## Hyper-parameters tuning: RandomForest\n",
    "#forest = RandomForestClassifier(criterion='gini', random_state=0)\n",
    "#\n",
    "#n_iter = 10\n",
    "#param_dist_forest = {'n_estimators': sp.randint(10,100),\n",
    "#                     'max_depth': sp.randint(10,100),\n",
    "#                     'min_samples_split': sp.randint(2,10),\n",
    "#                     'min_samples_leaf': sp.randint(2,10)}\n",
    "#\n",
    "#random_search_forest = model_tuning_param(forest, X_train, y_train, param_dist_forest, n_iter)\n",
    "#\n",
    "## print the best model parameters: RandomForest    \n",
    "#param_1 = 'n_estimators'\n",
    "#param_2 = 'max_depth'\n",
    "#param_3 = 'min_samples_split'\n",
    "#param_4 = 'min_samples_leaf'\n",
    "#\n",
    "#print_best_param(random_search_forest, param_1, param_2, param_3, param_4)\n",
    "################################################################################    \n",
    "## Hyper-parameters tuning: XGBoost\n",
    "#xgb = XGBClassifier(random_state=0)\n",
    "#n_iter = 10\n",
    "#\n",
    "#param_dist_xgb = {'n_estimators': sp.randint(10,100),\n",
    "#                 'max_depth': sp.randint(10,100),\n",
    "#                 'colsample_bytree': np.random.uniform(0, 1, 10),\n",
    "#                 'learning_rate': np.random.uniform(0, 1, 10)}\n",
    "#\n",
    "#random_search_xgb = model_tuning_param(xgb, X_train, y_train, param_dist_xgb, n_iter)\n",
    "#\n",
    "## print the best model parameters: XGBoost    \n",
    "#param_1 = 'n_estimators'\n",
    "#param_2 = 'max_depth'\n",
    "#param_3 = 'colsample_bytree'\n",
    "#param_4 = 'learning_rate'\n",
    "#\n",
    "#print_best_param(random_search_xgb, param_1, param_2, param_3, param_4)\n",
    "################################################################################  "
   ]
  },
  {
   "cell_type": "code",
   "execution_count": 11,
   "metadata": {},
   "outputs": [
    {
     "name": "stdout",
     "output_type": "stream",
     "text": [
      "begin cross-validation\n",
      "\n",
      "Model:\n",
      " LogisticRegression(C=14, class_weight=None, dual=False, fit_intercept=True,\n",
      "                   intercept_scaling=1, l1_ratio=None, max_iter=100,\n",
      "                   multi_class='warn', n_jobs=None, penalty='l1',\n",
      "                   random_state=None, solver='liblinear', tol=8.354e-05,\n",
      "                   verbose=0, warm_start=False)\n",
      "Average roc_auc:\n",
      " 0.8250185833757477\n",
      "Std. Dev during CV:\n",
      " 0.007805805149215839\n",
      "\n",
      "Model:\n",
      " DecisionTreeClassifier(class_weight=None, criterion='gini', max_depth=62,\n",
      "                       max_features=6, max_leaf_nodes=None,\n",
      "                       min_impurity_decrease=0.0, min_impurity_split=None,\n",
      "                       min_samples_leaf=9, min_samples_split=9,\n",
      "                       min_weight_fraction_leaf=0.0, presort=False,\n",
      "                       random_state=0, splitter='best')\n",
      "Average roc_auc:\n",
      " 0.7123110075822898\n",
      "Std. Dev during CV:\n",
      " 0.009608748662421325\n",
      "\n",
      "Model:\n",
      " RandomForestClassifier(bootstrap=True, class_weight=None, criterion='gini',\n",
      "                       max_depth=99, max_features='auto', max_leaf_nodes=None,\n",
      "                       min_impurity_decrease=0.0, min_impurity_split=None,\n",
      "                       min_samples_leaf=9, min_samples_split=2,\n",
      "                       min_weight_fraction_leaf=0.0, n_estimators=77,\n",
      "                       n_jobs=None, oob_score=False, random_state=0, verbose=0,\n",
      "                       warm_start=False)\n",
      "Average roc_auc:\n",
      " 0.8311231374907763\n",
      "Std. Dev during CV:\n",
      " 0.007204552683323338\n",
      "\n",
      "Model:\n",
      " XGBClassifier(base_score=0.5, booster='gbtree', colsample_bylevel=1,\n",
      "              colsample_bynode=1, colsample_bytree=0.85227, gamma=0,\n",
      "              learning_rate=0.028697, max_delta_step=0, max_depth=13,\n",
      "              min_child_weight=1, missing=None, n_estimators=96, n_jobs=1,\n",
      "              nthread=None, objective='binary:logistic', random_state=0,\n",
      "              reg_alpha=0, reg_lambda=1, scale_pos_weight=1, seed=None,\n",
      "              silent=None, subsample=1, verbosity=1)\n",
      "Average roc_auc:\n",
      " 0.8276253726929891\n",
      "Std. Dev during CV:\n",
      " 0.008033282064047529\n",
      "\n",
      "Best model with the highest mean roc_auc:\n",
      "RandomForestClassifier(bootstrap=True, class_weight=None, criterion='gini',\n",
      "                       max_depth=99, max_features='auto', max_leaf_nodes=None,\n",
      "                       min_impurity_decrease=0.0, min_impurity_split=None,\n",
      "                       min_samples_leaf=9, min_samples_split=2,\n",
      "                       min_weight_fraction_leaf=0.0, n_estimators=77,\n",
      "                       n_jobs=None, oob_score=False, random_state=0, verbose=0,\n",
      "                       warm_start=False)\n"
     ]
    }
   ],
   "source": [
    "# --- 13. cross-validate models --- # \n",
    "# a list of models to train: 5 fold cross-validation\n",
    "lr = LogisticRegression(tol=8.354e-05, C=14, penalty='l1', solver='liblinear')\n",
    "tree = DecisionTreeClassifier(max_depth=62, min_samples_split=9, min_samples_leaf=9,\n",
    "                              max_features=6, random_state=0)\n",
    "forest = RandomForestClassifier(n_estimators=77, max_depth=99, min_samples_split=2,\n",
    "                                min_samples_leaf=9, random_state=0) \n",
    "xgb = XGBClassifier(n_estimators=96, max_depth=13, colsample_bytree=0.85227,\n",
    "                    learning_rate=0.028697, random_state=0)\n",
    "\n",
    "# a list of classifiers:\n",
    "models.extend([lr, tree, forest, xgb])\n",
    "\n",
    "# cross-validate models, using roc_auc to evaluate and print the summaries\n",
    "print('begin cross-validation')\n",
    "for model in models:\n",
    "    model_train(model, X_train, y_train, n_proc, mean_roc_auc, cv_std)\n",
    "    model_summary(model, mean_roc_auc, cv_std)\n",
    "    \n",
    "# --- 14. select the best model --- #\n",
    "model = max(mean_roc_auc, key=mean_roc_auc.get)\n",
    "print('\\nBest model with the highest mean roc_auc:')\n",
    "print(model)"
   ]
  },
  {
   "cell_type": "markdown",
   "metadata": {},
   "source": [
    "### Model Evaluation: using Feature Selection ###\n",
    "Compute a roc_auc score on \"renewal cases\" for following models:\n",
    "* Logistic Regression\n",
    "* Decision Tree Classifier\n",
    "* Random Forest Classifier\n",
    "* XGBoost Classifier"
   ]
  },
  {
   "cell_type": "code",
   "execution_count": 12,
   "metadata": {},
   "outputs": [
    {
     "data": {
      "text/plain": [
       "0.8393259931967529"
      ]
     },
     "execution_count": 12,
     "metadata": {},
     "output_type": "execute_result"
    }
   ],
   "source": [
    "# --- compute a roc_auc score on \"positive cases\" --- #\n",
    "score_model_roc_auc(lr, X_train,\n",
    "                    y_train, X_val, y_val)"
   ]
  },
  {
   "cell_type": "markdown",
   "metadata": {},
   "source": [
    "### Model 1: Logistic Regression ###\n",
    "Logistic regression works by using a logit function to transform input value of features and calculate estimated probabilities of a label in range of [0,1]. For example, if P(1=stroke) ≥ 0.5, an observation is predicted as a stroke. Whereas if P(1=stroke) < 0.5, an observation is predicted as a non-stroke."
   ]
  },
  {
   "cell_type": "markdown",
   "metadata": {},
   "source": [
    "### Model 2: Decision Tree ###\n",
    "Decision tree is an algorithm where it predicts the value of a target variable (label) by learning simple decision rules inferred from selected features. Tree is generated and split data on features. It continues to split in repetitive process at each node until leaves reached purity (i.e., remaining samples at each node belongs to same class either non-stroke or stroke cases only)."
   ]
  },
  {
   "cell_type": "markdown",
   "metadata": {},
   "source": [
    "### Model 3: Random Forest ###\n",
    "Random forest is a typical ensemble learning model. It takes random subsample of data from each tree, so all constructed trees are different from each other. Thus, model makes classification based on predictions made from each tree with averaging (i.e., like picking a vote from majority)."
   ]
  },
  {
   "cell_type": "markdown",
   "metadata": {},
   "source": [
    "### Model 4: XGBoost ###\n",
    "XGBoost is a type of gradient boosting model in which subsequent model learns from the mistakes (i.e., residual errors) of previous model in a step-wise forward manner. In Gradient Boosting, residual errors are identified gradients. These gradients help how XGBoost to improve model performances."
   ]
  },
  {
   "cell_type": "markdown",
   "metadata": {},
   "source": [
    "## Model Evaluation: Confusion Matrix ##\n",
    "A confusion matrix is a table that is often used to describe the performance of a classification model (or \"classifier\") on a set of test data for which the true values are known.\n",
    "1. True Positives (TP): These are cases in which model predicted yes (they have the disease), and they do have the disease.\n",
    "2. True Negatives (TN): Model predicted no, and they don't have the disease.\n",
    "3. False Positives (FP): Model predicted yes, but they don't actually have the disease. (Also known as a \"Type I error.\")\n",
    "4. False Negatives (FN): Model predicted no, but they actually do have the disease. (Also known as a \"Type II error.\")"
   ]
  },
  {
   "cell_type": "code",
   "execution_count": 13,
   "metadata": {},
   "outputs": [
    {
     "data": {
      "image/png": "[encoded data removed]",
      "text/plain": [
       "<Figure size 504x504 with 1 Axes>"
      ]
     },
     "metadata": {
      "needs_background": "light"
     },
     "output_type": "display_data"
    },
    {
     "name": "stdout",
     "output_type": "stream",
     "text": [
      "Accuracy of Logistic Regression is 0.94\n",
      "Precision of Logistic Regression is 0.94\n",
      "Recall of Logistic Regression is 0.99\n",
      "ROC score of Logistic Regression is 0.56\n"
     ]
    },
    {
     "data": {
      "image/png": "[encoded data removed]",
      "text/plain": [
       "<Figure size 504x504 with 1 Axes>"
      ]
     },
     "metadata": {
      "needs_background": "light"
     },
     "output_type": "display_data"
    },
    {
     "name": "stdout",
     "output_type": "stream",
     "text": [
      "Accuracy of Decision Tree is 0.93\n",
      "Precision of Decision Tree is 0.95\n",
      "Recall of Decision Tree is 0.98\n",
      "ROC score of Decision Tree is 0.58\n"
     ]
    },
    {
     "data": {
      "image/png": "[encoded data removed]",
      "text/plain": [
       "<Figure size 504x504 with 1 Axes>"
      ]
     },
     "metadata": {
      "needs_background": "light"
     },
     "output_type": "display_data"
    },
    {
     "name": "stdout",
     "output_type": "stream",
     "text": [
      "Accuracy of Random Forest is 0.94\n",
      "Precision of Random Forest is 0.94\n",
      "Recall of Random Forest is 1.00\n",
      "ROC score of Random Forest is 0.55\n"
     ]
    },
    {
     "data": {
      "image/png": "[encoded data removed]",
      "text/plain": [
       "<Figure size 504x504 with 1 Axes>"
      ]
     },
     "metadata": {
      "needs_background": "light"
     },
     "output_type": "display_data"
    },
    {
     "name": "stdout",
     "output_type": "stream",
     "text": [
      "Accuracy of XGBoost is 0.94\n",
      "Precision of XGBoost is 0.94\n",
      "Recall of XGBoost is 0.99\n",
      "ROC score of XGBoost is 0.56\n"
     ]
    }
   ],
   "source": [
    "# --- 15. Model Evaluation ---    \n",
    "# compute predictions by a model:\n",
    "lr.fit(X_train, y_train)\n",
    "y_pred_lr = lr.predict(X_val)\n",
    "\n",
    "tree.fit(X_train, y_train)\n",
    "y_pred_tree = tree.predict(X_val)\n",
    "\n",
    "forest.fit(X_train, y_train)\n",
    "y_pred_forest = forest.predict(X_val)\n",
    "\n",
    "xgb.fit(X_train.values, y_train) # special for xgboost .values\n",
    "y_pred_xgb = xgb.predict(X_val.values) # special for xgboost .values\n",
    "\n",
    "# compute confusion matrices by a model:\n",
    "cm_lr = compute_confusion_matrix(y_val, y_pred_lr)\n",
    "\n",
    "cm_tree = compute_confusion_matrix(y_val, y_pred_tree)\n",
    "\n",
    "cm_forest = compute_confusion_matrix(y_val, y_pred_forest)\n",
    "\n",
    "cm_xgb = compute_confusion_matrix(y_val, y_pred_xgb)\n",
    "\n",
    "# Define class labels for stroke:\n",
    "class_labels = np.array(['non-renewed', 'renewed'], dtype=str)\n",
    "\n",
    "#####################################################\n",
    "# Confusion Matrix & Classification Metrics Summary #\n",
    "#####################################################\n",
    "# --- Model 1 --- #\n",
    "# Plot a confusion matrix: \n",
    "plot_confusion_matrix(cm_lr, class_labels)\n",
    "plt.title('Normalized Confusion Matrix: Logistic Regression')\n",
    "plt.show()\n",
    "\n",
    "# Report classification metrics summary:\n",
    "report_class_summary('Logistic Regression', y_val, y_pred_lr)\n",
    "\n",
    "# --- Model 2 --- #\n",
    "# Plot a confusion matrix: \n",
    "plot_confusion_matrix(cm_tree, class_labels)\n",
    "plt.title('Normalized Confusion Matrix: Decision Tree')\n",
    "plt.show()\n",
    "\n",
    "# Report classification metrics summary:\n",
    "report_class_summary('Decision Tree', y_val, y_pred_tree)\n",
    "\n",
    "# --- Model 3 --- #\n",
    "# Plot a confusion matrix: \n",
    "plot_confusion_matrix(cm_forest, class_labels)\n",
    "plt.title('Normalized Confusion Matrix: Random Forest')\n",
    "plt.show()\n",
    "\n",
    "# Report classification metrics summary:\n",
    "report_class_summary('Random Forest', y_val, y_pred_forest)\n",
    "\n",
    "# --- Model 4 --- #\n",
    "# Plot a confusion matrix: \n",
    "plot_confusion_matrix(cm_xgb, class_labels)\n",
    "plt.title('Normalized Confusion Matrix: XGBoost')\n",
    "plt.show()\n",
    "\n",
    "# Report classification metrics summary:\n",
    "report_class_summary('XGBoost', y_val, y_pred_xgb)"
   ]
  },
  {
   "cell_type": "markdown",
   "metadata": {},
   "source": [
    "## Model Evaluation: ROC curve ##\n",
    "ROC curve typically displays true positive rate on the Y-axis, and false positive rate on the X-axis. This means that the top left corner of the plot is the “ideal” point - a false positive rate of zero, and a true positive rate of one. This is not very realistic, but it does mean that a larger area under the curve (AUC) is usually better. The “steepness” of ROC curves is also important, since it is ideal to maximize the true positive rate while minimizing the false positive rate."
   ]
  },
  {
   "cell_type": "code",
   "execution_count": 14,
   "metadata": {},
   "outputs": [
    {
     "data": {
      "image/png": "[encoded data removed]",
      "text/plain": [
       "<Figure size 576x576 with 1 Axes>"
      ]
     },
     "metadata": {
      "needs_background": "light"
     },
     "output_type": "display_data"
    }
   ],
   "source": [
    "# --- 16. Model Plotting --- \n",
    "# ROC for each classifiers\n",
    "clf_labels = ['Logistic Regression', 'Decision Tree', 'Random Forest', 'XGBoost']\n",
    "all_clf = [lr, tree, forest, xgb]\n",
    "\n",
    "# plot a ROC_AUC curve:\n",
    "plt.figure(figsize=(8,8))\n",
    "colors = ['green', 'blue', 'orange', 'red']\n",
    "linestyles = ['-', ':', ':', ':'] \n",
    "for clf, label, clr, ls \\\n",
    "    in zip(all_clf, clf_labels, colors, linestyles):  \n",
    "        # Assume the label of the positive class is 1\n",
    "        y_pred = clf.fit(X_train.values,y_train).predict_proba(X_val.values)[:,1]\n",
    "        fpr, tpr, thresholds = skm.roc_curve(y_true=y_val, y_score=y_pred)\n",
    "        roc_auc = skm.auc(x=fpr, y=tpr)\n",
    "        plt.plot(fpr, tpr, color=clr, linestyle=ls,\n",
    "                 label='%s (AUC = %0.2f)' % (label, roc_auc))\n",
    "plt.plot([0,1], [0,1], linestyle='--', color='gray', linewidth=2)\n",
    "plt.xlim([-0.05, 1.05])\n",
    "plt.ylim([-0.05, 1.05])\n",
    "plt.grid(alpha=0.5)\n",
    "plt.title('ROC Curve: Evaluation of Classifiers [test set]')\n",
    "plt.xlabel('False Positive Rate')\n",
    "plt.ylabel('True Positive Rate')\n",
    "plt.legend(loc='lower right', prop={'size': 15})\n",
    "plt.show()"
   ]
  },
  {
   "cell_type": "markdown",
   "metadata": {},
   "source": [
    "### Summary of ROC Curve ###\n",
    "This plot showed performance of all four models area under the curve. The best model had about AUC = 0.83 for random forest model. This indicated that about 83% of time model is good at separation of renewed cases from non-renewed cases."
   ]
  },
  {
   "cell_type": "markdown",
   "metadata": {},
   "source": [
    "## Model Evaluation: Precision-Recall Curve ##\n",
    "Precision-Recall is a useful measure of success for predictions when the classes of dataset are highly imbalanced. In information retrieval, precision is a measure of result relevancy, while recall is a measure of how many truly relevant results are returned.\n",
    "\n",
    "The precision-recall curve shows the tradeoff between precision and recall at different thresholds. A high area under the curve represents both high recall and high precision, where high precision relates to a low false positive rate, and high recall relates to a low false negative rate. High scores for both show that the classifier is returning accurate results (high precision), as well as returning a majority of all positive results (high recall).\n",
    "\n",
    "In summary, a system with high recall but low precision returns: many predictions where most of prediction results are incorrect when compared to actual true labels. Conversely, a system with low recall and high precision returns: few predictions but most of its prediction results are correct when compared to actual true labels."
   ]
  },
  {
   "cell_type": "code",
   "execution_count": 15,
   "metadata": {},
   "outputs": [
    {
     "name": "stdout",
     "output_type": "stream",
     "text": [
      "Average P-R score of Logistic Regression: 0.99\n"
     ]
    },
    {
     "data": {
      "image/png": "[encoded data removed]",
      "text/plain": [
       "<Figure size 432x288 with 1 Axes>"
      ]
     },
     "metadata": {
      "needs_background": "light"
     },
     "output_type": "display_data"
    }
   ],
   "source": [
    "# compute avg. precision score:\n",
    "y_score_lr = lr.fit(X_train,y_train).predict_proba(X_val.values)[:,1]\n",
    "avg_precision = skm.average_precision_score(y_val, y_score_lr)\n",
    "print('Average P-R score of Logistic Regression: {0:0.2f}'.format(avg_precision))\n",
    "\n",
    "# plot a P-R curve:\n",
    "precision, recall, _ =skm.precision_recall_curve(y_val, y_score_lr)\n",
    "plt.step(recall, precision, color='navy', where='post', label='Precision-Recall Curve')\n",
    "plt.title('P-R Curve: LogisiticRegression [test set] AP={0:0.2f}'.format(avg_precision))\n",
    "plt.xlabel('Recall (Sensitivity)')\n",
    "plt.ylabel('Precision (PPV)')\n",
    "plt.ylim([0, 1.05])\n",
    "plt.xlim([0, 1.0])\n",
    "plt.legend(loc='lower right')\n",
    "plt.show()"
   ]
  },
  {
   "cell_type": "markdown",
   "metadata": {},
   "source": [
    "### Summary of Precision-Recall Curve ###\n",
    "Overall, the Logistic Regression showed weighted average precision of 0.98. In other words, about 98% of time, the model is good at making stroke predictions from total # of actual stroke cases."
   ]
  },
  {
   "cell_type": "markdown",
   "metadata": {},
   "source": [
    "## Part 4 - DEPLOY ##"
   ]
  },
  {
   "cell_type": "code",
   "execution_count": 16,
   "metadata": {},
   "outputs": [
    {
     "data": {
      "image/png": "[encoded data removed]",
      "text/plain": [
       "<Figure size 432x288 with 1 Axes>"
      ]
     },
     "metadata": {
      "needs_background": "light"
     },
     "output_type": "display_data"
    }
   ],
   "source": [
    "# --- 17. automate the model pipeline --- #\n",
    "# make predictions on a test set:\n",
    "df_pred_probs = forest.predict_proba(df_test_enc)\n",
    "df_pred = forest.predict(df_test_enc)\n",
    "\n",
    "# make predictions dataframe:\n",
    "results = pd.DataFrame({'id':df_test_id,\n",
    "                        'renewal':df_pred_probs[:,1]})\n",
    "results.to_csv('prob_results_best.csv', index=False, index_label=None)\n",
    "\n",
    "# --- 18. deploy the solution --- #\n",
    "#store feature importances\n",
    "if hasattr(model, 'feature_importances_'):\n",
    "    importances = model.feature_importances_\n",
    "else:\n",
    "# linear models don't have feature_importances_\n",
    "    importances = [0]*len(X_train.columns)\n",
    "\n",
    "# sort a dataframe by feature importance score: \n",
    "feature_importances = pd.DataFrame({'feature':X_train.columns,\n",
    "                                        'importance':importances})\n",
    "feature_importances.sort_values(by='importance', inplace=True, ascending=False)\n",
    "\n",
    "# set index to 'feature'\n",
    "feature_importances.set_index('feature', inplace=True, drop=True)\n",
    "\n",
    "# create a bar plot:    \n",
    "feature_importances[0:15].plot.bar(align='center')\n",
    "plt.xticks(rotation=270, fontsize=9)\n",
    "plt.title('feature importance plot: best trained classifier')\n",
    "plt.show()\n",
    "    \n",
    "# save model results as .csv file:\n",
    "model_results(model, mean_roc_auc[model], results, feature_importances)"
   ]
  },
  {
   "cell_type": "markdown",
   "metadata": {},
   "source": [
    "### Model Summary: Feature Importance ###\n",
    "A figure showed that the feature importance on the best trained model from order of the highest to lowest score.\n",
    "Top 10 important features are count of 6-12 months paid late, % premium paid by credit, etc."
   ]
  },
  {
   "cell_type": "markdown",
   "metadata": {},
   "source": [
    "## Part 5 - INCENTIVE PLAN ##"
   ]
  },
  {
   "cell_type": "code",
   "execution_count": 17,
   "metadata": {},
   "outputs": [
    {
     "data": {
      "image/png": "[encoded data removed]",
      "text/plain": [
       "<Figure size 432x288 with 1 Axes>"
      ]
     },
     "metadata": {
      "needs_background": "light"
     },
     "output_type": "display_data"
    },
    {
     "data": {
      "image/png": "[encoded data removed]",
      "text/plain": [
       "<Figure size 432x288 with 1 Axes>"
      ]
     },
     "metadata": {
      "needs_background": "light"
     },
     "output_type": "display_data"
    }
   ],
   "source": [
    "# --- 19. modeling % improvement in renewal prob, incentives, net_revenue ---\n",
    "# Fig 1. Incentives ($) vs. Effort (hour):\n",
    "I1 = np.arange(0,1900,100)\n",
    "t1 = 10*(1-np.exp(-I1/400))\n",
    "\n",
    "# Make a dataframe for incentives plan:\n",
    "df_time = pd.DataFrame({'incentives':I1, 'time':t1})\n",
    "# Make a plot: effort vs. incentives\n",
    "df_time.plot(x='incentives', y='time', \n",
    "                   c='purple', marker='*')\n",
    "plt.title(' Incentives vs. Effort (hr)')\n",
    "plt.xlabel('Incentives ($)')\n",
    "plt.ylabel('Effort (hr)')\n",
    "plt.show()\n",
    "\n",
    "# Fig 2. Effort (hour) vs % improvement in renewal prob:\n",
    "t = t1;\n",
    "p_improvement = 20*(1-np.exp(-t/5))/100\n",
    "\n",
    "# Make a dataframe for improvement in renewal prob.:\n",
    "df_renewal_imp = pd.DataFrame({'time':t, 'p_improvement':p_improvement})\n",
    "# Make a plot: effort vs. incentives\n",
    "df_renewal_imp.plot(x='time', y='p_improvement', \n",
    "                   c='green', marker='x')\n",
    "plt.title('Effort (hr) vs. Improvement in renewal prob.')\n",
    "plt.xlabel('Effort (hr)')\n",
    "plt.ylabel('Improvement in renewal prob. (%)')\n",
    "plt.show()"
   ]
  },
  {
   "cell_type": "markdown",
   "metadata": {},
   "source": [
    "### Summary: Insurance Propensity Relationships\n",
    "Relationship 1) Incentives vs. Effort (hr):\n",
    "* With increase in incentives paid to sales agent, more hours are spent on collecting premiums.\n",
    "\n",
    "Relationship 2) Effort (hr) vs. Improvement in renewal probability (%):\n",
    "* With increase in effort (hours) spent on collecting premiums, % of improvement in renewal probabilities."
   ]
  },
  {
   "cell_type": "code",
   "execution_count": 18,
   "metadata": {},
   "outputs": [],
   "source": [
    "# Compute: pct_improvement_renewal_prob, incentives, net_revenue:\n",
    "# Use the best model to make: predictions, probabilities for renewal\n",
    "y_pred_best = df_pred\n",
    "y_pred_prob_best = df_pred_probs[:,1]  \n",
    "\n",
    "# Prepare basic metrics: p_benchmark, incentive:\n",
    "#p_imp = ((1-p_benchmark)/p_benchmark)/100 # p_imp (% improvement prob. of renewal)\n",
    "\n",
    "# random permuation of incentives:\n",
    "i_range = np.arange(0,1840,1840/len(y_pred_best)) \n",
    "incentive = np.random.permutation(i_range) \n",
    "\n",
    "# % prob. of renewal:\n",
    "p_benchmark = y_pred_prob_best.copy() \n",
    "\n",
    "# premiums on a test set:\n",
    "premium = df_test_enc.iloc[:,7]"
   ]
  },
  {
   "cell_type": "code",
   "execution_count": 19,
   "metadata": {},
   "outputs": [
    {
     "name": "stdout",
     "output_type": "stream",
     "text": [
      "      id  p_benchmark    incentive    net_revenue\n",
      "0  33246     0.977726  1014.677419   93118.466316\n",
      "1     96     0.987152   437.419355   83307.623596\n",
      "2  47621     0.974746  1555.591398  131352.525932\n",
      "3  82051     0.992920    27.150538   32953.633245\n",
      "4  99791     0.996391  1630.376344  400947.342211\n",
      "          id  p_benchmark    incentive    net_revenue\n",
      "34219   6002     0.976674  1324.946237   99375.747095\n",
      "34220  35157     0.722693  1707.204301  207614.058336\n",
      "34221  50657     0.981953   555.860215  121291.310415\n",
      "34222  41271     0.987765   431.451613  862519.687850\n",
      "34223  33000     0.993097  1205.645161  245672.511075\n",
      "Estimated total_net_revenue is 5619691859\n"
     ]
    }
   ],
   "source": [
    "# Function 1: incentives to effort\n",
    "def incentive_to_t(I):\n",
    "    '''calculate efforts by a sales agent based on amount of incentives paid'''\n",
    "    return 10*(1-np.exp(-I/400))\n",
    "\n",
    "# Function 2: efforts to p_imp \n",
    "def t_to_p_imp(t):\n",
    "    '''calculate % of improvement in renewal probabilities based on hours of effort by a sales agent'''\n",
    "    return 20*(1-np.exp(-t/5))\n",
    "\n",
    "# Function 3: calculate total net revenue\n",
    "def net_revenue(p_benchmark, premium, p_imp, incentive):\n",
    "    '''calculate the total net revenue based on benchmark, premium, % improvement in renewal and incentive given'''\n",
    "    return (p_benchmark*premium*(1+p_imp)-incentive)\n",
    "\n",
    "# Final model KPI metrics:\n",
    "t = incentive_to_t(incentive) # calculated efforts invested by an agent\n",
    "p_imp = t_to_p_imp(t) # calculated % improvement in prob. of renewal\n",
    "net_rev = net_revenue(p_benchmark, premium, p_imp, incentive) # calculated net revenue on each policy\n",
    "\n",
    "# Final Output:\n",
    "# compute the KPI series:\n",
    "series_id = pd.Series(df_test_id, name=\"id\")\n",
    "series_p_bench = pd.Series(p_benchmark, name=\"p_benchmark\")\n",
    "series_incentive = pd.Series(incentive, name=\"incentive\")\n",
    "series_net_rev = pd.Series(net_rev, name=\"net_revenue\")\n",
    "\n",
    "# concatenate and make output df:\n",
    "output = pd.concat([series_id, series_p_bench, series_incentive, series_net_rev], axis=1)\n",
    "\n",
    "# Print output head and total net revenue:\n",
    "print(output.head())\n",
    "print(output.tail())\n",
    "print('Estimated total_net_revenue' + ' is %0.0f'% np.sum(net_rev))\n",
    "\n",
    "# Save output for submission: id, p_benchmark, incentive\n",
    "output.to_csv('incentive_results_best.csv', index=False, index_label=None)"
   ]
  },
  {
   "cell_type": "markdown",
   "metadata": {},
   "source": [
    "### Summary: Revenue Optimization ###\n",
    "Estimated total net revenue on this client population is around 5.63 Billions!"
   ]
  }
 ],
 "metadata": {
  "kernelspec": {
   "display_name": "Python 3",
   "language": "python",
   "name": "python3"
  },
  "language_info": {
   "codemirror_mode": {
    "name": "ipython",
    "version": 3
   },
   "file_extension": ".py",
   "mimetype": "text/x-python",
   "name": "python",
   "nbconvert_exporter": "python",
   "pygments_lexer": "ipython3",
   "version": "3.7.4"
  }
 },
 "nbformat": 4,
 "nbformat_minor": 2
}
